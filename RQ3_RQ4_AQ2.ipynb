{
 "cells": [
  {
   "cell_type": "markdown",
   "id": "e8064fb1",
   "metadata": {
    "id": "e8064fb1"
   },
   "source": [
    "# RESEARCH QUESTIONS"
   ]
  },
  {
   "cell_type": "code",
   "execution_count": 1,
   "id": "4c8a9fc3",
   "metadata": {
    "id": "4c8a9fc3"
   },
   "outputs": [],
   "source": [
    "import pandas as pd\n",
    "from matplotlib import pyplot as plt\n",
    "import numpy as np\n",
    "from tqdm import tqdm"
   ]
  },
  {
   "cell_type": "markdown",
   "id": "d46b576a",
   "metadata": {
    "id": "d46b576a"
   },
   "source": [
    "## [RQ3] Now it's important to understand the most common times in which users publish their posts. "
   ]
  },
  {
   "cell_type": "code",
   "execution_count": 2,
   "id": "b97f5d62-d352-4f10-8c54-b96cf547db16",
   "metadata": {},
   "outputs": [],
   "source": [
    "import adm2"
   ]
  },
  {
   "cell_type": "markdown",
   "id": "f2d86603",
   "metadata": {
    "id": "f2d86603"
   },
   "source": [
    "#### - What is the most common time in which users publish their posts?"
   ]
  },
  {
   "cell_type": "code",
   "execution_count": 3,
   "id": "d0eab0d7-21da-4e6d-ac92-964bdad70625",
   "metadata": {},
   "outputs": [
    {
     "name": "stdout",
     "output_type": "stream",
     "text": [
      "Help on function common_time in module adm2:\n",
      "\n",
      "common_time(chunksize=5000)\n",
      "    RQ3\n",
      "    description:\n",
      "        1) What is the most common time in which users publish their posts?\n",
      "    params:\n",
      "        - chunksize: size of dataset to compute.\n",
      "    output:\n",
      "        the most common time interval and number of posts in that interval\n",
      "\n"
     ]
    }
   ],
   "source": [
    "help(adm2.common_time)"
   ]
  },
  {
   "cell_type": "code",
   "execution_count": 4,
   "id": "c43f9f47",
   "metadata": {
    "id": "c43f9f47"
   },
   "outputs": [
    {
     "name": "stdout",
     "output_type": "stream",
     "text": [
      "20:00:00 - 20:59:59: 313 posts\n"
     ]
    }
   ],
   "source": [
    "adm2.common_time()"
   ]
  },
  {
   "cell_type": "markdown",
   "id": "5d5d0d94",
   "metadata": {
    "id": "5d5d0d94"
   },
   "source": [
    "#### Create a function that receives a time intervals list as a parameter and returns a plot with the number of posts for each given interval."
   ]
  },
  {
   "cell_type": "code",
   "execution_count": 5,
   "id": "294db26d-0040-44c0-904b-5643b50ccee9",
   "metadata": {},
   "outputs": [
    {
     "name": "stdout",
     "output_type": "stream",
     "text": [
      "Help on function plot_intervals_posts in module adm2:\n",
      "\n",
      "plot_intervals_posts(intervals, chunksize=5000)\n",
      "    RQ3\n",
      "    description:\n",
      "        2) Plot the number of posts for each given time interval.\n",
      "    params:\n",
      "        - intervals: list of time intervals;\n",
      "        - chunksize: size of dataset to compute.\n",
      "    output:\n",
      "        plot with the number of posts for each given interval.\n",
      "\n"
     ]
    }
   ],
   "source": [
    "help(adm2.plot_intervals_posts)"
   ]
  },
  {
   "cell_type": "markdown",
   "id": "dfc50083",
   "metadata": {
    "id": "dfc50083"
   },
   "source": [
    "#### Use the function that you created in the previous literal to plot the number of posts between the following time intervals:\n",
    "\n",
    "**Initial time \tFinal time**  \n",
    "**06:00:00 \t10:59:59**  \n",
    "**14:00:00 \t16:59:59**  \n",
    "**20:00:00 \t23:59:59**  \n",
    "**00:00:00 \t02:59:59**  \n",
    "**03:00:00 \t05:59:59**  "
   ]
  },
  {
   "cell_type": "code",
   "execution_count": 6,
   "id": "92f2e490",
   "metadata": {
    "id": "92f2e490"
   },
   "outputs": [
    {
     "name": "stdout",
     "output_type": "stream",
     "text": [
      "Number of posts in time interval:\n",
      "1 interval: 06:00:00 - 10:59:59 => 7319 posts\n",
      "2 interval: 11:00:00 - 13:59:59 => 6345 posts\n",
      "3 interval: 14:00:00 - 16:59:59 => 7728 posts\n",
      "4 interval: 17:00:00 - 19:59:59 => 8598 posts\n",
      "5 interval: 20:00:00 - 23:59:59 => 10368 posts\n",
      "6 interval: 00:00:00 - 02:59:59 => 5172 posts\n",
      "7 interval: 03:00:00 - 05:59:59 => 4468 posts\n"
     ]
    },
    {
     "data": {
      "image/png": "[encoded data removed]",
      "text/plain": [
       "<Figure size 640x480 with 1 Axes>"
      ]
     },
     "metadata": {},
     "output_type": "display_data"
    }
   ],
   "source": [
    "intervals = [\n",
    "            ['06:00:00', '10:59:59'],\n",
    "            ['11:00:00', '13:59:59'],\n",
    "            ['14:00:00', '16:59:59'],\n",
    "            ['17:00:00', '19:59:59'],\n",
    "            ['20:00:00', '23:59:59'],\n",
    "            ['00:00:00', '02:59:59'],\n",
    "            ['03:00:00', '05:59:59']\n",
    "]\n",
    "adm2.plot_intervals_posts(intervals, 50000)"
   ]
  },
  {
   "cell_type": "markdown",
   "id": "8430206f",
   "metadata": {
    "id": "8430206f"
   },
   "source": [
    "## [RQ4] In most cases, we will not have a consistent dataset, and the one we are dealing with is not an exception (ex. in the given datasets, you may not find the information of the profiles for some of the posts). So let’s enhance our analysis."
   ]
  },
  {
   "cell_type": "markdown",
   "id": "ae3a3236",
   "metadata": {
    "id": "ae3a3236"
   },
   "source": [
    "#### - Write a function that, given a profile_id, will be able to return the posts that belong to the given profile_id."
   ]
  },
  {
   "cell_type": "code",
   "execution_count": 7,
   "id": "7012a847-20d1-4111-96e0-d94276251c36",
   "metadata": {},
   "outputs": [
    {
     "name": "stdout",
     "output_type": "stream",
     "text": [
      "Help on function findPostsByProfileId in module adm2:\n",
      "\n",
      "findPostsByProfileId(profile_id, chunksize=5000)\n",
      "    RQ4\n",
      "    description:\n",
      "        1) Searching the posts by user (profile_id).\n",
      "    params:\n",
      "        - profile_id: user profile id;\n",
      "        - chunksize: size of dataset to compute.\n",
      "    return:\n",
      "        posts that belong to the given profile_id or message about its absence.\n",
      "\n"
     ]
    }
   ],
   "source": [
    "help(adm2.findPostsByProfileId)"
   ]
  },
  {
   "cell_type": "code",
   "execution_count": 8,
   "id": "966fab0b",
   "metadata": {
    "id": "966fab0b"
   },
   "outputs": [
    {
     "name": "stdout",
     "output_type": "stream",
     "text": [
      "Profile ID: 223794779 => profile does not have any posts\n"
     ]
    }
   ],
   "source": [
    "# profile that doesn't have any posts\n",
    "adm2.findPostsByProfileId(223794779)"
   ]
  },
  {
   "cell_type": "code",
   "execution_count": 9,
   "id": "c02a5958-5b51-407a-99e4-e0d18d44960f",
   "metadata": {
    "id": "966fab0b"
   },
   "outputs": [
    {
     "name": "stdout",
     "output_type": "stream",
     "text": [
      "Profile ID: 2237947779 => 1 posts\n"
     ]
    },
    {
     "data": {
      "text/html": [
       "<div>\n",
       "<style scoped>\n",
       "    .dataframe tbody tr th:only-of-type {\n",
       "        vertical-align: middle;\n",
       "    }\n",
       "\n",
       "    .dataframe tbody tr th {\n",
       "        vertical-align: top;\n",
       "    }\n",
       "\n",
       "    .dataframe thead th {\n",
       "        text-align: right;\n",
       "    }\n",
       "</style>\n",
       "<table border=\"1\" class=\"dataframe\">\n",
       "  <thead>\n",
       "    <tr style=\"text-align: right;\">\n",
       "      <th></th>\n",
       "      <th>post_id</th>\n",
       "      <th>profile_id</th>\n",
       "      <th>cts</th>\n",
       "      <th>post_type</th>\n",
       "      <th>description</th>\n",
       "      <th>numbr_likes</th>\n",
       "      <th>number_comments</th>\n",
       "    </tr>\n",
       "  </thead>\n",
       "  <tbody>\n",
       "    <tr>\n",
       "      <th>0</th>\n",
       "      <td>BXdjjUlgcgq</td>\n",
       "      <td>2237947779</td>\n",
       "      <td>2017-08-06 20:06:57.000</td>\n",
       "      <td>2</td>\n",
       "      <td>Wreckloose! Deevalley bike park laps on the @i...</td>\n",
       "      <td>80</td>\n",
       "      <td>0</td>\n",
       "    </tr>\n",
       "  </tbody>\n",
       "</table>\n",
       "</div>"
      ],
      "text/plain": [
       "       post_id  profile_id                      cts  post_type  \\\n",
       "0  BXdjjUlgcgq  2237947779  2017-08-06 20:06:57.000          2   \n",
       "\n",
       "                                         description  numbr_likes  \\\n",
       "0  Wreckloose! Deevalley bike park laps on the @i...           80   \n",
       "\n",
       "   number_comments  \n",
       "0                0  "
      ]
     },
     "execution_count": 9,
     "metadata": {},
     "output_type": "execute_result"
    }
   ],
   "source": [
    "# profile that has posts\n",
    "adm2.findPostsByProfileId(2237947779)"
   ]
  },
  {
   "cell_type": "markdown",
   "id": "a17767a0",
   "metadata": {
    "id": "a17767a0"
   },
   "source": [
    "#### - Write another function that, given an input n (an integer), will return the posts that belong to the n top posted profiles (top n profiles that have posted the highest number of posts) that their data is available in the profile.csv using the previously written function."
   ]
  },
  {
   "cell_type": "code",
   "execution_count": 10,
   "id": "62009e96-11ca-4c0a-9b44-5406caa347b3",
   "metadata": {},
   "outputs": [
    {
     "name": "stdout",
     "output_type": "stream",
     "text": [
      "Help on function posts_of_top_profiles in module adm2:\n",
      "\n",
      "posts_of_top_profiles(n, chunksize=5000)\n",
      "    description:\n",
      "        Searching for top n profiles' posts.\n",
      "    params:\n",
      "        - n: number of top profiles;\n",
      "        - chunksize: size of dataset to compute.\n",
      "    return:\n",
      "        posts of top n profiles.\n",
      "\n"
     ]
    }
   ],
   "source": [
    "help(adm2.posts_of_top_profiles)"
   ]
  },
  {
   "cell_type": "code",
   "execution_count": 11,
   "id": "5835ce43",
   "metadata": {
    "id": "5835ce43"
   },
   "outputs": [
    {
     "name": "stdout",
     "output_type": "stream",
     "text": [
      "Profile ID: 4048041553 => 32 posts\n",
      "Profile ID: 1475495653 => 27 posts\n"
     ]
    },
    {
     "data": {
      "text/html": [
       "<div>\n",
       "<style scoped>\n",
       "    .dataframe tbody tr th:only-of-type {\n",
       "        vertical-align: middle;\n",
       "    }\n",
       "\n",
       "    .dataframe tbody tr th {\n",
       "        vertical-align: top;\n",
       "    }\n",
       "\n",
       "    .dataframe thead th {\n",
       "        text-align: right;\n",
       "    }\n",
       "</style>\n",
       "<table border=\"1\" class=\"dataframe\">\n",
       "  <thead>\n",
       "    <tr style=\"text-align: right;\">\n",
       "      <th></th>\n",
       "      <th>post_id</th>\n",
       "      <th>profile_id</th>\n",
       "      <th>cts</th>\n",
       "      <th>post_type</th>\n",
       "      <th>description</th>\n",
       "      <th>numbr_likes</th>\n",
       "      <th>number_comments</th>\n",
       "    </tr>\n",
       "  </thead>\n",
       "  <tbody>\n",
       "    <tr>\n",
       "      <th>5289</th>\n",
       "      <td>Bie10T0ATk8</td>\n",
       "      <td>4048041553</td>\n",
       "      <td>2018-05-07 17:51:07.000</td>\n",
       "      <td>1</td>\n",
       "      <td>Don't forget to use a KLAFS sauna after your w...</td>\n",
       "      <td>51</td>\n",
       "      <td>0</td>\n",
       "    </tr>\n",
       "    <tr>\n",
       "      <th>5290</th>\n",
       "      <td>BiMg_vhA5EX</td>\n",
       "      <td>4048041553</td>\n",
       "      <td>2018-04-30 15:02:51.000</td>\n",
       "      <td>1</td>\n",
       "      <td>There is nothing better than a KLAFS sauna wit...</td>\n",
       "      <td>49</td>\n",
       "      <td>0</td>\n",
       "    </tr>\n",
       "    <tr>\n",
       "      <th>5293</th>\n",
       "      <td>Bx974UqAe8c</td>\n",
       "      <td>4048041553</td>\n",
       "      <td>2019-05-27 15:31:28.000</td>\n",
       "      <td>1</td>\n",
       "      <td>Enjoy in the most extraordinary hotel - right ...</td>\n",
       "      <td>42</td>\n",
       "      <td>2</td>\n",
       "    </tr>\n",
       "    <tr>\n",
       "      <th>5300</th>\n",
       "      <td>BgiugHxFCN7</td>\n",
       "      <td>4048041553</td>\n",
       "      <td>2018-03-20 12:01:23.000</td>\n",
       "      <td>1</td>\n",
       "      <td>Forest sauna with tree trunk panelling on the ...</td>\n",
       "      <td>49</td>\n",
       "      <td>0</td>\n",
       "    </tr>\n",
       "    <tr>\n",
       "      <th>5301</th>\n",
       "      <td>BdR1Z8wDf0D</td>\n",
       "      <td>4048041553</td>\n",
       "      <td>2017-12-29 09:00:26.000</td>\n",
       "      <td>1</td>\n",
       "      <td>KLAFS cold plunges are an excellent way of coo...</td>\n",
       "      <td>50</td>\n",
       "      <td>0</td>\n",
       "    </tr>\n",
       "    <tr>\n",
       "      <th>5302</th>\n",
       "      <td>BpT9hxkFBuJ</td>\n",
       "      <td>4048041553</td>\n",
       "      <td>2018-10-24 12:06:37.000</td>\n",
       "      <td>1</td>\n",
       "      <td>Everyone deserves moments of pure relaxation. ...</td>\n",
       "      <td>44</td>\n",
       "      <td>0</td>\n",
       "    </tr>\n",
       "    <tr>\n",
       "      <th>5303</th>\n",
       "      <td>BjcVYMXnPKY</td>\n",
       "      <td>4048041553</td>\n",
       "      <td>2018-05-31 15:00:35.000</td>\n",
       "      <td>1</td>\n",
       "      <td>KLAFS sauna you will never forget! âºï¸ #kal...</td>\n",
       "      <td>43</td>\n",
       "      <td>0</td>\n",
       "    </tr>\n",
       "    <tr>\n",
       "      <th>5304</th>\n",
       "      <td>BqFd6T6FaSE</td>\n",
       "      <td>4048041553</td>\n",
       "      <td>2018-11-12 16:32:22.000</td>\n",
       "      <td>1</td>\n",
       "      <td>During a winter getaway at Sportresidenz Zille...</td>\n",
       "      <td>43</td>\n",
       "      <td>0</td>\n",
       "    </tr>\n",
       "    <tr>\n",
       "      <th>5305</th>\n",
       "      <td>BiUeEuqAo1c</td>\n",
       "      <td>4048041553</td>\n",
       "      <td>2018-05-03 17:11:15.000</td>\n",
       "      <td>1</td>\n",
       "      <td>Sauna with illuminated and integrated salt wal...</td>\n",
       "      <td>39</td>\n",
       "      <td>1</td>\n",
       "    </tr>\n",
       "    <tr>\n",
       "      <th>5307</th>\n",
       "      <td>Bx2HdSAgWLr</td>\n",
       "      <td>4048041553</td>\n",
       "      <td>2019-05-24 14:38:43.000</td>\n",
       "      <td>1</td>\n",
       "      <td>The charming sauna house Wassermann in Tannhei...</td>\n",
       "      <td>36</td>\n",
       "      <td>0</td>\n",
       "    </tr>\n",
       "    <tr>\n",
       "      <th>5308</th>\n",
       "      <td>Bxq0unhDhOr</td>\n",
       "      <td>4048041553</td>\n",
       "      <td>2019-05-20 05:23:24.000</td>\n",
       "      <td>1</td>\n",
       "      <td>Spacious KLAFS steam baths are the perfect way...</td>\n",
       "      <td>57</td>\n",
       "      <td>1</td>\n",
       "    </tr>\n",
       "    <tr>\n",
       "      <th>5309</th>\n",
       "      <td>BxlwhSZjWCB</td>\n",
       "      <td>4048041553</td>\n",
       "      <td>2019-05-18 06:10:26.000</td>\n",
       "      <td>1</td>\n",
       "      <td>A family sauna offer moments of relaxation and...</td>\n",
       "      <td>55</td>\n",
       "      <td>2</td>\n",
       "    </tr>\n",
       "    <tr>\n",
       "      <th>5310</th>\n",
       "      <td>BxhkGCzAsOW</td>\n",
       "      <td>4048041553</td>\n",
       "      <td>2019-05-16 15:04:54.000</td>\n",
       "      <td>1</td>\n",
       "      <td>Charming and spacious KLAFS sauna design. #kla...</td>\n",
       "      <td>38</td>\n",
       "      <td>0</td>\n",
       "    </tr>\n",
       "    <tr>\n",
       "      <th>5311</th>\n",
       "      <td>BxeG5NfgOpn</td>\n",
       "      <td>4048041553</td>\n",
       "      <td>2019-05-15 06:52:01.000</td>\n",
       "      <td>1</td>\n",
       "      <td>Pure indulgence for body and soul: bathing in ...</td>\n",
       "      <td>42</td>\n",
       "      <td>3</td>\n",
       "    </tr>\n",
       "    <tr>\n",
       "      <th>5312</th>\n",
       "      <td>BxbkdXwgefk</td>\n",
       "      <td>4048041553</td>\n",
       "      <td>2019-05-14 07:12:38.000</td>\n",
       "      <td>1</td>\n",
       "      <td>A private infrared sauna with a spectacular vi...</td>\n",
       "      <td>31</td>\n",
       "      <td>0</td>\n",
       "    </tr>\n",
       "    <tr>\n",
       "      <th>5313</th>\n",
       "      <td>Bs7NLRkl-uQ</td>\n",
       "      <td>4048041553</td>\n",
       "      <td>2019-01-22 06:27:55.000</td>\n",
       "      <td>1</td>\n",
       "      <td>Perfect place for relaxation and rejuvenation ...</td>\n",
       "      <td>46</td>\n",
       "      <td>0</td>\n",
       "    </tr>\n",
       "    <tr>\n",
       "      <th>5314</th>\n",
       "      <td>BxZ1YjdgZVs</td>\n",
       "      <td>4048041553</td>\n",
       "      <td>2019-05-13 15:02:03.000</td>\n",
       "      <td>1</td>\n",
       "      <td>The comfortable spa area offers activity and r...</td>\n",
       "      <td>65</td>\n",
       "      <td>2</td>\n",
       "    </tr>\n",
       "    <tr>\n",
       "      <th>5315</th>\n",
       "      <td>BxMF2D-gaKD</td>\n",
       "      <td>4048041553</td>\n",
       "      <td>2019-05-08 06:56:31.000</td>\n",
       "      <td>1</td>\n",
       "      <td>Directly in the Arlberg ski area 1,750m in the...</td>\n",
       "      <td>39</td>\n",
       "      <td>2</td>\n",
       "    </tr>\n",
       "    <tr>\n",
       "      <th>5316</th>\n",
       "      <td>BxG794FA0p4</td>\n",
       "      <td>4048041553</td>\n",
       "      <td>2019-05-06 06:54:00.000</td>\n",
       "      <td>1</td>\n",
       "      <td>Enjoy the comfort of the specialÂ sauna area w...</td>\n",
       "      <td>37</td>\n",
       "      <td>0</td>\n",
       "    </tr>\n",
       "    <tr>\n",
       "      <th>5317</th>\n",
       "      <td>BxCyQs4gfxl</td>\n",
       "      <td>4048041553</td>\n",
       "      <td>2019-05-04 16:12:14.000</td>\n",
       "      <td>1</td>\n",
       "      <td>The traditional Falkensteiner Hotels in South ...</td>\n",
       "      <td>71</td>\n",
       "      <td>1</td>\n",
       "    </tr>\n",
       "    <tr>\n",
       "      <th>5318</th>\n",
       "      <td>Bw6-AFhgaH5</td>\n",
       "      <td>4048041553</td>\n",
       "      <td>2019-05-01 15:20:53.000</td>\n",
       "      <td>1</td>\n",
       "      <td>The modern holiday home \"im Franzerl\" on the W...</td>\n",
       "      <td>43</td>\n",
       "      <td>0</td>\n",
       "    </tr>\n",
       "    <tr>\n",
       "      <th>5319</th>\n",
       "      <td>Bwn0dIpA2iD</td>\n",
       "      <td>4048041553</td>\n",
       "      <td>2019-04-24 04:51:54.000</td>\n",
       "      <td>1</td>\n",
       "      <td>Enjoy KLAFS infrared heat cabin - a deeply war...</td>\n",
       "      <td>28</td>\n",
       "      <td>1</td>\n",
       "    </tr>\n",
       "    <tr>\n",
       "      <th>5320</th>\n",
       "      <td>BwkX5MSg3GL</td>\n",
       "      <td>4048041553</td>\n",
       "      <td>2019-04-22 20:44:36.000</td>\n",
       "      <td>1</td>\n",
       "      <td>Relax and wind down at new 100 mÂ² A'RUE Panor...</td>\n",
       "      <td>37</td>\n",
       "      <td>1</td>\n",
       "    </tr>\n",
       "    <tr>\n",
       "      <th>5321</th>\n",
       "      <td>BwbL6xCgGJC</td>\n",
       "      <td>4048041553</td>\n",
       "      <td>2019-04-19 07:06:48.000</td>\n",
       "      <td>1</td>\n",
       "      <td>Still not sweated enough? ð¦Then take yourse...</td>\n",
       "      <td>52</td>\n",
       "      <td>0</td>\n",
       "    </tr>\n",
       "    <tr>\n",
       "      <th>5322</th>\n",
       "      <td>BwV8od6gBhD</td>\n",
       "      <td>4048041553</td>\n",
       "      <td>2019-04-17 06:17:02.000</td>\n",
       "      <td>1</td>\n",
       "      <td>In the spacious spa area you can not only rela...</td>\n",
       "      <td>33</td>\n",
       "      <td>0</td>\n",
       "    </tr>\n",
       "    <tr>\n",
       "      <th>5323</th>\n",
       "      <td>BtAcx3LFCwL</td>\n",
       "      <td>4048041553</td>\n",
       "      <td>2019-01-24 07:20:27.000</td>\n",
       "      <td>1</td>\n",
       "      <td>Charming and spacious KLAFS sauna design. #kla...</td>\n",
       "      <td>31</td>\n",
       "      <td>0</td>\n",
       "    </tr>\n",
       "    <tr>\n",
       "      <th>5324</th>\n",
       "      <td>Bszd1k7lSi3</td>\n",
       "      <td>4048041553</td>\n",
       "      <td>2019-01-19 06:19:34.000</td>\n",
       "      <td>1</td>\n",
       "      <td>The Wellness Hotel Nidum will make you feel li...</td>\n",
       "      <td>31</td>\n",
       "      <td>0</td>\n",
       "    </tr>\n",
       "    <tr>\n",
       "      <th>5325</th>\n",
       "      <td>BsuVE3XFiQZ</td>\n",
       "      <td>4048041553</td>\n",
       "      <td>2019-01-17 06:26:49.000</td>\n",
       "      <td>1</td>\n",
       "      <td>To sweat and enjoy after a sporty day in Muire...</td>\n",
       "      <td>32</td>\n",
       "      <td>0</td>\n",
       "    </tr>\n",
       "    <tr>\n",
       "      <th>5326</th>\n",
       "      <td>Bsq_N53lETA</td>\n",
       "      <td>4048041553</td>\n",
       "      <td>2019-01-15 23:18:05.000</td>\n",
       "      <td>1</td>\n",
       "      <td>NIDUM - luxurious, fresh, different. ðð»W...</td>\n",
       "      <td>36</td>\n",
       "      <td>0</td>\n",
       "    </tr>\n",
       "    <tr>\n",
       "      <th>5327</th>\n",
       "      <td>BrrWoCBFD4I</td>\n",
       "      <td>4048041553</td>\n",
       "      <td>2018-12-22 06:11:14.000</td>\n",
       "      <td>1</td>\n",
       "      <td>A wonderful KLAFS sauna to relax.âºï¸ðð...</td>\n",
       "      <td>29</td>\n",
       "      <td>0</td>\n",
       "    </tr>\n",
       "    <tr>\n",
       "      <th>5328</th>\n",
       "      <td>BqcpaGIlt8p</td>\n",
       "      <td>4048041553</td>\n",
       "      <td>2018-11-21 16:35:22.000</td>\n",
       "      <td>1</td>\n",
       "      <td>This SPA design goal was to create it that it ...</td>\n",
       "      <td>38</td>\n",
       "      <td>0</td>\n",
       "    </tr>\n",
       "    <tr>\n",
       "      <th>5329</th>\n",
       "      <td>BqXfrrEl4KI</td>\n",
       "      <td>4048041553</td>\n",
       "      <td>2018-11-19 16:34:11.000</td>\n",
       "      <td>1</td>\n",
       "      <td>The traditional sports and SPA hotel combines ...</td>\n",
       "      <td>50</td>\n",
       "      <td>0</td>\n",
       "    </tr>\n",
       "    <tr>\n",
       "      <th>2572</th>\n",
       "      <td>241fGTijjU</td>\n",
       "      <td>1475495653</td>\n",
       "      <td>2015-05-20 05:07:08.000</td>\n",
       "      <td>1</td>\n",
       "      <td>I am in love with this beautiful color!!!! Tha...</td>\n",
       "      <td>37</td>\n",
       "      <td>7</td>\n",
       "    </tr>\n",
       "    <tr>\n",
       "      <th>2573</th>\n",
       "      <td>BKSBZtsDc6b</td>\n",
       "      <td>1475495653</td>\n",
       "      <td>2016-09-13 05:48:46.000</td>\n",
       "      <td>1</td>\n",
       "      <td>#Target #Ulta #Haul \\nSamples and sales and ne...</td>\n",
       "      <td>65</td>\n",
       "      <td>3</td>\n",
       "    </tr>\n",
       "    <tr>\n",
       "      <th>2608</th>\n",
       "      <td>8cW4Fxijme</td>\n",
       "      <td>1475495653</td>\n",
       "      <td>2015-10-05 06:49:18.000</td>\n",
       "      <td>1</td>\n",
       "      <td>#manimonday shout out to this fun color I rece...</td>\n",
       "      <td>24</td>\n",
       "      <td>3</td>\n",
       "    </tr>\n",
       "    <tr>\n",
       "      <th>2609</th>\n",
       "      <td>8bZHzjCjpM</td>\n",
       "      <td>1475495653</td>\n",
       "      <td>2015-10-04 21:49:41.000</td>\n",
       "      <td>1</td>\n",
       "      <td>First @gerardcosmetics purchase and I'm in ð...</td>\n",
       "      <td>24</td>\n",
       "      <td>3</td>\n",
       "    </tr>\n",
       "    <tr>\n",
       "      <th>2610</th>\n",
       "      <td>BlbP4PbH0X1</td>\n",
       "      <td>1475495653</td>\n",
       "      <td>2018-07-19 21:56:04.000</td>\n",
       "      <td>1</td>\n",
       "      <td>How stunning is this bride?! Thank you Nicolle...</td>\n",
       "      <td>46</td>\n",
       "      <td>3</td>\n",
       "    </tr>\n",
       "    <tr>\n",
       "      <th>2611</th>\n",
       "      <td>Bk4mJN3HgFV</td>\n",
       "      <td>1475495653</td>\n",
       "      <td>2018-07-06 10:57:13.000</td>\n",
       "      <td>1</td>\n",
       "      <td>I'm in another AWESOME campaign!!! Come to me,...</td>\n",
       "      <td>26</td>\n",
       "      <td>2</td>\n",
       "    </tr>\n",
       "    <tr>\n",
       "      <th>2612</th>\n",
       "      <td>BiMh8gNn8wd</td>\n",
       "      <td>1475495653</td>\n",
       "      <td>2018-04-30 15:11:09.000</td>\n",
       "      <td>1</td>\n",
       "      <td>SHAKEUP YOUR MAKEUP 1ST GIVEAWAY\\n\\nRULES TO E...</td>\n",
       "      <td>10</td>\n",
       "      <td>1</td>\n",
       "    </tr>\n",
       "    <tr>\n",
       "      <th>2613</th>\n",
       "      <td>BclicEOlCBZ</td>\n",
       "      <td>1475495653</td>\n",
       "      <td>2017-12-12 04:08:07.000</td>\n",
       "      <td>1</td>\n",
       "      <td>I have a challenge for you @masked_mua!  Post ...</td>\n",
       "      <td>18</td>\n",
       "      <td>1</td>\n",
       "    </tr>\n",
       "    <tr>\n",
       "      <th>2615</th>\n",
       "      <td>BZSW3SKlTda</td>\n",
       "      <td>1475495653</td>\n",
       "      <td>2017-09-21 04:47:13.000</td>\n",
       "      <td>1</td>\n",
       "      <td>Stalking the #sephorarewardsbazaar every Tuesd...</td>\n",
       "      <td>18</td>\n",
       "      <td>0</td>\n",
       "    </tr>\n",
       "    <tr>\n",
       "      <th>2616</th>\n",
       "      <td>BZAAUNIlwyC</td>\n",
       "      <td>1475495653</td>\n",
       "      <td>2017-09-14 01:43:51.000</td>\n",
       "      <td>1</td>\n",
       "      <td>This #sayiloveyou #drbrandt campaign is amazin...</td>\n",
       "      <td>12</td>\n",
       "      <td>1</td>\n",
       "    </tr>\n",
       "    <tr>\n",
       "      <th>2617</th>\n",
       "      <td>BSdJUZfFqsp</td>\n",
       "      <td>1475495653</td>\n",
       "      <td>2017-04-04 09:40:45.000</td>\n",
       "      <td>1</td>\n",
       "      <td>Still my fave!  @boxycharm never fails me! \\n#...</td>\n",
       "      <td>30</td>\n",
       "      <td>2</td>\n",
       "    </tr>\n",
       "    <tr>\n",
       "      <th>2618</th>\n",
       "      <td>BI3M8ewD1ND</td>\n",
       "      <td>1475495653</td>\n",
       "      <td>2016-08-08 23:18:45.000</td>\n",
       "      <td>1</td>\n",
       "      <td>THIS CONTEST IS AMAZING AND I SOOOOOOOOOOOO NE...</td>\n",
       "      <td>23</td>\n",
       "      <td>1</td>\n",
       "    </tr>\n",
       "    <tr>\n",
       "      <th>2620</th>\n",
       "      <td>BXb0aEslEOM</td>\n",
       "      <td>1475495653</td>\n",
       "      <td>2017-08-06 03:55:45.000</td>\n",
       "      <td>1</td>\n",
       "      <td>I took advantage of the sale @benefitcosmetics...</td>\n",
       "      <td>26</td>\n",
       "      <td>1</td>\n",
       "    </tr>\n",
       "    <tr>\n",
       "      <th>2621</th>\n",
       "      <td>BWTzMPtFAPf</td>\n",
       "      <td>1475495653</td>\n",
       "      <td>2017-07-09 04:39:48.000</td>\n",
       "      <td>1</td>\n",
       "      <td>The #summerwalmartbeautybox is here!  Such a b...</td>\n",
       "      <td>23</td>\n",
       "      <td>2</td>\n",
       "    </tr>\n",
       "    <tr>\n",
       "      <th>2622</th>\n",
       "      <td>BV5xiKZFAIV</td>\n",
       "      <td>1475495653</td>\n",
       "      <td>2017-06-29 02:05:04.000</td>\n",
       "      <td>1</td>\n",
       "      <td>She has arrived!  I finally get to play with #...</td>\n",
       "      <td>31</td>\n",
       "      <td>4</td>\n",
       "    </tr>\n",
       "    <tr>\n",
       "      <th>2623</th>\n",
       "      <td>BVnqcLqFgV5</td>\n",
       "      <td>1475495653</td>\n",
       "      <td>2017-06-22 01:16:45.000</td>\n",
       "      <td>1</td>\n",
       "      <td>Ok @coffeebreakwithdani I'm trusting you girl!...</td>\n",
       "      <td>25</td>\n",
       "      <td>1</td>\n",
       "    </tr>\n",
       "    <tr>\n",
       "      <th>2624</th>\n",
       "      <td>BTPCdvfllV-</td>\n",
       "      <td>1475495653</td>\n",
       "      <td>2017-04-23 18:42:53.000</td>\n",
       "      <td>1</td>\n",
       "      <td>@origins Modern Friction is my new holy grail ...</td>\n",
       "      <td>20</td>\n",
       "      <td>0</td>\n",
       "    </tr>\n",
       "    <tr>\n",
       "      <th>2625</th>\n",
       "      <td>BTHyr7DFE_d</td>\n",
       "      <td>1475495653</td>\n",
       "      <td>2017-04-20 23:10:19.000</td>\n",
       "      <td>1</td>\n",
       "      <td>#TBT TO THAT TIME I MADE VIB ROUGE\\n#VIBROUGE ...</td>\n",
       "      <td>21</td>\n",
       "      <td>1</td>\n",
       "    </tr>\n",
       "    <tr>\n",
       "      <th>2626</th>\n",
       "      <td>BS2h5Z5Fp4L</td>\n",
       "      <td>1475495653</td>\n",
       "      <td>2017-04-14 06:16:31.000</td>\n",
       "      <td>1</td>\n",
       "      <td>APRIL BOXYCHARM  #BOHOGLOW\\nOh @boxycharm, you...</td>\n",
       "      <td>27</td>\n",
       "      <td>1</td>\n",
       "    </tr>\n",
       "    <tr>\n",
       "      <th>2627</th>\n",
       "      <td>BSl-lf5llD4</td>\n",
       "      <td>1475495653</td>\n",
       "      <td>2017-04-07 20:00:07.000</td>\n",
       "      <td>1</td>\n",
       "      <td>March @sephora Play #GlowYourOwnWay  #sephora ...</td>\n",
       "      <td>30</td>\n",
       "      <td>3</td>\n",
       "    </tr>\n",
       "    <tr>\n",
       "      <th>2628</th>\n",
       "      <td>BSkZk9xlqu3</td>\n",
       "      <td>1475495653</td>\n",
       "      <td>2017-04-07 05:17:30.000</td>\n",
       "      <td>1</td>\n",
       "      <td>Here are the swatches of the lipliner and matt...</td>\n",
       "      <td>13</td>\n",
       "      <td>0</td>\n",
       "    </tr>\n",
       "    <tr>\n",
       "      <th>2629</th>\n",
       "      <td>BSZhoNSleyH</td>\n",
       "      <td>1475495653</td>\n",
       "      <td>2017-04-02 23:56:12.000</td>\n",
       "      <td>1</td>\n",
       "      <td>I am such a fan of @origins and excited to be ...</td>\n",
       "      <td>25</td>\n",
       "      <td>0</td>\n",
       "    </tr>\n",
       "    <tr>\n",
       "      <th>2630</th>\n",
       "      <td>BPBtdQjB1fe</td>\n",
       "      <td>1475495653</td>\n",
       "      <td>2017-01-09 03:23:36.000</td>\n",
       "      <td>1</td>\n",
       "      <td>The #walmartbeautybox in #trendsetter is alway...</td>\n",
       "      <td>19</td>\n",
       "      <td>1</td>\n",
       "    </tr>\n",
       "    <tr>\n",
       "      <th>2632</th>\n",
       "      <td>BMKxdHBhunp</td>\n",
       "      <td>1475495653</td>\n",
       "      <td>2016-10-30 02:17:31.000</td>\n",
       "      <td>1</td>\n",
       "      <td>Sometimes you just have to treat yourself.  An...</td>\n",
       "      <td>47</td>\n",
       "      <td>5</td>\n",
       "    </tr>\n",
       "    <tr>\n",
       "      <th>2633</th>\n",
       "      <td>BH6bjsujbaB</td>\n",
       "      <td>1475495653</td>\n",
       "      <td>2016-07-16 08:52:46.000</td>\n",
       "      <td>1</td>\n",
       "      <td>#anubismysterybox \\n#giveaway \\n#contest \\n#sh...</td>\n",
       "      <td>18</td>\n",
       "      <td>0</td>\n",
       "    </tr>\n",
       "    <tr>\n",
       "      <th>2634</th>\n",
       "      <td>BHapyWFj4te</td>\n",
       "      <td>1475495653</td>\n",
       "      <td>2016-07-04 00:41:24.000</td>\n",
       "      <td>1</td>\n",
       "      <td>These polishes are great and @mallory1712 is o...</td>\n",
       "      <td>15</td>\n",
       "      <td>0</td>\n",
       "    </tr>\n",
       "    <tr>\n",
       "      <th>2635</th>\n",
       "      <td>BHIP2fNjZE7</td>\n",
       "      <td>1475495653</td>\n",
       "      <td>2016-06-26 21:08:26.000</td>\n",
       "      <td>1</td>\n",
       "      <td>#truth #dreamcatcher</td>\n",
       "      <td>12</td>\n",
       "      <td>3</td>\n",
       "    </tr>\n",
       "  </tbody>\n",
       "</table>\n",
       "</div>"
      ],
      "text/plain": [
       "          post_id  profile_id                      cts  post_type  \\\n",
       "5289  Bie10T0ATk8  4048041553  2018-05-07 17:51:07.000          1   \n",
       "5290  BiMg_vhA5EX  4048041553  2018-04-30 15:02:51.000          1   \n",
       "5293  Bx974UqAe8c  4048041553  2019-05-27 15:31:28.000          1   \n",
       "5300  BgiugHxFCN7  4048041553  2018-03-20 12:01:23.000          1   \n",
       "5301  BdR1Z8wDf0D  4048041553  2017-12-29 09:00:26.000          1   \n",
       "5302  BpT9hxkFBuJ  4048041553  2018-10-24 12:06:37.000          1   \n",
       "5303  BjcVYMXnPKY  4048041553  2018-05-31 15:00:35.000          1   \n",
       "5304  BqFd6T6FaSE  4048041553  2018-11-12 16:32:22.000          1   \n",
       "5305  BiUeEuqAo1c  4048041553  2018-05-03 17:11:15.000          1   \n",
       "5307  Bx2HdSAgWLr  4048041553  2019-05-24 14:38:43.000          1   \n",
       "5308  Bxq0unhDhOr  4048041553  2019-05-20 05:23:24.000          1   \n",
       "5309  BxlwhSZjWCB  4048041553  2019-05-18 06:10:26.000          1   \n",
       "5310  BxhkGCzAsOW  4048041553  2019-05-16 15:04:54.000          1   \n",
       "5311  BxeG5NfgOpn  4048041553  2019-05-15 06:52:01.000          1   \n",
       "5312  BxbkdXwgefk  4048041553  2019-05-14 07:12:38.000          1   \n",
       "5313  Bs7NLRkl-uQ  4048041553  2019-01-22 06:27:55.000          1   \n",
       "5314  BxZ1YjdgZVs  4048041553  2019-05-13 15:02:03.000          1   \n",
       "5315  BxMF2D-gaKD  4048041553  2019-05-08 06:56:31.000          1   \n",
       "5316  BxG794FA0p4  4048041553  2019-05-06 06:54:00.000          1   \n",
       "5317  BxCyQs4gfxl  4048041553  2019-05-04 16:12:14.000          1   \n",
       "5318  Bw6-AFhgaH5  4048041553  2019-05-01 15:20:53.000          1   \n",
       "5319  Bwn0dIpA2iD  4048041553  2019-04-24 04:51:54.000          1   \n",
       "5320  BwkX5MSg3GL  4048041553  2019-04-22 20:44:36.000          1   \n",
       "5321  BwbL6xCgGJC  4048041553  2019-04-19 07:06:48.000          1   \n",
       "5322  BwV8od6gBhD  4048041553  2019-04-17 06:17:02.000          1   \n",
       "5323  BtAcx3LFCwL  4048041553  2019-01-24 07:20:27.000          1   \n",
       "5324  Bszd1k7lSi3  4048041553  2019-01-19 06:19:34.000          1   \n",
       "5325  BsuVE3XFiQZ  4048041553  2019-01-17 06:26:49.000          1   \n",
       "5326  Bsq_N53lETA  4048041553  2019-01-15 23:18:05.000          1   \n",
       "5327  BrrWoCBFD4I  4048041553  2018-12-22 06:11:14.000          1   \n",
       "5328  BqcpaGIlt8p  4048041553  2018-11-21 16:35:22.000          1   \n",
       "5329  BqXfrrEl4KI  4048041553  2018-11-19 16:34:11.000          1   \n",
       "2572   241fGTijjU  1475495653  2015-05-20 05:07:08.000          1   \n",
       "2573  BKSBZtsDc6b  1475495653  2016-09-13 05:48:46.000          1   \n",
       "2608   8cW4Fxijme  1475495653  2015-10-05 06:49:18.000          1   \n",
       "2609   8bZHzjCjpM  1475495653  2015-10-04 21:49:41.000          1   \n",
       "2610  BlbP4PbH0X1  1475495653  2018-07-19 21:56:04.000          1   \n",
       "2611  Bk4mJN3HgFV  1475495653  2018-07-06 10:57:13.000          1   \n",
       "2612  BiMh8gNn8wd  1475495653  2018-04-30 15:11:09.000          1   \n",
       "2613  BclicEOlCBZ  1475495653  2017-12-12 04:08:07.000          1   \n",
       "2615  BZSW3SKlTda  1475495653  2017-09-21 04:47:13.000          1   \n",
       "2616  BZAAUNIlwyC  1475495653  2017-09-14 01:43:51.000          1   \n",
       "2617  BSdJUZfFqsp  1475495653  2017-04-04 09:40:45.000          1   \n",
       "2618  BI3M8ewD1ND  1475495653  2016-08-08 23:18:45.000          1   \n",
       "2620  BXb0aEslEOM  1475495653  2017-08-06 03:55:45.000          1   \n",
       "2621  BWTzMPtFAPf  1475495653  2017-07-09 04:39:48.000          1   \n",
       "2622  BV5xiKZFAIV  1475495653  2017-06-29 02:05:04.000          1   \n",
       "2623  BVnqcLqFgV5  1475495653  2017-06-22 01:16:45.000          1   \n",
       "2624  BTPCdvfllV-  1475495653  2017-04-23 18:42:53.000          1   \n",
       "2625  BTHyr7DFE_d  1475495653  2017-04-20 23:10:19.000          1   \n",
       "2626  BS2h5Z5Fp4L  1475495653  2017-04-14 06:16:31.000          1   \n",
       "2627  BSl-lf5llD4  1475495653  2017-04-07 20:00:07.000          1   \n",
       "2628  BSkZk9xlqu3  1475495653  2017-04-07 05:17:30.000          1   \n",
       "2629  BSZhoNSleyH  1475495653  2017-04-02 23:56:12.000          1   \n",
       "2630  BPBtdQjB1fe  1475495653  2017-01-09 03:23:36.000          1   \n",
       "2632  BMKxdHBhunp  1475495653  2016-10-30 02:17:31.000          1   \n",
       "2633  BH6bjsujbaB  1475495653  2016-07-16 08:52:46.000          1   \n",
       "2634  BHapyWFj4te  1475495653  2016-07-04 00:41:24.000          1   \n",
       "2635  BHIP2fNjZE7  1475495653  2016-06-26 21:08:26.000          1   \n",
       "\n",
       "                                            description  numbr_likes  \\\n",
       "5289  Don't forget to use a KLAFS sauna after your w...           51   \n",
       "5290  There is nothing better than a KLAFS sauna wit...           49   \n",
       "5293  Enjoy in the most extraordinary hotel - right ...           42   \n",
       "5300  Forest sauna with tree trunk panelling on the ...           49   \n",
       "5301  KLAFS cold plunges are an excellent way of coo...           50   \n",
       "5302  Everyone deserves moments of pure relaxation. ...           44   \n",
       "5303  KLAFS sauna you will never forget! âºï¸ #kal...           43   \n",
       "5304  During a winter getaway at Sportresidenz Zille...           43   \n",
       "5305  Sauna with illuminated and integrated salt wal...           39   \n",
       "5307  The charming sauna house Wassermann in Tannhei...           36   \n",
       "5308  Spacious KLAFS steam baths are the perfect way...           57   \n",
       "5309  A family sauna offer moments of relaxation and...           55   \n",
       "5310  Charming and spacious KLAFS sauna design. #kla...           38   \n",
       "5311  Pure indulgence for body and soul: bathing in ...           42   \n",
       "5312  A private infrared sauna with a spectacular vi...           31   \n",
       "5313  Perfect place for relaxation and rejuvenation ...           46   \n",
       "5314  The comfortable spa area offers activity and r...           65   \n",
       "5315  Directly in the Arlberg ski area 1,750m in the...           39   \n",
       "5316  Enjoy the comfort of the specialÂ sauna area w...           37   \n",
       "5317  The traditional Falkensteiner Hotels in South ...           71   \n",
       "5318  The modern holiday home \"im Franzerl\" on the W...           43   \n",
       "5319  Enjoy KLAFS infrared heat cabin - a deeply war...           28   \n",
       "5320  Relax and wind down at new 100 mÂ² A'RUE Panor...           37   \n",
       "5321  Still not sweated enough? ð¦Then take yourse...           52   \n",
       "5322  In the spacious spa area you can not only rela...           33   \n",
       "5323  Charming and spacious KLAFS sauna design. #kla...           31   \n",
       "5324  The Wellness Hotel Nidum will make you feel li...           31   \n",
       "5325  To sweat and enjoy after a sporty day in Muire...           32   \n",
       "5326  NIDUM - luxurious, fresh, different. ðð»W...           36   \n",
       "5327  A wonderful KLAFS sauna to relax.âºï¸ðð...           29   \n",
       "5328  This SPA design goal was to create it that it ...           38   \n",
       "5329  The traditional sports and SPA hotel combines ...           50   \n",
       "2572  I am in love with this beautiful color!!!! Tha...           37   \n",
       "2573  #Target #Ulta #Haul \\nSamples and sales and ne...           65   \n",
       "2608  #manimonday shout out to this fun color I rece...           24   \n",
       "2609  First @gerardcosmetics purchase and I'm in ð...           24   \n",
       "2610  How stunning is this bride?! Thank you Nicolle...           46   \n",
       "2611  I'm in another AWESOME campaign!!! Come to me,...           26   \n",
       "2612  SHAKEUP YOUR MAKEUP 1ST GIVEAWAY\\n\\nRULES TO E...           10   \n",
       "2613  I have a challenge for you @masked_mua!  Post ...           18   \n",
       "2615  Stalking the #sephorarewardsbazaar every Tuesd...           18   \n",
       "2616  This #sayiloveyou #drbrandt campaign is amazin...           12   \n",
       "2617  Still my fave!  @boxycharm never fails me! \\n#...           30   \n",
       "2618  THIS CONTEST IS AMAZING AND I SOOOOOOOOOOOO NE...           23   \n",
       "2620  I took advantage of the sale @benefitcosmetics...           26   \n",
       "2621  The #summerwalmartbeautybox is here!  Such a b...           23   \n",
       "2622  She has arrived!  I finally get to play with #...           31   \n",
       "2623  Ok @coffeebreakwithdani I'm trusting you girl!...           25   \n",
       "2624  @origins Modern Friction is my new holy grail ...           20   \n",
       "2625  #TBT TO THAT TIME I MADE VIB ROUGE\\n#VIBROUGE ...           21   \n",
       "2626  APRIL BOXYCHARM  #BOHOGLOW\\nOh @boxycharm, you...           27   \n",
       "2627  March @sephora Play #GlowYourOwnWay  #sephora ...           30   \n",
       "2628  Here are the swatches of the lipliner and matt...           13   \n",
       "2629  I am such a fan of @origins and excited to be ...           25   \n",
       "2630  The #walmartbeautybox in #trendsetter is alway...           19   \n",
       "2632  Sometimes you just have to treat yourself.  An...           47   \n",
       "2633  #anubismysterybox \\n#giveaway \\n#contest \\n#sh...           18   \n",
       "2634  These polishes are great and @mallory1712 is o...           15   \n",
       "2635                               #truth #dreamcatcher           12   \n",
       "\n",
       "      number_comments  \n",
       "5289                0  \n",
       "5290                0  \n",
       "5293                2  \n",
       "5300                0  \n",
       "5301                0  \n",
       "5302                0  \n",
       "5303                0  \n",
       "5304                0  \n",
       "5305                1  \n",
       "5307                0  \n",
       "5308                1  \n",
       "5309                2  \n",
       "5310                0  \n",
       "5311                3  \n",
       "5312                0  \n",
       "5313                0  \n",
       "5314                2  \n",
       "5315                2  \n",
       "5316                0  \n",
       "5317                1  \n",
       "5318                0  \n",
       "5319                1  \n",
       "5320                1  \n",
       "5321                0  \n",
       "5322                0  \n",
       "5323                0  \n",
       "5324                0  \n",
       "5325                0  \n",
       "5326                0  \n",
       "5327                0  \n",
       "5328                0  \n",
       "5329                0  \n",
       "2572                7  \n",
       "2573                3  \n",
       "2608                3  \n",
       "2609                3  \n",
       "2610                3  \n",
       "2611                2  \n",
       "2612                1  \n",
       "2613                1  \n",
       "2615                0  \n",
       "2616                1  \n",
       "2617                2  \n",
       "2618                1  \n",
       "2620                1  \n",
       "2621                2  \n",
       "2622                4  \n",
       "2623                1  \n",
       "2624                0  \n",
       "2625                1  \n",
       "2626                1  \n",
       "2627                3  \n",
       "2628                0  \n",
       "2629                0  \n",
       "2630                1  \n",
       "2632                5  \n",
       "2633                0  \n",
       "2634                0  \n",
       "2635                3  "
      ]
     },
     "execution_count": 11,
     "metadata": {},
     "output_type": "execute_result"
    }
   ],
   "source": [
    "adm2.posts_of_top_profiles(2, 10000)"
   ]
  },
  {
   "cell_type": "markdown",
   "id": "f9ab5c77",
   "metadata": {
    "id": "f9ab5c77"
   },
   "source": [
    "#### - What is the average number of \"likes\" and comments of the top 10 profiles with the highest number of posts which their information is available in profile.csv?"
   ]
  },
  {
   "cell_type": "code",
   "execution_count": 12,
   "id": "aa33ebb4-ee5f-4399-b1d8-f9bc0d28b060",
   "metadata": {},
   "outputs": [
    {
     "name": "stdout",
     "output_type": "stream",
     "text": [
      "Help on function top_profiles_average_likes_and_comments in module adm2:\n",
      "\n",
      "top_profiles_average_likes_and_comments(n, chunksize=5000)\n",
      "    description:\n",
      "        Searching the average of likes and comments per profile in top n profiles list.\n",
      "    params:\n",
      "        - n: number of top profiles;\n",
      "        - chunksize: size of dataset to compute.\n",
      "    output:\n",
      "        information about:\n",
      "        - total number of likes of the top n profiles;\n",
      "        - total number of comments of the top n profiles;\n",
      "        - the average of likes and comments per profile in top n profiles list.\n",
      "\n"
     ]
    }
   ],
   "source": [
    "help(adm2.top_profiles_average_likes_and_comments)"
   ]
  },
  {
   "cell_type": "code",
   "execution_count": 13,
   "id": "0fc5c487",
   "metadata": {
    "id": "0fc5c487"
   },
   "outputs": [
    {
     "name": "stdout",
     "output_type": "stream",
     "text": [
      "Profile ID: 1475495653 => 27 posts\n",
      "Profile ID: 1602360209 => 25 posts\n",
      "Profile ID: 260162660 => 24 posts\n",
      "Profile ID: 6975884875 => 19 posts\n",
      "Profile ID: 970045376 => 18 posts\n",
      "Profile ID: 3207023631 => 12 posts\n",
      "Profile ID: 8790607526 => 12 posts\n",
      "Profile ID: 11701861909 => 11 posts\n",
      "Profile ID: 3407398636 => 11 posts\n",
      "Profile ID: 1566325697 => 11 posts\n",
      "total number of likes: 3103\n",
      "total number of comments: 174\n",
      "average of likes and comments per profile in top 10 list: 327.7\n"
     ]
    }
   ],
   "source": [
    "adm2.top_profiles_average_likes_and_comments(10)"
   ]
  },
  {
   "cell_type": "markdown",
   "id": "bed99d4d",
   "metadata": {
    "id": "bed99d4d"
   },
   "source": [
    "#### - Plot the number of posts that these top 10 profiles have sent on Instagram in the given interval in question RQ3. Interpret the resulting chart."
   ]
  },
  {
   "cell_type": "code",
   "execution_count": 14,
   "id": "b69bb5f6",
   "metadata": {
    "id": "b69bb5f6"
   },
   "outputs": [
    {
     "data": {
      "text/plain": [
       "[['06:00:00', '10:59:59'],\n",
       " ['11:00:00', '13:59:59'],\n",
       " ['14:00:00', '16:59:59'],\n",
       " ['17:00:00', '19:59:59'],\n",
       " ['20:00:00', '23:59:59'],\n",
       " ['00:00:00', '02:59:59'],\n",
       " ['03:00:00', '05:59:59']]"
      ]
     },
     "execution_count": 14,
     "metadata": {},
     "output_type": "execute_result"
    }
   ],
   "source": [
    "intervals"
   ]
  },
  {
   "cell_type": "code",
   "execution_count": 15,
   "id": "e57a358b-0f11-481c-86f7-a269f467de2a",
   "metadata": {},
   "outputs": [
    {
     "name": "stdout",
     "output_type": "stream",
     "text": [
      "Help on function top_profiles_posts_by_intervals_plot in module adm2:\n",
      "\n",
      "top_profiles_posts_by_intervals_plot(intervals, n=10, chunksize=5000)\n",
      "    description:\n",
      "        Plot the number of posts for each given time interval.\n",
      "    params:\n",
      "        - intervals: list of time intervals;\n",
      "        - n: number of top profiles;\n",
      "        - chunksize: size of dataset to compute.\n",
      "    output:\n",
      "        plot with the number of posts for each given interval.\n",
      "\n"
     ]
    }
   ],
   "source": [
    "help(adm2.top_profiles_posts_by_intervals_plot)"
   ]
  },
  {
   "cell_type": "code",
   "execution_count": 16,
   "id": "eba59db1-5b33-43a9-9990-87ba172ce473",
   "metadata": {},
   "outputs": [
    {
     "name": "stdout",
     "output_type": "stream",
     "text": [
      "Profile ID: 1475495653 => 27 posts\n",
      "Profile ID: 1602360209 => 25 posts\n",
      "Number of posts in time interval:\n",
      "1 interval: 06:00:00 - 10:59:59 => 8 posts\n",
      "2 interval: 11:00:00 - 13:59:59 => 2 posts\n",
      "3 interval: 14:00:00 - 16:59:59 => 17 posts\n",
      "4 interval: 17:00:00 - 19:59:59 => 2 posts\n",
      "5 interval: 20:00:00 - 23:59:59 => 10 posts\n",
      "6 interval: 00:00:00 - 02:59:59 => 5 posts\n",
      "7 interval: 03:00:00 - 05:59:59 => 8 posts\n"
     ]
    },
    {
     "data": {
      "image/png": "[encoded data removed]",
      "text/plain": [
       "<Figure size 640x480 with 1 Axes>"
      ]
     },
     "metadata": {},
     "output_type": "display_data"
    }
   ],
   "source": [
    "adm2.top_profiles_posts_by_intervals_plot(intervals, 10)"
   ]
  },
  {
   "cell_type": "markdown",
   "id": "dad28d44",
   "metadata": {
    "id": "dad28d44"
   },
   "source": [
    "# ALGORITHMIC QUESTION"
   ]
  },
  {
   "cell_type": "markdown",
   "id": "eecf5d65",
   "metadata": {
    "id": "eecf5d65"
   },
   "source": [
    "## [AQ2] Considering the following problem, answer the questions:"
   ]
  },
  {
   "cell_type": "markdown",
   "id": "61b2d2ce",
   "metadata": {
    "id": "61b2d2ce"
   },
   "source": [
    "Alex has a ribbon of length N. He wants to cut the ribbon in a way that fulfils the following three conditions:\n",
    "\n",
    "Each piece of the cut should have an integer length\n",
    "He should at least cut the ribbon once\n",
    "The multiplication of the length of all the pieces be the maximum possible"
   ]
  },
  {
   "cell_type": "markdown",
   "id": "77c6fc9c",
   "metadata": {
    "id": "77c6fc9c"
   },
   "source": [
    "#### 1. Implement a recursive algorithm to help Alex find the maximum possible value after multiplying the length of the pieces. Explain your algorithm in detail."
   ]
  },
  {
   "cell_type": "code",
   "execution_count": 17,
   "id": "d0dbd603-ff39-45be-a771-67ac86a8ea0b",
   "metadata": {},
   "outputs": [],
   "source": [
    "def cut_the_ribbon(arr, index, N, decreaser, output = False):\n",
    "    \"\"\"\n",
    "    description:\n",
    "        Brute forcing all lenghts of pieces. in a way that fulfils the following three conditions:\n",
    "        1)Each piece of the cut should have an integer length.\n",
    "        2) He should at least cut the ribbon once.\n",
    "        3) The multiplication of the length of all the pieces be the maximum possible.\n",
    "    params:\n",
    "        - arr: an array that is intialized with [0] * N;\n",
    "        - index: current index of element in the sequence of lenght of pieces;\n",
    "        - N: total lenght of the ribbon;\n",
    "        - decreaser: temporary variable that is containing the value (step) decreasing of last element in the sequence;\n",
    "        - output: flag to output information about each iteration, e.g. \"[sequence] => result_of_multiplication\".\n",
    "    output:\n",
    "        all possible combinations of lengths of pieces of the ribbon.\n",
    "    \"\"\"\n",
    "    # finish of the computing\n",
    "    if (decreaser < 0):\n",
    "        return\n",
    "    # return to the previous step if decreaser reach its limit \n",
    "    elif (decreaser == 0):\n",
    "        mult = 1\n",
    "        # output \n",
    "        for i in range(index):\n",
    "            mult *= arr[i]\n",
    "            if output: print(arr[i], end = \" \")\n",
    "        if output: print(f\"=> result of multiplication = {mult}\")\n",
    "        return\n",
    "    \n",
    "    # initialization of the first piece's length\n",
    "    if(index == 0): prev = 1\n",
    "    # initialization of rest of the pieces (theirs lenghts)\n",
    "    else: prev = arr[index - 1]\n",
    " \n",
    "    # recursion for brute forcing lengths of pieces (start searching combinations from the end)\n",
    "    # e.g. N = 3, [1, 1, 1] => [1, 2] => [3]\n",
    "    # e.g. N = 5, [1, 1, 1, 1, 1] => [1, 1, 1, 2] => [1, 1, 3] => [1, 2, 2] => [1, 4] => [2, 3] => [5]\n",
    "    for k in range(prev, N + 1):\n",
    "        arr[index] = k\n",
    "        cut_the_ribbon(arr, index + 1, N, decreaser - k, output)"
   ]
  },
  {
   "cell_type": "code",
   "execution_count": 18,
   "id": "dc25c6e9-0dd0-4efd-a8ce-e07a6628e524",
   "metadata": {},
   "outputs": [
    {
     "name": "stdout",
     "output_type": "stream",
     "text": [
      "1 1 1 1 1 1 1 => result of multiplication = 1\n",
      "1 1 1 1 1 2 => result of multiplication = 2\n",
      "1 1 1 1 3 => result of multiplication = 3\n",
      "1 1 1 2 2 => result of multiplication = 4\n",
      "1 1 1 4 => result of multiplication = 4\n",
      "1 1 2 3 => result of multiplication = 6\n",
      "1 1 5 => result of multiplication = 5\n",
      "1 2 2 2 => result of multiplication = 8\n",
      "1 2 4 => result of multiplication = 8\n",
      "1 3 3 => result of multiplication = 9\n",
      "1 6 => result of multiplication = 6\n",
      "2 2 3 => result of multiplication = 12\n",
      "2 5 => result of multiplication = 10\n",
      "3 4 => result of multiplication = 12\n",
      "7 => result of multiplication = 7\n"
     ]
    }
   ],
   "source": [
    "N = 7\n",
    "max_mult = 1\n",
    "arr = [0] * N\n",
    "cut_the_ribbon(arr, 0, N, N, True)"
   ]
  },
  {
   "cell_type": "markdown",
   "id": "e2dc0cd1",
   "metadata": {
    "id": "e2dc0cd1"
   },
   "source": [
    "#### 2-4. Show that the algorithm has exponential running time. Compute its running-time complexity. Evaluate the running time of your algorithm for the sizes (Ns) in the range of [2, 25], plot the results, and interpret it"
   ]
  },
  {
   "cell_type": "code",
   "execution_count": 19,
   "id": "e709d380",
   "metadata": {
    "id": "e709d380"
   },
   "outputs": [],
   "source": [
    "import time\n",
    "from matplotlib import pyplot as plt"
   ]
  },
  {
   "cell_type": "code",
   "execution_count": 20,
   "id": "f9e2766c-0cf4-476d-bf57-856639a8bdc8",
   "metadata": {
    "id": "e709d380"
   },
   "outputs": [],
   "source": [
    "def build_time_complexity_plot(start = 2, end = 25):\n",
    "    \"\"\"\n",
    "    description:\n",
    "        Building the plot of time complexity of the algorithm.\n",
    "    params:\n",
    "        - start: start of range of Ns\n",
    "        - end: end of range of Ns\n",
    "    output:\n",
    "        plot of time complexity of the algorithm.\n",
    "    \"\"\"\n",
    "    times = []\n",
    "    Ns = range(start, end + 1)\n",
    "    for N in Ns:\n",
    "        start = time.time()\n",
    "        arr = [0] * N\n",
    "        cut_the_ribbon(arr, 0, N, N)\n",
    "        end = time.time()\n",
    "        times.append(end - start)\n",
    "    #print(times)\n",
    "    for n, t in zip(Ns, times):\n",
    "        print(f\"N = {n} => {t} ms\")\n",
    "    plt.plot(Ns, times)"
   ]
  },
  {
   "cell_type": "code",
   "execution_count": null,
   "id": "afc22ba8-ec7c-4ec6-b562-165cc3917e26",
   "metadata": {},
   "outputs": [
    {
     "name": "stdout",
     "output_type": "stream",
     "text": [
      "N = 2 => 0.0 ms\n",
      "N = 3 => 0.0 ms\n",
      "N = 4 => 0.0 ms\n",
      "N = 5 => 0.0003044605255126953 ms\n",
      "N = 6 => 0.0 ms\n",
      "N = 7 => 0.0 ms\n",
      "N = 8 => 0.0 ms\n",
      "N = 9 => 0.0 ms\n",
      "N = 10 => 0.0012161731719970703 ms\n",
      "N = 11 => 0.0 ms\n",
      "N = 12 => 0.0012564659118652344 ms\n",
      "N = 13 => 0.0016756057739257812 ms\n",
      "N = 14 => 0.0029637813568115234 ms\n",
      "N = 15 => 0.002149343490600586 ms\n",
      "N = 16 => 0.005001068115234375 ms\n",
      "N = 17 => 0.012687444686889648 ms\n",
      "N = 18 => 0.005284309387207031 ms\n",
      "N = 19 => 0.01743340492248535 ms\n",
      "N = 20 => 0.01885700225830078 ms\n",
      "N = 21 => 0.023805856704711914 ms\n",
      "N = 22 => 0.031049489974975586 ms\n",
      "N = 23 => 0.03949141502380371 ms\n",
      "N = 24 => 0.05945777893066406 ms\n",
      "N = 25 => 0.06301236152648926 ms\n",
      "N = 26 => 0.11434435844421387 ms\n",
      "N = 27 => 0.13026928901672363 ms\n",
      "N = 28 => 0.1671898365020752 ms\n",
      "N = 29 => 0.22609329223632812 ms\n",
      "N = 30 => 0.27855896949768066 ms\n",
      "N = 31 => 0.36000823974609375 ms\n",
      "N = 32 => 0.4676034450531006 ms\n",
      "N = 33 => 0.6687209606170654 ms\n",
      "N = 34 => 0.7702274322509766 ms\n",
      "N = 35 => 1.03206467628479 ms\n",
      "N = 36 => 1.2339880466461182 ms\n",
      "N = 37 => 1.5763921737670898 ms\n",
      "N = 38 => 1.930924892425537 ms\n",
      "N = 39 => 2.3216657638549805 ms\n",
      "N = 40 => 2.8699913024902344 ms\n",
      "N = 41 => 3.76405930519104 ms\n",
      "N = 42 => 4.4537577629089355 ms\n",
      "N = 43 => 5.668183326721191 ms\n",
      "N = 44 => 6.759894609451294 ms\n",
      "N = 45 => 8.58249306678772 ms\n"
     ]
    },
    {
     "data": {
      "image/png": "[encoded data removed]",
      "text/plain": [
       "<Figure size 640x480 with 1 Axes>"
      ]
     },
     "metadata": {},
     "output_type": "display_data"
    }
   ],
   "source": [
    "build_time_complexity_plot(2, 45)"
   ]
  },
  {
   "cell_type": "markdown",
   "id": "70ea185f-0d5c-43a8-bbc0-0d185dc490d5",
   "metadata": {},
   "source": [
    "By using bigger length of "
   ]
  },
  {
   "cell_type": "code",
   "execution_count": null,
   "id": "82e7f5be",
   "metadata": {},
   "outputs": [
    {
     "name": "stdout",
     "output_type": "stream",
     "text": [
      "N = 2 => 0.0 ms\n",
      "N = 3 => 0.0 ms\n",
      "N = 4 => 0.0 ms\n",
      "N = 5 => 0.0 ms\n",
      "N = 6 => 0.0 ms\n",
      "N = 7 => 0.0 ms\n",
      "N = 8 => 0.0016090869903564453 ms\n",
      "N = 9 => 0.0 ms\n",
      "N = 10 => 0.0010693073272705078 ms\n",
      "N = 11 => 0.0010187625885009766 ms\n",
      "N = 12 => 0.0010516643524169922 ms\n",
      "N = 13 => 0.002138376235961914 ms\n",
      "N = 14 => 0.003160715103149414 ms\n",
      "N = 15 => 0.005372524261474609 ms\n",
      "N = 16 => 0.006264448165893555 ms\n",
      "N = 17 => 0.008033990859985352 ms\n",
      "N = 18 => 0.012459993362426758 ms\n",
      "N = 19 => 0.016098737716674805 ms\n",
      "N = 20 => 0.016060352325439453 ms\n",
      "N = 21 => 0.03417825698852539 ms\n",
      "N = 22 => 0.02493762969970703 ms\n",
      "N = 23 => 0.04933762550354004 ms\n",
      "N = 24 => 0.050824642181396484 ms\n",
      "N = 25 => 0.07967662811279297 ms\n",
      "N = 26 => 0.10029172897338867 ms\n",
      "N = 27 => 0.1260373592376709 ms\n",
      "N = 28 => 0.17652082443237305 ms\n",
      "N = 29 => 0.22578740119934082 ms\n",
      "N = 30 => 0.3272418975830078 ms\n",
      "N = 31 => 0.4130589962005615 ms\n",
      "N = 32 => 0.5060956478118896 ms\n",
      "N = 33 => 0.6527669429779053 ms\n",
      "N = 34 => 0.8600974082946777 ms\n",
      "N = 35 => 0.9588189125061035 ms\n",
      "N = 36 => 1.1856844425201416 ms\n",
      "N = 37 => 1.4756195545196533 ms\n",
      "N = 38 => 1.8925001621246338 ms\n",
      "N = 39 => 2.3143301010131836 ms\n",
      "N = 40 => 2.8659045696258545 ms\n",
      "N = 41 => 3.5972816944122314 ms\n",
      "N = 42 => 4.464617967605591 ms\n",
      "N = 43 => 5.672638654708862 ms\n",
      "N = 44 => 6.683770418167114 ms\n",
      "N = 45 => 8.254742860794067 ms\n"
     ]
    },
    {
     "data": {
      "image/png": "[encoded data removed]",
      "text/plain": [
       "<Figure size 640x480 with 1 Axes>"
      ]
     },
     "metadata": {},
     "output_type": "display_data"
    }
   ],
   "source": [
    "build_time_complexity_plot(2, 45)"
   ]
  },
  {
   "cell_type": "markdown",
   "id": "e6683866-64dd-4fe5-86d9-c5ad61183327",
   "metadata": {
    "id": "e709d380"
   },
   "source": [
    "That algorithm has exponential running time, because it has brute-force concept in it.\n",
    "With each additional operation (n+1) we are doubling our time of computing in case of using recursion."
   ]
  }
 ],
 "metadata": {
  "colab": {
   "collapsed_sections": [
    "71d15dba",
    "aee10629",
    "d46b576a",
    "f2d86603",
    "5d5d0d94",
    "dfc50083",
    "8430206f",
    "ae3a3236",
    "a17767a0",
    "f9ab5c77",
    "bed99d4d",
    "5a5cf901",
    "0ad5d78f",
    "8d49dbed",
    "328e6f52",
    "1a00be24",
    "0d9e705f",
    "bdba799e",
    "92f3d068",
    "6c90fcad",
    "79ddcc7a",
    "19351614",
    "c7eeeebb",
    "53245520",
    "04431c87",
    "a7cb35a4",
    "755155a1",
    "4dbc8a36",
    "9b64c905",
    "2a3b2afb",
    "7a25b10e",
    "43886873",
    "ba90de81",
    "b112d5fc",
    "2ecc9196",
    "342b4ebe",
    "a2f34507",
    "f23c4327",
    "eecf5d65",
    "77c6fc9c",
    "e2dc0cd1",
    "45070765",
    "c725300c",
    "54655464"
   ],
   "include_colab_link": true,
   "provenance": []
  },
  "kernelspec": {
   "display_name": "Python 3 (ipykernel)",
   "language": "python",
   "name": "python3"
  },
  "language_info": {
   "codemirror_mode": {
    "name": "ipython",
    "version": 3
   },
   "file_extension": ".py",
   "mimetype": "text/x-python",
   "name": "python",
   "nbconvert_exporter": "python",
   "pygments_lexer": "ipython3",
   "version": "3.8.13"
  }
 },
 "nbformat": 4,
 "nbformat_minor": 5
}

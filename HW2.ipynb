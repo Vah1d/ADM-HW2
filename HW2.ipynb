{
 "cells": [
  {
   "cell_type": "markdown",
   "id": "232115a0",
   "metadata": {
    "colab_type": "text",
    "id": "view-in-github"
   },
   "source": [
    "<a href=\"https://colab.research.google.com/github/Vah1d/ADM-HW2/blob/main/HW2.ipynb\" target=\"_parent\"><img src=\"https://colab.research.google.com/assets/colab-badge.svg\" alt=\"Open In Colab\"/></a>"
   ]
  },
  {
   "cell_type": "markdown",
   "id": "e8064fb1",
   "metadata": {
    "id": "e8064fb1"
   },
   "source": [
    "# RESEARCH QUESTIONS"
   ]
  },
  {
   "cell_type": "code",
   "execution_count": 1,
   "id": "Y_HsK6Kt7cV-",
   "metadata": {
    "colab": {
     "base_uri": "https://localhost:8080/"
    },
    "id": "Y_HsK6Kt7cV-",
    "outputId": "7f3a21b9-3f8e-44b1-8f64-34bc12279076"
   },
   "outputs": [
    {
     "name": "stdout",
     "output_type": "stream",
     "text": [
      "Mounted at /content/drive\n"
     ]
    }
   ],
   "source": [
    "from google.colab import drive\n",
    "drive.mount('/content/drive')"
   ]
  },
  {
   "cell_type": "markdown",
   "id": "47eb7a92",
   "metadata": {
    "id": "47eb7a92"
   },
   "source": [
    "## [RQ1] After collecting information, the Data Scientists have to know what dataset they are dealing with, so let's start with an Exploratory Data Analysis (EDA). What can you say about our datasets? Please summarise its main characteristics with visual and tabular methods."
   ]
  },
  {
   "cell_type": "code",
   "execution_count": 1,
   "id": "4c8a9fc3",
   "metadata": {
    "id": "4c8a9fc3"
   },
   "outputs": [],
   "source": [
    "import pandas as pd\n",
    "from matplotlib import pyplot as plt\n",
    "import numpy as np\n",
    "from tqdm import tqdm"
   ]
  },
  {
   "cell_type": "code",
   "execution_count": 5,
   "id": "a000d812",
   "metadata": {
    "id": "a000d812"
   },
   "outputs": [],
   "source": [
    "data_profiles = pd.read_csv('/content/drive/MyDrive/ADM/instagram_profiles.csv.zip', delimiter='\\t')"
   ]
  },
  {
   "cell_type": "code",
   "execution_count": null,
   "id": "dbf2c41d",
   "metadata": {
    "id": "dbf2c41d",
    "outputId": "e1650889-af26-4164-a538-3525fd220155"
   },
   "outputs": [
    {
     "data": {
      "text/plain": [
       "sid                          0\n",
       "profile_id               32447\n",
       "profile_name                 0\n",
       "firstname_lastname      288465\n",
       "description            2055996\n",
       "following              1056815\n",
       "followers              1056815\n",
       "n_posts                1056815\n",
       "url                    3639312\n",
       "cts                     438488\n",
       "is_business_account    1064263\n",
       "dtype: int64"
      ]
     },
     "execution_count": 7,
     "metadata": {},
     "output_type": "execute_result"
    }
   ],
   "source": [
    "data_profiles.isna().sum()"
   ]
  },
  {
   "cell_type": "code",
   "execution_count": null,
   "id": "002cc93b",
   "metadata": {
    "id": "002cc93b",
    "outputId": "606baff4-b877-48f7-8e20-a636c52df8f1"
   },
   "outputs": [
    {
     "data": {
      "text/plain": [
       "sid                    0\n",
       "profile_id             0\n",
       "profile_name           0\n",
       "firstname_lastname     0\n",
       "description            0\n",
       "following              0\n",
       "followers              0\n",
       "n_posts                0\n",
       "url                    0\n",
       "cts                    0\n",
       "is_business_account    0\n",
       "dtype: int64"
      ]
     },
     "execution_count": 33,
     "metadata": {},
     "output_type": "execute_result"
    }
   ],
   "source": [
    "data_profiles.profile_id.dropna(inplace = True)\n",
    "data_profiles.is_business_account.fillna(False, inplace=True)\n",
    "data_profiles = data_profiles.fillna(0)\n",
    "data_profiles.isna().sum()"
   ]
  },
  {
   "cell_type": "markdown",
   "id": "aca23aa4",
   "metadata": {
    "id": "aca23aa4"
   },
   "source": [
    "## [RQ2] Let's explore the dataset by finding simple insights regarding the profile and posts."
   ]
  },
  {
   "cell_type": "markdown",
   "id": "0a5bdeeb",
   "metadata": {
    "id": "0a5bdeeb"
   },
   "source": [
    "#### - Plot the number of posts for each profile in descending order."
   ]
  },
  {
   "cell_type": "code",
   "execution_count": null,
   "id": "282fbd73",
   "metadata": {
    "id": "282fbd73",
    "outputId": "3ab3ebf0-7f03-4f03-9d48-f19f35590cb4"
   },
   "outputs": [
    {
     "data": {
      "text/html": [
       "<div>\n",
       "<style scoped>\n",
       "    .dataframe tbody tr th:only-of-type {\n",
       "        vertical-align: middle;\n",
       "    }\n",
       "\n",
       "    .dataframe tbody tr th {\n",
       "        vertical-align: top;\n",
       "    }\n",
       "\n",
       "    .dataframe thead th {\n",
       "        text-align: right;\n",
       "    }\n",
       "</style>\n",
       "<table border=\"1\" class=\"dataframe\">\n",
       "  <thead>\n",
       "    <tr style=\"text-align: right;\">\n",
       "      <th></th>\n",
       "      <th>profile_name</th>\n",
       "      <th>n_posts</th>\n",
       "    </tr>\n",
       "  </thead>\n",
       "  <tbody>\n",
       "    <tr>\n",
       "      <th>3990313</th>\n",
       "      <td>jasem33312</td>\n",
       "      <td>183730.0</td>\n",
       "    </tr>\n",
       "    <tr>\n",
       "      <th>2571453</th>\n",
       "      <td>koenigpic</td>\n",
       "      <td>142428.0</td>\n",
       "    </tr>\n",
       "    <tr>\n",
       "      <th>4338921</th>\n",
       "      <td>rudyanto62</td>\n",
       "      <td>126340.0</td>\n",
       "    </tr>\n",
       "    <tr>\n",
       "      <th>3942129</th>\n",
       "      <td>hometown_ni</td>\n",
       "      <td>125220.0</td>\n",
       "    </tr>\n",
       "    <tr>\n",
       "      <th>4219642</th>\n",
       "      <td>dwfitfiber_thailand</td>\n",
       "      <td>117262.0</td>\n",
       "    </tr>\n",
       "    <tr>\n",
       "      <th>2207897</th>\n",
       "      <td>waxking911</td>\n",
       "      <td>117099.0</td>\n",
       "    </tr>\n",
       "    <tr>\n",
       "      <th>4313908</th>\n",
       "      <td>gamt_official</td>\n",
       "      <td>113780.0</td>\n",
       "    </tr>\n",
       "    <tr>\n",
       "      <th>4219476</th>\n",
       "      <td>collarosedw_official</td>\n",
       "      <td>113182.0</td>\n",
       "    </tr>\n",
       "    <tr>\n",
       "      <th>4236057</th>\n",
       "      <td>gamt_authentic</td>\n",
       "      <td>112777.0</td>\n",
       "    </tr>\n",
       "    <tr>\n",
       "      <th>1631526</th>\n",
       "      <td>ivankkkka.trmp</td>\n",
       "      <td>112723.0</td>\n",
       "    </tr>\n",
       "  </tbody>\n",
       "</table>\n",
       "</div>"
      ],
      "text/plain": [
       "                 profile_name   n_posts\n",
       "3990313            jasem33312  183730.0\n",
       "2571453             koenigpic  142428.0\n",
       "4338921            rudyanto62  126340.0\n",
       "3942129           hometown_ni  125220.0\n",
       "4219642   dwfitfiber_thailand  117262.0\n",
       "2207897            waxking911  117099.0\n",
       "4313908         gamt_official  113780.0\n",
       "4219476  collarosedw_official  113182.0\n",
       "4236057        gamt_authentic  112777.0\n",
       "1631526        ivankkkka.trmp  112723.0"
      ]
     },
     "execution_count": 9,
     "metadata": {},
     "output_type": "execute_result"
    }
   ],
   "source": [
    "post_sort = data_profiles.sort_values(by = 'n_posts', ascending = False)\n",
    "confronto_prof = post_sort[['profile_name','n_posts']]\n",
    "confronto_prof.head(10)"
   ]
  },
  {
   "cell_type": "markdown",
   "id": "69ebd635",
   "metadata": {
    "id": "69ebd635"
   },
   "source": [
    "#### - What posts have the highest number of \"likes\"?"
   ]
  },
  {
   "cell_type": "code",
   "execution_count": null,
   "id": "d951b4c4",
   "metadata": {
    "id": "d951b4c4",
    "outputId": "89b5d5bf-d0f9-4b91-ee7d-b7402a074e22"
   },
   "outputs": [
    {
     "ename": "ParserError",
     "evalue": "Error tokenizing data. C error: out of memory",
     "output_type": "error",
     "traceback": [
      "\u001b[1;31m---------------------------------------------------------------------------\u001b[0m",
      "\u001b[1;31mParserError\u001b[0m                               Traceback (most recent call last)",
      "Input \u001b[1;32mIn [4]\u001b[0m, in \u001b[0;36m<cell line: 7>\u001b[1;34m()\u001b[0m\n\u001b[0;32m      1\u001b[0m \u001b[38;5;66;03m#data_posts = pd.read_csv('instagram_posts.csv.zip',usecols = ['post_id','description','numbr_likes','number_comments'], delimiter='\\t', nrows = 2000000)\u001b[39;00m\n\u001b[0;32m      2\u001b[0m \u001b[38;5;66;03m#likes_sort = data_posts.sort_values(by = 'numbr_likes', ascending = False)\u001b[39;00m\n\u001b[0;32m      3\u001b[0m \u001b[38;5;66;03m#confronto_post = likes_sort[['post_id','description','numbr_likes']]\u001b[39;00m\n\u001b[0;32m      4\u001b[0m \u001b[38;5;66;03m#confronto_post.head(10)\u001b[39;00m\n\u001b[0;32m      6\u001b[0m top_rows \u001b[38;5;241m=\u001b[39m []\n\u001b[1;32m----> 7\u001b[0m \u001b[38;5;28;01mfor\u001b[39;00m chunk \u001b[38;5;129;01min\u001b[39;00m pd\u001b[38;5;241m.\u001b[39mread_csv(\u001b[38;5;124m'\u001b[39m\u001b[38;5;124minstagram_posts.csv.zip\u001b[39m\u001b[38;5;124m'\u001b[39m,usecols \u001b[38;5;241m=\u001b[39m [\u001b[38;5;124m'\u001b[39m\u001b[38;5;124mpost_id\u001b[39m\u001b[38;5;124m'\u001b[39m,\u001b[38;5;124m'\u001b[39m\u001b[38;5;124mdescription\u001b[39m\u001b[38;5;124m'\u001b[39m,\u001b[38;5;124m'\u001b[39m\u001b[38;5;124mnumbr_likes\u001b[39m\u001b[38;5;124m'\u001b[39m,\u001b[38;5;124m'\u001b[39m\u001b[38;5;124mnumber_comments\u001b[39m\u001b[38;5;124m'\u001b[39m], \n\u001b[0;32m      8\u001b[0m                          delimiter\u001b[38;5;241m=\u001b[39m\u001b[38;5;124m'\u001b[39m\u001b[38;5;130;01m\\t\u001b[39;00m\u001b[38;5;124m'\u001b[39m, chunksize\u001b[38;5;241m=\u001b[39m\u001b[38;5;241m500000\u001b[39m):\n\u001b[0;32m      9\u001b[0m     chunk_top \u001b[38;5;241m=\u001b[39m chunk\u001b[38;5;241m.\u001b[39msort_values(by\u001b[38;5;241m=\u001b[39m\u001b[38;5;124m'\u001b[39m\u001b[38;5;124mnumbr_likes\u001b[39m\u001b[38;5;124m'\u001b[39m, ascending\u001b[38;5;241m=\u001b[39m\u001b[38;5;28;01mFalse\u001b[39;00m)\u001b[38;5;241m.\u001b[39mhead(\u001b[38;5;241m5\u001b[39m)\n\u001b[0;32m     10\u001b[0m     top_rows\u001b[38;5;241m.\u001b[39mappend(chunk_top)\n",
      "File \u001b[1;32mC:\\ProgramData\\Anaconda3\\lib\\site-packages\\pandas\\io\\parsers\\readers.py:1187\u001b[0m, in \u001b[0;36mTextFileReader.__next__\u001b[1;34m(self)\u001b[0m\n\u001b[0;32m   1185\u001b[0m \u001b[38;5;28;01mdef\u001b[39;00m \u001b[38;5;21m__next__\u001b[39m(\u001b[38;5;28mself\u001b[39m):\n\u001b[0;32m   1186\u001b[0m     \u001b[38;5;28;01mtry\u001b[39;00m:\n\u001b[1;32m-> 1187\u001b[0m         \u001b[38;5;28;01mreturn\u001b[39;00m \u001b[38;5;28;43mself\u001b[39;49m\u001b[38;5;241;43m.\u001b[39;49m\u001b[43mget_chunk\u001b[49m\u001b[43m(\u001b[49m\u001b[43m)\u001b[49m\n\u001b[0;32m   1188\u001b[0m     \u001b[38;5;28;01mexcept\u001b[39;00m \u001b[38;5;167;01mStopIteration\u001b[39;00m:\n\u001b[0;32m   1189\u001b[0m         \u001b[38;5;28mself\u001b[39m\u001b[38;5;241m.\u001b[39mclose()\n",
      "File \u001b[1;32mC:\\ProgramData\\Anaconda3\\lib\\site-packages\\pandas\\io\\parsers\\readers.py:1284\u001b[0m, in \u001b[0;36mTextFileReader.get_chunk\u001b[1;34m(self, size)\u001b[0m\n\u001b[0;32m   1282\u001b[0m         \u001b[38;5;28;01mraise\u001b[39;00m \u001b[38;5;167;01mStopIteration\u001b[39;00m\n\u001b[0;32m   1283\u001b[0m     size \u001b[38;5;241m=\u001b[39m \u001b[38;5;28mmin\u001b[39m(size, \u001b[38;5;28mself\u001b[39m\u001b[38;5;241m.\u001b[39mnrows \u001b[38;5;241m-\u001b[39m \u001b[38;5;28mself\u001b[39m\u001b[38;5;241m.\u001b[39m_currow)\n\u001b[1;32m-> 1284\u001b[0m \u001b[38;5;28;01mreturn\u001b[39;00m \u001b[38;5;28;43mself\u001b[39;49m\u001b[38;5;241;43m.\u001b[39;49m\u001b[43mread\u001b[49m\u001b[43m(\u001b[49m\u001b[43mnrows\u001b[49m\u001b[38;5;241;43m=\u001b[39;49m\u001b[43msize\u001b[49m\u001b[43m)\u001b[49m\n",
      "File \u001b[1;32mC:\\ProgramData\\Anaconda3\\lib\\site-packages\\pandas\\io\\parsers\\readers.py:1254\u001b[0m, in \u001b[0;36mTextFileReader.read\u001b[1;34m(self, nrows)\u001b[0m\n\u001b[0;32m   1252\u001b[0m nrows \u001b[38;5;241m=\u001b[39m validate_integer(\u001b[38;5;124m\"\u001b[39m\u001b[38;5;124mnrows\u001b[39m\u001b[38;5;124m\"\u001b[39m, nrows)\n\u001b[0;32m   1253\u001b[0m \u001b[38;5;28;01mtry\u001b[39;00m:\n\u001b[1;32m-> 1254\u001b[0m     index, columns, col_dict \u001b[38;5;241m=\u001b[39m \u001b[38;5;28;43mself\u001b[39;49m\u001b[38;5;241;43m.\u001b[39;49m\u001b[43m_engine\u001b[49m\u001b[38;5;241;43m.\u001b[39;49m\u001b[43mread\u001b[49m\u001b[43m(\u001b[49m\u001b[43mnrows\u001b[49m\u001b[43m)\u001b[49m\n\u001b[0;32m   1255\u001b[0m \u001b[38;5;28;01mexcept\u001b[39;00m \u001b[38;5;167;01mException\u001b[39;00m:\n\u001b[0;32m   1256\u001b[0m     \u001b[38;5;28mself\u001b[39m\u001b[38;5;241m.\u001b[39mclose()\n",
      "File \u001b[1;32mC:\\ProgramData\\Anaconda3\\lib\\site-packages\\pandas\\io\\parsers\\c_parser_wrapper.py:225\u001b[0m, in \u001b[0;36mCParserWrapper.read\u001b[1;34m(self, nrows)\u001b[0m\n\u001b[0;32m    223\u001b[0m \u001b[38;5;28;01mtry\u001b[39;00m:\n\u001b[0;32m    224\u001b[0m     \u001b[38;5;28;01mif\u001b[39;00m \u001b[38;5;28mself\u001b[39m\u001b[38;5;241m.\u001b[39mlow_memory:\n\u001b[1;32m--> 225\u001b[0m         chunks \u001b[38;5;241m=\u001b[39m \u001b[38;5;28;43mself\u001b[39;49m\u001b[38;5;241;43m.\u001b[39;49m\u001b[43m_reader\u001b[49m\u001b[38;5;241;43m.\u001b[39;49m\u001b[43mread_low_memory\u001b[49m\u001b[43m(\u001b[49m\u001b[43mnrows\u001b[49m\u001b[43m)\u001b[49m\n\u001b[0;32m    226\u001b[0m         \u001b[38;5;66;03m# destructive to chunks\u001b[39;00m\n\u001b[0;32m    227\u001b[0m         data \u001b[38;5;241m=\u001b[39m _concatenate_chunks(chunks)\n",
      "File \u001b[1;32mC:\\ProgramData\\Anaconda3\\lib\\site-packages\\pandas\\_libs\\parsers.pyx:817\u001b[0m, in \u001b[0;36mpandas._libs.parsers.TextReader.read_low_memory\u001b[1;34m()\u001b[0m\n",
      "File \u001b[1;32mC:\\ProgramData\\Anaconda3\\lib\\site-packages\\pandas\\_libs\\parsers.pyx:861\u001b[0m, in \u001b[0;36mpandas._libs.parsers.TextReader._read_rows\u001b[1;34m()\u001b[0m\n",
      "File \u001b[1;32mC:\\ProgramData\\Anaconda3\\lib\\site-packages\\pandas\\_libs\\parsers.pyx:847\u001b[0m, in \u001b[0;36mpandas._libs.parsers.TextReader._tokenize_rows\u001b[1;34m()\u001b[0m\n",
      "File \u001b[1;32mC:\\ProgramData\\Anaconda3\\lib\\site-packages\\pandas\\_libs\\parsers.pyx:1960\u001b[0m, in \u001b[0;36mpandas._libs.parsers.raise_parser_error\u001b[1;34m()\u001b[0m\n",
      "\u001b[1;31mParserError\u001b[0m: Error tokenizing data. C error: out of memory"
     ]
    }
   ],
   "source": [
    "#data_posts = pd.read_csv('instagram_posts.csv.zip',usecols = ['post_id','description','numbr_likes','number_comments'], delimiter='\\t', nrows = 2000000)\n",
    "#likes_sort = data_posts.sort_values(by = 'numbr_likes', ascending = False)\n",
    "#confronto_post = likes_sort[['post_id','description','numbr_likes']]\n",
    "#confronto_post.head(10)\n",
    "\n",
    "top_rows = []\n",
    "for chunk in pd.read_csv('instagram_posts.csv.zip',usecols = ['post_id','description','numbr_likes','number_comments'], \n",
    "                         delimiter='\\t', chunksize=500000):\n",
    "    chunk_top = chunk.sort_values(by='numbr_likes', ascending=False).head(5)\n",
    "    top_rows.append(chunk_top)"
   ]
  },
  {
   "cell_type": "markdown",
   "id": "5126fefe",
   "metadata": {
    "id": "5126fefe"
   },
   "source": [
    "#### - What posts have the most and the least number of comments?"
   ]
  },
  {
   "cell_type": "code",
   "execution_count": null,
   "id": "b5964d88",
   "metadata": {
    "id": "b5964d88",
    "outputId": "023904bf-94c0-467f-febd-ab8f49b99e07"
   },
   "outputs": [
    {
     "data": {
      "text/html": [
       "<style type=\"text/css\">\n",
       "</style>\n",
       "<table id=\"T_e95a7\">\n",
       "  <caption>posts with the most comments</caption>\n",
       "  <thead>\n",
       "    <tr>\n",
       "      <th class=\"blank level0\" >&nbsp;</th>\n",
       "      <th id=\"T_e95a7_level0_col0\" class=\"col_heading level0 col0\" >post_id</th>\n",
       "      <th id=\"T_e95a7_level0_col1\" class=\"col_heading level0 col1\" >description</th>\n",
       "      <th id=\"T_e95a7_level0_col2\" class=\"col_heading level0 col2\" >number_comments</th>\n",
       "    </tr>\n",
       "  </thead>\n",
       "  <tbody>\n",
       "    <tr>\n",
       "      <th id=\"T_e95a7_level0_row0\" class=\"row_heading level0 row0\" >242837</th>\n",
       "      <td id=\"T_e95a7_row0_col0\" class=\"data row0 col0\" >BQ_N0bzhTSL</td>\n",
       "      <td id=\"T_e95a7_row0_col1\" class=\"data row0 col1\" >🍔🍟❤️</td>\n",
       "      <td id=\"T_e95a7_row0_col2\" class=\"data row0 col2\" >135221</td>\n",
       "    </tr>\n",
       "    <tr>\n",
       "      <th id=\"T_e95a7_level0_row1\" class=\"row_heading level0 row1\" >1228385</th>\n",
       "      <td id=\"T_e95a7_row1_col0\" class=\"data row1 col0\" >BT29eW-BHMn</td>\n",
       "      <td id=\"T_e95a7_row1_col1\" class=\"data row1 col1\" >صباح الخير يا مدلل 🕊</td>\n",
       "      <td id=\"T_e95a7_row1_col2\" class=\"data row1 col2\" >116551</td>\n",
       "    </tr>\n",
       "    <tr>\n",
       "      <th id=\"T_e95a7_level0_row2\" class=\"row_heading level0 row2\" >1758104</th>\n",
       "      <td id=\"T_e95a7_row2_col0\" class=\"data row2 col0\" >BLWvTOwhChG</td>\n",
       "      <td id=\"T_e95a7_row2_col1\" class=\"data row2 col1\" >السحب على مجوهرات كارتيه ، هدايا عربون الحب مني لكل شخص وقف عند البوتيك وعبر عن رايه الجميل بالعطر .. حيكون يوم الاحد ب بـ اذن الله .. تابعونا يومها ع السناب تشات 💪🏽✨</td>\n",
       "      <td id=\"T_e95a7_row2_col2\" class=\"data row2 col2\" >70722</td>\n",
       "    </tr>\n",
       "    <tr>\n",
       "      <th id=\"T_e95a7_level0_row3\" class=\"row_heading level0 row3\" >579112</th>\n",
       "      <td id=\"T_e95a7_row3_col0\" class=\"data row3 col0\" >BmORc4znzzA</td>\n",
       "      <td id=\"T_e95a7_row3_col1\" class=\"data row3 col1\" >Party in the castle with @benefitcosmetics 🎉 \\n_____________\\nFiesta en el castillo 🎉😍 #MarialeNoPara</td>\n",
       "      <td id=\"T_e95a7_row3_col2\" class=\"data row3 col2\" >56686</td>\n",
       "    </tr>\n",
       "    <tr>\n",
       "      <th id=\"T_e95a7_level0_row4\" class=\"row_heading level0 row4\" >313806</th>\n",
       "      <td id=\"T_e95a7_row4_col0\" class=\"data row4 col0\" >BxrapKyCgg0</td>\n",
       "      <td id=\"T_e95a7_row4_col1\" class=\"data row4 col1\" >Склав присягу.</td>\n",
       "      <td id=\"T_e95a7_row4_col2\" class=\"data row4 col2\" >53878</td>\n",
       "    </tr>\n",
       "    <tr>\n",
       "      <th id=\"T_e95a7_level0_row5\" class=\"row_heading level0 row5\" >377722</th>\n",
       "      <td id=\"T_e95a7_row5_col0\" class=\"data row5 col0\" >Bbz6IBXhKgg</td>\n",
       "      <td id=\"T_e95a7_row5_col1\" class=\"data row5 col1\" >Спасибо вам за все! Всех обнял! Я дома, все норм ;) 🙏🏾🙌🏾</td>\n",
       "      <td id=\"T_e95a7_row5_col2\" class=\"data row5 col2\" >32505</td>\n",
       "    </tr>\n",
       "    <tr>\n",
       "      <th id=\"T_e95a7_level0_row6\" class=\"row_heading level0 row6\" >50077</th>\n",
       "      <td id=\"T_e95a7_row6_col0\" class=\"data row6 col0\" >BuvfTmgFsuY</td>\n",
       "      <td id=\"T_e95a7_row6_col1\" class=\"data row6 col1\" >COMPETITION CLOSED. The winner is @abbie__williams! #MobFridayGiveaway.🍾🍋🍏 HUGE @fentimansltd giveaway - a massive gin and tonic prize up for grabs. To win this huge array Gin and Fentiman's flavoured mixers, just:\\n1. Tag your mates who love a g and t! Each new tagged friend counts as a new entry so go wilddddddddd.\\n2. Follow @mobkitchenuk 🍾\\n3. Follow @fentimansltd 🍋\\nYou’ve gotta be over 18 for this one folks. Winner decided Monday. Good luck. #MobKitchen#competition #giveaway #prize #fentimans</td>\n",
       "      <td id=\"T_e95a7_row6_col2\" class=\"data row6 col2\" >31655</td>\n",
       "    </tr>\n",
       "    <tr>\n",
       "      <th id=\"T_e95a7_level0_row7\" class=\"row_heading level0 row7\" >1319985</th>\n",
       "      <td id=\"T_e95a7_row7_col0\" class=\"data row7 col0\" >BtERQw2ALrk</td>\n",
       "      <td id=\"T_e95a7_row7_col1\" class=\"data row7 col1\" >Yeni kaplanım “Cesur” 🐯</td>\n",
       "      <td id=\"T_e95a7_row7_col2\" class=\"data row7 col2\" >29662</td>\n",
       "    </tr>\n",
       "    <tr>\n",
       "      <th id=\"T_e95a7_level0_row8\" class=\"row_heading level0 row8\" >1188069</th>\n",
       "      <td id=\"T_e95a7_row8_col0\" class=\"data row8 col0\" >BaO_mhzlyeI</td>\n",
       "      <td id=\"T_e95a7_row8_col1\" class=\"data row8 col1\" >New security / nueva seguridad 😍</td>\n",
       "      <td id=\"T_e95a7_row8_col2\" class=\"data row8 col2\" >29361</td>\n",
       "    </tr>\n",
       "    <tr>\n",
       "      <th id=\"T_e95a7_level0_row9\" class=\"row_heading level0 row9\" >712304</th>\n",
       "      <td id=\"T_e95a7_row9_col0\" class=\"data row9 col0\" >Bq-INRTlPhO</td>\n",
       "      <td id=\"T_e95a7_row9_col1\" class=\"data row9 col1\" >Cheguei em Muzumuia com a melhor recepção de todas! Mais um ano aprendendo sobre o Amor! ❤🙏 @fraternidadesemfronteiras @andreimoreira</td>\n",
       "      <td id=\"T_e95a7_row9_col2\" class=\"data row9 col2\" >26386</td>\n",
       "    </tr>\n",
       "  </tbody>\n",
       "</table>\n"
      ],
      "text/plain": [
       "<pandas.io.formats.style.Styler at 0x226593cf220>"
      ]
     },
     "metadata": {},
     "output_type": "display_data"
    },
    {
     "data": {
      "text/html": [
       "<style type=\"text/css\">\n",
       "</style>\n",
       "<table id=\"T_0ebef\">\n",
       "  <caption>posts with the least comments</caption>\n",
       "  <thead>\n",
       "    <tr>\n",
       "      <th class=\"blank level0\" >&nbsp;</th>\n",
       "      <th id=\"T_0ebef_level0_col0\" class=\"col_heading level0 col0\" >post_id</th>\n",
       "      <th id=\"T_0ebef_level0_col1\" class=\"col_heading level0 col1\" >description</th>\n",
       "      <th id=\"T_0ebef_level0_col2\" class=\"col_heading level0 col2\" >number_comments</th>\n",
       "    </tr>\n",
       "  </thead>\n",
       "  <tbody>\n",
       "    <tr>\n",
       "      <th id=\"T_0ebef_level0_row0\" class=\"row_heading level0 row0\" >0</th>\n",
       "      <td id=\"T_0ebef_row0_col0\" class=\"data row0 col0\" >BXdjjUlgcgq</td>\n",
       "      <td id=\"T_0ebef_row0_col1\" class=\"data row0 col1\" >Wreckloose! Deevalley bike park laps on the @intensecycles recluse!\\n@alfjonescycles \\n@saddleback_ltd \\n#deevalleybikepark #northwalestrails #ridemoremtb #recluse #bikes #cycling #mtb #bikepark #gopro</td>\n",
       "      <td id=\"T_0ebef_row0_col2\" class=\"data row0 col2\" >0</td>\n",
       "    </tr>\n",
       "    <tr>\n",
       "      <th id=\"T_0ebef_level0_row1\" class=\"row_heading level0 row1\" >1575589</th>\n",
       "      <td id=\"T_0ebef_row1_col0\" class=\"data row1 col0\" >BdAXok1FarK</td>\n",
       "      <td id=\"T_0ebef_row1_col1\" class=\"data row1 col1\" >🍁</td>\n",
       "      <td id=\"T_0ebef_row1_col2\" class=\"data row1 col2\" >0</td>\n",
       "    </tr>\n",
       "    <tr>\n",
       "      <th id=\"T_0ebef_level0_row2\" class=\"row_heading level0 row2\" >722848</th>\n",
       "      <td id=\"T_0ebef_row2_col0\" class=\"data row2 col0\" >ByH2o2EBgeX</td>\n",
       "      <td id=\"T_0ebef_row2_col1\" class=\"data row2 col1\" >Love reexploring this beautiful and historic city all these years later. The intersection of history and modernity is an incredible  thing to experience. \\n#doctorsofinstagram #somedocs @somedocs</td>\n",
       "      <td id=\"T_0ebef_row2_col2\" class=\"data row2 col2\" >0</td>\n",
       "    </tr>\n",
       "    <tr>\n",
       "      <th id=\"T_0ebef_level0_row3\" class=\"row_heading level0 row3\" >722849</th>\n",
       "      <td id=\"T_0ebef_row3_col0\" class=\"data row3 col0\" >ByHz1JXIiNA</td>\n",
       "      <td id=\"T_0ebef_row3_col1\" class=\"data row3 col1\" >Barcelona\\n#aidamomente #aida#aidanova</td>\n",
       "      <td id=\"T_0ebef_row3_col2\" class=\"data row3 col2\" >0</td>\n",
       "    </tr>\n",
       "    <tr>\n",
       "      <th id=\"T_0ebef_level0_row4\" class=\"row_heading level0 row4\" >722850</th>\n",
       "      <td id=\"T_0ebef_row4_col0\" class=\"data row4 col0\" >ByHoBcjnOyU</td>\n",
       "      <td id=\"T_0ebef_row4_col1\" class=\"data row4 col1\" >스페인 바로셀로나 1 #스페인 #바로셀로나 #spain #barcelona</td>\n",
       "      <td id=\"T_0ebef_row4_col2\" class=\"data row4 col2\" >0</td>\n",
       "    </tr>\n",
       "    <tr>\n",
       "      <th id=\"T_0ebef_level0_row5\" class=\"row_heading level0 row5\" >722851</th>\n",
       "      <td id=\"T_0ebef_row5_col0\" class=\"data row5 col0\" >ByHlpcdJwJG</td>\n",
       "      <td id=\"T_0ebef_row5_col1\" class=\"data row5 col1\" >nan</td>\n",
       "      <td id=\"T_0ebef_row5_col2\" class=\"data row5 col2\" >0</td>\n",
       "    </tr>\n",
       "    <tr>\n",
       "      <th id=\"T_0ebef_level0_row6\" class=\"row_heading level0 row6\" >722852</th>\n",
       "      <td id=\"T_0ebef_row6_col0\" class=\"data row6 col0\" >ByGrDNuCLtM</td>\n",
       "      <td id=\"T_0ebef_row6_col1\" class=\"data row6 col1\" >nan</td>\n",
       "      <td id=\"T_0ebef_row6_col2\" class=\"data row6 col2\" >0</td>\n",
       "    </tr>\n",
       "    <tr>\n",
       "      <th id=\"T_0ebef_level0_row7\" class=\"row_heading level0 row7\" >722854</th>\n",
       "      <td id=\"T_0ebef_row7_col0\" class=\"data row7 col0\" >ByGg0EfD8oF</td>\n",
       "      <td id=\"T_0ebef_row7_col1\" class=\"data row7 col1\" >Откуда у тебя вообще убеждение, что бывают «другие разы»? «Раз» – это по определению что-то одно. А второго раза, второго шанса даже в сказках не бывает. Это будет уже совсем другая сказка, если будет вообще!</td>\n",
       "      <td id=\"T_0ebef_row7_col2\" class=\"data row7 col2\" >0</td>\n",
       "    </tr>\n",
       "    <tr>\n",
       "      <th id=\"T_0ebef_level0_row8\" class=\"row_heading level0 row8\" >722856</th>\n",
       "      <td id=\"T_0ebef_row8_col0\" class=\"data row8 col0\" >ByGYU0RpoM6</td>\n",
       "      <td id=\"T_0ebef_row8_col1\" class=\"data row8 col1\" >nan</td>\n",
       "      <td id=\"T_0ebef_row8_col2\" class=\"data row8 col2\" >0</td>\n",
       "    </tr>\n",
       "    <tr>\n",
       "      <th id=\"T_0ebef_level0_row9\" class=\"row_heading level0 row9\" >722858</th>\n",
       "      <td id=\"T_0ebef_row9_col0\" class=\"data row9 col0\" >ByGIP_lCWpl</td>\n",
       "      <td id=\"T_0ebef_row9_col1\" class=\"data row9 col1\" >nan</td>\n",
       "      <td id=\"T_0ebef_row9_col2\" class=\"data row9 col2\" >0</td>\n",
       "    </tr>\n",
       "  </tbody>\n",
       "</table>\n"
      ],
      "text/plain": [
       "<pandas.io.formats.style.Styler at 0x2266f44c250>"
      ]
     },
     "metadata": {},
     "output_type": "display_data"
    }
   ],
   "source": [
    "comments_up_sort = data_posts.sort_values(by = 'number_comments', ascending = False)\n",
    "comments_down_sort = data_posts.sort_values(by = 'number_comments', ascending = True)\n",
    "\n",
    "confronto_comments_up = (comments_up_sort[['post_id','description','number_comments']].head(10)).style.set_caption('posts with the most comments')\n",
    "confronto_comments_down = (comments_down_sort[['post_id','description','number_comments']].head(10)).style.set_caption('posts with the least comments')\n",
    "\n",
    "display(confronto_comments_up)\n",
    "display(confronto_comments_down)"
   ]
  },
  {
   "cell_type": "markdown",
   "id": "62743185",
   "metadata": {
    "id": "62743185"
   },
   "source": [
    "#### - How many posts include tagged locations, and how many do not? Show it using an appropriate chart and comment your results."
   ]
  },
  {
   "cell_type": "code",
   "execution_count": null,
   "id": "5451e1b5",
   "metadata": {
    "id": "5451e1b5"
   },
   "outputs": [],
   "source": []
  },
  {
   "cell_type": "markdown",
   "id": "71d15dba",
   "metadata": {
    "id": "71d15dba"
   },
   "source": [
    "#### - How many posts include only photos? How many also have videos?"
   ]
  },
  {
   "cell_type": "code",
   "execution_count": null,
   "id": "830036d8",
   "metadata": {
    "id": "830036d8",
    "outputId": "a0fb46cd-653d-4403-eb4e-a2b3a3912b6d"
   },
   "outputs": [
    {
     "name": "stdout",
     "output_type": "stream",
     "text": [
      "940326 posts include only photos\n",
      "3 posts include both photos and videos\n"
     ]
    }
   ],
   "source": [
    "print('{} posts include only photos'.format(sum(data_posts['post_type'] == 1)))\n",
    "print('{} posts include both photos and videos'.format(sum(data_posts['post_type'] == 3)))"
   ]
  },
  {
   "cell_type": "markdown",
   "id": "aee10629",
   "metadata": {
    "id": "aee10629"
   },
   "source": [
    "#### - What's the percentage of business accounts vs non-business? What can you interpret regarding that percentage?"
   ]
  },
  {
   "cell_type": "code",
   "execution_count": null,
   "id": "897b9b27",
   "metadata": {
    "id": "897b9b27",
    "outputId": "25f8ea10-8138-4bb5-8a87-81f3416ec8a3"
   },
   "outputs": [
    {
     "name": "stdout",
     "output_type": "stream",
     "text": [
      "18.97% of accounts are business accounts\n",
      "81.03% of accounts are non-business accounts\n"
     ]
    }
   ],
   "source": [
    "n = len(data_profiles)\n",
    "\n",
    "print('{0:.2%} of accounts are business accounts'.format((sum(data_profiles['is_business_account'] == True)/n)))\n",
    "print('{0:.2%} of accounts are non-business accounts'.format((sum(data_profiles['is_business_account'] == False)/n)))"
   ]
  },
  {
   "cell_type": "markdown",
   "id": "cfd195cb",
   "metadata": {
    "id": "cfd195cb"
   },
   "source": [
    "We see how the vast majority of instagram accounts analyzed are non-business accounts (81.03%). The purpose of business acccounts is that of gaining access to promote posts and statistics about your followers, this gives us reason to believe that the majority of instagram users isn't interested in growing a following for monetary reasons, opposed to just having a profile to share their personal life."
   ]
  },
  {
   "cell_type": "markdown",
   "id": "d46b576a",
   "metadata": {
    "id": "d46b576a"
   },
   "source": [
    "## [RQ3] Now it's important to understand the most common times in which users publish their posts. "
   ]
  },
  {
   "cell_type": "code",
   "execution_count": 3,
   "id": "b97f5d62-d352-4f10-8c54-b96cf547db16",
   "metadata": {},
   "outputs": [],
   "source": [
    "import adm2"
   ]
  },
  {
   "cell_type": "markdown",
   "id": "f2d86603",
   "metadata": {
    "id": "f2d86603"
   },
   "source": [
    "#### - What is the most common time in which users publish their posts?"
   ]
  },
  {
   "cell_type": "code",
   "execution_count": 2,
   "id": "d0eab0d7-21da-4e6d-ac92-964bdad70625",
   "metadata": {},
   "outputs": [
    {
     "name": "stdout",
     "output_type": "stream",
     "text": [
      "Help on function common_time in module adm2:\n",
      "\n",
      "common_time(chunksize=5000)\n",
      "    RQ3\n",
      "    description:\n",
      "        1) What is the most common time in which users publish their posts?\n",
      "    params:\n",
      "        - chunksize: size of dataset to compute.\n",
      "    output:\n",
      "        the most common time interval and number of posts in that interval\n",
      "\n"
     ]
    }
   ],
   "source": [
    "help(adm2.common_time)"
   ]
  },
  {
   "cell_type": "code",
   "execution_count": 3,
   "id": "c43f9f47",
   "metadata": {
    "id": "c43f9f47"
   },
   "outputs": [
    {
     "name": "stdout",
     "output_type": "stream",
     "text": [
      "20:00:00 - 20:59:59: 313 posts\n"
     ]
    }
   ],
   "source": [
    "adm2.common_time()"
   ]
  },
  {
   "cell_type": "markdown",
   "id": "5d5d0d94",
   "metadata": {
    "id": "5d5d0d94"
   },
   "source": [
    "#### Create a function that receives a time intervals list as a parameter and returns a plot with the number of posts for each given interval."
   ]
  },
  {
   "cell_type": "code",
   "execution_count": 4,
   "id": "294db26d-0040-44c0-904b-5643b50ccee9",
   "metadata": {},
   "outputs": [
    {
     "name": "stdout",
     "output_type": "stream",
     "text": [
      "Help on function plot_intervals_posts in module adm2:\n",
      "\n",
      "plot_intervals_posts(intervals, chunksize=5000)\n",
      "    RQ3\n",
      "    description:\n",
      "        2) Plot the number of posts for each given time interval.\n",
      "    params:\n",
      "        - intervals: list of time intervals;\n",
      "        - chunksize: size of dataset to compute.\n",
      "    output:\n",
      "        plot with the number of posts for each given interval.\n",
      "\n"
     ]
    }
   ],
   "source": [
    "help(adm2.plot_intervals_posts)"
   ]
  },
  {
   "cell_type": "markdown",
   "id": "dfc50083",
   "metadata": {
    "id": "dfc50083"
   },
   "source": [
    "#### Use the function that you created in the previous literal to plot the number of posts between the following time intervals:\n",
    "\n",
    "**Initial time \tFinal time**  \n",
    "**06:00:00 \t10:59:59**  \n",
    "**14:00:00 \t16:59:59**  \n",
    "**20:00:00 \t23:59:59**  \n",
    "**00:00:00 \t02:59:59**  \n",
    "**03:00:00 \t05:59:59**  "
   ]
  },
  {
   "cell_type": "code",
   "execution_count": 4,
   "id": "92f2e490",
   "metadata": {
    "id": "92f2e490"
   },
   "outputs": [
    {
     "name": "stdout",
     "output_type": "stream",
     "text": [
      "Number of posts in time interval:\n",
      "1 interval: 06:00:00 - 10:59:59 => 7319 posts\n",
      "2 interval: 11:00:00 - 13:59:59 => 6345 posts\n",
      "3 interval: 14:00:00 - 16:59:59 => 7728 posts\n",
      "4 interval: 17:00:00 - 19:59:59 => 8598 posts\n",
      "5 interval: 20:00:00 - 23:59:59 => 10368 posts\n",
      "6 interval: 00:00:00 - 02:59:59 => 5172 posts\n",
      "7 interval: 03:00:00 - 05:59:59 => 4468 posts\n"
     ]
    },
    {
     "data": {
      "image/png": "[encoded data removed]",
      "text/plain": [
       "<Figure size 640x480 with 1 Axes>"
      ]
     },
     "metadata": {},
     "output_type": "display_data"
    }
   ],
   "source": [
    "intervals = [\n",
    "            ['06:00:00', '10:59:59'],\n",
    "            ['11:00:00', '13:59:59'],\n",
    "            ['14:00:00', '16:59:59'],\n",
    "            ['17:00:00', '19:59:59'],\n",
    "            ['20:00:00', '23:59:59'],\n",
    "            ['00:00:00', '02:59:59'],\n",
    "            ['03:00:00', '05:59:59']\n",
    "]\n",
    "adm2.plot_intervals_posts(intervals, 50000)"
   ]
  },
  {
   "cell_type": "markdown",
   "id": "8430206f",
   "metadata": {
    "id": "8430206f"
   },
   "source": [
    "## [RQ4] In most cases, we will not have a consistent dataset, and the one we are dealing with is not an exception (ex. in the given datasets, you may not find the information of the profiles for some of the posts). So let’s enhance our analysis."
   ]
  },
  {
   "cell_type": "markdown",
   "id": "ae3a3236",
   "metadata": {
    "id": "ae3a3236"
   },
   "source": [
    "#### - Write a function that, given a profile_id, will be able to return the posts that belong to the given profile_id."
   ]
  },
  {
   "cell_type": "code",
   "execution_count": 6,
   "id": "7012a847-20d1-4111-96e0-d94276251c36",
   "metadata": {},
   "outputs": [
    {
     "name": "stdout",
     "output_type": "stream",
     "text": [
      "Help on function findPostsByProfileId in module adm2:\n",
      "\n",
      "findPostsByProfileId(profile_id, chunksize=5000)\n",
      "    RQ4\n",
      "    description:\n",
      "        1) Searching the posts by user (profile_id).\n",
      "    params:\n",
      "        - profile_id: user profile id;\n",
      "        - chunksize: size of dataset to compute.\n",
      "    return:\n",
      "        posts that belong to the given profile_id or message about its absence.\n",
      "\n"
     ]
    }
   ],
   "source": [
    "help(adm2.findPostsByProfileId)"
   ]
  },
  {
   "cell_type": "code",
   "execution_count": 7,
   "id": "966fab0b",
   "metadata": {
    "id": "966fab0b"
   },
   "outputs": [
    {
     "name": "stdout",
     "output_type": "stream",
     "text": [
      "Profile ID: 223794779 => profile does not have any posts\n"
     ]
    }
   ],
   "source": [
    "# profile that doesn't have any posts\n",
    "adm2.findPostsByProfileId(223794779)"
   ]
  },
  {
   "cell_type": "code",
   "execution_count": 8,
   "id": "c02a5958-5b51-407a-99e4-e0d18d44960f",
   "metadata": {
    "id": "966fab0b"
   },
   "outputs": [
    {
     "name": "stdout",
     "output_type": "stream",
     "text": [
      "Profile ID: 2237947779 => 1 posts\n"
     ]
    },
    {
     "data": {
      "text/html": [
       "<div>\n",
       "<style scoped>\n",
       "    .dataframe tbody tr th:only-of-type {\n",
       "        vertical-align: middle;\n",
       "    }\n",
       "\n",
       "    .dataframe tbody tr th {\n",
       "        vertical-align: top;\n",
       "    }\n",
       "\n",
       "    .dataframe thead th {\n",
       "        text-align: right;\n",
       "    }\n",
       "</style>\n",
       "<table border=\"1\" class=\"dataframe\">\n",
       "  <thead>\n",
       "    <tr style=\"text-align: right;\">\n",
       "      <th></th>\n",
       "      <th>post_id</th>\n",
       "      <th>profile_id</th>\n",
       "      <th>cts</th>\n",
       "      <th>post_type</th>\n",
       "      <th>description</th>\n",
       "      <th>numbr_likes</th>\n",
       "      <th>number_comments</th>\n",
       "    </tr>\n",
       "  </thead>\n",
       "  <tbody>\n",
       "    <tr>\n",
       "      <th>0</th>\n",
       "      <td>BXdjjUlgcgq</td>\n",
       "      <td>2237947779</td>\n",
       "      <td>2017-08-06 20:06:57.000</td>\n",
       "      <td>2</td>\n",
       "      <td>Wreckloose! Deevalley bike park laps on the @i...</td>\n",
       "      <td>80</td>\n",
       "      <td>0</td>\n",
       "    </tr>\n",
       "  </tbody>\n",
       "</table>\n",
       "</div>"
      ],
      "text/plain": [
       "       post_id  profile_id                      cts  post_type  \\\n",
       "0  BXdjjUlgcgq  2237947779  2017-08-06 20:06:57.000          2   \n",
       "\n",
       "                                         description  numbr_likes  \\\n",
       "0  Wreckloose! Deevalley bike park laps on the @i...           80   \n",
       "\n",
       "   number_comments  \n",
       "0                0  "
      ]
     },
     "execution_count": 8,
     "metadata": {},
     "output_type": "execute_result"
    }
   ],
   "source": [
    "# profile that has posts\n",
    "adm2.findPostsByProfileId(2237947779)"
   ]
  },
  {
   "cell_type": "markdown",
   "id": "a17767a0",
   "metadata": {
    "id": "a17767a0"
   },
   "source": [
    "#### - Write another function that, given an input n (an integer), will return the posts that belong to the n top posted profiles (top n profiles that have posted the highest number of posts) that their data is available in the profile.csv using the previously written function."
   ]
  },
  {
   "cell_type": "code",
   "execution_count": 9,
   "id": "62009e96-11ca-4c0a-9b44-5406caa347b3",
   "metadata": {},
   "outputs": [
    {
     "name": "stdout",
     "output_type": "stream",
     "text": [
      "Help on function posts_of_top_profiles in module adm2:\n",
      "\n",
      "posts_of_top_profiles(n, chunksize=5000)\n",
      "    description:\n",
      "        Searching for top n profiles' posts.\n",
      "    params:\n",
      "        - n: number of top profiles;\n",
      "        - chunksize: size of dataset to compute.\n",
      "    return:\n",
      "        posts of top n profiles.\n",
      "\n"
     ]
    }
   ],
   "source": [
    "help(adm2.posts_of_top_profiles)"
   ]
  },
  {
   "cell_type": "code",
   "execution_count": 10,
   "id": "5835ce43",
   "metadata": {
    "id": "5835ce43"
   },
   "outputs": [
    {
     "name": "stdout",
     "output_type": "stream",
     "text": [
      "Profile ID: 4048041553 => 32 posts\n",
      "Profile ID: 1475495653 => 27 posts\n"
     ]
    },
    {
     "data": {
      "text/html": [
       "<div>\n",
       "<style scoped>\n",
       "    .dataframe tbody tr th:only-of-type {\n",
       "        vertical-align: middle;\n",
       "    }\n",
       "\n",
       "    .dataframe tbody tr th {\n",
       "        vertical-align: top;\n",
       "    }\n",
       "\n",
       "    .dataframe thead th {\n",
       "        text-align: right;\n",
       "    }\n",
       "</style>\n",
       "<table border=\"1\" class=\"dataframe\">\n",
       "  <thead>\n",
       "    <tr style=\"text-align: right;\">\n",
       "      <th></th>\n",
       "      <th>post_id</th>\n",
       "      <th>profile_id</th>\n",
       "      <th>cts</th>\n",
       "      <th>post_type</th>\n",
       "      <th>description</th>\n",
       "      <th>numbr_likes</th>\n",
       "      <th>number_comments</th>\n",
       "    </tr>\n",
       "  </thead>\n",
       "  <tbody>\n",
       "    <tr>\n",
       "      <th>5289</th>\n",
       "      <td>Bie10T0ATk8</td>\n",
       "      <td>4048041553</td>\n",
       "      <td>2018-05-07 17:51:07.000</td>\n",
       "      <td>1</td>\n",
       "      <td>Don't forget to use a KLAFS sauna after your w...</td>\n",
       "      <td>51</td>\n",
       "      <td>0</td>\n",
       "    </tr>\n",
       "    <tr>\n",
       "      <th>5290</th>\n",
       "      <td>BiMg_vhA5EX</td>\n",
       "      <td>4048041553</td>\n",
       "      <td>2018-04-30 15:02:51.000</td>\n",
       "      <td>1</td>\n",
       "      <td>There is nothing better than a KLAFS sauna wit...</td>\n",
       "      <td>49</td>\n",
       "      <td>0</td>\n",
       "    </tr>\n",
       "    <tr>\n",
       "      <th>5293</th>\n",
       "      <td>Bx974UqAe8c</td>\n",
       "      <td>4048041553</td>\n",
       "      <td>2019-05-27 15:31:28.000</td>\n",
       "      <td>1</td>\n",
       "      <td>Enjoy in the most extraordinary hotel - right ...</td>\n",
       "      <td>42</td>\n",
       "      <td>2</td>\n",
       "    </tr>\n",
       "    <tr>\n",
       "      <th>5300</th>\n",
       "      <td>BgiugHxFCN7</td>\n",
       "      <td>4048041553</td>\n",
       "      <td>2018-03-20 12:01:23.000</td>\n",
       "      <td>1</td>\n",
       "      <td>Forest sauna with tree trunk panelling on the ...</td>\n",
       "      <td>49</td>\n",
       "      <td>0</td>\n",
       "    </tr>\n",
       "    <tr>\n",
       "      <th>5301</th>\n",
       "      <td>BdR1Z8wDf0D</td>\n",
       "      <td>4048041553</td>\n",
       "      <td>2017-12-29 09:00:26.000</td>\n",
       "      <td>1</td>\n",
       "      <td>KLAFS cold plunges are an excellent way of coo...</td>\n",
       "      <td>50</td>\n",
       "      <td>0</td>\n",
       "    </tr>\n",
       "    <tr>\n",
       "      <th>5302</th>\n",
       "      <td>BpT9hxkFBuJ</td>\n",
       "      <td>4048041553</td>\n",
       "      <td>2018-10-24 12:06:37.000</td>\n",
       "      <td>1</td>\n",
       "      <td>Everyone deserves moments of pure relaxation. ...</td>\n",
       "      <td>44</td>\n",
       "      <td>0</td>\n",
       "    </tr>\n",
       "    <tr>\n",
       "      <th>5303</th>\n",
       "      <td>BjcVYMXnPKY</td>\n",
       "      <td>4048041553</td>\n",
       "      <td>2018-05-31 15:00:35.000</td>\n",
       "      <td>1</td>\n",
       "      <td>KLAFS sauna you will never forget! âºï¸ #kal...</td>\n",
       "      <td>43</td>\n",
       "      <td>0</td>\n",
       "    </tr>\n",
       "    <tr>\n",
       "      <th>5304</th>\n",
       "      <td>BqFd6T6FaSE</td>\n",
       "      <td>4048041553</td>\n",
       "      <td>2018-11-12 16:32:22.000</td>\n",
       "      <td>1</td>\n",
       "      <td>During a winter getaway at Sportresidenz Zille...</td>\n",
       "      <td>43</td>\n",
       "      <td>0</td>\n",
       "    </tr>\n",
       "    <tr>\n",
       "      <th>5305</th>\n",
       "      <td>BiUeEuqAo1c</td>\n",
       "      <td>4048041553</td>\n",
       "      <td>2018-05-03 17:11:15.000</td>\n",
       "      <td>1</td>\n",
       "      <td>Sauna with illuminated and integrated salt wal...</td>\n",
       "      <td>39</td>\n",
       "      <td>1</td>\n",
       "    </tr>\n",
       "    <tr>\n",
       "      <th>5307</th>\n",
       "      <td>Bx2HdSAgWLr</td>\n",
       "      <td>4048041553</td>\n",
       "      <td>2019-05-24 14:38:43.000</td>\n",
       "      <td>1</td>\n",
       "      <td>The charming sauna house Wassermann in Tannhei...</td>\n",
       "      <td>36</td>\n",
       "      <td>0</td>\n",
       "    </tr>\n",
       "    <tr>\n",
       "      <th>5308</th>\n",
       "      <td>Bxq0unhDhOr</td>\n",
       "      <td>4048041553</td>\n",
       "      <td>2019-05-20 05:23:24.000</td>\n",
       "      <td>1</td>\n",
       "      <td>Spacious KLAFS steam baths are the perfect way...</td>\n",
       "      <td>57</td>\n",
       "      <td>1</td>\n",
       "    </tr>\n",
       "    <tr>\n",
       "      <th>5309</th>\n",
       "      <td>BxlwhSZjWCB</td>\n",
       "      <td>4048041553</td>\n",
       "      <td>2019-05-18 06:10:26.000</td>\n",
       "      <td>1</td>\n",
       "      <td>A family sauna offer moments of relaxation and...</td>\n",
       "      <td>55</td>\n",
       "      <td>2</td>\n",
       "    </tr>\n",
       "    <tr>\n",
       "      <th>5310</th>\n",
       "      <td>BxhkGCzAsOW</td>\n",
       "      <td>4048041553</td>\n",
       "      <td>2019-05-16 15:04:54.000</td>\n",
       "      <td>1</td>\n",
       "      <td>Charming and spacious KLAFS sauna design. #kla...</td>\n",
       "      <td>38</td>\n",
       "      <td>0</td>\n",
       "    </tr>\n",
       "    <tr>\n",
       "      <th>5311</th>\n",
       "      <td>BxeG5NfgOpn</td>\n",
       "      <td>4048041553</td>\n",
       "      <td>2019-05-15 06:52:01.000</td>\n",
       "      <td>1</td>\n",
       "      <td>Pure indulgence for body and soul: bathing in ...</td>\n",
       "      <td>42</td>\n",
       "      <td>3</td>\n",
       "    </tr>\n",
       "    <tr>\n",
       "      <th>5312</th>\n",
       "      <td>BxbkdXwgefk</td>\n",
       "      <td>4048041553</td>\n",
       "      <td>2019-05-14 07:12:38.000</td>\n",
       "      <td>1</td>\n",
       "      <td>A private infrared sauna with a spectacular vi...</td>\n",
       "      <td>31</td>\n",
       "      <td>0</td>\n",
       "    </tr>\n",
       "    <tr>\n",
       "      <th>5313</th>\n",
       "      <td>Bs7NLRkl-uQ</td>\n",
       "      <td>4048041553</td>\n",
       "      <td>2019-01-22 06:27:55.000</td>\n",
       "      <td>1</td>\n",
       "      <td>Perfect place for relaxation and rejuvenation ...</td>\n",
       "      <td>46</td>\n",
       "      <td>0</td>\n",
       "    </tr>\n",
       "    <tr>\n",
       "      <th>5314</th>\n",
       "      <td>BxZ1YjdgZVs</td>\n",
       "      <td>4048041553</td>\n",
       "      <td>2019-05-13 15:02:03.000</td>\n",
       "      <td>1</td>\n",
       "      <td>The comfortable spa area offers activity and r...</td>\n",
       "      <td>65</td>\n",
       "      <td>2</td>\n",
       "    </tr>\n",
       "    <tr>\n",
       "      <th>5315</th>\n",
       "      <td>BxMF2D-gaKD</td>\n",
       "      <td>4048041553</td>\n",
       "      <td>2019-05-08 06:56:31.000</td>\n",
       "      <td>1</td>\n",
       "      <td>Directly in the Arlberg ski area 1,750m in the...</td>\n",
       "      <td>39</td>\n",
       "      <td>2</td>\n",
       "    </tr>\n",
       "    <tr>\n",
       "      <th>5316</th>\n",
       "      <td>BxG794FA0p4</td>\n",
       "      <td>4048041553</td>\n",
       "      <td>2019-05-06 06:54:00.000</td>\n",
       "      <td>1</td>\n",
       "      <td>Enjoy the comfort of the specialÂ sauna area w...</td>\n",
       "      <td>37</td>\n",
       "      <td>0</td>\n",
       "    </tr>\n",
       "    <tr>\n",
       "      <th>5317</th>\n",
       "      <td>BxCyQs4gfxl</td>\n",
       "      <td>4048041553</td>\n",
       "      <td>2019-05-04 16:12:14.000</td>\n",
       "      <td>1</td>\n",
       "      <td>The traditional Falkensteiner Hotels in South ...</td>\n",
       "      <td>71</td>\n",
       "      <td>1</td>\n",
       "    </tr>\n",
       "    <tr>\n",
       "      <th>5318</th>\n",
       "      <td>Bw6-AFhgaH5</td>\n",
       "      <td>4048041553</td>\n",
       "      <td>2019-05-01 15:20:53.000</td>\n",
       "      <td>1</td>\n",
       "      <td>The modern holiday home \"im Franzerl\" on the W...</td>\n",
       "      <td>43</td>\n",
       "      <td>0</td>\n",
       "    </tr>\n",
       "    <tr>\n",
       "      <th>5319</th>\n",
       "      <td>Bwn0dIpA2iD</td>\n",
       "      <td>4048041553</td>\n",
       "      <td>2019-04-24 04:51:54.000</td>\n",
       "      <td>1</td>\n",
       "      <td>Enjoy KLAFS infrared heat cabin - a deeply war...</td>\n",
       "      <td>28</td>\n",
       "      <td>1</td>\n",
       "    </tr>\n",
       "    <tr>\n",
       "      <th>5320</th>\n",
       "      <td>BwkX5MSg3GL</td>\n",
       "      <td>4048041553</td>\n",
       "      <td>2019-04-22 20:44:36.000</td>\n",
       "      <td>1</td>\n",
       "      <td>Relax and wind down at new 100 mÂ² A'RUE Panor...</td>\n",
       "      <td>37</td>\n",
       "      <td>1</td>\n",
       "    </tr>\n",
       "    <tr>\n",
       "      <th>5321</th>\n",
       "      <td>BwbL6xCgGJC</td>\n",
       "      <td>4048041553</td>\n",
       "      <td>2019-04-19 07:06:48.000</td>\n",
       "      <td>1</td>\n",
       "      <td>Still not sweated enough? ð¦Then take yourse...</td>\n",
       "      <td>52</td>\n",
       "      <td>0</td>\n",
       "    </tr>\n",
       "    <tr>\n",
       "      <th>5322</th>\n",
       "      <td>BwV8od6gBhD</td>\n",
       "      <td>4048041553</td>\n",
       "      <td>2019-04-17 06:17:02.000</td>\n",
       "      <td>1</td>\n",
       "      <td>In the spacious spa area you can not only rela...</td>\n",
       "      <td>33</td>\n",
       "      <td>0</td>\n",
       "    </tr>\n",
       "    <tr>\n",
       "      <th>5323</th>\n",
       "      <td>BtAcx3LFCwL</td>\n",
       "      <td>4048041553</td>\n",
       "      <td>2019-01-24 07:20:27.000</td>\n",
       "      <td>1</td>\n",
       "      <td>Charming and spacious KLAFS sauna design. #kla...</td>\n",
       "      <td>31</td>\n",
       "      <td>0</td>\n",
       "    </tr>\n",
       "    <tr>\n",
       "      <th>5324</th>\n",
       "      <td>Bszd1k7lSi3</td>\n",
       "      <td>4048041553</td>\n",
       "      <td>2019-01-19 06:19:34.000</td>\n",
       "      <td>1</td>\n",
       "      <td>The Wellness Hotel Nidum will make you feel li...</td>\n",
       "      <td>31</td>\n",
       "      <td>0</td>\n",
       "    </tr>\n",
       "    <tr>\n",
       "      <th>5325</th>\n",
       "      <td>BsuVE3XFiQZ</td>\n",
       "      <td>4048041553</td>\n",
       "      <td>2019-01-17 06:26:49.000</td>\n",
       "      <td>1</td>\n",
       "      <td>To sweat and enjoy after a sporty day in Muire...</td>\n",
       "      <td>32</td>\n",
       "      <td>0</td>\n",
       "    </tr>\n",
       "    <tr>\n",
       "      <th>5326</th>\n",
       "      <td>Bsq_N53lETA</td>\n",
       "      <td>4048041553</td>\n",
       "      <td>2019-01-15 23:18:05.000</td>\n",
       "      <td>1</td>\n",
       "      <td>NIDUM - luxurious, fresh, different. ðð»W...</td>\n",
       "      <td>36</td>\n",
       "      <td>0</td>\n",
       "    </tr>\n",
       "    <tr>\n",
       "      <th>5327</th>\n",
       "      <td>BrrWoCBFD4I</td>\n",
       "      <td>4048041553</td>\n",
       "      <td>2018-12-22 06:11:14.000</td>\n",
       "      <td>1</td>\n",
       "      <td>A wonderful KLAFS sauna to relax.âºï¸ðð...</td>\n",
       "      <td>29</td>\n",
       "      <td>0</td>\n",
       "    </tr>\n",
       "    <tr>\n",
       "      <th>5328</th>\n",
       "      <td>BqcpaGIlt8p</td>\n",
       "      <td>4048041553</td>\n",
       "      <td>2018-11-21 16:35:22.000</td>\n",
       "      <td>1</td>\n",
       "      <td>This SPA design goal was to create it that it ...</td>\n",
       "      <td>38</td>\n",
       "      <td>0</td>\n",
       "    </tr>\n",
       "    <tr>\n",
       "      <th>5329</th>\n",
       "      <td>BqXfrrEl4KI</td>\n",
       "      <td>4048041553</td>\n",
       "      <td>2018-11-19 16:34:11.000</td>\n",
       "      <td>1</td>\n",
       "      <td>The traditional sports and SPA hotel combines ...</td>\n",
       "      <td>50</td>\n",
       "      <td>0</td>\n",
       "    </tr>\n",
       "    <tr>\n",
       "      <th>2572</th>\n",
       "      <td>241fGTijjU</td>\n",
       "      <td>1475495653</td>\n",
       "      <td>2015-05-20 05:07:08.000</td>\n",
       "      <td>1</td>\n",
       "      <td>I am in love with this beautiful color!!!! Tha...</td>\n",
       "      <td>37</td>\n",
       "      <td>7</td>\n",
       "    </tr>\n",
       "    <tr>\n",
       "      <th>2573</th>\n",
       "      <td>BKSBZtsDc6b</td>\n",
       "      <td>1475495653</td>\n",
       "      <td>2016-09-13 05:48:46.000</td>\n",
       "      <td>1</td>\n",
       "      <td>#Target #Ulta #Haul \\nSamples and sales and ne...</td>\n",
       "      <td>65</td>\n",
       "      <td>3</td>\n",
       "    </tr>\n",
       "    <tr>\n",
       "      <th>2608</th>\n",
       "      <td>8cW4Fxijme</td>\n",
       "      <td>1475495653</td>\n",
       "      <td>2015-10-05 06:49:18.000</td>\n",
       "      <td>1</td>\n",
       "      <td>#manimonday shout out to this fun color I rece...</td>\n",
       "      <td>24</td>\n",
       "      <td>3</td>\n",
       "    </tr>\n",
       "    <tr>\n",
       "      <th>2609</th>\n",
       "      <td>8bZHzjCjpM</td>\n",
       "      <td>1475495653</td>\n",
       "      <td>2015-10-04 21:49:41.000</td>\n",
       "      <td>1</td>\n",
       "      <td>First @gerardcosmetics purchase and I'm in ð...</td>\n",
       "      <td>24</td>\n",
       "      <td>3</td>\n",
       "    </tr>\n",
       "    <tr>\n",
       "      <th>2610</th>\n",
       "      <td>BlbP4PbH0X1</td>\n",
       "      <td>1475495653</td>\n",
       "      <td>2018-07-19 21:56:04.000</td>\n",
       "      <td>1</td>\n",
       "      <td>How stunning is this bride?! Thank you Nicolle...</td>\n",
       "      <td>46</td>\n",
       "      <td>3</td>\n",
       "    </tr>\n",
       "    <tr>\n",
       "      <th>2611</th>\n",
       "      <td>Bk4mJN3HgFV</td>\n",
       "      <td>1475495653</td>\n",
       "      <td>2018-07-06 10:57:13.000</td>\n",
       "      <td>1</td>\n",
       "      <td>I'm in another AWESOME campaign!!! Come to me,...</td>\n",
       "      <td>26</td>\n",
       "      <td>2</td>\n",
       "    </tr>\n",
       "    <tr>\n",
       "      <th>2612</th>\n",
       "      <td>BiMh8gNn8wd</td>\n",
       "      <td>1475495653</td>\n",
       "      <td>2018-04-30 15:11:09.000</td>\n",
       "      <td>1</td>\n",
       "      <td>SHAKEUP YOUR MAKEUP 1ST GIVEAWAY\\n\\nRULES TO E...</td>\n",
       "      <td>10</td>\n",
       "      <td>1</td>\n",
       "    </tr>\n",
       "    <tr>\n",
       "      <th>2613</th>\n",
       "      <td>BclicEOlCBZ</td>\n",
       "      <td>1475495653</td>\n",
       "      <td>2017-12-12 04:08:07.000</td>\n",
       "      <td>1</td>\n",
       "      <td>I have a challenge for you @masked_mua!  Post ...</td>\n",
       "      <td>18</td>\n",
       "      <td>1</td>\n",
       "    </tr>\n",
       "    <tr>\n",
       "      <th>2615</th>\n",
       "      <td>BZSW3SKlTda</td>\n",
       "      <td>1475495653</td>\n",
       "      <td>2017-09-21 04:47:13.000</td>\n",
       "      <td>1</td>\n",
       "      <td>Stalking the #sephorarewardsbazaar every Tuesd...</td>\n",
       "      <td>18</td>\n",
       "      <td>0</td>\n",
       "    </tr>\n",
       "    <tr>\n",
       "      <th>2616</th>\n",
       "      <td>BZAAUNIlwyC</td>\n",
       "      <td>1475495653</td>\n",
       "      <td>2017-09-14 01:43:51.000</td>\n",
       "      <td>1</td>\n",
       "      <td>This #sayiloveyou #drbrandt campaign is amazin...</td>\n",
       "      <td>12</td>\n",
       "      <td>1</td>\n",
       "    </tr>\n",
       "    <tr>\n",
       "      <th>2617</th>\n",
       "      <td>BSdJUZfFqsp</td>\n",
       "      <td>1475495653</td>\n",
       "      <td>2017-04-04 09:40:45.000</td>\n",
       "      <td>1</td>\n",
       "      <td>Still my fave!  @boxycharm never fails me! \\n#...</td>\n",
       "      <td>30</td>\n",
       "      <td>2</td>\n",
       "    </tr>\n",
       "    <tr>\n",
       "      <th>2618</th>\n",
       "      <td>BI3M8ewD1ND</td>\n",
       "      <td>1475495653</td>\n",
       "      <td>2016-08-08 23:18:45.000</td>\n",
       "      <td>1</td>\n",
       "      <td>THIS CONTEST IS AMAZING AND I SOOOOOOOOOOOO NE...</td>\n",
       "      <td>23</td>\n",
       "      <td>1</td>\n",
       "    </tr>\n",
       "    <tr>\n",
       "      <th>2620</th>\n",
       "      <td>BXb0aEslEOM</td>\n",
       "      <td>1475495653</td>\n",
       "      <td>2017-08-06 03:55:45.000</td>\n",
       "      <td>1</td>\n",
       "      <td>I took advantage of the sale @benefitcosmetics...</td>\n",
       "      <td>26</td>\n",
       "      <td>1</td>\n",
       "    </tr>\n",
       "    <tr>\n",
       "      <th>2621</th>\n",
       "      <td>BWTzMPtFAPf</td>\n",
       "      <td>1475495653</td>\n",
       "      <td>2017-07-09 04:39:48.000</td>\n",
       "      <td>1</td>\n",
       "      <td>The #summerwalmartbeautybox is here!  Such a b...</td>\n",
       "      <td>23</td>\n",
       "      <td>2</td>\n",
       "    </tr>\n",
       "    <tr>\n",
       "      <th>2622</th>\n",
       "      <td>BV5xiKZFAIV</td>\n",
       "      <td>1475495653</td>\n",
       "      <td>2017-06-29 02:05:04.000</td>\n",
       "      <td>1</td>\n",
       "      <td>She has arrived!  I finally get to play with #...</td>\n",
       "      <td>31</td>\n",
       "      <td>4</td>\n",
       "    </tr>\n",
       "    <tr>\n",
       "      <th>2623</th>\n",
       "      <td>BVnqcLqFgV5</td>\n",
       "      <td>1475495653</td>\n",
       "      <td>2017-06-22 01:16:45.000</td>\n",
       "      <td>1</td>\n",
       "      <td>Ok @coffeebreakwithdani I'm trusting you girl!...</td>\n",
       "      <td>25</td>\n",
       "      <td>1</td>\n",
       "    </tr>\n",
       "    <tr>\n",
       "      <th>2624</th>\n",
       "      <td>BTPCdvfllV-</td>\n",
       "      <td>1475495653</td>\n",
       "      <td>2017-04-23 18:42:53.000</td>\n",
       "      <td>1</td>\n",
       "      <td>@origins Modern Friction is my new holy grail ...</td>\n",
       "      <td>20</td>\n",
       "      <td>0</td>\n",
       "    </tr>\n",
       "    <tr>\n",
       "      <th>2625</th>\n",
       "      <td>BTHyr7DFE_d</td>\n",
       "      <td>1475495653</td>\n",
       "      <td>2017-04-20 23:10:19.000</td>\n",
       "      <td>1</td>\n",
       "      <td>#TBT TO THAT TIME I MADE VIB ROUGE\\n#VIBROUGE ...</td>\n",
       "      <td>21</td>\n",
       "      <td>1</td>\n",
       "    </tr>\n",
       "    <tr>\n",
       "      <th>2626</th>\n",
       "      <td>BS2h5Z5Fp4L</td>\n",
       "      <td>1475495653</td>\n",
       "      <td>2017-04-14 06:16:31.000</td>\n",
       "      <td>1</td>\n",
       "      <td>APRIL BOXYCHARM  #BOHOGLOW\\nOh @boxycharm, you...</td>\n",
       "      <td>27</td>\n",
       "      <td>1</td>\n",
       "    </tr>\n",
       "    <tr>\n",
       "      <th>2627</th>\n",
       "      <td>BSl-lf5llD4</td>\n",
       "      <td>1475495653</td>\n",
       "      <td>2017-04-07 20:00:07.000</td>\n",
       "      <td>1</td>\n",
       "      <td>March @sephora Play #GlowYourOwnWay  #sephora ...</td>\n",
       "      <td>30</td>\n",
       "      <td>3</td>\n",
       "    </tr>\n",
       "    <tr>\n",
       "      <th>2628</th>\n",
       "      <td>BSkZk9xlqu3</td>\n",
       "      <td>1475495653</td>\n",
       "      <td>2017-04-07 05:17:30.000</td>\n",
       "      <td>1</td>\n",
       "      <td>Here are the swatches of the lipliner and matt...</td>\n",
       "      <td>13</td>\n",
       "      <td>0</td>\n",
       "    </tr>\n",
       "    <tr>\n",
       "      <th>2629</th>\n",
       "      <td>BSZhoNSleyH</td>\n",
       "      <td>1475495653</td>\n",
       "      <td>2017-04-02 23:56:12.000</td>\n",
       "      <td>1</td>\n",
       "      <td>I am such a fan of @origins and excited to be ...</td>\n",
       "      <td>25</td>\n",
       "      <td>0</td>\n",
       "    </tr>\n",
       "    <tr>\n",
       "      <th>2630</th>\n",
       "      <td>BPBtdQjB1fe</td>\n",
       "      <td>1475495653</td>\n",
       "      <td>2017-01-09 03:23:36.000</td>\n",
       "      <td>1</td>\n",
       "      <td>The #walmartbeautybox in #trendsetter is alway...</td>\n",
       "      <td>19</td>\n",
       "      <td>1</td>\n",
       "    </tr>\n",
       "    <tr>\n",
       "      <th>2632</th>\n",
       "      <td>BMKxdHBhunp</td>\n",
       "      <td>1475495653</td>\n",
       "      <td>2016-10-30 02:17:31.000</td>\n",
       "      <td>1</td>\n",
       "      <td>Sometimes you just have to treat yourself.  An...</td>\n",
       "      <td>47</td>\n",
       "      <td>5</td>\n",
       "    </tr>\n",
       "    <tr>\n",
       "      <th>2633</th>\n",
       "      <td>BH6bjsujbaB</td>\n",
       "      <td>1475495653</td>\n",
       "      <td>2016-07-16 08:52:46.000</td>\n",
       "      <td>1</td>\n",
       "      <td>#anubismysterybox \\n#giveaway \\n#contest \\n#sh...</td>\n",
       "      <td>18</td>\n",
       "      <td>0</td>\n",
       "    </tr>\n",
       "    <tr>\n",
       "      <th>2634</th>\n",
       "      <td>BHapyWFj4te</td>\n",
       "      <td>1475495653</td>\n",
       "      <td>2016-07-04 00:41:24.000</td>\n",
       "      <td>1</td>\n",
       "      <td>These polishes are great and @mallory1712 is o...</td>\n",
       "      <td>15</td>\n",
       "      <td>0</td>\n",
       "    </tr>\n",
       "    <tr>\n",
       "      <th>2635</th>\n",
       "      <td>BHIP2fNjZE7</td>\n",
       "      <td>1475495653</td>\n",
       "      <td>2016-06-26 21:08:26.000</td>\n",
       "      <td>1</td>\n",
       "      <td>#truth #dreamcatcher</td>\n",
       "      <td>12</td>\n",
       "      <td>3</td>\n",
       "    </tr>\n",
       "  </tbody>\n",
       "</table>\n",
       "</div>"
      ],
      "text/plain": [
       "          post_id  profile_id                      cts  post_type  \\\n",
       "5289  Bie10T0ATk8  4048041553  2018-05-07 17:51:07.000          1   \n",
       "5290  BiMg_vhA5EX  4048041553  2018-04-30 15:02:51.000          1   \n",
       "5293  Bx974UqAe8c  4048041553  2019-05-27 15:31:28.000          1   \n",
       "5300  BgiugHxFCN7  4048041553  2018-03-20 12:01:23.000          1   \n",
       "5301  BdR1Z8wDf0D  4048041553  2017-12-29 09:00:26.000          1   \n",
       "5302  BpT9hxkFBuJ  4048041553  2018-10-24 12:06:37.000          1   \n",
       "5303  BjcVYMXnPKY  4048041553  2018-05-31 15:00:35.000          1   \n",
       "5304  BqFd6T6FaSE  4048041553  2018-11-12 16:32:22.000          1   \n",
       "5305  BiUeEuqAo1c  4048041553  2018-05-03 17:11:15.000          1   \n",
       "5307  Bx2HdSAgWLr  4048041553  2019-05-24 14:38:43.000          1   \n",
       "5308  Bxq0unhDhOr  4048041553  2019-05-20 05:23:24.000          1   \n",
       "5309  BxlwhSZjWCB  4048041553  2019-05-18 06:10:26.000          1   \n",
       "5310  BxhkGCzAsOW  4048041553  2019-05-16 15:04:54.000          1   \n",
       "5311  BxeG5NfgOpn  4048041553  2019-05-15 06:52:01.000          1   \n",
       "5312  BxbkdXwgefk  4048041553  2019-05-14 07:12:38.000          1   \n",
       "5313  Bs7NLRkl-uQ  4048041553  2019-01-22 06:27:55.000          1   \n",
       "5314  BxZ1YjdgZVs  4048041553  2019-05-13 15:02:03.000          1   \n",
       "5315  BxMF2D-gaKD  4048041553  2019-05-08 06:56:31.000          1   \n",
       "5316  BxG794FA0p4  4048041553  2019-05-06 06:54:00.000          1   \n",
       "5317  BxCyQs4gfxl  4048041553  2019-05-04 16:12:14.000          1   \n",
       "5318  Bw6-AFhgaH5  4048041553  2019-05-01 15:20:53.000          1   \n",
       "5319  Bwn0dIpA2iD  4048041553  2019-04-24 04:51:54.000          1   \n",
       "5320  BwkX5MSg3GL  4048041553  2019-04-22 20:44:36.000          1   \n",
       "5321  BwbL6xCgGJC  4048041553  2019-04-19 07:06:48.000          1   \n",
       "5322  BwV8od6gBhD  4048041553  2019-04-17 06:17:02.000          1   \n",
       "5323  BtAcx3LFCwL  4048041553  2019-01-24 07:20:27.000          1   \n",
       "5324  Bszd1k7lSi3  4048041553  2019-01-19 06:19:34.000          1   \n",
       "5325  BsuVE3XFiQZ  4048041553  2019-01-17 06:26:49.000          1   \n",
       "5326  Bsq_N53lETA  4048041553  2019-01-15 23:18:05.000          1   \n",
       "5327  BrrWoCBFD4I  4048041553  2018-12-22 06:11:14.000          1   \n",
       "5328  BqcpaGIlt8p  4048041553  2018-11-21 16:35:22.000          1   \n",
       "5329  BqXfrrEl4KI  4048041553  2018-11-19 16:34:11.000          1   \n",
       "2572   241fGTijjU  1475495653  2015-05-20 05:07:08.000          1   \n",
       "2573  BKSBZtsDc6b  1475495653  2016-09-13 05:48:46.000          1   \n",
       "2608   8cW4Fxijme  1475495653  2015-10-05 06:49:18.000          1   \n",
       "2609   8bZHzjCjpM  1475495653  2015-10-04 21:49:41.000          1   \n",
       "2610  BlbP4PbH0X1  1475495653  2018-07-19 21:56:04.000          1   \n",
       "2611  Bk4mJN3HgFV  1475495653  2018-07-06 10:57:13.000          1   \n",
       "2612  BiMh8gNn8wd  1475495653  2018-04-30 15:11:09.000          1   \n",
       "2613  BclicEOlCBZ  1475495653  2017-12-12 04:08:07.000          1   \n",
       "2615  BZSW3SKlTda  1475495653  2017-09-21 04:47:13.000          1   \n",
       "2616  BZAAUNIlwyC  1475495653  2017-09-14 01:43:51.000          1   \n",
       "2617  BSdJUZfFqsp  1475495653  2017-04-04 09:40:45.000          1   \n",
       "2618  BI3M8ewD1ND  1475495653  2016-08-08 23:18:45.000          1   \n",
       "2620  BXb0aEslEOM  1475495653  2017-08-06 03:55:45.000          1   \n",
       "2621  BWTzMPtFAPf  1475495653  2017-07-09 04:39:48.000          1   \n",
       "2622  BV5xiKZFAIV  1475495653  2017-06-29 02:05:04.000          1   \n",
       "2623  BVnqcLqFgV5  1475495653  2017-06-22 01:16:45.000          1   \n",
       "2624  BTPCdvfllV-  1475495653  2017-04-23 18:42:53.000          1   \n",
       "2625  BTHyr7DFE_d  1475495653  2017-04-20 23:10:19.000          1   \n",
       "2626  BS2h5Z5Fp4L  1475495653  2017-04-14 06:16:31.000          1   \n",
       "2627  BSl-lf5llD4  1475495653  2017-04-07 20:00:07.000          1   \n",
       "2628  BSkZk9xlqu3  1475495653  2017-04-07 05:17:30.000          1   \n",
       "2629  BSZhoNSleyH  1475495653  2017-04-02 23:56:12.000          1   \n",
       "2630  BPBtdQjB1fe  1475495653  2017-01-09 03:23:36.000          1   \n",
       "2632  BMKxdHBhunp  1475495653  2016-10-30 02:17:31.000          1   \n",
       "2633  BH6bjsujbaB  1475495653  2016-07-16 08:52:46.000          1   \n",
       "2634  BHapyWFj4te  1475495653  2016-07-04 00:41:24.000          1   \n",
       "2635  BHIP2fNjZE7  1475495653  2016-06-26 21:08:26.000          1   \n",
       "\n",
       "                                            description  numbr_likes  \\\n",
       "5289  Don't forget to use a KLAFS sauna after your w...           51   \n",
       "5290  There is nothing better than a KLAFS sauna wit...           49   \n",
       "5293  Enjoy in the most extraordinary hotel - right ...           42   \n",
       "5300  Forest sauna with tree trunk panelling on the ...           49   \n",
       "5301  KLAFS cold plunges are an excellent way of coo...           50   \n",
       "5302  Everyone deserves moments of pure relaxation. ...           44   \n",
       "5303  KLAFS sauna you will never forget! âºï¸ #kal...           43   \n",
       "5304  During a winter getaway at Sportresidenz Zille...           43   \n",
       "5305  Sauna with illuminated and integrated salt wal...           39   \n",
       "5307  The charming sauna house Wassermann in Tannhei...           36   \n",
       "5308  Spacious KLAFS steam baths are the perfect way...           57   \n",
       "5309  A family sauna offer moments of relaxation and...           55   \n",
       "5310  Charming and spacious KLAFS sauna design. #kla...           38   \n",
       "5311  Pure indulgence for body and soul: bathing in ...           42   \n",
       "5312  A private infrared sauna with a spectacular vi...           31   \n",
       "5313  Perfect place for relaxation and rejuvenation ...           46   \n",
       "5314  The comfortable spa area offers activity and r...           65   \n",
       "5315  Directly in the Arlberg ski area 1,750m in the...           39   \n",
       "5316  Enjoy the comfort of the specialÂ sauna area w...           37   \n",
       "5317  The traditional Falkensteiner Hotels in South ...           71   \n",
       "5318  The modern holiday home \"im Franzerl\" on the W...           43   \n",
       "5319  Enjoy KLAFS infrared heat cabin - a deeply war...           28   \n",
       "5320  Relax and wind down at new 100 mÂ² A'RUE Panor...           37   \n",
       "5321  Still not sweated enough? ð¦Then take yourse...           52   \n",
       "5322  In the spacious spa area you can not only rela...           33   \n",
       "5323  Charming and spacious KLAFS sauna design. #kla...           31   \n",
       "5324  The Wellness Hotel Nidum will make you feel li...           31   \n",
       "5325  To sweat and enjoy after a sporty day in Muire...           32   \n",
       "5326  NIDUM - luxurious, fresh, different. ðð»W...           36   \n",
       "5327  A wonderful KLAFS sauna to relax.âºï¸ðð...           29   \n",
       "5328  This SPA design goal was to create it that it ...           38   \n",
       "5329  The traditional sports and SPA hotel combines ...           50   \n",
       "2572  I am in love with this beautiful color!!!! Tha...           37   \n",
       "2573  #Target #Ulta #Haul \\nSamples and sales and ne...           65   \n",
       "2608  #manimonday shout out to this fun color I rece...           24   \n",
       "2609  First @gerardcosmetics purchase and I'm in ð...           24   \n",
       "2610  How stunning is this bride?! Thank you Nicolle...           46   \n",
       "2611  I'm in another AWESOME campaign!!! Come to me,...           26   \n",
       "2612  SHAKEUP YOUR MAKEUP 1ST GIVEAWAY\\n\\nRULES TO E...           10   \n",
       "2613  I have a challenge for you @masked_mua!  Post ...           18   \n",
       "2615  Stalking the #sephorarewardsbazaar every Tuesd...           18   \n",
       "2616  This #sayiloveyou #drbrandt campaign is amazin...           12   \n",
       "2617  Still my fave!  @boxycharm never fails me! \\n#...           30   \n",
       "2618  THIS CONTEST IS AMAZING AND I SOOOOOOOOOOOO NE...           23   \n",
       "2620  I took advantage of the sale @benefitcosmetics...           26   \n",
       "2621  The #summerwalmartbeautybox is here!  Such a b...           23   \n",
       "2622  She has arrived!  I finally get to play with #...           31   \n",
       "2623  Ok @coffeebreakwithdani I'm trusting you girl!...           25   \n",
       "2624  @origins Modern Friction is my new holy grail ...           20   \n",
       "2625  #TBT TO THAT TIME I MADE VIB ROUGE\\n#VIBROUGE ...           21   \n",
       "2626  APRIL BOXYCHARM  #BOHOGLOW\\nOh @boxycharm, you...           27   \n",
       "2627  March @sephora Play #GlowYourOwnWay  #sephora ...           30   \n",
       "2628  Here are the swatches of the lipliner and matt...           13   \n",
       "2629  I am such a fan of @origins and excited to be ...           25   \n",
       "2630  The #walmartbeautybox in #trendsetter is alway...           19   \n",
       "2632  Sometimes you just have to treat yourself.  An...           47   \n",
       "2633  #anubismysterybox \\n#giveaway \\n#contest \\n#sh...           18   \n",
       "2634  These polishes are great and @mallory1712 is o...           15   \n",
       "2635                               #truth #dreamcatcher           12   \n",
       "\n",
       "      number_comments  \n",
       "5289                0  \n",
       "5290                0  \n",
       "5293                2  \n",
       "5300                0  \n",
       "5301                0  \n",
       "5302                0  \n",
       "5303                0  \n",
       "5304                0  \n",
       "5305                1  \n",
       "5307                0  \n",
       "5308                1  \n",
       "5309                2  \n",
       "5310                0  \n",
       "5311                3  \n",
       "5312                0  \n",
       "5313                0  \n",
       "5314                2  \n",
       "5315                2  \n",
       "5316                0  \n",
       "5317                1  \n",
       "5318                0  \n",
       "5319                1  \n",
       "5320                1  \n",
       "5321                0  \n",
       "5322                0  \n",
       "5323                0  \n",
       "5324                0  \n",
       "5325                0  \n",
       "5326                0  \n",
       "5327                0  \n",
       "5328                0  \n",
       "5329                0  \n",
       "2572                7  \n",
       "2573                3  \n",
       "2608                3  \n",
       "2609                3  \n",
       "2610                3  \n",
       "2611                2  \n",
       "2612                1  \n",
       "2613                1  \n",
       "2615                0  \n",
       "2616                1  \n",
       "2617                2  \n",
       "2618                1  \n",
       "2620                1  \n",
       "2621                2  \n",
       "2622                4  \n",
       "2623                1  \n",
       "2624                0  \n",
       "2625                1  \n",
       "2626                1  \n",
       "2627                3  \n",
       "2628                0  \n",
       "2629                0  \n",
       "2630                1  \n",
       "2632                5  \n",
       "2633                0  \n",
       "2634                0  \n",
       "2635                3  "
      ]
     },
     "execution_count": 10,
     "metadata": {},
     "output_type": "execute_result"
    }
   ],
   "source": [
    "adm2.posts_of_top_profiles(2, 10000)"
   ]
  },
  {
   "cell_type": "markdown",
   "id": "f9ab5c77",
   "metadata": {
    "id": "f9ab5c77"
   },
   "source": [
    "#### - What is the average number of \"likes\" and comments of the top 10 profiles with the highest number of posts which their information is available in profile.csv?"
   ]
  },
  {
   "cell_type": "code",
   "execution_count": 11,
   "id": "aa33ebb4-ee5f-4399-b1d8-f9bc0d28b060",
   "metadata": {},
   "outputs": [
    {
     "name": "stdout",
     "output_type": "stream",
     "text": [
      "Help on function top_profiles_average_likes_and_comments in module adm2:\n",
      "\n",
      "top_profiles_average_likes_and_comments(n, chunksize=5000)\n",
      "    description:\n",
      "        Searching the average of likes and comments per profile in top n profiles list.\n",
      "    params:\n",
      "        - n: number of top profiles;\n",
      "        - chunksize: size of dataset to compute.\n",
      "    output:\n",
      "        information about:\n",
      "        - total number of likes of the top n profiles;\n",
      "        - total number of comments of the top n profiles;\n",
      "        - the average of likes and comments per profile in top n profiles list.\n",
      "\n"
     ]
    }
   ],
   "source": [
    "help(adm2.top_profiles_average_likes_and_comments)"
   ]
  },
  {
   "cell_type": "code",
   "execution_count": 12,
   "id": "0fc5c487",
   "metadata": {
    "id": "0fc5c487"
   },
   "outputs": [
    {
     "name": "stdout",
     "output_type": "stream",
     "text": [
      "Profile ID: 195747313 => 41 posts\n",
      "Profile ID: 4048041553 => 32 posts\n",
      "Profile ID: 3137983884 => 31 posts\n",
      "Profile ID: 9163884725 => 30 posts\n",
      "Profile ID: 53113992 => 30 posts\n",
      "Profile ID: 5343183789 => 30 posts\n",
      "Profile ID: 3656684547 => 29 posts\n",
      "Profile ID: 3561993587 => 29 posts\n",
      "Profile ID: 276454303 => 29 posts\n",
      "Profile ID: 5337907015 => 29 posts\n",
      "total number of likes: 15339\n",
      "total number of comments: 510\n",
      "average of likes and comments per profile in top 10 list: 1584.9\n"
     ]
    }
   ],
   "source": [
    "adm2.top_profiles_average_likes_and_comments(10, 100000)"
   ]
  },
  {
   "cell_type": "markdown",
   "id": "bed99d4d",
   "metadata": {
    "id": "bed99d4d"
   },
   "source": [
    "#### - Plot the number of posts that these top 10 profiles have sent on Instagram in the given interval in question RQ3. Interpret the resulting chart."
   ]
  },
  {
   "cell_type": "code",
   "execution_count": 5,
   "id": "b69bb5f6",
   "metadata": {
    "id": "b69bb5f6"
   },
   "outputs": [],
   "source": [
    "intervals\n",
    "import adm2"
   ]
  },
  {
   "cell_type": "code",
   "execution_count": 6,
   "id": "eba59db1-5b33-43a9-9990-87ba172ce473",
   "metadata": {},
   "outputs": [
    {
     "ename": "ParserError",
     "evalue": "Error tokenizing data. C error: EOF inside string starting at row 808572",
     "output_type": "error",
     "traceback": [
      "\u001b[1;31m---------------------------------------------------------------------------\u001b[0m",
      "\u001b[1;31mParserError\u001b[0m                               Traceback (most recent call last)",
      "Cell \u001b[1;32mIn [6], line 1\u001b[0m\n\u001b[1;32m----> 1\u001b[0m \u001b[43madm2\u001b[49m\u001b[38;5;241;43m.\u001b[39;49m\u001b[43mtop_profiles_posts_by_intervals_plot\u001b[49m\u001b[43m(\u001b[49m\u001b[43mintervals\u001b[49m\u001b[43m,\u001b[49m\u001b[43m \u001b[49m\u001b[38;5;241;43m1000\u001b[39;49m\u001b[43m)\u001b[49m\n",
      "File \u001b[1;32m~\\Data Science\\ADM\\ADM2\\adm2.py:215\u001b[0m, in \u001b[0;36mtop_profiles_posts_by_intervals_plot\u001b[1;34m(intervals, n, chunksize)\u001b[0m\n\u001b[0;32m    213\u001b[0m \u001b[38;5;28;01mdef\u001b[39;00m \u001b[38;5;21mtop_profiles_posts_by_intervals_plot\u001b[39m(intervals, n \u001b[38;5;241m=\u001b[39m \u001b[38;5;241m10\u001b[39m, chunksize \u001b[38;5;241m=\u001b[39m \u001b[38;5;241m1000000\u001b[39m):\n\u001b[0;32m    214\u001b[0m     intervals_posts \u001b[38;5;241m=\u001b[39m {}\n\u001b[1;32m--> 215\u001b[0m     df_posts \u001b[38;5;241m=\u001b[39m \u001b[43mposts_of_top_profiles\u001b[49m\u001b[43m(\u001b[49m\u001b[43mn\u001b[49m\u001b[43m,\u001b[49m\u001b[43m \u001b[49m\u001b[43mchunksize\u001b[49m\u001b[43m)\u001b[49m\n\u001b[0;32m    216\u001b[0m     timestamps_of_posts \u001b[38;5;241m=\u001b[39m df_posts[\u001b[38;5;124m'\u001b[39m\u001b[38;5;124mcts\u001b[39m\u001b[38;5;124m'\u001b[39m]\n\u001b[0;32m    217\u001b[0m     \u001b[38;5;28mprint\u001b[39m(timestamps_of_posts)\n",
      "File \u001b[1;32m~\\Data Science\\ADM\\ADM2\\adm2.py:183\u001b[0m, in \u001b[0;36mposts_of_top_profiles\u001b[1;34m(n, chunksize)\u001b[0m\n\u001b[0;32m    173\u001b[0m \u001b[38;5;28;01mdef\u001b[39;00m \u001b[38;5;21mposts_of_top_profiles\u001b[39m(n, chunksize \u001b[38;5;241m=\u001b[39m \u001b[38;5;241m5000\u001b[39m):\n\u001b[0;32m    174\u001b[0m     \u001b[38;5;124;03m\"\"\"\u001b[39;00m\n\u001b[0;32m    175\u001b[0m \u001b[38;5;124;03m    description:\u001b[39;00m\n\u001b[0;32m    176\u001b[0m \u001b[38;5;124;03m        Searching for top n profiles' posts.\u001b[39;00m\n\u001b[1;32m   (...)\u001b[0m\n\u001b[0;32m    181\u001b[0m \u001b[38;5;124;03m        posts of top n profiles.\u001b[39;00m\n\u001b[0;32m    182\u001b[0m \u001b[38;5;124;03m    \"\"\"\u001b[39;00m\n\u001b[1;32m--> 183\u001b[0m     profiles \u001b[38;5;241m=\u001b[39m \u001b[43mtop_profiles\u001b[49m\u001b[43m(\u001b[49m\u001b[43mn\u001b[49m\u001b[43m,\u001b[49m\u001b[43m \u001b[49m\u001b[43mchunksize\u001b[49m\u001b[43m)\u001b[49m\n\u001b[0;32m    184\u001b[0m     frames \u001b[38;5;241m=\u001b[39m []\n\u001b[0;32m    185\u001b[0m     \u001b[38;5;28;01mfor\u001b[39;00m profile \u001b[38;5;129;01min\u001b[39;00m profiles:\n",
      "File \u001b[1;32m~\\Data Science\\ADM\\ADM2\\adm2.py:167\u001b[0m, in \u001b[0;36mtop_profiles\u001b[1;34m(n, chunksize)\u001b[0m\n\u001b[0;32m    157\u001b[0m \u001b[38;5;124;03m\"\"\"\u001b[39;00m\n\u001b[0;32m    158\u001b[0m \u001b[38;5;124;03mdescription:\u001b[39;00m\n\u001b[0;32m    159\u001b[0m \u001b[38;5;124;03m    Searching for top n profiles that have posted the highest number of posts.\u001b[39;00m\n\u001b[1;32m   (...)\u001b[0m\n\u001b[0;32m    164\u001b[0m \u001b[38;5;124;03m    list of top n profiles id.\u001b[39;00m\n\u001b[0;32m    165\u001b[0m \u001b[38;5;124;03m\"\"\"\u001b[39;00m\n\u001b[0;32m    166\u001b[0m data \u001b[38;5;241m=\u001b[39m import_dataset_columns(\u001b[38;5;124m\"\u001b[39m\u001b[38;5;124minstagram_posts.csv\u001b[39m\u001b[38;5;124m\"\u001b[39m, [\u001b[38;5;124m'\u001b[39m\u001b[38;5;124mprofile_id\u001b[39m\u001b[38;5;124m'\u001b[39m, \u001b[38;5;124m'\u001b[39m\u001b[38;5;124mpost_id\u001b[39m\u001b[38;5;124m'\u001b[39m], chunksize)\n\u001b[1;32m--> 167\u001b[0m \u001b[38;5;28;01mfor\u001b[39;00m chunk \u001b[38;5;129;01min\u001b[39;00m data:\n\u001b[0;32m    168\u001b[0m     sorted_data \u001b[38;5;241m=\u001b[39m chunk\u001b[38;5;241m.\u001b[39mgroupby([\u001b[38;5;124m'\u001b[39m\u001b[38;5;124mprofile_id\u001b[39m\u001b[38;5;124m'\u001b[39m])[\u001b[38;5;124m'\u001b[39m\u001b[38;5;124mprofile_id\u001b[39m\u001b[38;5;124m'\u001b[39m]\u001b[38;5;241m.\u001b[39mcount()\u001b[38;5;241m.\u001b[39msort_values(ascending\u001b[38;5;241m=\u001b[39m\u001b[38;5;28;01mFalse\u001b[39;00m)\u001b[38;5;241m.\u001b[39mhead(n)\n\u001b[0;32m    169\u001b[0m     top_profiles \u001b[38;5;241m=\u001b[39m sorted_data\u001b[38;5;241m.\u001b[39mindex\u001b[38;5;241m.\u001b[39mtolist()\n",
      "File \u001b[1;32m~\\AppData\\Roaming\\jupyterlab-desktop\\jlab_server\\lib\\site-packages\\pandas\\io\\parsers\\readers.py:1186\u001b[0m, in \u001b[0;36mTextFileReader.__next__\u001b[1;34m(self)\u001b[0m\n\u001b[0;32m   1184\u001b[0m \u001b[38;5;28;01mdef\u001b[39;00m \u001b[38;5;21m__next__\u001b[39m(\u001b[38;5;28mself\u001b[39m):\n\u001b[0;32m   1185\u001b[0m     \u001b[38;5;28;01mtry\u001b[39;00m:\n\u001b[1;32m-> 1186\u001b[0m         \u001b[38;5;28;01mreturn\u001b[39;00m \u001b[38;5;28;43mself\u001b[39;49m\u001b[38;5;241;43m.\u001b[39;49m\u001b[43mget_chunk\u001b[49m\u001b[43m(\u001b[49m\u001b[43m)\u001b[49m\n\u001b[0;32m   1187\u001b[0m     \u001b[38;5;28;01mexcept\u001b[39;00m \u001b[38;5;167;01mStopIteration\u001b[39;00m:\n\u001b[0;32m   1188\u001b[0m         \u001b[38;5;28mself\u001b[39m\u001b[38;5;241m.\u001b[39mclose()\n",
      "File \u001b[1;32m~\\AppData\\Roaming\\jupyterlab-desktop\\jlab_server\\lib\\site-packages\\pandas\\io\\parsers\\readers.py:1283\u001b[0m, in \u001b[0;36mTextFileReader.get_chunk\u001b[1;34m(self, size)\u001b[0m\n\u001b[0;32m   1281\u001b[0m         \u001b[38;5;28;01mraise\u001b[39;00m \u001b[38;5;167;01mStopIteration\u001b[39;00m\n\u001b[0;32m   1282\u001b[0m     size \u001b[38;5;241m=\u001b[39m \u001b[38;5;28mmin\u001b[39m(size, \u001b[38;5;28mself\u001b[39m\u001b[38;5;241m.\u001b[39mnrows \u001b[38;5;241m-\u001b[39m \u001b[38;5;28mself\u001b[39m\u001b[38;5;241m.\u001b[39m_currow)\n\u001b[1;32m-> 1283\u001b[0m \u001b[38;5;28;01mreturn\u001b[39;00m \u001b[38;5;28;43mself\u001b[39;49m\u001b[38;5;241;43m.\u001b[39;49m\u001b[43mread\u001b[49m\u001b[43m(\u001b[49m\u001b[43mnrows\u001b[49m\u001b[38;5;241;43m=\u001b[39;49m\u001b[43msize\u001b[49m\u001b[43m)\u001b[49m\n",
      "File \u001b[1;32m~\\AppData\\Roaming\\jupyterlab-desktop\\jlab_server\\lib\\site-packages\\pandas\\io\\parsers\\readers.py:1253\u001b[0m, in \u001b[0;36mTextFileReader.read\u001b[1;34m(self, nrows)\u001b[0m\n\u001b[0;32m   1251\u001b[0m nrows \u001b[38;5;241m=\u001b[39m validate_integer(\u001b[38;5;124m\"\u001b[39m\u001b[38;5;124mnrows\u001b[39m\u001b[38;5;124m\"\u001b[39m, nrows)\n\u001b[0;32m   1252\u001b[0m \u001b[38;5;28;01mtry\u001b[39;00m:\n\u001b[1;32m-> 1253\u001b[0m     index, columns, col_dict \u001b[38;5;241m=\u001b[39m \u001b[38;5;28;43mself\u001b[39;49m\u001b[38;5;241;43m.\u001b[39;49m\u001b[43m_engine\u001b[49m\u001b[38;5;241;43m.\u001b[39;49m\u001b[43mread\u001b[49m\u001b[43m(\u001b[49m\u001b[43mnrows\u001b[49m\u001b[43m)\u001b[49m\n\u001b[0;32m   1254\u001b[0m \u001b[38;5;28;01mexcept\u001b[39;00m \u001b[38;5;167;01mException\u001b[39;00m:\n\u001b[0;32m   1255\u001b[0m     \u001b[38;5;28mself\u001b[39m\u001b[38;5;241m.\u001b[39mclose()\n",
      "File \u001b[1;32m~\\AppData\\Roaming\\jupyterlab-desktop\\jlab_server\\lib\\site-packages\\pandas\\io\\parsers\\c_parser_wrapper.py:225\u001b[0m, in \u001b[0;36mCParserWrapper.read\u001b[1;34m(self, nrows)\u001b[0m\n\u001b[0;32m    223\u001b[0m \u001b[38;5;28;01mtry\u001b[39;00m:\n\u001b[0;32m    224\u001b[0m     \u001b[38;5;28;01mif\u001b[39;00m \u001b[38;5;28mself\u001b[39m\u001b[38;5;241m.\u001b[39mlow_memory:\n\u001b[1;32m--> 225\u001b[0m         chunks \u001b[38;5;241m=\u001b[39m \u001b[38;5;28;43mself\u001b[39;49m\u001b[38;5;241;43m.\u001b[39;49m\u001b[43m_reader\u001b[49m\u001b[38;5;241;43m.\u001b[39;49m\u001b[43mread_low_memory\u001b[49m\u001b[43m(\u001b[49m\u001b[43mnrows\u001b[49m\u001b[43m)\u001b[49m\n\u001b[0;32m    226\u001b[0m         \u001b[38;5;66;03m# destructive to chunks\u001b[39;00m\n\u001b[0;32m    227\u001b[0m         data \u001b[38;5;241m=\u001b[39m _concatenate_chunks(chunks)\n",
      "File \u001b[1;32m~\\AppData\\Roaming\\jupyterlab-desktop\\jlab_server\\lib\\site-packages\\pandas\\_libs\\parsers.pyx:817\u001b[0m, in \u001b[0;36mpandas._libs.parsers.TextReader.read_low_memory\u001b[1;34m()\u001b[0m\n",
      "File \u001b[1;32m~\\AppData\\Roaming\\jupyterlab-desktop\\jlab_server\\lib\\site-packages\\pandas\\_libs\\parsers.pyx:861\u001b[0m, in \u001b[0;36mpandas._libs.parsers.TextReader._read_rows\u001b[1;34m()\u001b[0m\n",
      "File \u001b[1;32m~\\AppData\\Roaming\\jupyterlab-desktop\\jlab_server\\lib\\site-packages\\pandas\\_libs\\parsers.pyx:847\u001b[0m, in \u001b[0;36mpandas._libs.parsers.TextReader._tokenize_rows\u001b[1;34m()\u001b[0m\n",
      "File \u001b[1;32m~\\AppData\\Roaming\\jupyterlab-desktop\\jlab_server\\lib\\site-packages\\pandas\\_libs\\parsers.pyx:1960\u001b[0m, in \u001b[0;36mpandas._libs.parsers.raise_parser_error\u001b[1;34m()\u001b[0m\n",
      "\u001b[1;31mParserError\u001b[0m: Error tokenizing data. C error: EOF inside string starting at row 808572"
     ]
    }
   ],
   "source": [
    "adm2.top_profiles_posts_by_intervals_plot(intervals, 1000)"
   ]
  },
  {
   "cell_type": "markdown",
   "id": "5a5cf901",
   "metadata": {
    "id": "5a5cf901"
   },
   "source": [
    "## [RQ5] The most influential users are the ones with the highest number of “followers\", you can now look more into their activity."
   ]
  },
  {
   "cell_type": "markdown",
   "id": "0ad5d78f",
   "metadata": {
    "id": "0ad5d78f"
   },
   "source": [
    "#### - Plot the top 10 most popular users in terms of followers and their number of posts."
   ]
  },
  {
   "cell_type": "code",
   "execution_count": null,
   "id": "27ec1015",
   "metadata": {
    "id": "27ec1015"
   },
   "outputs": [],
   "source": []
  },
  {
   "cell_type": "markdown",
   "id": "8d49dbed",
   "metadata": {
    "id": "8d49dbed"
   },
   "source": [
    "#### - Who is the most influential user?"
   ]
  },
  {
   "cell_type": "code",
   "execution_count": null,
   "id": "be1bbd11",
   "metadata": {
    "id": "be1bbd11"
   },
   "outputs": [],
   "source": []
  },
  {
   "cell_type": "markdown",
   "id": "328e6f52",
   "metadata": {
    "id": "328e6f52"
   },
   "source": [
    "#### - Have they posted anything with tagged locations? Extract the most frequent areas on their posts and plot the number of times each city has been visited."
   ]
  },
  {
   "cell_type": "code",
   "execution_count": null,
   "id": "7ac67d8e",
   "metadata": {
    "id": "7ac67d8e"
   },
   "outputs": [],
   "source": []
  },
  {
   "cell_type": "markdown",
   "id": "1a00be24",
   "metadata": {
    "id": "1a00be24"
   },
   "source": [
    "#### - How many pictures-only posts have they published? How many reels? (only videos) and how many with both contents? Provide the number as percentages and interpret those figures."
   ]
  },
  {
   "cell_type": "code",
   "execution_count": null,
   "id": "95d6d72f",
   "metadata": {
    "id": "95d6d72f"
   },
   "outputs": [],
   "source": []
  },
  {
   "cell_type": "markdown",
   "id": "0d9e705f",
   "metadata": {
    "id": "0d9e705f"
   },
   "source": [
    "#### - How many \"likes\" and comments did posts with only pictures receive? How about videos and mixed posts? Try to provide the average numbers and confront them with their followers amount, explaining what you can say from that comparison."
   ]
  },
  {
   "cell_type": "code",
   "execution_count": null,
   "id": "166daab0",
   "metadata": {
    "id": "166daab0"
   },
   "outputs": [],
   "source": []
  },
  {
   "cell_type": "markdown",
   "id": "bdba799e",
   "metadata": {
    "id": "bdba799e"
   },
   "source": [
    "## [RQ6] It's time to get information from the user posting effectiveness."
   ]
  },
  {
   "cell_type": "markdown",
   "id": "92f3d068",
   "metadata": {
    "id": "92f3d068"
   },
   "source": [
    "#### - What is the average time (days and minutes) a user lets pass before publishing another post? Plot the top 3 users that publish posts more frequently (calculate the average time that passes between posts), including their amount of followers and following. Provide insights from that chart."
   ]
  },
  {
   "cell_type": "code",
   "execution_count": null,
   "id": "241082a3",
   "metadata": {
    "id": "241082a3"
   },
   "outputs": [],
   "source": []
  },
  {
   "cell_type": "markdown",
   "id": "6c90fcad",
   "metadata": {
    "id": "6c90fcad"
   },
   "source": [
    "#### - Using the function you previously coded, plot the time intervals with the highest average number of “likes” and the ones with the highest average number of comments on posts."
   ]
  },
  {
   "cell_type": "code",
   "execution_count": null,
   "id": "0ffd2958",
   "metadata": {
    "id": "0ffd2958"
   },
   "outputs": [],
   "source": []
  },
  {
   "cell_type": "markdown",
   "id": "79ddcc7a",
   "metadata": {
    "id": "79ddcc7a"
   },
   "source": [
    "## [RQ7] Of course, calculating probabilities is a job that any Data Scientist must know. So let's compute some engaging figures."
   ]
  },
  {
   "cell_type": "markdown",
   "id": "19351614",
   "metadata": {
    "id": "19351614"
   },
   "source": [
    "#### - What's the probability that a post receives more than 20% \"likes\" of the number of followers a user has?"
   ]
  },
  {
   "cell_type": "code",
   "execution_count": null,
   "id": "45e898eb",
   "metadata": {
    "id": "45e898eb"
   },
   "outputs": [],
   "source": []
  },
  {
   "cell_type": "markdown",
   "id": "c7eeeebb",
   "metadata": {
    "id": "c7eeeebb"
   },
   "source": [
    "#### - Do users usually return to locations? Extract the probability that a user returns to a site after having posted it in the past. Does that probability make sense to you? Explain why or why not."
   ]
  },
  {
   "cell_type": "code",
   "execution_count": null,
   "id": "d81c9b73",
   "metadata": {
    "id": "d81c9b73"
   },
   "outputs": [],
   "source": []
  },
  {
   "cell_type": "markdown",
   "id": "53245520",
   "metadata": {
    "id": "53245520"
   },
   "source": [
    "## [RQ8] Every decision you take in a data-based environment should be reinforced with charts, statistical tests and analysis methods to check whether a hypothesis is correct or not."
   ]
  },
  {
   "cell_type": "markdown",
   "id": "04431c87",
   "metadata": {
    "id": "04431c87"
   },
   "source": [
    "#### - Does more “likes” also mean more comments? Plot a scatter plot of “likes” vs comments for posts."
   ]
  },
  {
   "cell_type": "code",
   "execution_count": null,
   "id": "d3d226d2",
   "metadata": {
    "id": "d3d226d2"
   },
   "outputs": [],
   "source": []
  },
  {
   "cell_type": "markdown",
   "id": "a7cb35a4",
   "metadata": {
    "id": "a7cb35a4"
   },
   "source": [
    "#### - Can you find any significant relationship between the time a user publishes a post and the number of comments and “likes”? Use an appropriate statistical test or technique and support your choice."
   ]
  },
  {
   "cell_type": "code",
   "execution_count": null,
   "id": "232bc487",
   "metadata": {
    "id": "232bc487"
   },
   "outputs": [],
   "source": []
  },
  {
   "cell_type": "markdown",
   "id": "755155a1",
   "metadata": {
    "id": "755155a1"
   },
   "source": [
    "#### - What’s the distribution of followers? Plot the empirical distribution of followers amongst all users and extract the mean, mode, and quantiles. Interpret those figures."
   ]
  },
  {
   "cell_type": "code",
   "execution_count": null,
   "id": "f9135945",
   "metadata": {
    "id": "f9135945"
   },
   "outputs": [],
   "source": []
  },
  {
   "cell_type": "markdown",
   "id": "4dbc8a36",
   "metadata": {
    "id": "4dbc8a36"
   },
   "source": [
    "#### - What are histograms, bar plots, scatterplots and pie charts used for?"
   ]
  },
  {
   "cell_type": "code",
   "execution_count": null,
   "id": "13ae746d",
   "metadata": {
    "id": "13ae746d"
   },
   "outputs": [],
   "source": []
  },
  {
   "cell_type": "markdown",
   "id": "9b64c905",
   "metadata": {
    "id": "9b64c905"
   },
   "source": [
    "#### - What insights can you extract from a Box Plot?"
   ]
  },
  {
   "cell_type": "code",
   "execution_count": null,
   "id": "c5291921",
   "metadata": {
    "id": "c5291921"
   },
   "outputs": [],
   "source": []
  },
  {
   "cell_type": "markdown",
   "id": "2a3b2afb",
   "metadata": {
    "id": "2a3b2afb"
   },
   "source": [
    "## Bonus points"
   ]
  },
  {
   "cell_type": "markdown",
   "id": "ffb93dd1",
   "metadata": {
    "id": "ffb93dd1"
   },
   "source": [
    "Up to this point, you probably have worked with one or two files simultaneously. Nevertheless, for the literals a. and b. of this section, you must work with the three datasets at the same time. Note that performing some of these operations might be too complex for your pc specs. For this reason, we suggest you make use of AWS (yeah! only a suggestion). In case you need it, in the following links you can find the same three files already mounted into AWS for you to work with them easily (instagram_posts, instagram_profiles, instagram_locations)."
   ]
  },
  {
   "cell_type": "markdown",
   "id": "7a25b10e",
   "metadata": {
    "id": "7a25b10e"
   },
   "source": [
    "#### a. Sort the users in terms of number of followers and divide them into two groups: for the first group, take only the top 10% regarding \"followers\", and for the second one, take the rest. Now compare the mean of time intervals between posts for the two categories. Do you notice something relevant?"
   ]
  },
  {
   "cell_type": "markdown",
   "id": "43886873",
   "metadata": {
    "id": "43886873"
   },
   "source": [
    "#### b. Assume users publish their posts the same day pictures or videos are taken: Are there users that have visited the same location on the same day? How about the same week? Extract the results and explain them."
   ]
  },
  {
   "cell_type": "markdown",
   "id": "ba90de81",
   "metadata": {
    "id": "ba90de81"
   },
   "source": [
    "#### c. Implement a text data analysis (also known as text mining) of the field \"description\" from instagram_posts.csv for descriptions written in English. Use appropriate visualizations and statistics to highlight the words (and probably the topics) provided for the users in that field."
   ]
  },
  {
   "cell_type": "markdown",
   "id": "74e0c619",
   "metadata": {
    "id": "74e0c619"
   },
   "source": [
    "# Command Line Question"
   ]
  },
  {
   "cell_type": "markdown",
   "id": "9ecb0e65",
   "metadata": {
    "id": "9ecb0e65"
   },
   "source": [
    "Using the command line is a feature that Data Scientists must master. It is relevant since the operations there require less memory to use in comparison to other interfaces. It also does not use as much CPU processing time as other interfaces. In addition, it can be faster and more efficient and handle repetitive tasks quickly.\n",
    "\n",
    "In this question, you should use command line tools such as grep and possibly other commands to answer the following question:"
   ]
  },
  {
   "cell_type": "markdown",
   "id": "b112d5fc",
   "metadata": {
    "id": "b112d5fc"
   },
   "source": [
    "#### Using the instagram_posts.csv, retrieve the first ten posts with descriptions longer than 100 characters and output the profiles that posted them. (Please keep in mind that the profile associated with some of those posts may not be found in the profiles. You can simply output User was not found! for those posts.)"
   ]
  },
  {
   "cell_type": "code",
   "execution_count": null,
   "id": "e82b733f",
   "metadata": {
    "id": "e82b733f"
   },
   "outputs": [],
   "source": []
  },
  {
   "cell_type": "markdown",
   "id": "2e700b94",
   "metadata": {
    "id": "2e700b94"
   },
   "source": [
    "Note: You may work on this question in any environment (AWS, your PC command line, Jupyter notebook, etc.), but the final script must be placed in CommandLine.sh, which must be executable.\n",
    "Algorithmic Question"
   ]
  },
  {
   "cell_type": "markdown",
   "id": "dad28d44",
   "metadata": {
    "id": "dad28d44"
   },
   "source": [
    "# ALGORITHMIC QUESTION"
   ]
  },
  {
   "cell_type": "markdown",
   "id": "2ecc9196",
   "metadata": {
    "id": "2ecc9196"
   },
   "source": [
    "## [AQ1] Given the following pseudocode, answer the questions:"
   ]
  },
  {
   "cell_type": "markdown",
   "id": "97682ec0",
   "metadata": {
    "id": "97682ec0"
   },
   "source": [
    "Input: \n",
    "    N : an integer \n",
    "    List : array of characters of length N without repetition\n",
    "    \n",
    "function f1(sequence, end): \n",
    "    For i=0 To end:\n",
    "        OUTPUT sequence[i]\n",
    "    EndFor\n",
    "    Output \"\\n\"\n",
    "    \n",
    "function f2(sequence, start, end): \n",
    "    If start = end: \n",
    "        f1(sequence, end)\n",
    "    Else\n",
    "        For i=start To end: \n",
    "            temp <-- sequence[start]\n",
    "            sequence[start] <-- sequence[i]\n",
    "            sequence[i] <-- temp\n",
    "            f2(sequence, start+1, end)\n",
    "            temp <-- sequence[start]\n",
    "            sequence[start] <-- sequence[i]\n",
    "            sequence[i] <-- temp\n",
    "f2(List, 0, N)"
   ]
  },
  {
   "cell_type": "markdown",
   "id": "342b4ebe",
   "metadata": {
    "id": "342b4ebe"
   },
   "source": [
    "#### - What is the output of this algorithm? Describe the mechanism of the algorithm in detail . We do not want to know only its final result. (Describe one example on your own)"
   ]
  },
  {
   "cell_type": "code",
   "execution_count": null,
   "id": "9596fc59",
   "metadata": {
    "id": "9596fc59"
   },
   "outputs": [],
   "source": []
  },
  {
   "cell_type": "markdown",
   "id": "a2f34507",
   "metadata": {
    "id": "a2f34507"
   },
   "source": [
    "#### - What is asymptotically (i.e., we are asking for big-O complexity) the algorithm's running time as a function of N?"
   ]
  },
  {
   "cell_type": "code",
   "execution_count": null,
   "id": "50163e51",
   "metadata": {
    "id": "50163e51"
   },
   "outputs": [],
   "source": []
  },
  {
   "cell_type": "markdown",
   "id": "f23c4327",
   "metadata": {
    "id": "f23c4327"
   },
   "source": [
    "#### - Is this algorithm the optimal one to produce this output? If not, can you suggest a better algorithm to perform the same task?"
   ]
  },
  {
   "cell_type": "code",
   "execution_count": null,
   "id": "4719715f",
   "metadata": {
    "id": "4719715f"
   },
   "outputs": [],
   "source": []
  },
  {
   "cell_type": "markdown",
   "id": "eecf5d65",
   "metadata": {
    "id": "eecf5d65"
   },
   "source": [
    "## [AQ2] Considering the following problem, answer the questions:"
   ]
  },
  {
   "cell_type": "markdown",
   "id": "61b2d2ce",
   "metadata": {
    "id": "61b2d2ce"
   },
   "source": [
    "Alex has a ribbon of length N. He wants to cut the ribbon in a way that fulfils the following three conditions:\n",
    "\n",
    "Each piece of the cut should have an integer length\n",
    "He should at least cut the ribbon once\n",
    "The multiplication of the length of all the pieces be the maximum possible"
   ]
  },
  {
   "cell_type": "markdown",
   "id": "77c6fc9c",
   "metadata": {
    "id": "77c6fc9c"
   },
   "source": [
    "#### 1. Implement a recursive algorithm to help Alex find the maximum possible value after multiplying the length of the pieces. Explain your algorithm in detail."
   ]
  },
  {
   "cell_type": "code",
   "execution_count": 65,
   "id": "d0dbd603-ff39-45be-a771-67ac86a8ea0b",
   "metadata": {},
   "outputs": [],
   "source": [
    "def cut_the_ribbon(arr, index, N, decreaser, output = False):\n",
    "    \"\"\"\n",
    "    description:\n",
    "        Brute forcing all lenghts of pieces. in a way that fulfils the following three conditions:\n",
    "        1)Each piece of the cut should have an integer length.\n",
    "        2) He should at least cut the ribbon once.\n",
    "        3) The multiplication of the length of all the pieces be the maximum possible.\n",
    "    params:\n",
    "        - arr: an array that is intialized with [0] * N;\n",
    "        - index: current index of element in the sequence of lenght of pieces;\n",
    "        - N: total lenght of the ribbon;\n",
    "        - decreaser: temporary variable that is containing the value (step) decreasing of last element in the sequence;\n",
    "        - output: flag to output information about each iteration, e.g. \"[sequence] => result_of_multiplication\".\n",
    "    output:\n",
    "        all possible combinations of lengths of pieces of the ribbon.\n",
    "    \"\"\"\n",
    "    # finish of the computing\n",
    "    if (decreaser < 0):\n",
    "        return\n",
    "    # return to the previous step if decreaser reach its limit \n",
    "    elif (decreaser == 0):\n",
    "        mult = 1\n",
    "        # output \n",
    "        for i in range(index):\n",
    "            mult *= arr[i]\n",
    "            if output: print(arr[i], end = \" \")\n",
    "        if output: print(f\"result of multiplication => {mult}\")\n",
    "        mults.append\n",
    "        return\n",
    "    \n",
    "    # initialization of the first piece's length\n",
    "    if(index == 0): prev = 1\n",
    "    # initialization of rest of the pieces (theirs lenghts)\n",
    "    else: prev = arr[index - 1]\n",
    " \n",
    "    # recursion for brute forcing lengths of pieces (start searching combinations from the end)\n",
    "    # e.g. N = 3, [1, 1, 1] => [1, 2] => [3]\n",
    "    # e.g. N = 5, [1, 1, 1, 1, 1] => [1, 1, 1, 2] => [1, 1, 3] => [1, 2, 2] => [1, 4] => [2, 3] => [5]\n",
    "    for k in range(prev, N + 1):\n",
    "        arr[index] = k\n",
    "        cut_the_ribbon(arr, index + 1, N, decreaser - k, output)"
   ]
  },
  {
   "cell_type": "code",
   "execution_count": 72,
   "id": "dc25c6e9-0dd0-4efd-a8ce-e07a6628e524",
   "metadata": {},
   "outputs": [
    {
     "name": "stdout",
     "output_type": "stream",
     "text": [
      "1 1 1 1 1 1 1 => 1\n",
      "1 1 1 1 1 2 => 2\n",
      "1 1 1 1 3 => 3\n",
      "1 1 1 2 2 => 4\n",
      "1 1 1 4 => 4\n",
      "1 1 2 3 => 6\n",
      "1 1 5 => 5\n",
      "1 2 2 2 => 8\n",
      "1 2 4 => 8\n",
      "1 3 3 => 9\n",
      "1 6 => 6\n",
      "2 2 3 => 12\n",
      "2 5 => 10\n",
      "3 4 => 12\n",
      "7 => 7\n"
     ]
    }
   ],
   "source": [
    "N = 7\n",
    "max_mult = 1\n",
    "arr = [0] * N\n",
    "cut_the_ribbon(arr, 0, N, N, True)"
   ]
  },
  {
   "cell_type": "markdown",
   "id": "e2dc0cd1",
   "metadata": {
    "id": "e2dc0cd1"
   },
   "source": [
    "#### 2-4. Show that the algorithm has exponential running time. Compute its running-time complexity. Evaluate the running time of your algorithm for the sizes (Ns) in the range of [2, 25], plot the results, and interpret it"
   ]
  },
  {
   "cell_type": "code",
   "execution_count": 35,
   "id": "e709d380",
   "metadata": {
    "id": "e709d380"
   },
   "outputs": [],
   "source": [
    "import time\n",
    "from matplotlib import pyplot as plt"
   ]
  },
  {
   "cell_type": "code",
   "execution_count": 36,
   "id": "f9e2766c-0cf4-476d-bf57-856639a8bdc8",
   "metadata": {
    "id": "e709d380"
   },
   "outputs": [],
   "source": [
    "def build_time_complexity_plot(start = 2, end = 25):\n",
    "    \"\"\"\n",
    "    description:\n",
    "        Building the plot of time complexity of the algorithm.\n",
    "    params:\n",
    "        - start: start of range of Ns\n",
    "        - end: end of range of Ns\n",
    "    output:\n",
    "        plot of time complexity of the algorithm.\n",
    "    \"\"\"\n",
    "    times = []\n",
    "    Ns = range(start, end + 1)\n",
    "    for N in Ns:\n",
    "        start = time.time()\n",
    "        arr = [0] * N\n",
    "        cut_the_ribbon(arr, 0, N, N)\n",
    "        end = time.time()\n",
    "        times.append(end - start)\n",
    "    #print(times)\n",
    "    for n, t in zip(Ns, times):\n",
    "        print(f\"N = {n} => {t} ms\")\n",
    "    plt.plot(Ns, times)"
   ]
  },
  {
   "cell_type": "code",
   "execution_count": 38,
   "id": "afc22ba8-ec7c-4ec6-b562-165cc3917e26",
   "metadata": {},
   "outputs": [
    {
     "name": "stdout",
     "output_type": "stream",
     "text": [
      "N = 2 => 0.0 ms\n",
      "N = 3 => 0.0 ms\n",
      "N = 4 => 0.0 ms\n",
      "N = 5 => 0.0 ms\n",
      "N = 6 => 0.0 ms\n",
      "N = 7 => 0.0 ms\n",
      "N = 8 => 0.0 ms\n",
      "N = 9 => 0.0 ms\n",
      "N = 10 => 0.0 ms\n",
      "N = 11 => 0.008038520812988281 ms\n",
      "N = 12 => 0.0 ms\n",
      "N = 13 => 0.0 ms\n",
      "N = 14 => 0.004656314849853516 ms\n",
      "N = 15 => 0.003565549850463867 ms\n",
      "N = 16 => 0.00832676887512207 ms\n",
      "N = 17 => 0.008440732955932617 ms\n",
      "N = 18 => 0.010004758834838867 ms\n",
      "N = 19 => 0.013406515121459961 ms\n",
      "N = 20 => 0.01930975914001465 ms\n",
      "N = 21 => 0.03172922134399414 ms\n",
      "N = 22 => 0.03171539306640625 ms\n",
      "N = 23 => 0.040170907974243164 ms\n",
      "N = 24 => 0.05044221878051758 ms\n",
      "N = 25 => 0.07060003280639648 ms\n",
      "N = 26 => 0.08172988891601562 ms\n",
      "N = 27 => 0.11818599700927734 ms\n",
      "N = 28 => 0.15106511116027832 ms\n",
      "N = 29 => 0.1937251091003418 ms\n",
      "N = 30 => 0.2896993160247803 ms\n",
      "N = 31 => 0.3568451404571533 ms\n",
      "N = 32 => 0.40492892265319824 ms\n",
      "N = 33 => 0.5618743896484375 ms\n",
      "N = 34 => 0.7077512741088867 ms\n",
      "N = 35 => 0.9053084850311279 ms\n",
      "N = 36 => 1.1775734424591064 ms\n",
      "N = 37 => 1.3323118686676025 ms\n",
      "N = 38 => 1.7123448848724365 ms\n",
      "N = 39 => 2.2637887001037598 ms\n",
      "N = 40 => 2.6671762466430664 ms\n",
      "N = 41 => 3.385004997253418 ms\n",
      "N = 42 => 4.139125347137451 ms\n",
      "N = 43 => 4.976679801940918 ms\n",
      "N = 44 => 6.103848934173584 ms\n",
      "N = 45 => 7.615311145782471 ms\n"
     ]
    },
    {
     "data": {
      "image/png": "[encoded data removed]",
      "text/plain": [
       "<Figure size 640x480 with 1 Axes>"
      ]
     },
     "metadata": {},
     "output_type": "display_data"
    }
   ],
   "source": [
    "build_time_complexity_plot(2, 45)"
   ]
  },
  {
   "cell_type": "markdown",
   "id": "70ea185f-0d5c-43a8-bbc0-0d185dc490d5",
   "metadata": {},
   "source": [
    "By using bigger length of "
   ]
  },
  {
   "cell_type": "code",
   "execution_count": 38,
   "id": "65f37491",
   "metadata": {},
   "outputs": [
    {
     "name": "stdout",
     "output_type": "stream",
     "text": [
      "N = 2 => 0.0 ms\n",
      "N = 3 => 0.0 ms\n",
      "N = 4 => 0.0 ms\n",
      "N = 5 => 0.0 ms\n",
      "N = 6 => 0.0 ms\n",
      "N = 7 => 0.0 ms\n",
      "N = 8 => 0.0 ms\n",
      "N = 9 => 0.0 ms\n",
      "N = 10 => 0.0 ms\n",
      "N = 11 => 0.008038520812988281 ms\n",
      "N = 12 => 0.0 ms\n",
      "N = 13 => 0.0 ms\n",
      "N = 14 => 0.004656314849853516 ms\n",
      "N = 15 => 0.003565549850463867 ms\n",
      "N = 16 => 0.00832676887512207 ms\n",
      "N = 17 => 0.008440732955932617 ms\n",
      "N = 18 => 0.010004758834838867 ms\n",
      "N = 19 => 0.013406515121459961 ms\n",
      "N = 20 => 0.01930975914001465 ms\n",
      "N = 21 => 0.03172922134399414 ms\n",
      "N = 22 => 0.03171539306640625 ms\n",
      "N = 23 => 0.040170907974243164 ms\n",
      "N = 24 => 0.05044221878051758 ms\n",
      "N = 25 => 0.07060003280639648 ms\n",
      "N = 26 => 0.08172988891601562 ms\n",
      "N = 27 => 0.11818599700927734 ms\n",
      "N = 28 => 0.15106511116027832 ms\n",
      "N = 29 => 0.1937251091003418 ms\n",
      "N = 30 => 0.2896993160247803 ms\n",
      "N = 31 => 0.3568451404571533 ms\n",
      "N = 32 => 0.40492892265319824 ms\n",
      "N = 33 => 0.5618743896484375 ms\n",
      "N = 34 => 0.7077512741088867 ms\n",
      "N = 35 => 0.9053084850311279 ms\n",
      "N = 36 => 1.1775734424591064 ms\n",
      "N = 37 => 1.3323118686676025 ms\n",
      "N = 38 => 1.7123448848724365 ms\n",
      "N = 39 => 2.2637887001037598 ms\n",
      "N = 40 => 2.6671762466430664 ms\n",
      "N = 41 => 3.385004997253418 ms\n",
      "N = 42 => 4.139125347137451 ms\n",
      "N = 43 => 4.976679801940918 ms\n",
      "N = 44 => 6.103848934173584 ms\n",
      "N = 45 => 7.615311145782471 ms\n"
     ]
    },
    {
     "data": {
      "image/png": "[encoded data removed]",
      "text/plain": [
       "<Figure size 640x480 with 1 Axes>"
      ]
     },
     "metadata": {},
     "output_type": "display_data"
    }
   ],
   "source": [
    "build_time_complexity_plot(2, 45)"
   ]
  },
  {
   "cell_type": "markdown",
   "id": "e6683866-64dd-4fe5-86d9-c5ad61183327",
   "metadata": {
    "id": "e709d380"
   },
   "source": [
    "That algorithm has exponential running time, because it has brute-force concept in it.\n",
    "With each additional operation (n+1) we are doubling our time of computing in case of using recursion."
   ]
  }
 ],
 "metadata": {
  "colab": {
   "collapsed_sections": [
    "71d15dba",
    "aee10629",
    "d46b576a",
    "f2d86603",
    "5d5d0d94",
    "dfc50083",
    "8430206f",
    "ae3a3236",
    "a17767a0",
    "f9ab5c77",
    "bed99d4d",
    "5a5cf901",
    "0ad5d78f",
    "8d49dbed",
    "328e6f52",
    "1a00be24",
    "0d9e705f",
    "bdba799e",
    "92f3d068",
    "6c90fcad",
    "79ddcc7a",
    "19351614",
    "c7eeeebb",
    "53245520",
    "04431c87",
    "a7cb35a4",
    "755155a1",
    "4dbc8a36",
    "9b64c905",
    "2a3b2afb",
    "7a25b10e",
    "43886873",
    "ba90de81",
    "b112d5fc",
    "2ecc9196",
    "342b4ebe",
    "a2f34507",
    "f23c4327",
    "eecf5d65",
    "77c6fc9c",
    "e2dc0cd1",
    "45070765",
    "c725300c",
    "54655464"
   ],
   "include_colab_link": true,
   "provenance": []
  },
  "kernelspec": {
   "display_name": "Python 3 (ipykernel)",
   "language": "python",
   "name": "python3"
  },
  "language_info": {
   "codemirror_mode": {
    "name": "ipython",
    "version": 3
   },
   "file_extension": ".py",
   "mimetype": "text/x-python",
   "name": "python",
   "nbconvert_exporter": "python",
   "pygments_lexer": "ipython3",
   "version": "3.8.13"
  }
 },
 "nbformat": 4,
 "nbformat_minor": 5
}

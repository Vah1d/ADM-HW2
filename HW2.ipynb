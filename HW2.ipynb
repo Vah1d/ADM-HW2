{
 "cells": [
  {
   "cell_type": "markdown",
   "id": "e8064fb1",
   "metadata": {},
   "source": [
    "# RESEARCH QUESTIONS"
   ]
  },
  {
   "cell_type": "code",
   "execution_count": 1,
   "id": "01f84b56",
   "metadata": {},
   "outputs": [],
   "source": [
    "INSTAGRAM_PROFILE_PATH = 'data/instagram_profiles.csv.zip'\n",
    "INSTAGRAM_POSTS_PATH = 'data/instagram_posts.csv.zip'\n",
    "INSTAGRAM_LOCATIONS_PATH = 'data/instagram_locations.csv.zip'"
   ]
  },
  {
   "cell_type": "code",
   "execution_count": 2,
   "id": "141325af",
   "metadata": {},
   "outputs": [],
   "source": [
    "import pandas as pd\n",
    "from matplotlib import pyplot as plt\n",
    "import numpy as np\n",
    "import matplotlib.lines as mlines\n",
    "import matplotlib.transforms as mtransforms\n",
    "from tqdm import tqdm\n",
    "import functions as fs"
   ]
  },
  {
   "cell_type": "markdown",
   "id": "47eb7a92",
   "metadata": {},
   "source": [
    "## [RQ1] After collecting information, the Data Scientists have to know what dataset they are dealing with, so let's start with an Exploratory Data Analysis (EDA). What can you say about our datasets? Please summarise its main characteristics with visual and tabular methods."
   ]
  },
  {
   "cell_type": "markdown",
   "id": "a5252d2a",
   "metadata": {},
   "source": [
    "#### EDA PROFILES"
   ]
  },
  {
   "cell_type": "markdown",
   "id": "16372779",
   "metadata": {},
   "source": [
    "lets start with the instagram profiles, we read the file first:"
   ]
  },
  {
   "cell_type": "code",
   "execution_count": 4,
   "id": "c6dfa0a9",
   "metadata": {},
   "outputs": [],
   "source": [
    "data_profiles = pd.read_csv(INSTAGRAM_PROFILE_PATH, delimiter='\\t')"
   ]
  },
  {
   "cell_type": "markdown",
   "id": "7ce6cc3e",
   "metadata": {},
   "source": [
    " "
   ]
  },
  {
   "cell_type": "markdown",
   "id": "07dac854",
   "metadata": {},
   "source": [
    "We proceed to see the shape of our data:"
   ]
  },
  {
   "cell_type": "code",
   "execution_count": 4,
   "id": "a000d812",
   "metadata": {},
   "outputs": [
    {
     "data": {
      "text/plain": [
       "(4509586, 11)"
      ]
     },
     "execution_count": 4,
     "metadata": {},
     "output_type": "execute_result"
    }
   ],
   "source": [
    "data_profiles.shape"
   ]
  },
  {
   "cell_type": "markdown",
   "id": "bcf18b8f",
   "metadata": {},
   "source": [
    "We can see that our data is made out of 4.5 milion rows and 11 columns.    \n",
    "with the head command we can see the first n rows of our data, to get  \n",
    "the visual of our variables, and the names of our columns."
   ]
  },
  {
   "cell_type": "code",
   "execution_count": 5,
   "id": "f534506a",
   "metadata": {},
   "outputs": [
    {
     "data": {
      "text/html": [
       "<div>\n",
       "<style scoped>\n",
       "    .dataframe tbody tr th:only-of-type {\n",
       "        vertical-align: middle;\n",
       "    }\n",
       "\n",
       "    .dataframe tbody tr th {\n",
       "        vertical-align: top;\n",
       "    }\n",
       "\n",
       "    .dataframe thead th {\n",
       "        text-align: right;\n",
       "    }\n",
       "</style>\n",
       "<table border=\"1\" class=\"dataframe\">\n",
       "  <thead>\n",
       "    <tr style=\"text-align: right;\">\n",
       "      <th></th>\n",
       "      <th>sid</th>\n",
       "      <th>profile_id</th>\n",
       "      <th>profile_name</th>\n",
       "      <th>firstname_lastname</th>\n",
       "      <th>description</th>\n",
       "      <th>following</th>\n",
       "      <th>followers</th>\n",
       "      <th>n_posts</th>\n",
       "      <th>url</th>\n",
       "      <th>cts</th>\n",
       "      <th>is_business_account</th>\n",
       "    </tr>\n",
       "  </thead>\n",
       "  <tbody>\n",
       "    <tr>\n",
       "      <th>0</th>\n",
       "      <td>4184446</td>\n",
       "      <td>4.721050e+09</td>\n",
       "      <td>jphillip033</td>\n",
       "      <td>John Pierce</td>\n",
       "      <td>\"Document Everything Always\"</td>\n",
       "      <td>250.0</td>\n",
       "      <td>146.0</td>\n",
       "      <td>170.0</td>\n",
       "      <td>NaN</td>\n",
       "      <td>2019-08-01 14:38:55.394 -0400</td>\n",
       "      <td>False</td>\n",
       "    </tr>\n",
       "    <tr>\n",
       "      <th>1</th>\n",
       "      <td>4184457</td>\n",
       "      <td>5.905830e+08</td>\n",
       "      <td>mama_haas</td>\n",
       "      <td>Deanna</td>\n",
       "      <td>Trying to enjoy the simple things in life. Kni...</td>\n",
       "      <td>534.0</td>\n",
       "      <td>1145.0</td>\n",
       "      <td>2878.0</td>\n",
       "      <td>www.etsy.com/shop/MamaHaas69</td>\n",
       "      <td>2019-08-01 14:39:36.526 -0400</td>\n",
       "      <td>False</td>\n",
       "    </tr>\n",
       "    <tr>\n",
       "      <th>2</th>\n",
       "      <td>4184460</td>\n",
       "      <td>1.074147e+09</td>\n",
       "      <td>yellowlightbreen</td>\n",
       "      <td>Eliza Gray</td>\n",
       "      <td>Maine is for Lovers</td>\n",
       "      <td>469.0</td>\n",
       "      <td>324.0</td>\n",
       "      <td>431.0</td>\n",
       "      <td>elizajanegray.com</td>\n",
       "      <td>2019-08-01 14:39:54.407 -0400</td>\n",
       "      <td>False</td>\n",
       "    </tr>\n",
       "    <tr>\n",
       "      <th>3</th>\n",
       "      <td>4184461</td>\n",
       "      <td>1.472039e+09</td>\n",
       "      <td>tec1025</td>\n",
       "      <td>Thomas Clark</td>\n",
       "      <td>NaN</td>\n",
       "      <td>NaN</td>\n",
       "      <td>NaN</td>\n",
       "      <td>NaN</td>\n",
       "      <td>NaN</td>\n",
       "      <td>2019-08-01 14:40:06.472 -0400</td>\n",
       "      <td>NaN</td>\n",
       "    </tr>\n",
       "    <tr>\n",
       "      <th>4</th>\n",
       "      <td>4184462</td>\n",
       "      <td>3.531421e+09</td>\n",
       "      <td>luckyfluff</td>\n",
       "      <td>NaN</td>\n",
       "      <td>NaN</td>\n",
       "      <td>NaN</td>\n",
       "      <td>NaN</td>\n",
       "      <td>NaN</td>\n",
       "      <td>NaN</td>\n",
       "      <td>2019-08-01 14:40:07.806 -0400</td>\n",
       "      <td>NaN</td>\n",
       "    </tr>\n",
       "    <tr>\n",
       "      <th>5</th>\n",
       "      <td>4184465</td>\n",
       "      <td>1.450642e+08</td>\n",
       "      <td>sabahlke</td>\n",
       "      <td>Sarah bahlke</td>\n",
       "      <td>NaN</td>\n",
       "      <td>266.0</td>\n",
       "      <td>192.0</td>\n",
       "      <td>590.0</td>\n",
       "      <td>NaN</td>\n",
       "      <td>2019-08-01 14:40:16.443 -0400</td>\n",
       "      <td>False</td>\n",
       "    </tr>\n",
       "    <tr>\n",
       "      <th>6</th>\n",
       "      <td>4184471</td>\n",
       "      <td>2.061868e+09</td>\n",
       "      <td>masslivehs</td>\n",
       "      <td>MassLive High School Sports</td>\n",
       "      <td>Your spot for the best Western Mass. high scho...</td>\n",
       "      <td>157.0</td>\n",
       "      <td>4137.0</td>\n",
       "      <td>753.0</td>\n",
       "      <td>bit.ly/2HIysyv</td>\n",
       "      <td>2019-08-01 14:40:40.390 -0400</td>\n",
       "      <td>True</td>\n",
       "    </tr>\n",
       "    <tr>\n",
       "      <th>7</th>\n",
       "      <td>4184472</td>\n",
       "      <td>1.446651e+09</td>\n",
       "      <td>hvcanes</td>\n",
       "      <td>Hoosac Valley</td>\n",
       "      <td>NaN</td>\n",
       "      <td>NaN</td>\n",
       "      <td>NaN</td>\n",
       "      <td>NaN</td>\n",
       "      <td>NaN</td>\n",
       "      <td>2019-08-01 14:40:52.635 -0400</td>\n",
       "      <td>NaN</td>\n",
       "    </tr>\n",
       "    <tr>\n",
       "      <th>8</th>\n",
       "      <td>4184475</td>\n",
       "      <td>1.743726e+09</td>\n",
       "      <td>will_jay_k</td>\n",
       "      <td>William Kramer</td>\n",
       "      <td>I’d rather die a big death than live a small life</td>\n",
       "      <td>115.0</td>\n",
       "      <td>183.0</td>\n",
       "      <td>37.0</td>\n",
       "      <td>NaN</td>\n",
       "      <td>2019-08-01 14:40:59.969 -0400</td>\n",
       "      <td>False</td>\n",
       "    </tr>\n",
       "    <tr>\n",
       "      <th>9</th>\n",
       "      <td>4184476</td>\n",
       "      <td>5.455198e+09</td>\n",
       "      <td>ashley_downing722</td>\n",
       "      <td>Ashley Downing</td>\n",
       "      <td>NaN</td>\n",
       "      <td>NaN</td>\n",
       "      <td>NaN</td>\n",
       "      <td>NaN</td>\n",
       "      <td>NaN</td>\n",
       "      <td>2019-08-01 14:41:12.826 -0400</td>\n",
       "      <td>NaN</td>\n",
       "    </tr>\n",
       "  </tbody>\n",
       "</table>\n",
       "</div>"
      ],
      "text/plain": [
       "       sid    profile_id       profile_name           firstname_lastname  \\\n",
       "0  4184446  4.721050e+09        jphillip033                  John Pierce   \n",
       "1  4184457  5.905830e+08          mama_haas                       Deanna   \n",
       "2  4184460  1.074147e+09   yellowlightbreen                   Eliza Gray   \n",
       "3  4184461  1.472039e+09            tec1025                 Thomas Clark   \n",
       "4  4184462  3.531421e+09         luckyfluff                          NaN   \n",
       "5  4184465  1.450642e+08           sabahlke                 Sarah bahlke   \n",
       "6  4184471  2.061868e+09         masslivehs  MassLive High School Sports   \n",
       "7  4184472  1.446651e+09            hvcanes                Hoosac Valley   \n",
       "8  4184475  1.743726e+09         will_jay_k               William Kramer   \n",
       "9  4184476  5.455198e+09  ashley_downing722               Ashley Downing   \n",
       "\n",
       "                                         description  following  followers  \\\n",
       "0                       \"Document Everything Always\"      250.0      146.0   \n",
       "1  Trying to enjoy the simple things in life. Kni...      534.0     1145.0   \n",
       "2                                Maine is for Lovers      469.0      324.0   \n",
       "3                                                NaN        NaN        NaN   \n",
       "4                                                NaN        NaN        NaN   \n",
       "5                                                NaN      266.0      192.0   \n",
       "6  Your spot for the best Western Mass. high scho...      157.0     4137.0   \n",
       "7                                                NaN        NaN        NaN   \n",
       "8  I’d rather die a big death than live a small life      115.0      183.0   \n",
       "9                                                NaN        NaN        NaN   \n",
       "\n",
       "   n_posts                           url                            cts  \\\n",
       "0    170.0                           NaN  2019-08-01 14:38:55.394 -0400   \n",
       "1   2878.0  www.etsy.com/shop/MamaHaas69  2019-08-01 14:39:36.526 -0400   \n",
       "2    431.0             elizajanegray.com  2019-08-01 14:39:54.407 -0400   \n",
       "3      NaN                           NaN  2019-08-01 14:40:06.472 -0400   \n",
       "4      NaN                           NaN  2019-08-01 14:40:07.806 -0400   \n",
       "5    590.0                           NaN  2019-08-01 14:40:16.443 -0400   \n",
       "6    753.0                bit.ly/2HIysyv  2019-08-01 14:40:40.390 -0400   \n",
       "7      NaN                           NaN  2019-08-01 14:40:52.635 -0400   \n",
       "8     37.0                           NaN  2019-08-01 14:40:59.969 -0400   \n",
       "9      NaN                           NaN  2019-08-01 14:41:12.826 -0400   \n",
       "\n",
       "  is_business_account  \n",
       "0               False  \n",
       "1               False  \n",
       "2               False  \n",
       "3                 NaN  \n",
       "4                 NaN  \n",
       "5               False  \n",
       "6                True  \n",
       "7                 NaN  \n",
       "8               False  \n",
       "9                 NaN  "
      ]
     },
     "execution_count": 5,
     "metadata": {},
     "output_type": "execute_result"
    }
   ],
   "source": [
    "data_profiles.head(10)"
   ]
  },
  {
   "cell_type": "markdown",
   "id": "5a59170f",
   "metadata": {},
   "source": [
    " "
   ]
  },
  {
   "cell_type": "markdown",
   "id": "f41bb6c5",
   "metadata": {},
   "source": [
    "the describe() command is very useful as it synthesizes basic statistical  \n",
    "computations on the dataset, and any missing value is automatically skipped.\n",
    "Of course this is only possible for those columns that have numerical values."
   ]
  },
  {
   "cell_type": "code",
   "execution_count": 6,
   "id": "6c5822e8",
   "metadata": {},
   "outputs": [
    {
     "data": {
      "text/html": [
       "<div>\n",
       "<style scoped>\n",
       "    .dataframe tbody tr th:only-of-type {\n",
       "        vertical-align: middle;\n",
       "    }\n",
       "\n",
       "    .dataframe tbody tr th {\n",
       "        vertical-align: top;\n",
       "    }\n",
       "\n",
       "    .dataframe thead th {\n",
       "        text-align: right;\n",
       "    }\n",
       "</style>\n",
       "<table border=\"1\" class=\"dataframe\">\n",
       "  <thead>\n",
       "    <tr style=\"text-align: right;\">\n",
       "      <th></th>\n",
       "      <th>following</th>\n",
       "      <th>followers</th>\n",
       "      <th>n_posts</th>\n",
       "    </tr>\n",
       "  </thead>\n",
       "  <tbody>\n",
       "    <tr>\n",
       "      <th>count</th>\n",
       "      <td>3452771.0</td>\n",
       "      <td>3452771.0</td>\n",
       "      <td>3452771.0</td>\n",
       "    </tr>\n",
       "    <tr>\n",
       "      <th>mean</th>\n",
       "      <td>1405.6</td>\n",
       "      <td>4739.9</td>\n",
       "      <td>409.5</td>\n",
       "    </tr>\n",
       "    <tr>\n",
       "      <th>std</th>\n",
       "      <td>8113.5</td>\n",
       "      <td>193908.7</td>\n",
       "      <td>1041.9</td>\n",
       "    </tr>\n",
       "    <tr>\n",
       "      <th>min</th>\n",
       "      <td>0.0</td>\n",
       "      <td>0.0</td>\n",
       "      <td>0.0</td>\n",
       "    </tr>\n",
       "    <tr>\n",
       "      <th>25%</th>\n",
       "      <td>356.0</td>\n",
       "      <td>159.0</td>\n",
       "      <td>22.0</td>\n",
       "    </tr>\n",
       "    <tr>\n",
       "      <th>50%</th>\n",
       "      <td>754.0</td>\n",
       "      <td>406.0</td>\n",
       "      <td>120.0</td>\n",
       "    </tr>\n",
       "    <tr>\n",
       "      <th>75%</th>\n",
       "      <td>1573.0</td>\n",
       "      <td>974.0</td>\n",
       "      <td>420.0</td>\n",
       "    </tr>\n",
       "    <tr>\n",
       "      <th>max</th>\n",
       "      <td>4191080.0</td>\n",
       "      <td>285457645.0</td>\n",
       "      <td>183730.0</td>\n",
       "    </tr>\n",
       "  </tbody>\n",
       "</table>\n",
       "</div>"
      ],
      "text/plain": [
       "       following    followers    n_posts\n",
       "count  3452771.0    3452771.0  3452771.0\n",
       "mean      1405.6       4739.9      409.5\n",
       "std       8113.5     193908.7     1041.9\n",
       "min          0.0          0.0        0.0\n",
       "25%        356.0        159.0       22.0\n",
       "50%        754.0        406.0      120.0\n",
       "75%       1573.0        974.0      420.0\n",
       "max    4191080.0  285457645.0   183730.0"
      ]
     },
     "execution_count": 6,
     "metadata": {},
     "output_type": "execute_result"
    }
   ],
   "source": [
    "round(data_profiles.iloc[:,5:8].describe(),1)"
   ]
  },
  {
   "cell_type": "markdown",
   "id": "c91e92f5",
   "metadata": {},
   "source": [
    "We have excluded the columns 'sid' and 'profile_id', which are numerical variables, but are irrelevant for our statistical analysis. From this table we can see that 75% of the instagram profiles have less than 1000 followers but follow around 1500 people. On average users have 3 times more followers than people they follow and post around 400 posts."
   ]
  },
  {
   "cell_type": "markdown",
   "id": "3a91096b",
   "metadata": {},
   "source": [
    " "
   ]
  },
  {
   "cell_type": "markdown",
   "id": "c2bf91b8",
   "metadata": {},
   "source": [
    "let's check if there are any missing values"
   ]
  },
  {
   "cell_type": "code",
   "execution_count": 7,
   "id": "dbf2c41d",
   "metadata": {},
   "outputs": [
    {
     "data": {
      "text/plain": [
       "sid                          0\n",
       "profile_id               32447\n",
       "profile_name                 0\n",
       "firstname_lastname      288465\n",
       "description            2055996\n",
       "following              1056815\n",
       "followers              1056815\n",
       "n_posts                1056815\n",
       "url                    3639312\n",
       "cts                     438488\n",
       "is_business_account    1064263\n",
       "dtype: int64"
      ]
     },
     "execution_count": 7,
     "metadata": {},
     "output_type": "execute_result"
    }
   ],
   "source": [
    "data_profiles.isna().sum()"
   ]
  },
  {
   "cell_type": "markdown",
   "id": "cd6302ad",
   "metadata": {},
   "source": [
    "It is clear that there are plenty NA's, we cannot substitute them all with zero's, because for the numerical values we need to drop them. So let's clean the dataset:"
   ]
  },
  {
   "cell_type": "code",
   "execution_count": 8,
   "id": "ff49376a",
   "metadata": {},
   "outputs": [
    {
     "name": "stdout",
     "output_type": "stream",
     "text": [
      "<class 'pandas.core.frame.DataFrame'>\n",
      "RangeIndex: 4509586 entries, 0 to 4509585\n",
      "Data columns (total 11 columns):\n",
      " #   Column               Dtype  \n",
      "---  ------               -----  \n",
      " 0   sid                  int64  \n",
      " 1   profile_id           float64\n",
      " 2   profile_name         object \n",
      " 3   firstname_lastname   object \n",
      " 4   description          object \n",
      " 5   following            float64\n",
      " 6   followers            float64\n",
      " 7   n_posts              float64\n",
      " 8   url                  object \n",
      " 9   cts                  object \n",
      " 10  is_business_account  object \n",
      "dtypes: float64(4), int64(1), object(6)\n",
      "memory usage: 378.5+ MB\n"
     ]
    }
   ],
   "source": [
    "data_profiles.info()"
   ]
  },
  {
   "cell_type": "code",
   "execution_count": 10,
   "id": "4a7a979a",
   "metadata": {},
   "outputs": [],
   "source": [
    "new_profiles = fs.clean(data_profiles)"
   ]
  },
  {
   "cell_type": "code",
   "execution_count": 11,
   "id": "dc383320",
   "metadata": {},
   "outputs": [
    {
     "data": {
      "text/plain": [
       "sid                    0\n",
       "profile_id             0\n",
       "profile_name           0\n",
       "firstname_lastname     0\n",
       "description            0\n",
       "following              0\n",
       "followers              0\n",
       "n_posts                0\n",
       "url                    0\n",
       "cts                    0\n",
       "is_business_account    0\n",
       "dtype: int64"
      ]
     },
     "execution_count": 11,
     "metadata": {},
     "output_type": "execute_result"
    }
   ],
   "source": [
    "new_profiles.isna().sum()"
   ]
  },
  {
   "cell_type": "markdown",
   "id": "653712fd",
   "metadata": {},
   "source": [
    " "
   ]
  },
  {
   "cell_type": "markdown",
   "id": "22fdee25",
   "metadata": {},
   "source": [
    "Now that our data is cleaned we can proceed with some graphical representation:"
   ]
  },
  {
   "cell_type": "code",
   "execution_count": 12,
   "id": "39bb97b7",
   "metadata": {},
   "outputs": [
    {
     "data": {
      "text/html": [
       "<div>\n",
       "<style scoped>\n",
       "    .dataframe tbody tr th:only-of-type {\n",
       "        vertical-align: middle;\n",
       "    }\n",
       "\n",
       "    .dataframe tbody tr th {\n",
       "        vertical-align: top;\n",
       "    }\n",
       "\n",
       "    .dataframe thead th {\n",
       "        text-align: right;\n",
       "    }\n",
       "</style>\n",
       "<table border=\"1\" class=\"dataframe\">\n",
       "  <thead>\n",
       "    <tr style=\"text-align: right;\">\n",
       "      <th></th>\n",
       "      <th>following</th>\n",
       "      <th>followers</th>\n",
       "      <th>n_posts</th>\n",
       "    </tr>\n",
       "  </thead>\n",
       "  <tbody>\n",
       "    <tr>\n",
       "      <th>following</th>\n",
       "      <td>1.000000</td>\n",
       "      <td>0.009327</td>\n",
       "      <td>0.044666</td>\n",
       "    </tr>\n",
       "    <tr>\n",
       "      <th>followers</th>\n",
       "      <td>0.009327</td>\n",
       "      <td>1.000000</td>\n",
       "      <td>0.054337</td>\n",
       "    </tr>\n",
       "    <tr>\n",
       "      <th>n_posts</th>\n",
       "      <td>0.044666</td>\n",
       "      <td>0.054337</td>\n",
       "      <td>1.000000</td>\n",
       "    </tr>\n",
       "  </tbody>\n",
       "</table>\n",
       "</div>"
      ],
      "text/plain": [
       "           following  followers   n_posts\n",
       "following   1.000000   0.009327  0.044666\n",
       "followers   0.009327   1.000000  0.054337\n",
       "n_posts     0.044666   0.054337  1.000000"
      ]
     },
     "execution_count": 12,
     "metadata": {},
     "output_type": "execute_result"
    }
   ],
   "source": [
    "new_profiles.iloc[:,5:8].corr()"
   ]
  },
  {
   "cell_type": "markdown",
   "id": "14d623f5",
   "metadata": {},
   "source": [
    "We can see that there is no significant correlation between the number of followers and people that users follow or their number of post. we consider there to be correlation when there is a number higher then 0.6 usually.  \n",
    "Because there is no correlation we can immagine that a scatterplot between two variables will be of no use, but for the sake of analysis we will plot two variables together."
   ]
  },
  {
   "cell_type": "markdown",
   "id": "0965d376",
   "metadata": {},
   "source": [
    " "
   ]
  },
  {
   "cell_type": "code",
   "execution_count": 13,
   "id": "2f131f15",
   "metadata": {},
   "outputs": [
    {
     "data": {
      "image/png": "[encoded data removed]",
      "text/plain": [
       "<Figure size 1100x345.6 with 1 Axes>"
      ]
     },
     "metadata": {
      "needs_background": "light"
     },
     "output_type": "display_data"
    }
   ],
   "source": [
    "plt.figure(figsize = (1100/72.,4.8))\n",
    "plt.scatter(new_profiles['followers'],new_profiles['n_posts'])\n",
    "plt.title(\"following vs n° of posts\")\n",
    "plt.xlabel(\"number of followers\")\n",
    "plt.ylabel(\"n° of posts\")\n",
    "plt.show()"
   ]
  },
  {
   "cell_type": "markdown",
   "id": "8175a574",
   "metadata": {},
   "source": [
    "As we can see here there is no real correlation going on between followers and number of posts, because we do not have a real direction in this plot."
   ]
  },
  {
   "cell_type": "markdown",
   "id": "0a5494ab",
   "metadata": {},
   "source": [
    " "
   ]
  },
  {
   "cell_type": "markdown",
   "id": "478a16f5",
   "metadata": {},
   "source": [
    "#### EDA LOCATIONS"
   ]
  },
  {
   "cell_type": "code",
   "execution_count": 14,
   "id": "93a0715f",
   "metadata": {},
   "outputs": [],
   "source": [
    "data_locations = pd.read_csv(INSTAGRAM_LOCATIONS_PATH, delimiter='\\t')"
   ]
  },
  {
   "cell_type": "markdown",
   "id": "a8f1eebc",
   "metadata": {},
   "source": [
    "Let's start with an analysis of our data:"
   ]
  },
  {
   "cell_type": "code",
   "execution_count": 15,
   "id": "4a66563e",
   "metadata": {},
   "outputs": [
    {
     "name": "stdout",
     "output_type": "stream",
     "text": [
      "(1022658, 23)\n"
     ]
    },
    {
     "data": {
      "text/html": [
       "<div>\n",
       "<style scoped>\n",
       "    .dataframe tbody tr th:only-of-type {\n",
       "        vertical-align: middle;\n",
       "    }\n",
       "\n",
       "    .dataframe tbody tr th {\n",
       "        vertical-align: top;\n",
       "    }\n",
       "\n",
       "    .dataframe thead th {\n",
       "        text-align: right;\n",
       "    }\n",
       "</style>\n",
       "<table border=\"1\" class=\"dataframe\">\n",
       "  <thead>\n",
       "    <tr style=\"text-align: right;\">\n",
       "      <th></th>\n",
       "      <th>sid</th>\n",
       "      <th>id</th>\n",
       "      <th>name</th>\n",
       "      <th>street</th>\n",
       "      <th>zip</th>\n",
       "      <th>city</th>\n",
       "      <th>region</th>\n",
       "      <th>cd</th>\n",
       "      <th>phone</th>\n",
       "      <th>aj_exact_city_match</th>\n",
       "      <th>...</th>\n",
       "      <th>dir_city_name</th>\n",
       "      <th>dir_city_slug</th>\n",
       "      <th>dir_country_id</th>\n",
       "      <th>dir_country_name</th>\n",
       "      <th>lat</th>\n",
       "      <th>lng</th>\n",
       "      <th>primary_alias_on_fb</th>\n",
       "      <th>slug</th>\n",
       "      <th>website</th>\n",
       "      <th>cts</th>\n",
       "    </tr>\n",
       "  </thead>\n",
       "  <tbody>\n",
       "    <tr>\n",
       "      <th>0</th>\n",
       "      <td>719981</td>\n",
       "      <td>110296492939207</td>\n",
       "      <td>Playa de Daimuz - Valencia, España</td>\n",
       "      <td>NaN</td>\n",
       "      <td>NaN</td>\n",
       "      <td>NaN</td>\n",
       "      <td>NaN</td>\n",
       "      <td>NaN</td>\n",
       "      <td>NaN</td>\n",
       "      <td>False</td>\n",
       "      <td>...</td>\n",
       "      <td>NaN</td>\n",
       "      <td>NaN</td>\n",
       "      <td>NaN</td>\n",
       "      <td>NaN</td>\n",
       "      <td>-0.139475</td>\n",
       "      <td>38.974391</td>\n",
       "      <td>daimuzplaya</td>\n",
       "      <td>playa-de-daimuz-valencia-espana</td>\n",
       "      <td>https://es.wikipedia.org/wiki/Daimuz</td>\n",
       "      <td>2019-05-29 01:21:29.987</td>\n",
       "    </tr>\n",
       "    <tr>\n",
       "      <th>1</th>\n",
       "      <td>719983</td>\n",
       "      <td>274391278</td>\n",
       "      <td>Nová Vieska</td>\n",
       "      <td>NaN</td>\n",
       "      <td>NaN</td>\n",
       "      <td>Nová Vieska</td>\n",
       "      <td>NaN</td>\n",
       "      <td>SK</td>\n",
       "      <td>NaN</td>\n",
       "      <td>True</td>\n",
       "      <td>...</td>\n",
       "      <td>Kis-Újfalu</td>\n",
       "      <td>kis-ujfalu</td>\n",
       "      <td>SK</td>\n",
       "      <td>Slovakia</td>\n",
       "      <td>18.466667</td>\n",
       "      <td>47.866667</td>\n",
       "      <td>NaN</td>\n",
       "      <td>nova-vieska</td>\n",
       "      <td>NaN</td>\n",
       "      <td>2019-05-29 01:21:38.037</td>\n",
       "    </tr>\n",
       "    <tr>\n",
       "      <th>2</th>\n",
       "      <td>719985</td>\n",
       "      <td>148885595789195</td>\n",
       "      <td>Everest Today</td>\n",
       "      <td>Himalayas</td>\n",
       "      <td>+977</td>\n",
       "      <td>Kathmandu, Nepal</td>\n",
       "      <td>NaN</td>\n",
       "      <td>NP</td>\n",
       "      <td>NaN</td>\n",
       "      <td>False</td>\n",
       "      <td>...</td>\n",
       "      <td>Pasupati</td>\n",
       "      <td>pasupati</td>\n",
       "      <td>NP</td>\n",
       "      <td>Nepal</td>\n",
       "      <td>85.330150</td>\n",
       "      <td>27.701960</td>\n",
       "      <td>EverestToday</td>\n",
       "      <td>everest-today</td>\n",
       "      <td>NaN</td>\n",
       "      <td>2019-05-29 01:21:46.295</td>\n",
       "    </tr>\n",
       "    <tr>\n",
       "      <th>3</th>\n",
       "      <td>719987</td>\n",
       "      <td>263258277</td>\n",
       "      <td>BULAC - Bibliothèque universitaire des langues...</td>\n",
       "      <td>65, rue des Grands-Moulins</td>\n",
       "      <td>75013</td>\n",
       "      <td>Paris, France</td>\n",
       "      <td>NaN</td>\n",
       "      <td>FR</td>\n",
       "      <td>01 81 69 18 00</td>\n",
       "      <td>False</td>\n",
       "      <td>...</td>\n",
       "      <td>13ème Arrondissement Paris</td>\n",
       "      <td>13eme-arrondissement-paris</td>\n",
       "      <td>FR</td>\n",
       "      <td>France</td>\n",
       "      <td>2.375995</td>\n",
       "      <td>48.827240</td>\n",
       "      <td>BULAC.Paris</td>\n",
       "      <td>bulac-bibliotheque-universitaire-des-langues-e...</td>\n",
       "      <td>www.bulac.fr</td>\n",
       "      <td>2019-05-29 01:21:54.355</td>\n",
       "    </tr>\n",
       "    <tr>\n",
       "      <th>4</th>\n",
       "      <td>326443</td>\n",
       "      <td>406147529857708</td>\n",
       "      <td>ABC Cable Networks Group</td>\n",
       "      <td>3800 W Alameda Ave</td>\n",
       "      <td>91505</td>\n",
       "      <td>Burbank, California</td>\n",
       "      <td>NaN</td>\n",
       "      <td>US</td>\n",
       "      <td>(818) 569-7500</td>\n",
       "      <td>False</td>\n",
       "      <td>...</td>\n",
       "      <td>NaN</td>\n",
       "      <td>NaN</td>\n",
       "      <td>NaN</td>\n",
       "      <td>NaN</td>\n",
       "      <td>-118.341864</td>\n",
       "      <td>34.153265</td>\n",
       "      <td>NaN</td>\n",
       "      <td>abc-cable-networks-group</td>\n",
       "      <td>NaN</td>\n",
       "      <td>2019-04-02 15:22:55.703</td>\n",
       "    </tr>\n",
       "    <tr>\n",
       "      <th>5</th>\n",
       "      <td>326440</td>\n",
       "      <td>242403516699715</td>\n",
       "      <td>The Lakes at Discovery Bay</td>\n",
       "      <td>NaN</td>\n",
       "      <td>NaN</td>\n",
       "      <td>NaN</td>\n",
       "      <td>NaN</td>\n",
       "      <td>NaN</td>\n",
       "      <td>(925) 308-3883</td>\n",
       "      <td>NaN</td>\n",
       "      <td>...</td>\n",
       "      <td>NaN</td>\n",
       "      <td>NaN</td>\n",
       "      <td>NaN</td>\n",
       "      <td>NaN</td>\n",
       "      <td>-121.621549</td>\n",
       "      <td>37.925412</td>\n",
       "      <td>TheLakesatDiscoveryBay</td>\n",
       "      <td>the-lakes-at-discovery-bay</td>\n",
       "      <td>www.TheLakesatDiscoveryBay.com</td>\n",
       "      <td>2019-04-02 15:22:55.367</td>\n",
       "    </tr>\n",
       "    <tr>\n",
       "      <th>6</th>\n",
       "      <td>719988</td>\n",
       "      <td>1651686855080719</td>\n",
       "      <td>Tampines, Singapore</td>\n",
       "      <td>Tampines</td>\n",
       "      <td>529941</td>\n",
       "      <td>Singapore</td>\n",
       "      <td>NaN</td>\n",
       "      <td>SG</td>\n",
       "      <td>NaN</td>\n",
       "      <td>False</td>\n",
       "      <td>...</td>\n",
       "      <td>NaN</td>\n",
       "      <td>NaN</td>\n",
       "      <td>NaN</td>\n",
       "      <td>NaN</td>\n",
       "      <td>103.949729</td>\n",
       "      <td>1.355203</td>\n",
       "      <td>TampinesZingapurA</td>\n",
       "      <td>tampines-singapore</td>\n",
       "      <td>NaN</td>\n",
       "      <td>2019-05-29 01:21:56.635</td>\n",
       "    </tr>\n",
       "    <tr>\n",
       "      <th>7</th>\n",
       "      <td>719992</td>\n",
       "      <td>240487083</td>\n",
       "      <td>Sittano’s Bar &amp; Restaurant</td>\n",
       "      <td>Shop R03 Westfield Penrith, Level 1 / Riley St...</td>\n",
       "      <td>2750</td>\n",
       "      <td>Penrith, New South Wales</td>\n",
       "      <td>NaN</td>\n",
       "      <td>AU</td>\n",
       "      <td>0247224444</td>\n",
       "      <td>False</td>\n",
       "      <td>...</td>\n",
       "      <td>Penrith</td>\n",
       "      <td>penrith</td>\n",
       "      <td>AU</td>\n",
       "      <td>Australia</td>\n",
       "      <td>150.694367</td>\n",
       "      <td>-33.751031</td>\n",
       "      <td>Sittanos</td>\n",
       "      <td>sittanos-bar-restaurant</td>\n",
       "      <td>http://www.sittanos.com.au/</td>\n",
       "      <td>2019-05-29 01:22:12.909</td>\n",
       "    </tr>\n",
       "    <tr>\n",
       "      <th>8</th>\n",
       "      <td>719996</td>\n",
       "      <td>750669435108256</td>\n",
       "      <td>วัดท่าซุง อุทัยธานี</td>\n",
       "      <td>3212</td>\n",
       "      <td>61000</td>\n",
       "      <td>Nam Soem, Uthai Thani, Thailand</td>\n",
       "      <td>NaN</td>\n",
       "      <td>TH</td>\n",
       "      <td>0854623871</td>\n",
       "      <td>False</td>\n",
       "      <td>...</td>\n",
       "      <td>NaN</td>\n",
       "      <td>NaN</td>\n",
       "      <td>NaN</td>\n",
       "      <td>NaN</td>\n",
       "      <td>100.073586</td>\n",
       "      <td>15.329776</td>\n",
       "      <td>NaN</td>\n",
       "      <td>NaN</td>\n",
       "      <td>http://www.watthasung.com</td>\n",
       "      <td>2019-05-29 01:22:27.749</td>\n",
       "    </tr>\n",
       "    <tr>\n",
       "      <th>9</th>\n",
       "      <td>719998</td>\n",
       "      <td>223283275</td>\n",
       "      <td>Cine Atlas</td>\n",
       "      <td>Hatanpään valtatie 1</td>\n",
       "      <td>33100</td>\n",
       "      <td>Tampere, Finland</td>\n",
       "      <td>NaN</td>\n",
       "      <td>FI</td>\n",
       "      <td>NaN</td>\n",
       "      <td>False</td>\n",
       "      <td>...</td>\n",
       "      <td>NaN</td>\n",
       "      <td>NaN</td>\n",
       "      <td>NaN</td>\n",
       "      <td>NaN</td>\n",
       "      <td>23.766263</td>\n",
       "      <td>61.495690</td>\n",
       "      <td>NaN</td>\n",
       "      <td>cine-atlas</td>\n",
       "      <td>http://www.finnkino.fi/cinemas/tampere_cine_atlas</td>\n",
       "      <td>2019-05-29 01:22:35.936</td>\n",
       "    </tr>\n",
       "  </tbody>\n",
       "</table>\n",
       "<p>10 rows × 23 columns</p>\n",
       "</div>"
      ],
      "text/plain": [
       "      sid                id  \\\n",
       "0  719981   110296492939207   \n",
       "1  719983         274391278   \n",
       "2  719985   148885595789195   \n",
       "3  719987         263258277   \n",
       "4  326443   406147529857708   \n",
       "5  326440   242403516699715   \n",
       "6  719988  1651686855080719   \n",
       "7  719992         240487083   \n",
       "8  719996   750669435108256   \n",
       "9  719998         223283275   \n",
       "\n",
       "                                                name  \\\n",
       "0                 Playa de Daimuz - Valencia, España   \n",
       "1                                        Nová Vieska   \n",
       "2                                      Everest Today   \n",
       "3  BULAC - Bibliothèque universitaire des langues...   \n",
       "4                           ABC Cable Networks Group   \n",
       "5                         The Lakes at Discovery Bay   \n",
       "6                                Tampines, Singapore   \n",
       "7                         Sittano’s Bar & Restaurant   \n",
       "8                                วัดท่าซุง อุทัยธานี   \n",
       "9                                         Cine Atlas   \n",
       "\n",
       "                                              street     zip  \\\n",
       "0                                                NaN     NaN   \n",
       "1                                                NaN     NaN   \n",
       "2                                          Himalayas    +977   \n",
       "3                         65, rue des Grands-Moulins   75013   \n",
       "4                                 3800 W Alameda Ave   91505   \n",
       "5                                                NaN     NaN   \n",
       "6                                           Tampines  529941   \n",
       "7  Shop R03 Westfield Penrith, Level 1 / Riley St...    2750   \n",
       "8                                               3212   61000   \n",
       "9                               Hatanpään valtatie 1   33100   \n",
       "\n",
       "                              city region   cd           phone  \\\n",
       "0                              NaN    NaN  NaN             NaN   \n",
       "1                      Nová Vieska    NaN   SK             NaN   \n",
       "2                 Kathmandu, Nepal    NaN   NP             NaN   \n",
       "3                    Paris, France    NaN   FR  01 81 69 18 00   \n",
       "4              Burbank, California    NaN   US  (818) 569-7500   \n",
       "5                              NaN    NaN  NaN  (925) 308-3883   \n",
       "6                        Singapore    NaN   SG             NaN   \n",
       "7         Penrith, New South Wales    NaN   AU      0247224444   \n",
       "8  Nam Soem, Uthai Thani, Thailand    NaN   TH      0854623871   \n",
       "9                 Tampere, Finland    NaN   FI             NaN   \n",
       "\n",
       "  aj_exact_city_match  ...               dir_city_name  \\\n",
       "0               False  ...                         NaN   \n",
       "1                True  ...                  Kis-Újfalu   \n",
       "2               False  ...                    Pasupati   \n",
       "3               False  ...  13ème Arrondissement Paris   \n",
       "4               False  ...                         NaN   \n",
       "5                 NaN  ...                         NaN   \n",
       "6               False  ...                         NaN   \n",
       "7               False  ...                     Penrith   \n",
       "8               False  ...                         NaN   \n",
       "9               False  ...                         NaN   \n",
       "\n",
       "                dir_city_slug dir_country_id dir_country_name         lat  \\\n",
       "0                         NaN            NaN              NaN   -0.139475   \n",
       "1                  kis-ujfalu             SK         Slovakia   18.466667   \n",
       "2                    pasupati             NP            Nepal   85.330150   \n",
       "3  13eme-arrondissement-paris             FR           France    2.375995   \n",
       "4                         NaN            NaN              NaN -118.341864   \n",
       "5                         NaN            NaN              NaN -121.621549   \n",
       "6                         NaN            NaN              NaN  103.949729   \n",
       "7                     penrith             AU        Australia  150.694367   \n",
       "8                         NaN            NaN              NaN  100.073586   \n",
       "9                         NaN            NaN              NaN   23.766263   \n",
       "\n",
       "         lng     primary_alias_on_fb  \\\n",
       "0  38.974391             daimuzplaya   \n",
       "1  47.866667                     NaN   \n",
       "2  27.701960            EverestToday   \n",
       "3  48.827240             BULAC.Paris   \n",
       "4  34.153265                     NaN   \n",
       "5  37.925412  TheLakesatDiscoveryBay   \n",
       "6   1.355203       TampinesZingapurA   \n",
       "7 -33.751031                Sittanos   \n",
       "8  15.329776                     NaN   \n",
       "9  61.495690                     NaN   \n",
       "\n",
       "                                                slug  \\\n",
       "0                    playa-de-daimuz-valencia-espana   \n",
       "1                                        nova-vieska   \n",
       "2                                      everest-today   \n",
       "3  bulac-bibliotheque-universitaire-des-langues-e...   \n",
       "4                           abc-cable-networks-group   \n",
       "5                         the-lakes-at-discovery-bay   \n",
       "6                                 tampines-singapore   \n",
       "7                            sittanos-bar-restaurant   \n",
       "8                                                NaN   \n",
       "9                                         cine-atlas   \n",
       "\n",
       "                                             website                      cts  \n",
       "0               https://es.wikipedia.org/wiki/Daimuz  2019-05-29 01:21:29.987  \n",
       "1                                                NaN  2019-05-29 01:21:38.037  \n",
       "2                                                NaN  2019-05-29 01:21:46.295  \n",
       "3                                       www.bulac.fr  2019-05-29 01:21:54.355  \n",
       "4                                                NaN  2019-04-02 15:22:55.703  \n",
       "5                     www.TheLakesatDiscoveryBay.com  2019-04-02 15:22:55.367  \n",
       "6                                                NaN  2019-05-29 01:21:56.635  \n",
       "7                        http://www.sittanos.com.au/  2019-05-29 01:22:12.909  \n",
       "8                          http://www.watthasung.com  2019-05-29 01:22:27.749  \n",
       "9  http://www.finnkino.fi/cinemas/tampere_cine_atlas  2019-05-29 01:22:35.936  \n",
       "\n",
       "[10 rows x 23 columns]"
      ]
     },
     "execution_count": 15,
     "metadata": {},
     "output_type": "execute_result"
    }
   ],
   "source": [
    "print(data_locations.shape)\n",
    "data_locations.head(10)"
   ]
  },
  {
   "cell_type": "markdown",
   "id": "1ea4748f",
   "metadata": {},
   "source": [
    "we have for our locations dataset, 1.2 milion rows and 23 variables,  \n",
    "let's go ahead and clean our data:"
   ]
  },
  {
   "cell_type": "code",
   "execution_count": 17,
   "id": "d05efdaa",
   "metadata": {},
   "outputs": [],
   "source": [
    "new_locations = fs.clean(data_locations)"
   ]
  },
  {
   "cell_type": "code",
   "execution_count": 18,
   "id": "40230b39",
   "metadata": {},
   "outputs": [
    {
     "data": {
      "text/html": [
       "<div>\n",
       "<style scoped>\n",
       "    .dataframe tbody tr th:only-of-type {\n",
       "        vertical-align: middle;\n",
       "    }\n",
       "\n",
       "    .dataframe tbody tr th {\n",
       "        vertical-align: top;\n",
       "    }\n",
       "\n",
       "    .dataframe thead th {\n",
       "        text-align: right;\n",
       "    }\n",
       "</style>\n",
       "<table border=\"1\" class=\"dataframe\">\n",
       "  <thead>\n",
       "    <tr style=\"text-align: right;\">\n",
       "      <th></th>\n",
       "      <th>sid</th>\n",
       "      <th>id</th>\n",
       "      <th>lat</th>\n",
       "      <th>lng</th>\n",
       "    </tr>\n",
       "  </thead>\n",
       "  <tbody>\n",
       "    <tr>\n",
       "      <th>count</th>\n",
       "      <td>1022658.00</td>\n",
       "      <td>1.022658e+06</td>\n",
       "      <td>1022658.00</td>\n",
       "      <td>1022658.00</td>\n",
       "    </tr>\n",
       "    <tr>\n",
       "      <th>mean</th>\n",
       "      <td>527485.58</td>\n",
       "      <td>3.152851e+14</td>\n",
       "      <td>-15.20</td>\n",
       "      <td>34.01</td>\n",
       "    </tr>\n",
       "    <tr>\n",
       "      <th>std</th>\n",
       "      <td>299456.67</td>\n",
       "      <td>5.795031e+14</td>\n",
       "      <td>75.93</td>\n",
       "      <td>22.10</td>\n",
       "    </tr>\n",
       "    <tr>\n",
       "      <th>min</th>\n",
       "      <td>1.00</td>\n",
       "      <td>7.000000e+00</td>\n",
       "      <td>-179.98</td>\n",
       "      <td>-90.00</td>\n",
       "    </tr>\n",
       "    <tr>\n",
       "      <th>25%</th>\n",
       "      <td>268839.25</td>\n",
       "      <td>2.522377e+08</td>\n",
       "      <td>-80.13</td>\n",
       "      <td>29.74</td>\n",
       "    </tr>\n",
       "    <tr>\n",
       "      <th>50%</th>\n",
       "      <td>530040.50</td>\n",
       "      <td>8.573350e+08</td>\n",
       "      <td>-2.25</td>\n",
       "      <td>40.65</td>\n",
       "    </tr>\n",
       "    <tr>\n",
       "      <th>75%</th>\n",
       "      <td>786659.75</td>\n",
       "      <td>3.304662e+14</td>\n",
       "      <td>30.52</td>\n",
       "      <td>48.79</td>\n",
       "    </tr>\n",
       "    <tr>\n",
       "      <th>max</th>\n",
       "      <td>1043657.00</td>\n",
       "      <td>2.402148e+16</td>\n",
       "      <td>179.99</td>\n",
       "      <td>90.00</td>\n",
       "    </tr>\n",
       "  </tbody>\n",
       "</table>\n",
       "</div>"
      ],
      "text/plain": [
       "              sid            id         lat         lng\n",
       "count  1022658.00  1.022658e+06  1022658.00  1022658.00\n",
       "mean    527485.58  3.152851e+14      -15.20       34.01\n",
       "std     299456.67  5.795031e+14       75.93       22.10\n",
       "min          1.00  7.000000e+00     -179.98      -90.00\n",
       "25%     268839.25  2.522377e+08      -80.13       29.74\n",
       "50%     530040.50  8.573350e+08       -2.25       40.65\n",
       "75%     786659.75  3.304662e+14       30.52       48.79\n",
       "max    1043657.00  2.402148e+16      179.99       90.00"
      ]
     },
     "execution_count": 18,
     "metadata": {},
     "output_type": "execute_result"
    }
   ],
   "source": [
    "round(new_locations.describe(),2)"
   ]
  },
  {
   "cell_type": "markdown",
   "id": "2c92aca6",
   "metadata": {},
   "source": [
    "From a numeric analysis we cannot say to much because the only numeric variables are lat = latitude and Ing =longitude, so there isn't much to analyze and the correlation between the variables is not much of a help when figuring out our data."
   ]
  },
  {
   "cell_type": "markdown",
   "id": "4ddaa754",
   "metadata": {},
   "source": [
    " "
   ]
  },
  {
   "cell_type": "markdown",
   "id": "aca23aa4",
   "metadata": {},
   "source": [
    "## [RQ2] Let's explore the dataset by finding simple insights regarding the profile and posts."
   ]
  },
  {
   "cell_type": "markdown",
   "id": "0a5bdeeb",
   "metadata": {},
   "source": [
    "#### - Plot the number of posts for each profile in descending order."
   ]
  },
  {
   "cell_type": "code",
   "execution_count": 5,
   "id": "282fbd73",
   "metadata": {},
   "outputs": [],
   "source": [
    "post_sort = data_profiles.sort_values(by = 'n_posts', ascending = False)\n",
    "posts = post_sort[['n_posts']]\n",
    "no_na = posts.dropna()"
   ]
  },
  {
   "cell_type": "markdown",
   "id": "5c60a94f",
   "metadata": {},
   "source": [
    " "
   ]
  },
  {
   "cell_type": "markdown",
   "id": "449ffc60",
   "metadata": {},
   "source": [
    "First of all we choose the column of our dataset that we need to analyze, so we choose 'n_posts'.  \n",
    "Then we clean our data from the Na's present in the column and then we can plot our graph:"
   ]
  },
  {
   "cell_type": "code",
   "execution_count": 6,
   "id": "18064e24",
   "metadata": {},
   "outputs": [
    {
     "name": "stdout",
     "output_type": "stream",
     "text": [
      "(3452771, 1)\n"
     ]
    },
    {
     "data": {
      "image/png": "[encoded data removed]",
      "text/plain": [
       "<Figure size 1100x345.6 with 1 Axes>"
      ]
     },
     "metadata": {
      "needs_background": "light"
     },
     "output_type": "display_data"
    }
   ],
   "source": [
    "fs.n_posts(no_na)"
   ]
  },
  {
   "cell_type": "markdown",
   "id": "48f9267f",
   "metadata": {},
   "source": [
    "We decided to show through a histogram with 30 bins the number of posts for each profile in descending order, beacuse it is visually more clear that the majority of instagram profiles have a smal number of posts published, while the profiles with more than a thousand posts are in the clear minority, or the tail of the distribution."
   ]
  },
  {
   "cell_type": "markdown",
   "id": "e61e50db",
   "metadata": {},
   "source": [
    " "
   ]
  },
  {
   "cell_type": "markdown",
   "id": "69ebd635",
   "metadata": {},
   "source": [
    "#### - What posts have the highest number of \"likes\"?"
   ]
  },
  {
   "cell_type": "markdown",
   "id": "e909c68a",
   "metadata": {},
   "source": [
    "Again we choose our columns in this case to show the posts with the highest number of likes we chose  \n",
    "to also include the post id so we could link the post to the likes."
   ]
  },
  {
   "cell_type": "code",
   "execution_count": 4,
   "id": "5c3218b2",
   "metadata": {},
   "outputs": [],
   "source": [
    "data_posts = pd.read_csv(INSTAGRAM_POSTS_PATH,usecols = ['post_id','numbr_likes','number_comments'], delimiter='\\t')"
   ]
  },
  {
   "cell_type": "code",
   "execution_count": 5,
   "id": "459d3824",
   "metadata": {},
   "outputs": [
    {
     "data": {
      "text/html": [
       "<div>\n",
       "<style scoped>\n",
       "    .dataframe tbody tr th:only-of-type {\n",
       "        vertical-align: middle;\n",
       "    }\n",
       "\n",
       "    .dataframe tbody tr th {\n",
       "        vertical-align: top;\n",
       "    }\n",
       "\n",
       "    .dataframe thead th {\n",
       "        text-align: right;\n",
       "    }\n",
       "</style>\n",
       "<table border=\"1\" class=\"dataframe\">\n",
       "  <thead>\n",
       "    <tr style=\"text-align: right;\">\n",
       "      <th></th>\n",
       "      <th>post_id</th>\n",
       "      <th>numbr_likes</th>\n",
       "      <th>number_comments</th>\n",
       "    </tr>\n",
       "  </thead>\n",
       "  <tbody>\n",
       "    <tr>\n",
       "      <th>19624085</th>\n",
       "      <td>Bt3yaXmAM0d</td>\n",
       "      <td>8822952.0</td>\n",
       "      <td>165886.0</td>\n",
       "    </tr>\n",
       "    <tr>\n",
       "      <th>19623988</th>\n",
       "      <td>BuwffB7g8cK</td>\n",
       "      <td>5447066.0</td>\n",
       "      <td>25303.0</td>\n",
       "    </tr>\n",
       "    <tr>\n",
       "      <th>19624082</th>\n",
       "      <td>Buc1gyZAaMQ</td>\n",
       "      <td>5116398.0</td>\n",
       "      <td>40608.0</td>\n",
       "    </tr>\n",
       "    <tr>\n",
       "      <th>19623986</th>\n",
       "      <td>BvcukE8AMuG</td>\n",
       "      <td>4271466.0</td>\n",
       "      <td>30770.0</td>\n",
       "    </tr>\n",
       "    <tr>\n",
       "      <th>39701024</th>\n",
       "      <td>BqSLFVBFLfq</td>\n",
       "      <td>4264745.0</td>\n",
       "      <td>18691.0</td>\n",
       "    </tr>\n",
       "    <tr>\n",
       "      <th>6293907</th>\n",
       "      <td>BwTSXBKg7gN</td>\n",
       "      <td>3586546.0</td>\n",
       "      <td>15405.0</td>\n",
       "    </tr>\n",
       "    <tr>\n",
       "      <th>19624086</th>\n",
       "      <td>Btw8pFXAvQm</td>\n",
       "      <td>3558599.0</td>\n",
       "      <td>15715.0</td>\n",
       "    </tr>\n",
       "    <tr>\n",
       "      <th>19802016</th>\n",
       "      <td>BvC3n6_gqin</td>\n",
       "      <td>3533326.0</td>\n",
       "      <td>59475.0</td>\n",
       "    </tr>\n",
       "    <tr>\n",
       "      <th>30850564</th>\n",
       "      <td>Bw7vqLrFkHi</td>\n",
       "      <td>3340297.0</td>\n",
       "      <td>149489.0</td>\n",
       "    </tr>\n",
       "    <tr>\n",
       "      <th>39812576</th>\n",
       "      <td>Bw2gTH1AiDA</td>\n",
       "      <td>3311246.0</td>\n",
       "      <td>64318.0</td>\n",
       "    </tr>\n",
       "  </tbody>\n",
       "</table>\n",
       "</div>"
      ],
      "text/plain": [
       "              post_id  numbr_likes  number_comments\n",
       "19624085  Bt3yaXmAM0d    8822952.0         165886.0\n",
       "19623988  BuwffB7g8cK    5447066.0          25303.0\n",
       "19624082  Buc1gyZAaMQ    5116398.0          40608.0\n",
       "19623986  BvcukE8AMuG    4271466.0          30770.0\n",
       "39701024  BqSLFVBFLfq    4264745.0          18691.0\n",
       "6293907   BwTSXBKg7gN    3586546.0          15405.0\n",
       "19624086  Btw8pFXAvQm    3558599.0          15715.0\n",
       "19802016  BvC3n6_gqin    3533326.0          59475.0\n",
       "30850564  Bw7vqLrFkHi    3340297.0         149489.0\n",
       "39812576  Bw2gTH1AiDA    3311246.0          64318.0"
      ]
     },
     "execution_count": 5,
     "metadata": {},
     "output_type": "execute_result"
    }
   ],
   "source": [
    "likes_sort = data_posts.sort_values(by = 'numbr_likes', ascending = False)\n",
    "likes_sort.head(10)"
   ]
  },
  {
   "cell_type": "markdown",
   "id": "fafd4a22",
   "metadata": {},
   "source": [
    " "
   ]
  },
  {
   "cell_type": "markdown",
   "id": "5126fefe",
   "metadata": {},
   "source": [
    "#### - What posts have the most and the least number of comments?"
   ]
  },
  {
   "cell_type": "code",
   "execution_count": 6,
   "id": "b5964d88",
   "metadata": {},
   "outputs": [
    {
     "data": {
      "text/html": [
       "<style type=\"text/css\">\n",
       "</style>\n",
       "<table id=\"T_b2f81\">\n",
       "  <caption>posts with the most comments</caption>\n",
       "  <thead>\n",
       "    <tr>\n",
       "      <th class=\"blank level0\" >&nbsp;</th>\n",
       "      <th id=\"T_b2f81_level0_col0\" class=\"col_heading level0 col0\" >post_id</th>\n",
       "      <th id=\"T_b2f81_level0_col1\" class=\"col_heading level0 col1\" >number_comments</th>\n",
       "    </tr>\n",
       "  </thead>\n",
       "  <tbody>\n",
       "    <tr>\n",
       "      <th id=\"T_b2f81_level0_row0\" class=\"row_heading level0 row0\" >41873060</th>\n",
       "      <td id=\"T_b2f81_row0_col0\" class=\"data row0 col0\" >Bx2sPAjHviO</td>\n",
       "      <td id=\"T_b2f81_row0_col1\" class=\"data row0 col1\" >488953.000000</td>\n",
       "    </tr>\n",
       "    <tr>\n",
       "      <th id=\"T_b2f81_level0_row1\" class=\"row_heading level0 row1\" >12164781</th>\n",
       "      <td id=\"T_b2f81_row1_col0\" class=\"data row1 col0\" >BuGjhWAhAW5</td>\n",
       "      <td id=\"T_b2f81_row1_col1\" class=\"data row1 col1\" >313997.000000</td>\n",
       "    </tr>\n",
       "    <tr>\n",
       "      <th id=\"T_b2f81_level0_row2\" class=\"row_heading level0 row2\" >33261751</th>\n",
       "      <td id=\"T_b2f81_row2_col0\" class=\"data row2 col0\" >BJ-rkpTgn1N</td>\n",
       "      <td id=\"T_b2f81_row2_col1\" class=\"data row2 col1\" >257488.000000</td>\n",
       "    </tr>\n",
       "    <tr>\n",
       "      <th id=\"T_b2f81_level0_row3\" class=\"row_heading level0 row3\" >11149127</th>\n",
       "      <td id=\"T_b2f81_row3_col0\" class=\"data row3 col0\" >BMtisIxjhtT</td>\n",
       "      <td id=\"T_b2f81_row3_col1\" class=\"data row3 col1\" >214365.000000</td>\n",
       "    </tr>\n",
       "    <tr>\n",
       "      <th id=\"T_b2f81_level0_row4\" class=\"row_heading level0 row4\" >9383817</th>\n",
       "      <td id=\"T_b2f81_row4_col0\" class=\"data row4 col0\" >BzOOWj3DfZK</td>\n",
       "      <td id=\"T_b2f81_row4_col1\" class=\"data row4 col1\" >189888.000000</td>\n",
       "    </tr>\n",
       "    <tr>\n",
       "      <th id=\"T_b2f81_level0_row5\" class=\"row_heading level0 row5\" >5427268</th>\n",
       "      <td id=\"T_b2f81_row5_col0\" class=\"data row5 col0\" >BoQoM-JFkPA</td>\n",
       "      <td id=\"T_b2f81_row5_col1\" class=\"data row5 col1\" >180635.000000</td>\n",
       "    </tr>\n",
       "    <tr>\n",
       "      <th id=\"T_b2f81_level0_row6\" class=\"row_heading level0 row6\" >25257169</th>\n",
       "      <td id=\"T_b2f81_row6_col0\" class=\"data row6 col0\" >Bwarws1lCok</td>\n",
       "      <td id=\"T_b2f81_row6_col1\" class=\"data row6 col1\" >173988.000000</td>\n",
       "    </tr>\n",
       "    <tr>\n",
       "      <th id=\"T_b2f81_level0_row7\" class=\"row_heading level0 row7\" >6220011</th>\n",
       "      <td id=\"T_b2f81_row7_col0\" class=\"data row7 col0\" >Bt4qlVDAZMH</td>\n",
       "      <td id=\"T_b2f81_row7_col1\" class=\"data row7 col1\" >170836.000000</td>\n",
       "    </tr>\n",
       "    <tr>\n",
       "      <th id=\"T_b2f81_level0_row8\" class=\"row_heading level0 row8\" >31689573</th>\n",
       "      <td id=\"T_b2f81_row8_col0\" class=\"data row8 col0\" >Bs9NhQkAcJA</td>\n",
       "      <td id=\"T_b2f81_row8_col1\" class=\"data row8 col1\" >166919.000000</td>\n",
       "    </tr>\n",
       "    <tr>\n",
       "      <th id=\"T_b2f81_level0_row9\" class=\"row_heading level0 row9\" >14257307</th>\n",
       "      <td id=\"T_b2f81_row9_col0\" class=\"data row9 col0\" >Bzqb95QI_1E</td>\n",
       "      <td id=\"T_b2f81_row9_col1\" class=\"data row9 col1\" >166198.000000</td>\n",
       "    </tr>\n",
       "  </tbody>\n",
       "</table>\n"
      ],
      "text/plain": [
       "<pandas.io.formats.style.Styler at 0x1aec32ff0a0>"
      ]
     },
     "metadata": {},
     "output_type": "display_data"
    },
    {
     "data": {
      "text/html": [
       "<style type=\"text/css\">\n",
       "</style>\n",
       "<table id=\"T_8c1da\">\n",
       "  <caption>posts with the least comments</caption>\n",
       "  <thead>\n",
       "    <tr>\n",
       "      <th class=\"blank level0\" >&nbsp;</th>\n",
       "      <th id=\"T_8c1da_level0_col0\" class=\"col_heading level0 col0\" >post_id</th>\n",
       "      <th id=\"T_8c1da_level0_col1\" class=\"col_heading level0 col1\" >number_comments</th>\n",
       "    </tr>\n",
       "  </thead>\n",
       "  <tbody>\n",
       "    <tr>\n",
       "      <th id=\"T_8c1da_level0_row0\" class=\"row_heading level0 row0\" >0</th>\n",
       "      <td id=\"T_8c1da_row0_col0\" class=\"data row0 col0\" >BXdjjUlgcgq</td>\n",
       "      <td id=\"T_8c1da_row0_col1\" class=\"data row0 col1\" >0.000000</td>\n",
       "    </tr>\n",
       "    <tr>\n",
       "      <th id=\"T_8c1da_level0_row1\" class=\"row_heading level0 row1\" >13108581</th>\n",
       "      <td id=\"T_8c1da_row1_col0\" class=\"data row1 col0\" >BzWK_KVgiXi</td>\n",
       "      <td id=\"T_8c1da_row1_col1\" class=\"data row1 col1\" >0.000000</td>\n",
       "    </tr>\n",
       "    <tr>\n",
       "      <th id=\"T_8c1da_level0_row2\" class=\"row_heading level0 row2\" >13108584</th>\n",
       "      <td id=\"T_8c1da_row2_col0\" class=\"data row2 col0\" >By8bFqQgkT6</td>\n",
       "      <td id=\"T_8c1da_row2_col1\" class=\"data row2 col1\" >0.000000</td>\n",
       "    </tr>\n",
       "    <tr>\n",
       "      <th id=\"T_8c1da_level0_row3\" class=\"row_heading level0 row3\" >13108585</th>\n",
       "      <td id=\"T_8c1da_row3_col0\" class=\"data row3 col0\" >By3Pm79hK1Y</td>\n",
       "      <td id=\"T_8c1da_row3_col1\" class=\"data row3 col1\" >0.000000</td>\n",
       "    </tr>\n",
       "    <tr>\n",
       "      <th id=\"T_8c1da_level0_row4\" class=\"row_heading level0 row4\" >13108586</th>\n",
       "      <td id=\"T_8c1da_row4_col0\" class=\"data row4 col0\" >BysF45eANuV</td>\n",
       "      <td id=\"T_8c1da_row4_col1\" class=\"data row4 col1\" >0.000000</td>\n",
       "    </tr>\n",
       "    <tr>\n",
       "      <th id=\"T_8c1da_level0_row5\" class=\"row_heading level0 row5\" >13108587</th>\n",
       "      <td id=\"T_8c1da_row5_col0\" class=\"data row5 col0\" >BylyXNNA4RJ</td>\n",
       "      <td id=\"T_8c1da_row5_col1\" class=\"data row5 col1\" >0.000000</td>\n",
       "    </tr>\n",
       "    <tr>\n",
       "      <th id=\"T_8c1da_level0_row6\" class=\"row_heading level0 row6\" >13108588</th>\n",
       "      <td id=\"T_8c1da_row6_col0\" class=\"data row6 col0\" >BylyPdcgddg</td>\n",
       "      <td id=\"T_8c1da_row6_col1\" class=\"data row6 col1\" >0.000000</td>\n",
       "    </tr>\n",
       "    <tr>\n",
       "      <th id=\"T_8c1da_level0_row7\" class=\"row_heading level0 row7\" >13108589</th>\n",
       "      <td id=\"T_8c1da_row7_col0\" class=\"data row7 col0\" >ByeAANjAMjp</td>\n",
       "      <td id=\"T_8c1da_row7_col1\" class=\"data row7 col1\" >0.000000</td>\n",
       "    </tr>\n",
       "    <tr>\n",
       "      <th id=\"T_8c1da_level0_row8\" class=\"row_heading level0 row8\" >13108590</th>\n",
       "      <td id=\"T_8c1da_row8_col0\" class=\"data row8 col0\" >Byd_PJ0AaYD</td>\n",
       "      <td id=\"T_8c1da_row8_col1\" class=\"data row8 col1\" >0.000000</td>\n",
       "    </tr>\n",
       "    <tr>\n",
       "      <th id=\"T_8c1da_level0_row9\" class=\"row_heading level0 row9\" >13108591</th>\n",
       "      <td id=\"T_8c1da_row9_col0\" class=\"data row9 col0\" >ByadrBgAyg4</td>\n",
       "      <td id=\"T_8c1da_row9_col1\" class=\"data row9 col1\" >0.000000</td>\n",
       "    </tr>\n",
       "  </tbody>\n",
       "</table>\n"
      ],
      "text/plain": [
       "<pandas.io.formats.style.Styler at 0x1af7c118490>"
      ]
     },
     "metadata": {},
     "output_type": "display_data"
    }
   ],
   "source": [
    "comments_up_sort = data_posts.sort_values(by = 'number_comments', ascending = False)\n",
    "comments_down_sort = data_posts.sort_values(by = 'number_comments', ascending = True)\n",
    "\n",
    "confronto_comments_up = (comments_up_sort[['post_id','number_comments']].head(10)).style.set_caption('posts with the most comments')\n",
    "confronto_comments_down = (comments_down_sort[['post_id','number_comments']].head(10)).style.set_caption('posts with the least comments')\n",
    "\n",
    "display(confronto_comments_up)\n",
    "display(confronto_comments_down)"
   ]
  },
  {
   "cell_type": "markdown",
   "id": "d2e7c440",
   "metadata": {},
   "source": [
    " "
   ]
  },
  {
   "cell_type": "markdown",
   "id": "62743185",
   "metadata": {},
   "source": [
    "#### - How many posts include tagged locations, and how many do not? Show it using an appropriate chart and comment your results."
   ]
  },
  {
   "cell_type": "markdown",
   "id": "012127e6",
   "metadata": {},
   "source": [
    " "
   ]
  },
  {
   "cell_type": "code",
   "execution_count": 26,
   "id": "5451e1b5",
   "metadata": {},
   "outputs": [],
   "source": [
    "location = pd.read_csv(INSTAGRAM_POSTS_PATH,usecols = ['location_id'], delimiter='\\t')"
   ]
  },
  {
   "cell_type": "markdown",
   "id": "f99edd7a",
   "metadata": {},
   "source": [
    " "
   ]
  },
  {
   "cell_type": "markdown",
   "id": "d7fbeb22",
   "metadata": {},
   "source": [
    "we extracted only the column 'location_id' because it is the only one we need.\n",
    "Now we can transform every location ID in 1   \n",
    "and when there isn't a location ID a 0,\n",
    "so we just need to sum the single binary digits and we find the number of posts with and withou location."
   ]
  },
  {
   "cell_type": "code",
   "execution_count": 28,
   "id": "895ddd7e",
   "metadata": {},
   "outputs": [],
   "source": [
    "location['binary'] = (location.values > 0).astype(np.uint8)"
   ]
  },
  {
   "cell_type": "markdown",
   "id": "77f7e561",
   "metadata": {},
   "source": [
    " "
   ]
  },
  {
   "cell_type": "markdown",
   "id": "bbc60a69",
   "metadata": {},
   "source": [
    "And we can plot our data:"
   ]
  },
  {
   "cell_type": "code",
   "execution_count": 31,
   "id": "ad3bdd46",
   "metadata": {},
   "outputs": [
    {
     "data": {
      "image/png": "[encoded data removed]",
      "text/plain": [
       "<Figure size 1100x345.6 with 1 Axes>"
      ]
     },
     "metadata": {},
     "output_type": "display_data"
    }
   ],
   "source": [
    "fs.piegraph_location(no_loc,loc)"
   ]
  },
  {
   "cell_type": "markdown",
   "id": "f71159c8",
   "metadata": {},
   "source": [
    "We can see here that 69.9% of the studied instagram posts use a location tag on their posts. So out of all the posts we have 7 out of 10 use a location tag on their posts."
   ]
  },
  {
   "cell_type": "markdown",
   "id": "71d15dba",
   "metadata": {},
   "source": [
    "#### - How many posts include only photos? How many also have videos?"
   ]
  },
  {
   "cell_type": "markdown",
   "id": "1ba288a4",
   "metadata": {},
   "source": [
    " "
   ]
  },
  {
   "cell_type": "code",
   "execution_count": 29,
   "id": "830036d8",
   "metadata": {},
   "outputs": [
    {
     "name": "stdout",
     "output_type": "stream",
     "text": [
      "940326 posts include only photos\n",
      "3 posts include both photos and videos\n"
     ]
    }
   ],
   "source": [
    "print('{} posts include only photos'.format(sum(data_posts['post_type'] == 1)))\n",
    "print('{} posts include both photos and videos'.format(sum(data_posts['post_type'] == 3)))"
   ]
  },
  {
   "cell_type": "markdown",
   "id": "813f003a",
   "metadata": {},
   "source": [
    " "
   ]
  },
  {
   "cell_type": "markdown",
   "id": "aee10629",
   "metadata": {},
   "source": [
    "#### - What's the percentage of business accounts vs non-business? What can you interpret regarding that percentage?"
   ]
  },
  {
   "cell_type": "code",
   "execution_count": 67,
   "id": "897b9b27",
   "metadata": {},
   "outputs": [
    {
     "name": "stdout",
     "output_type": "stream",
     "text": [
      "18.97% of accounts are business accounts\n",
      "81.03% of accounts are non-business accounts\n"
     ]
    }
   ],
   "source": [
    "n = len(data_profiles)\n",
    "\n",
    "print('{0:.2%} of accounts are business accounts'.format((sum(data_profiles['is_business_account'] == True)/n)))\n",
    "print('{0:.2%} of accounts are non-business accounts'.format((sum(data_profiles['is_business_account'] == False)/n)))"
   ]
  },
  {
   "cell_type": "markdown",
   "id": "cfd195cb",
   "metadata": {},
   "source": [
    "We see how the vast majority of instagram accounts analyzed are non-business accounts (81.03%). The purpose of business acccounts is that of gaining access to promote posts and statistics about your followers, this gives us reason to believe that the majority of instagram users isn't interested in growing a following for monetary reasons, opposed to just having a profile to share their personal life."
   ]
  },
  {
   "cell_type": "markdown",
   "id": "3ebc87fc",
   "metadata": {},
   "source": [
    " "
   ]
  },
  {
   "cell_type": "markdown",
   "id": "d46b576a",
   "metadata": {},
   "source": [
    "## [RQ3] Now it's important to understand the most common times in which users publish their posts. "
   ]
  },
  {
   "cell_type": "markdown",
   "id": "f2d86603",
   "metadata": {},
   "source": [
    "#### - What is the most common time in which users publish their posts?"
   ]
  },
  {
   "cell_type": "code",
   "execution_count": null,
   "id": "c43f9f47",
   "metadata": {},
   "outputs": [],
   "source": []
  },
  {
   "cell_type": "markdown",
   "id": "5d5d0d94",
   "metadata": {},
   "source": [
    "#### Create a function that receives a time intervals list as a parameter and returns a plot with the number of posts for each given interval."
   ]
  },
  {
   "cell_type": "code",
   "execution_count": null,
   "id": "6de635a0",
   "metadata": {},
   "outputs": [],
   "source": []
  },
  {
   "cell_type": "markdown",
   "id": "dfc50083",
   "metadata": {},
   "source": [
    "#### Use the function that you created in the previous literal to plot the number of posts between the following time intervals:\n",
    "\n",
    "**Initial time \tFinal time**  \n",
    "**06:00:00 \t10:59:59**  \n",
    "**14:00:00 \t16:59:59**  \n",
    "**20:00:00 \t23:59:59**  \n",
    "**00:00:00 \t02:59:59**  \n",
    "**03:00:00 \t05:59:59**  "
   ]
  },
  {
   "cell_type": "code",
   "execution_count": null,
   "id": "92f2e490",
   "metadata": {},
   "outputs": [],
   "source": []
  },
  {
   "cell_type": "markdown",
   "id": "8430206f",
   "metadata": {},
   "source": [
    "## [RQ4] In most cases, we will not have a consistent dataset, and the one we are dealing with is not an exception (ex. in the given datasets, you may not find the information of the profiles for some of the posts). So let’s enhance our analysis."
   ]
  },
  {
   "cell_type": "markdown",
   "id": "ae3a3236",
   "metadata": {},
   "source": [
    "#### - Write a function that, given a profile_id, will be able to return the posts that belong to the given profile_id."
   ]
  },
  {
   "cell_type": "code",
   "execution_count": null,
   "id": "966fab0b",
   "metadata": {},
   "outputs": [],
   "source": []
  },
  {
   "cell_type": "markdown",
   "id": "a17767a0",
   "metadata": {},
   "source": [
    "#### - Write another function that, given an input n (an integer), will return the posts that belong to the n top posted profiles (top n profiles that have posted the highest number of posts) that their data is available in the profile.csv using the previously written function."
   ]
  },
  {
   "cell_type": "code",
   "execution_count": null,
   "id": "5835ce43",
   "metadata": {},
   "outputs": [],
   "source": []
  },
  {
   "cell_type": "markdown",
   "id": "f9ab5c77",
   "metadata": {},
   "source": [
    "#### - What is the average number of \"likes\" and comments of the top 10 profiles with the highest number of posts which their information is available in profile.csv?"
   ]
  },
  {
   "cell_type": "code",
   "execution_count": null,
   "id": "0fc5c487",
   "metadata": {},
   "outputs": [],
   "source": []
  },
  {
   "cell_type": "markdown",
   "id": "bed99d4d",
   "metadata": {},
   "source": [
    "#### - Plot the number of posts that these top 10 profiles have sent on Instagram in the given interval in question RQ3. Interpret the resulting chart."
   ]
  },
  {
   "cell_type": "code",
   "execution_count": null,
   "id": "b69bb5f6",
   "metadata": {},
   "outputs": [],
   "source": []
  },
  {
   "cell_type": "markdown",
   "id": "5a5cf901",
   "metadata": {},
   "source": [
    "## [RQ5] The most influential users are the ones with the highest number of “followers\", you can now look more into their activity."
   ]
  },
  {
   "cell_type": "markdown",
   "id": "0ad5d78f",
   "metadata": {},
   "source": [
    "#### - Plot the top 10 most popular users in terms of followers and their number of posts."
   ]
  },
  {
   "cell_type": "code",
   "execution_count": null,
   "id": "27ec1015",
   "metadata": {},
   "outputs": [],
   "source": []
  },
  {
   "cell_type": "markdown",
   "id": "8d49dbed",
   "metadata": {},
   "source": [
    "#### - Who is the most influential user?"
   ]
  },
  {
   "cell_type": "code",
   "execution_count": null,
   "id": "be1bbd11",
   "metadata": {},
   "outputs": [],
   "source": []
  },
  {
   "cell_type": "markdown",
   "id": "328e6f52",
   "metadata": {},
   "source": [
    "#### - Have they posted anything with tagged locations? Extract the most frequent areas on their posts and plot the number of times each city has been visited."
   ]
  },
  {
   "cell_type": "code",
   "execution_count": null,
   "id": "7ac67d8e",
   "metadata": {},
   "outputs": [],
   "source": []
  },
  {
   "cell_type": "markdown",
   "id": "1a00be24",
   "metadata": {},
   "source": [
    "#### - How many pictures-only posts have they published? How many reels? (only videos) and how many with both contents? Provide the number as percentages and interpret those figures."
   ]
  },
  {
   "cell_type": "code",
   "execution_count": null,
   "id": "95d6d72f",
   "metadata": {},
   "outputs": [],
   "source": []
  },
  {
   "cell_type": "markdown",
   "id": "0d9e705f",
   "metadata": {},
   "source": [
    "#### - How many \"likes\" and comments did posts with only pictures receive? How about videos and mixed posts? Try to provide the average numbers and confront them with their followers amount, explaining what you can say from that comparison."
   ]
  },
  {
   "cell_type": "code",
   "execution_count": null,
   "id": "166daab0",
   "metadata": {},
   "outputs": [],
   "source": []
  },
  {
   "cell_type": "markdown",
   "id": "bdba799e",
   "metadata": {},
   "source": [
    "## [RQ6] It's time to get information from the user posting effectiveness."
   ]
  },
  {
   "cell_type": "markdown",
   "id": "92f3d068",
   "metadata": {},
   "source": [
    "#### - What is the average time (days and minutes) a user lets pass before publishing another post? Plot the top 3 users that publish posts more frequently (calculate the average time that passes between posts), including their amount of followers and following. Provide insights from that chart."
   ]
  },
  {
   "cell_type": "code",
   "execution_count": null,
   "id": "241082a3",
   "metadata": {},
   "outputs": [],
   "source": []
  },
  {
   "cell_type": "markdown",
   "id": "6c90fcad",
   "metadata": {},
   "source": [
    "#### - Using the function you previously coded, plot the time intervals with the highest average number of “likes” and the ones with the highest average number of comments on posts."
   ]
  },
  {
   "cell_type": "code",
   "execution_count": null,
   "id": "0ffd2958",
   "metadata": {},
   "outputs": [],
   "source": []
  },
  {
   "cell_type": "markdown",
   "id": "79ddcc7a",
   "metadata": {},
   "source": [
    "## [RQ7] Of course, calculating probabilities is a job that any Data Scientist must know. So let's compute some engaging figures."
   ]
  },
  {
   "cell_type": "markdown",
   "id": "19351614",
   "metadata": {},
   "source": [
    "#### - What's the probability that a post receives more than 20% \"likes\" of the number of followers a user has?"
   ]
  },
  {
   "cell_type": "markdown",
   "id": "70a215df",
   "metadata": {},
   "source": [
    "First we had to create a new dataframe merging the users and the followers from the Profiles dataframe with   \n",
    "users, post id and number of likes of the posts dataframe. Once we created our new dataframe 'result',  \n",
    "we can just add a new column called '20%' where we calculated 20% of followers is for each user,\n",
    "then it was just a matter of seeing if for every post the column 'likes' was greater than the column '20%'\n"
   ]
  },
  {
   "cell_type": "code",
   "execution_count": 6,
   "id": "60e9044b",
   "metadata": {},
   "outputs": [],
   "source": [
    "profiles = data_profiles[['sid','followers']].sort_values(by = 'sid', ascending = True)\n",
    "chunks = pd.read_csv(INSTAGRAM_POSTS_PATH, usecols = ['sid_profile','post_id','numbr_likes'], delimiter ='\\t', chunksize = 100000)"
   ]
  },
  {
   "cell_type": "code",
   "execution_count": 7,
   "id": "45e898eb",
   "metadata": {},
   "outputs": [
    {
     "name": "stderr",
     "output_type": "stream",
     "text": [
      "428it [10:23,  1.46s/it]\n"
     ]
    }
   ],
   "source": [
    "result = []\n",
    "for data in tqdm(chunks):\n",
    "    result.append(pd.merge(profiles,data,left_on = 'sid', right_on = 'sid_profile').drop('sid_profile', axis = 1))    \n",
    "    \n",
    "result = pd.concat(result)"
   ]
  },
  {
   "cell_type": "code",
   "execution_count": 8,
   "id": "1a4c71c6",
   "metadata": {},
   "outputs": [
    {
     "data": {
      "text/html": [
       "<div>\n",
       "<style scoped>\n",
       "    .dataframe tbody tr th:only-of-type {\n",
       "        vertical-align: middle;\n",
       "    }\n",
       "\n",
       "    .dataframe tbody tr th {\n",
       "        vertical-align: top;\n",
       "    }\n",
       "\n",
       "    .dataframe thead th {\n",
       "        text-align: right;\n",
       "    }\n",
       "</style>\n",
       "<table border=\"1\" class=\"dataframe\">\n",
       "  <thead>\n",
       "    <tr style=\"text-align: right;\">\n",
       "      <th></th>\n",
       "      <th>sid</th>\n",
       "      <th>followers</th>\n",
       "      <th>post_id</th>\n",
       "      <th>numbr_likes</th>\n",
       "    </tr>\n",
       "  </thead>\n",
       "  <tbody>\n",
       "    <tr>\n",
       "      <th>0</th>\n",
       "      <td>1196</td>\n",
       "      <td>2832.0</td>\n",
       "      <td>BwueoQygJjE</td>\n",
       "      <td>145.0</td>\n",
       "    </tr>\n",
       "    <tr>\n",
       "      <th>1</th>\n",
       "      <td>1209</td>\n",
       "      <td>11559.0</td>\n",
       "      <td>ByE6E9qHDAo</td>\n",
       "      <td>149.0</td>\n",
       "    </tr>\n",
       "    <tr>\n",
       "      <th>2</th>\n",
       "      <td>1360</td>\n",
       "      <td>957577.0</td>\n",
       "      <td>BxHgrI5F1g9</td>\n",
       "      <td>9223.0</td>\n",
       "    </tr>\n",
       "    <tr>\n",
       "      <th>3</th>\n",
       "      <td>1373</td>\n",
       "      <td>178804.0</td>\n",
       "      <td>BmhcCY4ngY_</td>\n",
       "      <td>4879.0</td>\n",
       "    </tr>\n",
       "    <tr>\n",
       "      <th>4</th>\n",
       "      <td>1607</td>\n",
       "      <td>333613.0</td>\n",
       "      <td>BZNALUyA3JU</td>\n",
       "      <td>2089.0</td>\n",
       "    </tr>\n",
       "    <tr>\n",
       "      <th>5</th>\n",
       "      <td>1607</td>\n",
       "      <td>333613.0</td>\n",
       "      <td>BYhei9PABOI</td>\n",
       "      <td>7237.0</td>\n",
       "    </tr>\n",
       "    <tr>\n",
       "      <th>6</th>\n",
       "      <td>1695</td>\n",
       "      <td>7389.0</td>\n",
       "      <td>BxsFBirn_01</td>\n",
       "      <td>312.0</td>\n",
       "    </tr>\n",
       "    <tr>\n",
       "      <th>7</th>\n",
       "      <td>7166</td>\n",
       "      <td>22670.0</td>\n",
       "      <td>Bx2OXsCj-aG</td>\n",
       "      <td>4487.0</td>\n",
       "    </tr>\n",
       "    <tr>\n",
       "      <th>8</th>\n",
       "      <td>7166</td>\n",
       "      <td>22670.0</td>\n",
       "      <td>Bwrhe3dlbHd</td>\n",
       "      <td>6512.0</td>\n",
       "    </tr>\n",
       "    <tr>\n",
       "      <th>9</th>\n",
       "      <td>8730</td>\n",
       "      <td>1751.0</td>\n",
       "      <td>BxH4cC-hA6r</td>\n",
       "      <td>40.0</td>\n",
       "    </tr>\n",
       "  </tbody>\n",
       "</table>\n",
       "</div>"
      ],
      "text/plain": [
       "    sid  followers      post_id  numbr_likes\n",
       "0  1196     2832.0  BwueoQygJjE        145.0\n",
       "1  1209    11559.0  ByE6E9qHDAo        149.0\n",
       "2  1360   957577.0  BxHgrI5F1g9       9223.0\n",
       "3  1373   178804.0  BmhcCY4ngY_       4879.0\n",
       "4  1607   333613.0  BZNALUyA3JU       2089.0\n",
       "5  1607   333613.0  BYhei9PABOI       7237.0\n",
       "6  1695     7389.0  BxsFBirn_01        312.0\n",
       "7  7166    22670.0  Bx2OXsCj-aG       4487.0\n",
       "8  7166    22670.0  Bwrhe3dlbHd       6512.0\n",
       "9  8730     1751.0  BxH4cC-hA6r         40.0"
      ]
     },
     "execution_count": 8,
     "metadata": {},
     "output_type": "execute_result"
    }
   ],
   "source": [
    "result.head(10)"
   ]
  },
  {
   "cell_type": "code",
   "execution_count": 9,
   "id": "c795ad97",
   "metadata": {},
   "outputs": [
    {
     "name": "stdout",
     "output_type": "stream",
     "text": [
      "15.20% of the posts have 20% more likes than followers of the user that posted the post\n"
     ]
    }
   ],
   "source": [
    "fs.probQ7(result)"
   ]
  },
  {
   "cell_type": "markdown",
   "id": "41e331fc",
   "metadata": {},
   "source": [
    " "
   ]
  },
  {
   "cell_type": "markdown",
   "id": "c7eeeebb",
   "metadata": {},
   "source": [
    "#### - Do users usually return to locations? Extract the probability that a user returns to a site after having posted it in the past. Does that probability make sense to you? Explain why or why not."
   ]
  },
  {
   "cell_type": "markdown",
   "id": "a772a448",
   "metadata": {},
   "source": [
    "For this question we assumed that the variable: 'location_id' in the posts dataset is valid as to know where the post is set.\n",
    "So we will need from the profiles dataset only the variable 'sid' for the users ID and from the posts we will extract: 'sid_profile','post_id' & 'location_id', to create a new dataset containing the posts from every user and the location wether it is present or not.\n",
    "Furthermore we decided to sort the users ID to get a visual idea if they actually return to location and post about it."
   ]
  },
  {
   "cell_type": "code",
   "execution_count": 5,
   "id": "d81c9b73",
   "metadata": {},
   "outputs": [],
   "source": [
    "profiles = data_profiles[['sid']].sort_values(by = 'sid', ascending = True)\n",
    "chunks = pd.read_csv(INSTAGRAM_POSTS_PATH, usecols = ['sid_profile','post_id','location_id'], delimiter ='\\t',chunksize = 100000)"
   ]
  },
  {
   "cell_type": "markdown",
   "id": "effcf31f",
   "metadata": {},
   "source": [
    "We create our new dataframe:"
   ]
  },
  {
   "cell_type": "code",
   "execution_count": 75,
   "id": "3132b9bb",
   "metadata": {},
   "outputs": [
    {
     "name": "stderr",
     "output_type": "stream",
     "text": [
      "428it [11:23,  1.60s/it]\n"
     ]
    }
   ],
   "source": [
    "new_df = []\n",
    "\n",
    "for data in tqdm(chunks):\n",
    "    new_df.append(pd.merge(profiles,data,left_on = 'sid', right_on = 'sid_profile').drop('sid_profile', axis = 1))\n",
    "\n",
    "new_df = pd.concat(new_df)\n",
    "new_df.rename({'sid': 'user', 'post_id': 'post','location_id':'location'}, axis=1, inplace = True)"
   ]
  },
  {
   "cell_type": "code",
   "execution_count": 76,
   "id": "42e1331a",
   "metadata": {},
   "outputs": [
    {
     "data": {
      "text/plain": [
       "(27437048, 3)"
      ]
     },
     "execution_count": 76,
     "metadata": {},
     "output_type": "execute_result"
    }
   ],
   "source": [
    "new_df.shape"
   ]
  },
  {
   "cell_type": "markdown",
   "id": "6a3fa144",
   "metadata": {},
   "source": [
    "We assure that everything went well will our transformation, we can see that the number of rows are the same we changed our variables names to be more clear in our analysis."
   ]
  },
  {
   "cell_type": "code",
   "execution_count": 77,
   "id": "eefdb0d4",
   "metadata": {},
   "outputs": [
    {
     "data": {
      "text/html": [
       "<div>\n",
       "<style scoped>\n",
       "    .dataframe tbody tr th:only-of-type {\n",
       "        vertical-align: middle;\n",
       "    }\n",
       "\n",
       "    .dataframe tbody tr th {\n",
       "        vertical-align: top;\n",
       "    }\n",
       "\n",
       "    .dataframe thead th {\n",
       "        text-align: right;\n",
       "    }\n",
       "</style>\n",
       "<table border=\"1\" class=\"dataframe\">\n",
       "  <thead>\n",
       "    <tr style=\"text-align: right;\">\n",
       "      <th></th>\n",
       "      <th>user</th>\n",
       "      <th>post</th>\n",
       "      <th>location</th>\n",
       "    </tr>\n",
       "  </thead>\n",
       "  <tbody>\n",
       "    <tr>\n",
       "      <th>0</th>\n",
       "      <td>1196</td>\n",
       "      <td>BwueoQygJjE</td>\n",
       "      <td>1.081639e+07</td>\n",
       "    </tr>\n",
       "    <tr>\n",
       "      <th>1</th>\n",
       "      <td>1209</td>\n",
       "      <td>ByE6E9qHDAo</td>\n",
       "      <td>1.974956e+15</td>\n",
       "    </tr>\n",
       "    <tr>\n",
       "      <th>2</th>\n",
       "      <td>1360</td>\n",
       "      <td>BxHgrI5F1g9</td>\n",
       "      <td>4.059691e+08</td>\n",
       "    </tr>\n",
       "    <tr>\n",
       "      <th>3</th>\n",
       "      <td>1373</td>\n",
       "      <td>BmhcCY4ngY_</td>\n",
       "      <td>2.039243e+14</td>\n",
       "    </tr>\n",
       "    <tr>\n",
       "      <th>4</th>\n",
       "      <td>1607</td>\n",
       "      <td>BZNALUyA3JU</td>\n",
       "      <td>2.805481e+08</td>\n",
       "    </tr>\n",
       "    <tr>\n",
       "      <th>5</th>\n",
       "      <td>1607</td>\n",
       "      <td>BYhei9PABOI</td>\n",
       "      <td>2.393396e+08</td>\n",
       "    </tr>\n",
       "    <tr>\n",
       "      <th>6</th>\n",
       "      <td>1695</td>\n",
       "      <td>BxsFBirn_01</td>\n",
       "      <td>7.891369e+14</td>\n",
       "    </tr>\n",
       "    <tr>\n",
       "      <th>7</th>\n",
       "      <td>7166</td>\n",
       "      <td>Bx2OXsCj-aG</td>\n",
       "      <td>1.482141e+08</td>\n",
       "    </tr>\n",
       "    <tr>\n",
       "      <th>8</th>\n",
       "      <td>7166</td>\n",
       "      <td>Bwrhe3dlbHd</td>\n",
       "      <td>1.482141e+08</td>\n",
       "    </tr>\n",
       "    <tr>\n",
       "      <th>9</th>\n",
       "      <td>8730</td>\n",
       "      <td>BxH4cC-hA6r</td>\n",
       "      <td>2.964076e+08</td>\n",
       "    </tr>\n",
       "  </tbody>\n",
       "</table>\n",
       "</div>"
      ],
      "text/plain": [
       "   user         post      location\n",
       "0  1196  BwueoQygJjE  1.081639e+07\n",
       "1  1209  ByE6E9qHDAo  1.974956e+15\n",
       "2  1360  BxHgrI5F1g9  4.059691e+08\n",
       "3  1373  BmhcCY4ngY_  2.039243e+14\n",
       "4  1607  BZNALUyA3JU  2.805481e+08\n",
       "5  1607  BYhei9PABOI  2.393396e+08\n",
       "6  1695  BxsFBirn_01  7.891369e+14\n",
       "7  7166  Bx2OXsCj-aG  1.482141e+08\n",
       "8  7166  Bwrhe3dlbHd  1.482141e+08\n",
       "9  8730  BxH4cC-hA6r  2.964076e+08"
      ]
     },
     "execution_count": 77,
     "metadata": {},
     "output_type": "execute_result"
    }
   ],
   "source": [
    "new_df.head(10)"
   ]
  },
  {
   "cell_type": "code",
   "execution_count": 78,
   "id": "609bdeba",
   "metadata": {},
   "outputs": [
    {
     "data": {
      "text/html": [
       "<div>\n",
       "<style scoped>\n",
       "    .dataframe tbody tr th:only-of-type {\n",
       "        vertical-align: middle;\n",
       "    }\n",
       "\n",
       "    .dataframe tbody tr th {\n",
       "        vertical-align: top;\n",
       "    }\n",
       "\n",
       "    .dataframe thead th {\n",
       "        text-align: right;\n",
       "    }\n",
       "</style>\n",
       "<table border=\"1\" class=\"dataframe\">\n",
       "  <thead>\n",
       "    <tr style=\"text-align: right;\">\n",
       "      <th></th>\n",
       "      <th>user</th>\n",
       "      <th>location</th>\n",
       "    </tr>\n",
       "  </thead>\n",
       "  <tbody>\n",
       "    <tr>\n",
       "      <th>9707201</th>\n",
       "      <td>4510783</td>\n",
       "      <td>1</td>\n",
       "    </tr>\n",
       "    <tr>\n",
       "      <th>9707202</th>\n",
       "      <td>4510783</td>\n",
       "      <td>1</td>\n",
       "    </tr>\n",
       "    <tr>\n",
       "      <th>9707203</th>\n",
       "      <td>4510783</td>\n",
       "      <td>1</td>\n",
       "    </tr>\n",
       "    <tr>\n",
       "      <th>9707204</th>\n",
       "      <td>4510783</td>\n",
       "      <td>1</td>\n",
       "    </tr>\n",
       "    <tr>\n",
       "      <th>9707205</th>\n",
       "      <td>4510783</td>\n",
       "      <td>1</td>\n",
       "    </tr>\n",
       "    <tr>\n",
       "      <th>9707206</th>\n",
       "      <td>4510784</td>\n",
       "      <td>22</td>\n",
       "    </tr>\n",
       "    <tr>\n",
       "      <th>9707207</th>\n",
       "      <td>4510785</td>\n",
       "      <td>2</td>\n",
       "    </tr>\n",
       "    <tr>\n",
       "      <th>9707208</th>\n",
       "      <td>4510785</td>\n",
       "      <td>1</td>\n",
       "    </tr>\n",
       "    <tr>\n",
       "      <th>9707209</th>\n",
       "      <td>4510785</td>\n",
       "      <td>2</td>\n",
       "    </tr>\n",
       "    <tr>\n",
       "      <th>9707210</th>\n",
       "      <td>4510785</td>\n",
       "      <td>1</td>\n",
       "    </tr>\n",
       "  </tbody>\n",
       "</table>\n",
       "</div>"
      ],
      "text/plain": [
       "            user  location\n",
       "9707201  4510783         1\n",
       "9707202  4510783         1\n",
       "9707203  4510783         1\n",
       "9707204  4510783         1\n",
       "9707205  4510783         1\n",
       "9707206  4510784        22\n",
       "9707207  4510785         2\n",
       "9707208  4510785         1\n",
       "9707209  4510785         2\n",
       "9707210  4510785         1"
      ]
     },
     "execution_count": 78,
     "metadata": {},
     "output_type": "execute_result"
    }
   ],
   "source": [
    "summary = new_df.groupby(['user','location'], as_index = False)['location'].count()\n",
    "summary.tail(10)"
   ]
  },
  {
   "cell_type": "markdown",
   "id": "0276e9e0",
   "metadata": {},
   "source": [
    "By grouping by 'user' & 'location' we can see which user went to a specific location more then once. For our probability it is just a casa of favorable odds divided by total odds, so we need to count how many times a user has gone back more then once and then divide it by the total amount of users."
   ]
  },
  {
   "cell_type": "code",
   "execution_count": 79,
   "id": "872f0407",
   "metadata": {},
   "outputs": [
    {
     "name": "stdout",
     "output_type": "stream",
     "text": [
      "18.80% of users have gone back at least once to the location\n"
     ]
    }
   ],
   "source": [
    "probability = sum(summary['location'] > 1)/len(summary['user'])\n",
    "print('{0:.2%} of users have gone back at least once to the location'.format(round(probability,3)))"
   ]
  },
  {
   "cell_type": "markdown",
   "id": "05b9064c",
   "metadata": {},
   "source": [
    "It seems probabilistically accurate that 18.8% of users return to a location, especially if you think that they posted about it the first time, it means it has to be some place of importance for the users, for beauty, fun, or other emotions than can urge an user to post about a location. So it would seem logical for us to assume that such a place will be revisited when the possibility is there. That is why an 18.8% sounds rather logical to us."
   ]
  },
  {
   "cell_type": "markdown",
   "id": "17a6c365",
   "metadata": {},
   "source": [
    " "
   ]
  },
  {
   "cell_type": "markdown",
   "id": "53245520",
   "metadata": {},
   "source": [
    "## [RQ8] Every decision you take in a data-based environment should be reinforced with charts, statistical tests and analysis methods to check whether a hypothesis is correct or not."
   ]
  },
  {
   "cell_type": "markdown",
   "id": "930b54fd",
   "metadata": {},
   "source": [
    " "
   ]
  },
  {
   "cell_type": "markdown",
   "id": "04431c87",
   "metadata": {},
   "source": [
    "#### - Does more “likes” also mean more comments? Plot a scatter plot of “likes” vs comments for posts."
   ]
  },
  {
   "cell_type": "code",
   "execution_count": 51,
   "id": "d3d226d2",
   "metadata": {},
   "outputs": [],
   "source": [
    "df = pd.read_csv(INSTAGRAM_POSTS_PATH,usecols = ['numbr_likes','number_comments'], delimiter='\\t')"
   ]
  },
  {
   "cell_type": "markdown",
   "id": "3f69ae4e",
   "metadata": {},
   "source": [
    " "
   ]
  },
  {
   "cell_type": "markdown",
   "id": "a3d1ee99",
   "metadata": {},
   "source": [
    "Let us see if there are any NA's in our two variables:"
   ]
  },
  {
   "cell_type": "code",
   "execution_count": 64,
   "id": "15dcaefc",
   "metadata": {},
   "outputs": [
    {
     "data": {
      "text/plain": [
       "36"
      ]
     },
     "metadata": {},
     "output_type": "display_data"
    },
    {
     "data": {
      "text/plain": [
       "36"
      ]
     },
     "metadata": {},
     "output_type": "display_data"
    }
   ],
   "source": [
    "display(df['numbr_likes'].isna().sum())\n",
    "display(df['number_comments'].isna().sum())"
   ]
  },
  {
   "cell_type": "markdown",
   "id": "9ba4a881",
   "metadata": {},
   "source": [
    "there are 36 Na for both the variables, so for this scatterplot it is more correct to drop them then to assign the value 0 to these Na values."
   ]
  },
  {
   "cell_type": "code",
   "execution_count": 63,
   "id": "0cd2e45c",
   "metadata": {},
   "outputs": [
    {
     "data": {
      "text/plain": [
       "0"
      ]
     },
     "metadata": {},
     "output_type": "display_data"
    },
    {
     "data": {
      "text/plain": [
       "0"
      ]
     },
     "metadata": {},
     "output_type": "display_data"
    }
   ],
   "source": [
    "new_df = df.dropna()\n",
    "display(new_df['numbr_likes'].isna().sum())\n",
    "display(new_df['number_comments'].isna().sum())"
   ]
  },
  {
   "cell_type": "markdown",
   "id": "cc29c863",
   "metadata": {},
   "source": [
    "We can proceed with our analysis seeing that there are 0 NA's for both the variables"
   ]
  },
  {
   "cell_type": "code",
   "execution_count": 68,
   "id": "7b1418c1",
   "metadata": {},
   "outputs": [
    {
     "data": {
      "image/png": "[encoded data removed]",
      "text/plain": [
       "<Figure size 432x288 with 1 Axes>"
      ]
     },
     "metadata": {
      "needs_background": "light"
     },
     "output_type": "display_data"
    }
   ],
   "source": [
    "fs.scatter_plot(new_df['numbr_likes'],new_df['number_comments'])"
   ]
  },
  {
   "cell_type": "markdown",
   "id": "211aa01a",
   "metadata": {},
   "source": [
    "in this scatterplot you can see the relationship between likes and comments. The bisector is there to guide our eyes. The data points below our bisector gives us those posts that have more likes than comments and vicevers. The further the data points move from the bisector the more the relationship is lobsides towards likes or comments based on where the data point is."
   ]
  },
  {
   "cell_type": "markdown",
   "id": "27381a2f",
   "metadata": {},
   "source": [
    " "
   ]
  },
  {
   "cell_type": "markdown",
   "id": "a7cb35a4",
   "metadata": {},
   "source": [
    "#### - Can you find any significant relationship between the time a user publishes a post and the number of comments and “likes”? Use an appropriate statistical test or technique and support your choice."
   ]
  },
  {
   "cell_type": "code",
   "execution_count": null,
   "id": "232bc487",
   "metadata": {},
   "outputs": [],
   "source": []
  },
  {
   "cell_type": "markdown",
   "id": "ea4ff159",
   "metadata": {},
   "source": []
  },
  {
   "cell_type": "markdown",
   "id": "755155a1",
   "metadata": {},
   "source": [
    "#### - What’s the distribution of followers? Plot the empirical distribution of followers amongst all users and extract the mean, mode, and quantiles. Interpret those figures."
   ]
  },
  {
   "cell_type": "code",
   "execution_count": 29,
   "id": "f9135945",
   "metadata": {},
   "outputs": [],
   "source": [
    "post_sort = data_profiles.sort_values(by = 'followers', ascending = False)\n",
    "solo_foll = post_sort['followers']"
   ]
  },
  {
   "cell_type": "markdown",
   "id": "a0900cc9",
   "metadata": {},
   "source": [
    "Again we will need only the 'followers' column of our dataset for this point.  "
   ]
  },
  {
   "cell_type": "code",
   "execution_count": 44,
   "id": "e7863205",
   "metadata": {},
   "outputs": [
    {
     "data": {
      "image/png": "[encoded data removed]",
      "text/plain": [
       "<Figure size 1100x345.6 with 1 Axes>"
      ]
     },
     "metadata": {
      "needs_background": "light"
     },
     "output_type": "display_data"
    },
    {
     "data": {
      "text/plain": [
       "(4509586,)"
      ]
     },
     "execution_count": 44,
     "metadata": {},
     "output_type": "execute_result"
    }
   ],
   "source": [
    "fs.emp_distr(solo_foll)\n",
    "solo_foll.shape"
   ]
  },
  {
   "cell_type": "markdown",
   "id": "a06b2fa2",
   "metadata": {},
   "source": [
    "We have escluded the first 100.000 users, so this distribution is based on 4.4 milion users out of the 4.5 milion.   \n",
    "We omitted the users with the lowest number of followers because otherwise our histogram would have shown only the first values,    \n",
    "because of their particular outliers value.\n",
    "We can see that the vast majority of the distribution has fewer than 500 followers,   \n",
    "and only a small tail of the distribution shows a large number of followers."
   ]
  },
  {
   "cell_type": "markdown",
   "id": "6b75d85e",
   "metadata": {},
   "source": [
    " "
   ]
  },
  {
   "cell_type": "markdown",
   "id": "00ce91c4",
   "metadata": {},
   "source": [
    "now to extract the mean mode an quantiles of the distribution:"
   ]
  },
  {
   "cell_type": "code",
   "execution_count": 69,
   "id": "ea2971c2",
   "metadata": {},
   "outputs": [
    {
     "name": "stdout",
     "output_type": "stream",
     "text": [
      "1. the average number of followers for an instagram account is: 4739.9\n",
      "2. the number of followers that appear the most for instagram accounts is: 0.0\n",
      "3. the 10 quantiles of our distribution are:\n",
      "0.0            0.0\n",
      "0.1           60.0\n",
      "0.2          124.0\n",
      "0.3          198.0\n",
      "0.4          289.0\n",
      "0.6          563.0\n",
      "0.7          804.0\n",
      "0.8         1191.0\n",
      "0.9         2502.0\n",
      "1.0    285457645.0\n",
      "Name: followers, dtype: float64\n"
     ]
    }
   ],
   "source": [
    "fs.m_m_q(solo_foll)"
   ]
  },
  {
   "cell_type": "markdown",
   "id": "4dbc8a36",
   "metadata": {},
   "source": [
    "#### - What are histograms, bar plots, scatterplots and pie charts used for?"
   ]
  },
  {
   "cell_type": "markdown",
   "id": "06e24629",
   "metadata": {},
   "source": [
    "-Histograms:\n",
    "Histograms are a very usual type of graphical representation of data points divided in ranges, or bins. \n",
    "The vertical Y-axis represents the counts or percentage of occurences in the data for each column.\n",
    "Histograms are commonly used in statistics to show how many of certain type of variable occur in a specific range\n",
    "\n",
    "-Bar plots:\n",
    "Bar plots, although they look similar to histogram serve a different purpose. While histograms are there to visualize the property of a distribution, bar plots work well when we compare categories, so on the X-axis we will not find, bins or numerical values, like the histogram, but variables. the width of each bar is the same because we do not consider densities like the histogram. We will see gaps between bars, which are reordable unlike the histogram.\n",
    "\n",
    "-scatterplot:\n",
    "A scatterplot uses dots to represent values for two different numeric variable. Each dot is the intersection between the X-axis and Y-axis, and it represents a single data, in relation between two numerical variables.\n",
    "Usually a scatterplot is used when looking for correlation between two variables, which can be visible in a scatter if the data points seem to move in a similar direction.\n",
    "\n",
    "-Pie chart:\n",
    "A pie chart is a circular statistical chart, where the portions of the circle represent the numerical proportion of the variable in the overall dataset. It is the most used graph in the mass media, as it is very easy to read and a very visual tool, although it has been heavily criticized by experts, because these portions are not very recognizable based on size, especially when we are comparing data over multiple pie charts."
   ]
  },
  {
   "cell_type": "markdown",
   "id": "9b64c905",
   "metadata": {},
   "source": [
    "#### - What insights can you extract from a Box Plot?"
   ]
  },
  {
   "cell_type": "markdown",
   "id": "107fcddc",
   "metadata": {},
   "source": [
    "A boxplot is a standardized way of visualizing the distribution of a certain dataset based on a five number summary (“minimum”, first quartile [Q1], median, third quartile [Q3] and “maximum”). It can give important information about the outliers and theiir values, furthermore it can give accurate descriptions of the simmetry of the distributions you are analizing. "
   ]
  },
  {
   "cell_type": "code",
   "execution_count": 3,
   "id": "2abd1ce9",
   "metadata": {},
   "outputs": [
    {
     "data": {
      "image/png": "[encoded data removed]",
      "text/plain": [
       "<Figure size 720x504 with 1 Axes>"
      ]
     },
     "metadata": {
      "needs_background": "light"
     },
     "output_type": "display_data"
    }
   ],
   "source": [
    "np.random.seed(10)\n",
    "data = np.random.normal(100, 20, 200)\n",
    " \n",
    "fig = plt.figure(figsize =(10, 7))\n",
    "\n",
    "plt.boxplot(data)\n",
    "plt.show()"
   ]
  },
  {
   "cell_type": "markdown",
   "id": "9081d346",
   "metadata": {},
   "source": [
    "As you can see the orange line stands for the second quartile, or the 'median' as it is called. Furthermore The middle “box” represents the middle 50% of scores for the group. The range of scores from lower to upper quartile is referred to as the inter-quartile range. The middle 50% of scores fall within the inter-quartile range.\n",
    "The upper and lower whiskers represent scores outside the middle 50%. Whiskers often (but not always) stretch over a wider range of scores than the middle quartile groups.\n",
    "And the small dots outside the whiskers are the outliers, the values that are seen as anomalies inside the distribution that is being studied."
   ]
  },
  {
   "cell_type": "markdown",
   "id": "2a3b2afb",
   "metadata": {},
   "source": [
    "## Bonus points"
   ]
  },
  {
   "cell_type": "markdown",
   "id": "ffb93dd1",
   "metadata": {},
   "source": [
    "Up to this point, you probably have worked with one or two files simultaneously. Nevertheless, for the literals a. and b. of this section, you must work with the three datasets at the same time. Note that performing some of these operations might be too complex for your pc specs. For this reason, we suggest you make use of AWS (yeah! only a suggestion). In case you need it, in the following links you can find the same three files already mounted into AWS for you to work with them easily (instagram_posts, instagram_profiles, instagram_locations)."
   ]
  },
  {
   "cell_type": "markdown",
   "id": "7a25b10e",
   "metadata": {},
   "source": [
    "#### a. Sort the users in terms of number of followers and divide them into two groups: for the first group, take only the top 10% regarding \"followers\", and for the second one, take the rest. Now compare the mean of time intervals between posts for the two categories. Do you notice something relevant?"
   ]
  },
  {
   "cell_type": "markdown",
   "id": "43886873",
   "metadata": {},
   "source": [
    "#### b. Assume users publish their posts the same day pictures or videos are taken: Are there users that have visited the same location on the same day? How about the same week? Extract the results and explain them."
   ]
  },
  {
   "cell_type": "markdown",
   "id": "ba90de81",
   "metadata": {},
   "source": [
    "#### c. Implement a text data analysis (also known as text mining) of the field \"description\" from instagram_posts.csv for descriptions written in English. Use appropriate visualizations and statistics to highlight the words (and probably the topics) provided for the users in that field."
   ]
  },
  {
   "cell_type": "markdown",
   "id": "74e0c619",
   "metadata": {},
   "source": [
    "# Command Line Question"
   ]
  },
  {
   "cell_type": "markdown",
   "id": "9ecb0e65",
   "metadata": {},
   "source": [
    "Using the command line is a feature that Data Scientists must master. It is relevant since the operations there require less memory to use in comparison to other interfaces. It also does not use as much CPU processing time as other interfaces. In addition, it can be faster and more efficient and handle repetitive tasks quickly.\n",
    "\n",
    "In this question, you should use command line tools such as grep and possibly other commands to answer the following question:"
   ]
  },
  {
   "cell_type": "markdown",
   "id": "b112d5fc",
   "metadata": {},
   "source": [
    "#### Using the instagram_posts.csv, retrieve the first ten posts with descriptions longer than 100 characters and output the profiles that posted them. (Please keep in mind that the profile associated with some of those posts may not be found in the profiles. You can simply output User was not found! for those posts.)"
   ]
  },
  {
   "cell_type": "code",
   "execution_count": null,
   "id": "e82b733f",
   "metadata": {},
   "outputs": [],
   "source": []
  },
  {
   "cell_type": "markdown",
   "id": "2e700b94",
   "metadata": {},
   "source": [
    "Note: You may work on this question in any environment (AWS, your PC command line, Jupyter notebook, etc.), but the final script must be placed in CommandLine.sh, which must be executable.\n",
    "Algorithmic Question"
   ]
  },
  {
   "cell_type": "markdown",
   "id": "dad28d44",
   "metadata": {},
   "source": [
    "# ALGORITHMIC QUESTION"
   ]
  },
  {
   "cell_type": "markdown",
   "id": "2ecc9196",
   "metadata": {},
   "source": [
    "## [AQ1] Given the following pseudocode, answer the questions:"
   ]
  },
  {
   "cell_type": "code",
   "execution_count": null,
   "id": "2825c334",
   "metadata": {},
   "outputs": [],
   "source": [
    "Input:   \n",
    "    N : an integer   \n",
    "    List : array of characters of length N without repetition  \n",
    "    \n",
    "function f1(sequence, end):   \n",
    "    For i=0 To end:\n",
    "        OUTPUT sequence[i]\n",
    "    EndFor\n",
    "    Output \"\\n\"\n",
    "    \n",
    "function f2(sequence, start, end): \n",
    "    If start = end: \n",
    "        f1(sequence, end)\n",
    "    Else\n",
    "        For i=start To end: \n",
    "            temp <-- sequence[start]\n",
    "            sequence[start] <-- sequence[i]\n",
    "            sequence[i] <-- temp\n",
    "            f2(sequence, start+1, end)\n",
    "            temp <-- sequence[start]\n",
    "            sequence[start] <-- sequence[i]\n",
    "            sequence[i] <-- temp\n",
    "f2(List, 0, N)"
   ]
  },
  {
   "cell_type": "markdown",
   "id": "342b4ebe",
   "metadata": {},
   "source": [
    "#### - What is the output of this algorithm? Describe the mechanism of the algorithm in detail . We do not want to know only its final result. (Describe one example on your own)"
   ]
  },
  {
   "cell_type": "markdown",
   "id": "1bf1cdd0",
   "metadata": {},
   "source": [
    "This algorithm is designed to find all the permutations of a string of characters without repetition. We do not use repetition because in the initial statements we can see that the characters are unique.\n",
    "\n",
    "**first part**  \n",
    "the f2 function is called once together with the two inputs so for a total of 3\n",
    "We go into the f2 function and the *if* statement will always be called N times\n",
    "going into the *else* statement called N times it just goes through the list without changes and gets interrupted every time for a recursive call *f2* function, this goes on untill start = N and a call function to *f1* starts.\n",
    "\n",
    "**second part**  \n",
    "*f1* is a simple for loop (N-1 times) where every character in the list gets printed.\n",
    "\n",
    "**third part**  \n",
    "we go back to last interrupted series so where *start = N-1* and it finishes the for loop with no change in the order of our list, it then proceed to go back to the *N-2* loop where it finishes the *i = N-2* call so now the first change happens in the list:  \n",
    "  \n",
    "*start = N-2* but *i = N-1* so following the initial part of the *for* loop it basically swaps the *N-1* and *N-2* characters in the list, then proceeding to finishing the loop and calling the *f1* function.\n",
    "\n",
    "**fourth part**  \n",
    "it proceeds to re-iterate this process back untill the very first *for* cycle where it goes throught it all one last time with swapping the last characters and finishing the cycle."
   ]
  },
  {
   "cell_type": "markdown",
   "id": "a2f34507",
   "metadata": {},
   "source": [
    "#### - What is asymptotically (i.e., we are asking for big-O complexity) the algorithm's running time as a function of N?"
   ]
  },
  {
   "cell_type": "markdown",
   "id": "b1499bf3",
   "metadata": {},
   "source": [
    "It is a recursion algorithm that calls itself. The running time depends on the value of n in this case n = N. every recursive algorithm has to check a boundary condition that in our case is defined as:\n",
    "\n",
    "*If start = end:*\n",
    "        \n",
    "In this case we have a recursive statement that creates $n!$ lists of size $n$. Because at all the for cycle that create all the $n!$ permutations of a string get called $n$ times so we will have a total runtime of:  \n",
    "\n",
    "$T(n) = O(n \\cdot n!)$"
   ]
  },
  {
   "cell_type": "markdown",
   "id": "f23c4327",
   "metadata": {},
   "source": [
    "#### - Is this algorithm the optimal one to produce this output? If not, can you suggest a better algorithm to perform the same task?"
   ]
  },
  {
   "cell_type": "code",
   "execution_count": 3,
   "id": "4719715f",
   "metadata": {},
   "outputs": [
    {
     "name": "stdout",
     "output_type": "stream",
     "text": [
      "abc\n",
      "acb\n",
      "bac\n",
      "bca\n",
      "cba\n",
      "cab\n"
     ]
    }
   ],
   "source": [
    "characters = 'abc'\n",
    "n = len(characters) \n",
    "new_list = list(characters) \n",
    "\n",
    "def permutations(new_list, i, length): \n",
    "    if i==length: \n",
    "        print(new_list)\n",
    "    else: \n",
    "        for j in range(i,length):\n",
    "            new_list[i], new_list[j] = new_list[j], new_list[i] \n",
    "            permutations(new_list, i+1, length) \n",
    "            new_list[i], new_list[j] = new_list[j], new_list[i]  \n",
    "\n",
    "permutations(new_list, 0, n)"
   ]
  },
  {
   "cell_type": "markdown",
   "id": "78388c88",
   "metadata": {},
   "source": [
    "It is a recursion algorithm that calls itself. The running time depends on the value of n in this case n = N. every recursive algorithm has to check a boundary condition that in our case is defined as:\n",
    "\n",
    "*if i==length:*\n",
    "        \n",
    "in this case we can divide the running time $T(n)$:\n",
    "$$T(n) =\n",
    "\\bigg \\{\n",
    "\\begin{array}{rl}\n",
    "2 & if: n = 0 \\\\\n",
    "n*T(n-1) & otherwise \\\\\n",
    "\\end{array}\n",
    "$$\n",
    "\n",
    "so this algorithm will not have a recall of $n$ times for the $n!$ cycles. This algorithm's running time can be seen as:  \n",
    "\n",
    "$T(n) = n \\cdot T(n-1) = n \\cdot (n-1) \\cdot T(n-2) = ... = O(n!)$"
   ]
  },
  {
   "cell_type": "markdown",
   "id": "eecf5d65",
   "metadata": {},
   "source": [
    "## [AQ2] Considering the following problem, answer the questions:"
   ]
  },
  {
   "cell_type": "markdown",
   "id": "61b2d2ce",
   "metadata": {},
   "source": [
    "Alex has a ribbon of length N. He wants to cut the ribbon in a way that fulfils the following three conditions:\n",
    "\n",
    "Each piece of the cut should have an integer length\n",
    "He should at least cut the ribbon once\n",
    "The multiplication of the length of all the pieces be the maximum possible"
   ]
  },
  {
   "cell_type": "markdown",
   "id": "77c6fc9c",
   "metadata": {},
   "source": [
    "#### 1. Implement a recursive algorithm to help Alex find the maximum possible value after multiplying the length of the pieces. Explain your algorithm in detail."
   ]
  },
  {
   "cell_type": "code",
   "execution_count": null,
   "id": "dd80d143",
   "metadata": {},
   "outputs": [],
   "source": []
  },
  {
   "cell_type": "markdown",
   "id": "e2dc0cd1",
   "metadata": {},
   "source": [
    "#### 2. Show that the algorithm has exponential running time."
   ]
  },
  {
   "cell_type": "code",
   "execution_count": null,
   "id": "e709d380",
   "metadata": {},
   "outputs": [],
   "source": []
  },
  {
   "cell_type": "markdown",
   "id": "45070765",
   "metadata": {},
   "source": [
    "#### 3. Now provide a polynomial solution, based on dynamic programming, and compute its running-time complexity."
   ]
  },
  {
   "cell_type": "code",
   "execution_count": null,
   "id": "5e9f1081",
   "metadata": {},
   "outputs": [],
   "source": []
  },
  {
   "cell_type": "markdown",
   "id": "c725300c",
   "metadata": {},
   "source": [
    "#### 4.Evaluate the running time of your algorithm for the sizes (Ns) in the range of [2, 25], plot the results, and interpret it(if you have implemented two algorithms, please include both in the plot and compare them)."
   ]
  },
  {
   "cell_type": "code",
   "execution_count": null,
   "id": "1d69679e",
   "metadata": {},
   "outputs": [],
   "source": []
  },
  {
   "cell_type": "markdown",
   "id": "54655464",
   "metadata": {},
   "source": [
    "#### 5. (Optional, mini bonus) Is the algorithm of question 3 optimal? If you belive it, can you prove it? If not, can you find a faster algorithm? In case you found a faster algorithm implement it and explain your algorithm in detail."
   ]
  },
  {
   "cell_type": "code",
   "execution_count": null,
   "id": "377fa105",
   "metadata": {},
   "outputs": [],
   "source": []
  }
 ],
 "metadata": {
  "kernelspec": {
   "display_name": "Python 3 (ipykernel)",
   "language": "python",
   "name": "python3"
  },
  "language_info": {
   "codemirror_mode": {
    "name": "ipython",
    "version": 3
   },
   "file_extension": ".py",
   "mimetype": "text/x-python",
   "name": "python",
   "nbconvert_exporter": "python",
   "pygments_lexer": "ipython3",
   "version": "3.9.12"
  }
 },
 "nbformat": 4,
 "nbformat_minor": 5
}

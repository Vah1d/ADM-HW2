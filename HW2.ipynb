{
 "cells": [
  {
   "cell_type": "markdown",
   "id": "e8064fb1",
   "metadata": {},
   "source": [
    "# RESEARCH QUESTIONS"
   ]
  },
  {
   "cell_type": "markdown",
   "id": "47eb7a92",
   "metadata": {},
   "source": [
    "## [RQ1] After collecting information, the Data Scientists have to know what dataset they are dealing with, so let's start with an Exploratory Data Analysis (EDA). What can you say about our datasets? Please summarise its main characteristics with visual and tabular methods."
   ]
  },
  {
   "cell_type": "code",
   "execution_count": 75,
   "id": "0ee2f35c",
   "metadata": {},
   "outputs": [],
   "source": [
    "INSTAGRAM_PROFILE_PATH = 'data/instagram_profiles.csv.zip'\n",
    "INSTAGRAM_POSTS_PATH = 'data/instagram_posts.csv.zip'\n",
    "INSTAGRAM_LOCATIONS_PATH = 'data/instagram_locations.csv.zip'\n"
   ]
  },
  {
   "cell_type": "code",
   "execution_count": 76,
   "id": "4c8a9fc3",
   "metadata": {},
   "outputs": [],
   "source": [
    "import pandas as pd\n",
    "from matplotlib import pyplot as plt\n",
    "import numpy as np\n",
    "from tqdm import tqdm"
   ]
  },
  {
   "cell_type": "code",
   "execution_count": 77,
   "id": "a000d812",
   "metadata": {},
   "outputs": [],
   "source": [
    "data_profiles = pd.read_csv(INSTAGRAM_PROFILE_PATH, delimiter='\\t')"
   ]
  },
  {
   "cell_type": "code",
   "execution_count": 24,
   "id": "dbf2c41d",
   "metadata": {},
   "outputs": [
    {
     "data": {
      "text/plain": [
       "sid                          0\n",
       "profile_id               32447\n",
       "profile_name                 0\n",
       "firstname_lastname      288465\n",
       "description            2055996\n",
       "following              1056815\n",
       "followers              1056815\n",
       "n_posts                1056815\n",
       "url                    3639312\n",
       "cts                     438488\n",
       "is_business_account    1064263\n",
       "dtype: int64"
      ]
     },
     "execution_count": 24,
     "metadata": {},
     "output_type": "execute_result"
    }
   ],
   "source": [
    "data_profiles.isna().sum()"
   ]
  },
  {
   "cell_type": "code",
   "execution_count": 18,
   "id": "002cc93b",
   "metadata": {},
   "outputs": [
    {
     "data": {
      "text/plain": [
       "sid                    0\n",
       "profile_id             0\n",
       "profile_name           0\n",
       "firstname_lastname     0\n",
       "description            0\n",
       "following              0\n",
       "followers              0\n",
       "n_posts                0\n",
       "url                    0\n",
       "cts                    0\n",
       "is_business_account    0\n",
       "dtype: int64"
      ]
     },
     "execution_count": 18,
     "metadata": {},
     "output_type": "execute_result"
    }
   ],
   "source": [
    "data_profiles.profile_id.dropna(inplace = True)\n",
    "data_profiles.is_business_account.fillna(False, inplace=True)\n",
    "data_profiles = data_profiles.fillna(0)\n",
    "data_profiles.isna().sum()"
   ]
  },
  {
   "cell_type": "markdown",
   "id": "aca23aa4",
   "metadata": {},
   "source": [
    "## [RQ2] Let's explore the dataset by finding simple insights regarding the profile and posts."
   ]
  },
  {
   "cell_type": "markdown",
   "id": "0a5bdeeb",
   "metadata": {},
   "source": [
    "#### - Plot the number of posts for each profile in descending order."
   ]
  },
  {
   "cell_type": "code",
   "execution_count": 89,
   "id": "282fbd73",
   "metadata": {},
   "outputs": [
    {
     "name": "stderr",
     "output_type": "stream",
     "text": [
      "C:\\Users\\flavi\\AppData\\Local\\Temp\\ipykernel_65844\\1414956920.py:3: SettingWithCopyWarning: \n",
      "A value is trying to be set on a copy of a slice from a DataFrame\n",
      "\n",
      "See the caveats in the documentation: https://pandas.pydata.org/pandas-docs/stable/user_guide/indexing.html#returning-a-view-versus-a-copy\n",
      "  confronto_prof.dropna(inplace = True)\n"
     ]
    }
   ],
   "source": [
    "post_sort = data_profiles.sort_values(by = 'n_posts', ascending = False)\n",
    "confronto_prof = post_sort[['profile_name','n_posts']]"
   ]
  },
  {
   "cell_type": "code",
   "execution_count": 88,
   "id": "18064e24",
   "metadata": {},
   "outputs": [
    {
     "ename": "TypeError",
     "evalue": "scatter() missing 1 required positional argument: 'y'",
     "output_type": "error",
     "traceback": [
      "\u001b[1;31m---------------------------------------------------------------------------\u001b[0m",
      "\u001b[1;31mTypeError\u001b[0m                                 Traceback (most recent call last)",
      "Input \u001b[1;32mIn [88]\u001b[0m, in \u001b[0;36m<cell line: 2>\u001b[1;34m()\u001b[0m\n\u001b[0;32m      1\u001b[0m plt\u001b[38;5;241m.\u001b[39mfigure(figsize \u001b[38;5;241m=\u001b[39m (\u001b[38;5;241m1100\u001b[39m\u001b[38;5;241m/\u001b[39m\u001b[38;5;241m72.\u001b[39m,\u001b[38;5;241m4.8\u001b[39m))\n\u001b[1;32m----> 2\u001b[0m \u001b[43mplt\u001b[49m\u001b[38;5;241;43m.\u001b[39;49m\u001b[43mscatter\u001b[49m\u001b[43m(\u001b[49m\u001b[43mpost_sort\u001b[49m\u001b[43m[\u001b[49m\u001b[38;5;124;43m'\u001b[39;49m\u001b[38;5;124;43mn_posts\u001b[39;49m\u001b[38;5;124;43m'\u001b[39;49m\u001b[43m]\u001b[49m\u001b[38;5;241;43m.\u001b[39;49m\u001b[43mtail\u001b[49m\u001b[43m(\u001b[49m\u001b[38;5;241;43m200000\u001b[39;49m\u001b[43m)\u001b[49m\u001b[43m)\u001b[49m\n\u001b[0;32m      3\u001b[0m plt\u001b[38;5;241m.\u001b[39mshow()\n",
      "\u001b[1;31mTypeError\u001b[0m: scatter() missing 1 required positional argument: 'y'"
     ]
    },
    {
     "data": {
      "text/plain": [
       "<Figure size 1100x345.6 with 0 Axes>"
      ]
     },
     "metadata": {},
     "output_type": "display_data"
    }
   ],
   "source": [
    "plt.figure(figsize = (1100/72.,4.8))\n",
    "plt.hist(post_sort['n_posts'].tail(200000))\n",
    "plt.show()"
   ]
  },
  {
   "cell_type": "markdown",
   "id": "69ebd635",
   "metadata": {},
   "source": [
    "#### - What posts have the highest number of \"likes\"?"
   ]
  },
  {
   "cell_type": "code",
   "execution_count": 90,
   "id": "d951b4c4",
   "metadata": {},
   "outputs": [
    {
     "data": {
      "text/html": [
       "<div>\n",
       "<style scoped>\n",
       "    .dataframe tbody tr th:only-of-type {\n",
       "        vertical-align: middle;\n",
       "    }\n",
       "\n",
       "    .dataframe tbody tr th {\n",
       "        vertical-align: top;\n",
       "    }\n",
       "\n",
       "    .dataframe thead th {\n",
       "        text-align: right;\n",
       "    }\n",
       "</style>\n",
       "<table border=\"1\" class=\"dataframe\">\n",
       "  <thead>\n",
       "    <tr style=\"text-align: right;\">\n",
       "      <th></th>\n",
       "      <th>post_id</th>\n",
       "      <th>description</th>\n",
       "      <th>numbr_likes</th>\n",
       "    </tr>\n",
       "  </thead>\n",
       "  <tbody>\n",
       "    <tr>\n",
       "      <th>1336863</th>\n",
       "      <td>Bx-Ogi-hHYh</td>\n",
       "      <td>most definitely the city of love</td>\n",
       "      <td>2212264</td>\n",
       "    </tr>\n",
       "    <tr>\n",
       "      <th>1732100</th>\n",
       "      <td>BsTREbylYU_</td>\n",
       "      <td>Dead Sea ☠️ | @andymtzurita \\nThe amount of mi...</td>\n",
       "      <td>2013308</td>\n",
       "    </tr>\n",
       "    <tr>\n",
       "      <th>313806</th>\n",
       "      <td>BxrapKyCgg0</td>\n",
       "      <td>Склав присягу.</td>\n",
       "      <td>1963123</td>\n",
       "    </tr>\n",
       "    <tr>\n",
       "      <th>1441841</th>\n",
       "      <td>Brl3hGMAxiy</td>\n",
       "      <td>Photo by @overrated_outcast\\nOne word you can’...</td>\n",
       "      <td>1914299</td>\n",
       "    </tr>\n",
       "    <tr>\n",
       "      <th>1663123</th>\n",
       "      <td>BvIDeL4AC2h</td>\n",
       "      <td>🖼 The art of football\\n🔟 Perfection\\n🎨#WeColor...</td>\n",
       "      <td>1584738</td>\n",
       "    </tr>\n",
       "    <tr>\n",
       "      <th>918473</th>\n",
       "      <td>BqVfV4VlKRB</td>\n",
       "      <td>My long lost twin. You think we look alike? 😜</td>\n",
       "      <td>1376659</td>\n",
       "    </tr>\n",
       "    <tr>\n",
       "      <th>233650</th>\n",
       "      <td>Bld6LughoQ_</td>\n",
       "      <td>새벽에 커피 도둑✨ #89mansion</td>\n",
       "      <td>1355678</td>\n",
       "    </tr>\n",
       "    <tr>\n",
       "      <th>1319986</th>\n",
       "      <td>BvrsSAijOfE</td>\n",
       "      <td>insanın evladı gibisi yok, kurban oliyim sana ...</td>\n",
       "      <td>1320335</td>\n",
       "    </tr>\n",
       "    <tr>\n",
       "      <th>1188069</th>\n",
       "      <td>BaO_mhzlyeI</td>\n",
       "      <td>New security / nueva seguridad 😍</td>\n",
       "      <td>1303331</td>\n",
       "    </tr>\n",
       "    <tr>\n",
       "      <th>1384871</th>\n",
       "      <td>BV21MzmBfpw</td>\n",
       "      <td>The streets of Rosewood will always feel like ...</td>\n",
       "      <td>1215430</td>\n",
       "    </tr>\n",
       "  </tbody>\n",
       "</table>\n",
       "</div>"
      ],
      "text/plain": [
       "             post_id                                        description  \\\n",
       "1336863  Bx-Ogi-hHYh                   most definitely the city of love   \n",
       "1732100  BsTREbylYU_  Dead Sea ☠️ | @andymtzurita \\nThe amount of mi...   \n",
       "313806   BxrapKyCgg0                                     Склав присягу.   \n",
       "1441841  Brl3hGMAxiy  Photo by @overrated_outcast\\nOne word you can’...   \n",
       "1663123  BvIDeL4AC2h  🖼 The art of football\\n🔟 Perfection\\n🎨#WeColor...   \n",
       "918473   BqVfV4VlKRB      My long lost twin. You think we look alike? 😜   \n",
       "233650   Bld6LughoQ_                              새벽에 커피 도둑✨ #89mansion   \n",
       "1319986  BvrsSAijOfE  insanın evladı gibisi yok, kurban oliyim sana ...   \n",
       "1188069  BaO_mhzlyeI                   New security / nueva seguridad 😍   \n",
       "1384871  BV21MzmBfpw  The streets of Rosewood will always feel like ...   \n",
       "\n",
       "         numbr_likes  \n",
       "1336863      2212264  \n",
       "1732100      2013308  \n",
       "313806       1963123  \n",
       "1441841      1914299  \n",
       "1663123      1584738  \n",
       "918473       1376659  \n",
       "233650       1355678  \n",
       "1319986      1320335  \n",
       "1188069      1303331  \n",
       "1384871      1215430  "
      ]
     },
     "execution_count": 90,
     "metadata": {},
     "output_type": "execute_result"
    }
   ],
   "source": [
    "data_posts = pd.read_csv(INSTAGRAM_POSTS_PATH,usecols = ['post_id','description','numbr_likes','number_comments'], delimiter='\\t', nrows = 2000000)\n",
    "likes_sort = data_posts.sort_values(by = 'numbr_likes', ascending = False)\n",
    "confronto_post = likes_sort[['post_id','description','numbr_likes']]\n",
    "confronto_post.head(10)\n",
    "\n",
    "\n",
    "#chunks = pd.read_csv(INSTAGRAM_POSTS_PATH, usecols = ['post_id','description','numbr_likes'], delimiter='\\t', chunksize=500000)\n",
    "\n",
    "#top_likes = []\n",
    "#for data in chunks:\n",
    "    #chunk_top = data.sort_values(by='numbr_likes', ascending=False).head(1)\n",
    "    #top_likes.append(chunk_top)"
   ]
  },
  {
   "cell_type": "markdown",
   "id": "5126fefe",
   "metadata": {},
   "source": [
    "#### - What posts have the most and the least number of comments?"
   ]
  },
  {
   "cell_type": "code",
   "execution_count": 7,
   "id": "b5964d88",
   "metadata": {},
   "outputs": [
    {
     "data": {
      "text/html": [
       "<style type=\"text/css\">\n",
       "</style>\n",
       "<table id=\"T_e95a7\">\n",
       "  <caption>posts with the most comments</caption>\n",
       "  <thead>\n",
       "    <tr>\n",
       "      <th class=\"blank level0\" >&nbsp;</th>\n",
       "      <th id=\"T_e95a7_level0_col0\" class=\"col_heading level0 col0\" >post_id</th>\n",
       "      <th id=\"T_e95a7_level0_col1\" class=\"col_heading level0 col1\" >description</th>\n",
       "      <th id=\"T_e95a7_level0_col2\" class=\"col_heading level0 col2\" >number_comments</th>\n",
       "    </tr>\n",
       "  </thead>\n",
       "  <tbody>\n",
       "    <tr>\n",
       "      <th id=\"T_e95a7_level0_row0\" class=\"row_heading level0 row0\" >242837</th>\n",
       "      <td id=\"T_e95a7_row0_col0\" class=\"data row0 col0\" >BQ_N0bzhTSL</td>\n",
       "      <td id=\"T_e95a7_row0_col1\" class=\"data row0 col1\" >🍔🍟❤️</td>\n",
       "      <td id=\"T_e95a7_row0_col2\" class=\"data row0 col2\" >135221</td>\n",
       "    </tr>\n",
       "    <tr>\n",
       "      <th id=\"T_e95a7_level0_row1\" class=\"row_heading level0 row1\" >1228385</th>\n",
       "      <td id=\"T_e95a7_row1_col0\" class=\"data row1 col0\" >BT29eW-BHMn</td>\n",
       "      <td id=\"T_e95a7_row1_col1\" class=\"data row1 col1\" >صباح الخير يا مدلل 🕊</td>\n",
       "      <td id=\"T_e95a7_row1_col2\" class=\"data row1 col2\" >116551</td>\n",
       "    </tr>\n",
       "    <tr>\n",
       "      <th id=\"T_e95a7_level0_row2\" class=\"row_heading level0 row2\" >1758104</th>\n",
       "      <td id=\"T_e95a7_row2_col0\" class=\"data row2 col0\" >BLWvTOwhChG</td>\n",
       "      <td id=\"T_e95a7_row2_col1\" class=\"data row2 col1\" >السحب على مجوهرات كارتيه ، هدايا عربون الحب مني لكل شخص وقف عند البوتيك وعبر عن رايه الجميل بالعطر .. حيكون يوم الاحد ب بـ اذن الله .. تابعونا يومها ع السناب تشات 💪🏽✨</td>\n",
       "      <td id=\"T_e95a7_row2_col2\" class=\"data row2 col2\" >70722</td>\n",
       "    </tr>\n",
       "    <tr>\n",
       "      <th id=\"T_e95a7_level0_row3\" class=\"row_heading level0 row3\" >579112</th>\n",
       "      <td id=\"T_e95a7_row3_col0\" class=\"data row3 col0\" >BmORc4znzzA</td>\n",
       "      <td id=\"T_e95a7_row3_col1\" class=\"data row3 col1\" >Party in the castle with @benefitcosmetics 🎉 \\n_____________\\nFiesta en el castillo 🎉😍 #MarialeNoPara</td>\n",
       "      <td id=\"T_e95a7_row3_col2\" class=\"data row3 col2\" >56686</td>\n",
       "    </tr>\n",
       "    <tr>\n",
       "      <th id=\"T_e95a7_level0_row4\" class=\"row_heading level0 row4\" >313806</th>\n",
       "      <td id=\"T_e95a7_row4_col0\" class=\"data row4 col0\" >BxrapKyCgg0</td>\n",
       "      <td id=\"T_e95a7_row4_col1\" class=\"data row4 col1\" >Склав присягу.</td>\n",
       "      <td id=\"T_e95a7_row4_col2\" class=\"data row4 col2\" >53878</td>\n",
       "    </tr>\n",
       "    <tr>\n",
       "      <th id=\"T_e95a7_level0_row5\" class=\"row_heading level0 row5\" >377722</th>\n",
       "      <td id=\"T_e95a7_row5_col0\" class=\"data row5 col0\" >Bbz6IBXhKgg</td>\n",
       "      <td id=\"T_e95a7_row5_col1\" class=\"data row5 col1\" >Спасибо вам за все! Всех обнял! Я дома, все норм ;) 🙏🏾🙌🏾</td>\n",
       "      <td id=\"T_e95a7_row5_col2\" class=\"data row5 col2\" >32505</td>\n",
       "    </tr>\n",
       "    <tr>\n",
       "      <th id=\"T_e95a7_level0_row6\" class=\"row_heading level0 row6\" >50077</th>\n",
       "      <td id=\"T_e95a7_row6_col0\" class=\"data row6 col0\" >BuvfTmgFsuY</td>\n",
       "      <td id=\"T_e95a7_row6_col1\" class=\"data row6 col1\" >COMPETITION CLOSED. The winner is @abbie__williams! #MobFridayGiveaway.🍾🍋🍏 HUGE @fentimansltd giveaway - a massive gin and tonic prize up for grabs. To win this huge array Gin and Fentiman's flavoured mixers, just:\\n1. Tag your mates who love a g and t! Each new tagged friend counts as a new entry so go wilddddddddd.\\n2. Follow @mobkitchenuk 🍾\\n3. Follow @fentimansltd 🍋\\nYou’ve gotta be over 18 for this one folks. Winner decided Monday. Good luck. #MobKitchen#competition #giveaway #prize #fentimans</td>\n",
       "      <td id=\"T_e95a7_row6_col2\" class=\"data row6 col2\" >31655</td>\n",
       "    </tr>\n",
       "    <tr>\n",
       "      <th id=\"T_e95a7_level0_row7\" class=\"row_heading level0 row7\" >1319985</th>\n",
       "      <td id=\"T_e95a7_row7_col0\" class=\"data row7 col0\" >BtERQw2ALrk</td>\n",
       "      <td id=\"T_e95a7_row7_col1\" class=\"data row7 col1\" >Yeni kaplanım “Cesur” 🐯</td>\n",
       "      <td id=\"T_e95a7_row7_col2\" class=\"data row7 col2\" >29662</td>\n",
       "    </tr>\n",
       "    <tr>\n",
       "      <th id=\"T_e95a7_level0_row8\" class=\"row_heading level0 row8\" >1188069</th>\n",
       "      <td id=\"T_e95a7_row8_col0\" class=\"data row8 col0\" >BaO_mhzlyeI</td>\n",
       "      <td id=\"T_e95a7_row8_col1\" class=\"data row8 col1\" >New security / nueva seguridad 😍</td>\n",
       "      <td id=\"T_e95a7_row8_col2\" class=\"data row8 col2\" >29361</td>\n",
       "    </tr>\n",
       "    <tr>\n",
       "      <th id=\"T_e95a7_level0_row9\" class=\"row_heading level0 row9\" >712304</th>\n",
       "      <td id=\"T_e95a7_row9_col0\" class=\"data row9 col0\" >Bq-INRTlPhO</td>\n",
       "      <td id=\"T_e95a7_row9_col1\" class=\"data row9 col1\" >Cheguei em Muzumuia com a melhor recepção de todas! Mais um ano aprendendo sobre o Amor! ❤🙏 @fraternidadesemfronteiras @andreimoreira</td>\n",
       "      <td id=\"T_e95a7_row9_col2\" class=\"data row9 col2\" >26386</td>\n",
       "    </tr>\n",
       "  </tbody>\n",
       "</table>\n"
      ],
      "text/plain": [
       "<pandas.io.formats.style.Styler at 0x226593cf220>"
      ]
     },
     "metadata": {},
     "output_type": "display_data"
    },
    {
     "data": {
      "text/html": [
       "<style type=\"text/css\">\n",
       "</style>\n",
       "<table id=\"T_0ebef\">\n",
       "  <caption>posts with the least comments</caption>\n",
       "  <thead>\n",
       "    <tr>\n",
       "      <th class=\"blank level0\" >&nbsp;</th>\n",
       "      <th id=\"T_0ebef_level0_col0\" class=\"col_heading level0 col0\" >post_id</th>\n",
       "      <th id=\"T_0ebef_level0_col1\" class=\"col_heading level0 col1\" >description</th>\n",
       "      <th id=\"T_0ebef_level0_col2\" class=\"col_heading level0 col2\" >number_comments</th>\n",
       "    </tr>\n",
       "  </thead>\n",
       "  <tbody>\n",
       "    <tr>\n",
       "      <th id=\"T_0ebef_level0_row0\" class=\"row_heading level0 row0\" >0</th>\n",
       "      <td id=\"T_0ebef_row0_col0\" class=\"data row0 col0\" >BXdjjUlgcgq</td>\n",
       "      <td id=\"T_0ebef_row0_col1\" class=\"data row0 col1\" >Wreckloose! Deevalley bike park laps on the @intensecycles recluse!\\n@alfjonescycles \\n@saddleback_ltd \\n#deevalleybikepark #northwalestrails #ridemoremtb #recluse #bikes #cycling #mtb #bikepark #gopro</td>\n",
       "      <td id=\"T_0ebef_row0_col2\" class=\"data row0 col2\" >0</td>\n",
       "    </tr>\n",
       "    <tr>\n",
       "      <th id=\"T_0ebef_level0_row1\" class=\"row_heading level0 row1\" >1575589</th>\n",
       "      <td id=\"T_0ebef_row1_col0\" class=\"data row1 col0\" >BdAXok1FarK</td>\n",
       "      <td id=\"T_0ebef_row1_col1\" class=\"data row1 col1\" >🍁</td>\n",
       "      <td id=\"T_0ebef_row1_col2\" class=\"data row1 col2\" >0</td>\n",
       "    </tr>\n",
       "    <tr>\n",
       "      <th id=\"T_0ebef_level0_row2\" class=\"row_heading level0 row2\" >722848</th>\n",
       "      <td id=\"T_0ebef_row2_col0\" class=\"data row2 col0\" >ByH2o2EBgeX</td>\n",
       "      <td id=\"T_0ebef_row2_col1\" class=\"data row2 col1\" >Love reexploring this beautiful and historic city all these years later. The intersection of history and modernity is an incredible  thing to experience. \\n#doctorsofinstagram #somedocs @somedocs</td>\n",
       "      <td id=\"T_0ebef_row2_col2\" class=\"data row2 col2\" >0</td>\n",
       "    </tr>\n",
       "    <tr>\n",
       "      <th id=\"T_0ebef_level0_row3\" class=\"row_heading level0 row3\" >722849</th>\n",
       "      <td id=\"T_0ebef_row3_col0\" class=\"data row3 col0\" >ByHz1JXIiNA</td>\n",
       "      <td id=\"T_0ebef_row3_col1\" class=\"data row3 col1\" >Barcelona\\n#aidamomente #aida#aidanova</td>\n",
       "      <td id=\"T_0ebef_row3_col2\" class=\"data row3 col2\" >0</td>\n",
       "    </tr>\n",
       "    <tr>\n",
       "      <th id=\"T_0ebef_level0_row4\" class=\"row_heading level0 row4\" >722850</th>\n",
       "      <td id=\"T_0ebef_row4_col0\" class=\"data row4 col0\" >ByHoBcjnOyU</td>\n",
       "      <td id=\"T_0ebef_row4_col1\" class=\"data row4 col1\" >스페인 바로셀로나 1 #스페인 #바로셀로나 #spain #barcelona</td>\n",
       "      <td id=\"T_0ebef_row4_col2\" class=\"data row4 col2\" >0</td>\n",
       "    </tr>\n",
       "    <tr>\n",
       "      <th id=\"T_0ebef_level0_row5\" class=\"row_heading level0 row5\" >722851</th>\n",
       "      <td id=\"T_0ebef_row5_col0\" class=\"data row5 col0\" >ByHlpcdJwJG</td>\n",
       "      <td id=\"T_0ebef_row5_col1\" class=\"data row5 col1\" >nan</td>\n",
       "      <td id=\"T_0ebef_row5_col2\" class=\"data row5 col2\" >0</td>\n",
       "    </tr>\n",
       "    <tr>\n",
       "      <th id=\"T_0ebef_level0_row6\" class=\"row_heading level0 row6\" >722852</th>\n",
       "      <td id=\"T_0ebef_row6_col0\" class=\"data row6 col0\" >ByGrDNuCLtM</td>\n",
       "      <td id=\"T_0ebef_row6_col1\" class=\"data row6 col1\" >nan</td>\n",
       "      <td id=\"T_0ebef_row6_col2\" class=\"data row6 col2\" >0</td>\n",
       "    </tr>\n",
       "    <tr>\n",
       "      <th id=\"T_0ebef_level0_row7\" class=\"row_heading level0 row7\" >722854</th>\n",
       "      <td id=\"T_0ebef_row7_col0\" class=\"data row7 col0\" >ByGg0EfD8oF</td>\n",
       "      <td id=\"T_0ebef_row7_col1\" class=\"data row7 col1\" >Откуда у тебя вообще убеждение, что бывают «другие разы»? «Раз» – это по определению что-то одно. А второго раза, второго шанса даже в сказках не бывает. Это будет уже совсем другая сказка, если будет вообще!</td>\n",
       "      <td id=\"T_0ebef_row7_col2\" class=\"data row7 col2\" >0</td>\n",
       "    </tr>\n",
       "    <tr>\n",
       "      <th id=\"T_0ebef_level0_row8\" class=\"row_heading level0 row8\" >722856</th>\n",
       "      <td id=\"T_0ebef_row8_col0\" class=\"data row8 col0\" >ByGYU0RpoM6</td>\n",
       "      <td id=\"T_0ebef_row8_col1\" class=\"data row8 col1\" >nan</td>\n",
       "      <td id=\"T_0ebef_row8_col2\" class=\"data row8 col2\" >0</td>\n",
       "    </tr>\n",
       "    <tr>\n",
       "      <th id=\"T_0ebef_level0_row9\" class=\"row_heading level0 row9\" >722858</th>\n",
       "      <td id=\"T_0ebef_row9_col0\" class=\"data row9 col0\" >ByGIP_lCWpl</td>\n",
       "      <td id=\"T_0ebef_row9_col1\" class=\"data row9 col1\" >nan</td>\n",
       "      <td id=\"T_0ebef_row9_col2\" class=\"data row9 col2\" >0</td>\n",
       "    </tr>\n",
       "  </tbody>\n",
       "</table>\n"
      ],
      "text/plain": [
       "<pandas.io.formats.style.Styler at 0x2266f44c250>"
      ]
     },
     "metadata": {},
     "output_type": "display_data"
    }
   ],
   "source": [
    "comments_up_sort = data_posts.sort_values(by = 'number_comments', ascending = False)\n",
    "comments_down_sort = data_posts.sort_values(by = 'number_comments', ascending = True)\n",
    "\n",
    "confronto_comments_up = (comments_up_sort[['post_id','description','number_comments']].head(10)).style.set_caption('posts with the most comments')\n",
    "confronto_comments_down = (comments_down_sort[['post_id','description','number_comments']].head(10)).style.set_caption('posts with the least comments')\n",
    "\n",
    "display(confronto_comments_up)\n",
    "display(confronto_comments_down)"
   ]
  },
  {
   "cell_type": "markdown",
   "id": "62743185",
   "metadata": {},
   "source": [
    "#### - How many posts include tagged locations, and how many do not? Show it using an appropriate chart and comment your results."
   ]
  },
  {
   "cell_type": "code",
   "execution_count": 96,
   "id": "5451e1b5",
   "metadata": {},
   "outputs": [],
   "source": [
    "location = pd.read_csv(INSTAGRAM_POSTS_PATH,usecols = ['location_id'], delimiter='\\t', nrows = 2000000).fillna(0)\n",
    "location['binary'] = (location.values > 0).astype(np.uint8)"
   ]
  },
  {
   "cell_type": "code",
   "execution_count": 99,
   "id": "ad3bdd46",
   "metadata": {},
   "outputs": [
    {
     "data": {
      "image/png": "[encoded data removed]",
      "text/plain": [
       "<Figure size 1100x345.6 with 1 Axes>"
      ]
     },
     "metadata": {},
     "output_type": "display_data"
    }
   ],
   "source": [
    "no_loc = sum(location['binary'] == 0)\n",
    "loc = sum(location['binary'] == 1)\n",
    "\n",
    "size = [no_loc,loc]\n",
    "labels = ['Posts without location', 'posts with location']\n",
    "\n",
    "fig1, ax1 = plt.subplots(figsize = (1100/72.,4.8))\n",
    "ax1.pie(size, labels=labels, autopct='%1.1f%%',\n",
    "        shadow=True, startangle=90)\n",
    "ax1.axis('equal')\n",
    "\n",
    "plt.show()"
   ]
  },
  {
   "cell_type": "markdown",
   "id": "f71159c8",
   "metadata": {},
   "source": [
    "It is pretty clear that, almost the entire base of instagram users that we studied use a location tag on their posts. We could assume that in these posts the location tags are automatic, rather than being consciously put."
   ]
  },
  {
   "cell_type": "markdown",
   "id": "71d15dba",
   "metadata": {},
   "source": [
    "#### - How many posts include only photos? How many also have videos?"
   ]
  },
  {
   "cell_type": "code",
   "execution_count": 29,
   "id": "830036d8",
   "metadata": {},
   "outputs": [
    {
     "name": "stdout",
     "output_type": "stream",
     "text": [
      "940326 posts include only photos\n",
      "3 posts include both photos and videos\n"
     ]
    }
   ],
   "source": [
    "print('{} posts include only photos'.format(sum(data_posts['post_type'] == 1)))\n",
    "print('{} posts include both photos and videos'.format(sum(data_posts['post_type'] == 3)))"
   ]
  },
  {
   "cell_type": "markdown",
   "id": "aee10629",
   "metadata": {},
   "source": [
    "#### - What's the percentage of business accounts vs non-business? What can you interpret regarding that percentage?"
   ]
  },
  {
   "cell_type": "code",
   "execution_count": 67,
   "id": "897b9b27",
   "metadata": {},
   "outputs": [
    {
     "name": "stdout",
     "output_type": "stream",
     "text": [
      "18.97% of accounts are business accounts\n",
      "81.03% of accounts are non-business accounts\n"
     ]
    }
   ],
   "source": [
    "n = len(data_profiles)\n",
    "\n",
    "print('{0:.2%} of accounts are business accounts'.format((sum(data_profiles['is_business_account'] == True)/n)))\n",
    "print('{0:.2%} of accounts are non-business accounts'.format((sum(data_profiles['is_business_account'] == False)/n)))"
   ]
  },
  {
   "cell_type": "markdown",
   "id": "cfd195cb",
   "metadata": {},
   "source": [
    "We see how the vast majority of instagram accounts analyzed are non-business accounts (81.03%). The purpose of business acccounts is that of gaining access to promote posts and statistics about your followers, this gives us reason to believe that the majority of instagram users isn't interested in growing a following for monetary reasons, opposed to just having a profile to share their personal life."
   ]
  },
  {
   "cell_type": "markdown",
   "id": "d46b576a",
   "metadata": {},
   "source": [
    "## [RQ3] Now it's important to understand the most common times in which users publish their posts. "
   ]
  },
  {
   "cell_type": "markdown",
   "id": "f2d86603",
   "metadata": {},
   "source": [
    "#### - What is the most common time in which users publish their posts?"
   ]
  },
  {
   "cell_type": "code",
   "execution_count": null,
   "id": "c43f9f47",
   "metadata": {},
   "outputs": [],
   "source": []
  },
  {
   "cell_type": "markdown",
   "id": "5d5d0d94",
   "metadata": {},
   "source": [
    "#### Create a function that receives a time intervals list as a parameter and returns a plot with the number of posts for each given interval."
   ]
  },
  {
   "cell_type": "code",
   "execution_count": null,
   "id": "6de635a0",
   "metadata": {},
   "outputs": [],
   "source": []
  },
  {
   "cell_type": "markdown",
   "id": "dfc50083",
   "metadata": {},
   "source": [
    "#### Use the function that you created in the previous literal to plot the number of posts between the following time intervals:\n",
    "\n",
    "**Initial time \tFinal time**  \n",
    "**06:00:00 \t10:59:59**  \n",
    "**14:00:00 \t16:59:59**  \n",
    "**20:00:00 \t23:59:59**  \n",
    "**00:00:00 \t02:59:59**  \n",
    "**03:00:00 \t05:59:59**  "
   ]
  },
  {
   "cell_type": "code",
   "execution_count": null,
   "id": "92f2e490",
   "metadata": {},
   "outputs": [],
   "source": []
  },
  {
   "cell_type": "markdown",
   "id": "8430206f",
   "metadata": {},
   "source": [
    "## [RQ4] In most cases, we will not have a consistent dataset, and the one we are dealing with is not an exception (ex. in the given datasets, you may not find the information of the profiles for some of the posts). So let’s enhance our analysis."
   ]
  },
  {
   "cell_type": "markdown",
   "id": "ae3a3236",
   "metadata": {},
   "source": [
    "#### - Write a function that, given a profile_id, will be able to return the posts that belong to the given profile_id."
   ]
  },
  {
   "cell_type": "code",
   "execution_count": null,
   "id": "966fab0b",
   "metadata": {},
   "outputs": [],
   "source": []
  },
  {
   "cell_type": "markdown",
   "id": "a17767a0",
   "metadata": {},
   "source": [
    "#### - Write another function that, given an input n (an integer), will return the posts that belong to the n top posted profiles (top n profiles that have posted the highest number of posts) that their data is available in the profile.csv using the previously written function."
   ]
  },
  {
   "cell_type": "code",
   "execution_count": null,
   "id": "5835ce43",
   "metadata": {},
   "outputs": [],
   "source": []
  },
  {
   "cell_type": "markdown",
   "id": "f9ab5c77",
   "metadata": {},
   "source": [
    "#### - What is the average number of \"likes\" and comments of the top 10 profiles with the highest number of posts which their information is available in profile.csv?"
   ]
  },
  {
   "cell_type": "code",
   "execution_count": null,
   "id": "0fc5c487",
   "metadata": {},
   "outputs": [],
   "source": []
  },
  {
   "cell_type": "markdown",
   "id": "bed99d4d",
   "metadata": {},
   "source": [
    "#### - Plot the number of posts that these top 10 profiles have sent on Instagram in the given interval in question RQ3. Interpret the resulting chart."
   ]
  },
  {
   "cell_type": "code",
   "execution_count": null,
   "id": "b69bb5f6",
   "metadata": {},
   "outputs": [],
   "source": []
  },
  {
   "cell_type": "markdown",
   "id": "5a5cf901",
   "metadata": {},
   "source": [
    "## [RQ5] The most influential users are the ones with the highest number of “followers\", you can now look more into their activity."
   ]
  },
  {
   "cell_type": "markdown",
   "id": "0ad5d78f",
   "metadata": {},
   "source": [
    "#### - Plot the top 10 most popular users in terms of followers and their number of posts."
   ]
  },
  {
   "cell_type": "code",
   "execution_count": null,
   "id": "27ec1015",
   "metadata": {},
   "outputs": [],
   "source": []
  },
  {
   "cell_type": "markdown",
   "id": "8d49dbed",
   "metadata": {},
   "source": [
    "#### - Who is the most influential user?"
   ]
  },
  {
   "cell_type": "code",
   "execution_count": null,
   "id": "be1bbd11",
   "metadata": {},
   "outputs": [],
   "source": []
  },
  {
   "cell_type": "markdown",
   "id": "328e6f52",
   "metadata": {},
   "source": [
    "#### - Have they posted anything with tagged locations? Extract the most frequent areas on their posts and plot the number of times each city has been visited."
   ]
  },
  {
   "cell_type": "code",
   "execution_count": null,
   "id": "7ac67d8e",
   "metadata": {},
   "outputs": [],
   "source": []
  },
  {
   "cell_type": "markdown",
   "id": "1a00be24",
   "metadata": {},
   "source": [
    "#### - How many pictures-only posts have they published? How many reels? (only videos) and how many with both contents? Provide the number as percentages and interpret those figures."
   ]
  },
  {
   "cell_type": "code",
   "execution_count": null,
   "id": "95d6d72f",
   "metadata": {},
   "outputs": [],
   "source": []
  },
  {
   "cell_type": "markdown",
   "id": "0d9e705f",
   "metadata": {},
   "source": [
    "#### - How many \"likes\" and comments did posts with only pictures receive? How about videos and mixed posts? Try to provide the average numbers and confront them with their followers amount, explaining what you can say from that comparison."
   ]
  },
  {
   "cell_type": "code",
   "execution_count": null,
   "id": "166daab0",
   "metadata": {},
   "outputs": [],
   "source": []
  },
  {
   "cell_type": "markdown",
   "id": "bdba799e",
   "metadata": {},
   "source": [
    "## [RQ6] It's time to get information from the user posting effectiveness."
   ]
  },
  {
   "cell_type": "markdown",
   "id": "92f3d068",
   "metadata": {},
   "source": [
    "#### - What is the average time (days and minutes) a user lets pass before publishing another post? Plot the top 3 users that publish posts more frequently (calculate the average time that passes between posts), including their amount of followers and following. Provide insights from that chart."
   ]
  },
  {
   "cell_type": "code",
   "execution_count": null,
   "id": "241082a3",
   "metadata": {},
   "outputs": [],
   "source": []
  },
  {
   "cell_type": "markdown",
   "id": "6c90fcad",
   "metadata": {},
   "source": [
    "#### - Using the function you previously coded, plot the time intervals with the highest average number of “likes” and the ones with the highest average number of comments on posts."
   ]
  },
  {
   "cell_type": "code",
   "execution_count": null,
   "id": "0ffd2958",
   "metadata": {},
   "outputs": [],
   "source": []
  },
  {
   "cell_type": "markdown",
   "id": "79ddcc7a",
   "metadata": {},
   "source": [
    "## [RQ7] Of course, calculating probabilities is a job that any Data Scientist must know. So let's compute some engaging figures."
   ]
  },
  {
   "cell_type": "markdown",
   "id": "19351614",
   "metadata": {},
   "source": [
    "#### - What's the probability that a post receives more than 20% \"likes\" of the number of followers a user has?"
   ]
  },
  {
   "cell_type": "code",
   "execution_count": null,
   "id": "45e898eb",
   "metadata": {},
   "outputs": [],
   "source": []
  },
  {
   "cell_type": "markdown",
   "id": "c7eeeebb",
   "metadata": {},
   "source": [
    "#### - Do users usually return to locations? Extract the probability that a user returns to a site after having posted it in the past. Does that probability make sense to you? Explain why or why not."
   ]
  },
  {
   "cell_type": "code",
   "execution_count": null,
   "id": "d81c9b73",
   "metadata": {},
   "outputs": [],
   "source": []
  },
  {
   "cell_type": "markdown",
   "id": "53245520",
   "metadata": {},
   "source": [
    "## [RQ8] Every decision you take in a data-based environment should be reinforced with charts, statistical tests and analysis methods to check whether a hypothesis is correct or not."
   ]
  },
  {
   "cell_type": "markdown",
   "id": "04431c87",
   "metadata": {},
   "source": [
    "#### - Does more “likes” also mean more comments? Plot a scatter plot of “likes” vs comments for posts."
   ]
  },
  {
   "cell_type": "code",
   "execution_count": null,
   "id": "d3d226d2",
   "metadata": {},
   "outputs": [],
   "source": []
  },
  {
   "cell_type": "markdown",
   "id": "a7cb35a4",
   "metadata": {},
   "source": [
    "#### - Can you find any significant relationship between the time a user publishes a post and the number of comments and “likes”? Use an appropriate statistical test or technique and support your choice."
   ]
  },
  {
   "cell_type": "code",
   "execution_count": null,
   "id": "232bc487",
   "metadata": {},
   "outputs": [],
   "source": []
  },
  {
   "cell_type": "markdown",
   "id": "755155a1",
   "metadata": {},
   "source": [
    "#### - What’s the distribution of followers? Plot the empirical distribution of followers amongst all users and extract the mean, mode, and quantiles. Interpret those figures."
   ]
  },
  {
   "cell_type": "code",
   "execution_count": null,
   "id": "f9135945",
   "metadata": {},
   "outputs": [],
   "source": [
    "post_sort = data_profiles.sort_values(by = 'followers', ascending = False)\n",
    "solo_foll = post_sort['followers']\n",
    "solo_foll.dropna(inplace = True)"
   ]
  },
  {
   "cell_type": "code",
   "execution_count": 118,
   "id": "e7863205",
   "metadata": {},
   "outputs": [
    {
     "data": {
      "image/png": "[encoded data removed]",
      "text/plain": [
       "<Figure size 1100x345.6 with 1 Axes>"
      ]
     },
     "metadata": {
      "needs_background": "light"
     },
     "output_type": "display_data"
    }
   ],
   "source": [
    "fig1, ax1 = plt.subplots(figsize = (1100/72.,4.8))\n",
    "\n",
    "ax1.hist(solo_foll.tail(3200000),bins = 100)\n",
    "plt.xlabel(\"number of followers\")\n",
    "plt.ylabel(\"number of profiles\")\n",
    "plt.show()"
   ]
  },
  {
   "cell_type": "markdown",
   "id": "a06b2fa2",
   "metadata": {},
   "source": [
    "I have escluded the first 250.000 users with the most followers because otherwise our histogram would have shown only the first values, because of their particular outliers value.\n",
    "We can see that the vast majority of the distribution has fewer than 500 followers, and only a small tail of the distribution shows a large number of followers."
   ]
  },
  {
   "cell_type": "code",
   "execution_count": 143,
   "id": "ea2971c2",
   "metadata": {},
   "outputs": [
    {
     "name": "stdout",
     "output_type": "stream",
     "text": [
      "1. the average number of followers for an instagram account is: 3305.1\n",
      "2. the number of followers that appear the most for instagram accounts is: 0.0\n",
      "3. the 10 quantiles of our distribution are:\n",
      "0.0          0.0\n",
      "0.1         60.0\n",
      "0.2        124.0\n",
      "0.3        198.0\n",
      "0.4        289.0\n",
      "0.6        563.0\n",
      "0.7        804.0\n",
      "0.8       1189.0\n",
      "0.9       2494.0\n",
      "1.0    1844998.0\n",
      "Name: followers, dtype: float64\n"
     ]
    }
   ],
   "source": [
    "print('1. the average number of followers for an instagram account is: {}'.format(round(solo_foll.mean(),2)))\n",
    "print('2. the number of followers that appear the most for instagram accounts is: {}'.format(solo_foll.mode()[0]))\n",
    "print('3. the 10 quantiles of our distribution are:\\n{}'.format(solo_foll.quantile(np.round(np.linspace(0,1.0,10),1))))"
   ]
  },
  {
   "cell_type": "markdown",
   "id": "4dbc8a36",
   "metadata": {},
   "source": [
    "#### - What are histograms, bar plots, scatterplots and pie charts used for?"
   ]
  },
  {
   "cell_type": "code",
   "execution_count": null,
   "id": "13ae746d",
   "metadata": {},
   "outputs": [],
   "source": []
  },
  {
   "cell_type": "markdown",
   "id": "9b64c905",
   "metadata": {},
   "source": [
    "#### - What insights can you extract from a Box Plot?"
   ]
  },
  {
   "cell_type": "markdown",
   "id": "107fcddc",
   "metadata": {},
   "source": [
    "A boxplot is a standardized way of visualizing the distribution of a certain dataset based on a five number summary (“minimum”, first quartile [Q1], median, third quartile [Q3] and “maximum”). It can give important information about the outliers and theiir values, furthermore it can give accurate descriptions of the simmetry of the distributions you are analizing. "
   ]
  },
  {
   "cell_type": "code",
   "execution_count": 3,
   "id": "2abd1ce9",
   "metadata": {},
   "outputs": [
    {
     "data": {
      "image/png": "[encoded data removed]",
      "text/plain": [
       "<Figure size 720x504 with 1 Axes>"
      ]
     },
     "metadata": {
      "needs_background": "light"
     },
     "output_type": "display_data"
    }
   ],
   "source": [
    "np.random.seed(10)\n",
    "data = np.random.normal(100, 20, 200)\n",
    " \n",
    "fig = plt.figure(figsize =(10, 7))\n",
    "\n",
    "plt.boxplot(data)\n",
    "plt.show()"
   ]
  },
  {
   "cell_type": "markdown",
   "id": "9081d346",
   "metadata": {},
   "source": [
    "As you can see the orange line stands for the second quartile, or the 'median' as it is called. Furthermore The middle “box” represents the middle 50% of scores for the group. The range of scores from lower to upper quartile is referred to as the inter-quartile range. The middle 50% of scores fall within the inter-quartile range.\n",
    "The upper and lower whiskers represent scores outside the middle 50%. Whiskers often (but not always) stretch over a wider range of scores than the middle quartile groups.\n",
    "And the small dots outside the whiskers are the outliers, the values that are seen as anomalies inside the distribution that is being studied."
   ]
  },
  {
   "cell_type": "markdown",
   "id": "2a3b2afb",
   "metadata": {},
   "source": [
    "## Bonus points"
   ]
  },
  {
   "cell_type": "markdown",
   "id": "ffb93dd1",
   "metadata": {},
   "source": [
    "Up to this point, you probably have worked with one or two files simultaneously. Nevertheless, for the literals a. and b. of this section, you must work with the three datasets at the same time. Note that performing some of these operations might be too complex for your pc specs. For this reason, we suggest you make use of AWS (yeah! only a suggestion). In case you need it, in the following links you can find the same three files already mounted into AWS for you to work with them easily (instagram_posts, instagram_profiles, instagram_locations)."
   ]
  },
  {
   "cell_type": "markdown",
   "id": "7a25b10e",
   "metadata": {},
   "source": [
    "#### a. Sort the users in terms of number of followers and divide them into two groups: for the first group, take only the top 10% regarding \"followers\", and for the second one, take the rest. Now compare the mean of time intervals between posts for the two categories. Do you notice something relevant?"
   ]
  },
  {
   "cell_type": "markdown",
   "id": "43886873",
   "metadata": {},
   "source": [
    "#### b. Assume users publish their posts the same day pictures or videos are taken: Are there users that have visited the same location on the same day? How about the same week? Extract the results and explain them."
   ]
  },
  {
   "cell_type": "markdown",
   "id": "ba90de81",
   "metadata": {},
   "source": [
    "#### c. Implement a text data analysis (also known as text mining) of the field \"description\" from instagram_posts.csv for descriptions written in English. Use appropriate visualizations and statistics to highlight the words (and probably the topics) provided for the users in that field."
   ]
  },
  {
   "cell_type": "markdown",
   "id": "74e0c619",
   "metadata": {},
   "source": [
    "# Command Line Question"
   ]
  },
  {
   "cell_type": "markdown",
   "id": "9ecb0e65",
   "metadata": {},
   "source": [
    "Using the command line is a feature that Data Scientists must master. It is relevant since the operations there require less memory to use in comparison to other interfaces. It also does not use as much CPU processing time as other interfaces. In addition, it can be faster and more efficient and handle repetitive tasks quickly.\n",
    "\n",
    "In this question, you should use command line tools such as grep and possibly other commands to answer the following question:"
   ]
  },
  {
   "cell_type": "markdown",
   "id": "b112d5fc",
   "metadata": {},
   "source": [
    "#### Using the instagram_posts.csv, retrieve the first ten posts with descriptions longer than 100 characters and output the profiles that posted them. (Please keep in mind that the profile associated with some of those posts may not be found in the profiles. You can simply output User was not found! for those posts.)"
   ]
  },
  {
   "cell_type": "code",
   "execution_count": null,
   "id": "e82b733f",
   "metadata": {},
   "outputs": [],
   "source": []
  },
  {
   "cell_type": "markdown",
   "id": "2e700b94",
   "metadata": {},
   "source": [
    "Note: You may work on this question in any environment (AWS, your PC command line, Jupyter notebook, etc.), but the final script must be placed in CommandLine.sh, which must be executable.\n",
    "Algorithmic Question"
   ]
  },
  {
   "cell_type": "markdown",
   "id": "dad28d44",
   "metadata": {},
   "source": [
    "# ALGORITHMIC QUESTION"
   ]
  },
  {
   "cell_type": "markdown",
   "id": "2ecc9196",
   "metadata": {},
   "source": [
    "## [AQ1] Given the following pseudocode, answer the questions:"
   ]
  },
  {
   "cell_type": "markdown",
   "id": "97682ec0",
   "metadata": {},
   "source": [
    "Input: \n",
    "    N : an integer \n",
    "    List : array of characters of length N without repetition\n",
    "    \n",
    "function f1(sequence, end): \n",
    "    For i=0 To end:\n",
    "        OUTPUT sequence[i]\n",
    "    EndFor\n",
    "    Output \"\\n\"\n",
    "    \n",
    "function f2(sequence, start, end): \n",
    "    If start = end: \n",
    "        f1(sequence, end)\n",
    "    Else\n",
    "        For i=start To end: \n",
    "            temp <-- sequence[start]\n",
    "            sequence[start] <-- sequence[i]\n",
    "            sequence[i] <-- temp\n",
    "            f2(sequence, start+1, end)\n",
    "            temp <-- sequence[start]\n",
    "            sequence[start] <-- sequence[i]\n",
    "            sequence[i] <-- temp\n",
    "f2(List, 0, N)"
   ]
  },
  {
   "cell_type": "markdown",
   "id": "342b4ebe",
   "metadata": {},
   "source": [
    "#### - What is the output of this algorithm? Describe the mechanism of the algorithm in detail . We do not want to know only its final result. (Describe one example on your own)"
   ]
  },
  {
   "cell_type": "code",
   "execution_count": null,
   "id": "9596fc59",
   "metadata": {},
   "outputs": [],
   "source": []
  },
  {
   "cell_type": "markdown",
   "id": "a2f34507",
   "metadata": {},
   "source": [
    "#### - What is asymptotically (i.e., we are asking for big-O complexity) the algorithm's running time as a function of N?"
   ]
  },
  {
   "cell_type": "code",
   "execution_count": null,
   "id": "50163e51",
   "metadata": {},
   "outputs": [],
   "source": []
  },
  {
   "cell_type": "markdown",
   "id": "f23c4327",
   "metadata": {},
   "source": [
    "#### - Is this algorithm the optimal one to produce this output? If not, can you suggest a better algorithm to perform the same task?"
   ]
  },
  {
   "cell_type": "code",
   "execution_count": null,
   "id": "4719715f",
   "metadata": {},
   "outputs": [],
   "source": []
  },
  {
   "cell_type": "markdown",
   "id": "eecf5d65",
   "metadata": {},
   "source": [
    "## [AQ2] Considering the following problem, answer the questions:"
   ]
  },
  {
   "cell_type": "markdown",
   "id": "61b2d2ce",
   "metadata": {},
   "source": [
    "Alex has a ribbon of length N. He wants to cut the ribbon in a way that fulfils the following three conditions:\n",
    "\n",
    "Each piece of the cut should have an integer length\n",
    "He should at least cut the ribbon once\n",
    "The multiplication of the length of all the pieces be the maximum possible"
   ]
  },
  {
   "cell_type": "markdown",
   "id": "77c6fc9c",
   "metadata": {},
   "source": [
    "#### 1. Implement a recursive algorithm to help Alex find the maximum possible value after multiplying the length of the pieces. Explain your algorithm in detail."
   ]
  },
  {
   "cell_type": "code",
   "execution_count": null,
   "id": "dd80d143",
   "metadata": {},
   "outputs": [],
   "source": []
  },
  {
   "cell_type": "markdown",
   "id": "e2dc0cd1",
   "metadata": {},
   "source": [
    "#### 2. Show that the algorithm has exponential running time."
   ]
  },
  {
   "cell_type": "code",
   "execution_count": null,
   "id": "e709d380",
   "metadata": {},
   "outputs": [],
   "source": []
  },
  {
   "cell_type": "markdown",
   "id": "45070765",
   "metadata": {},
   "source": [
    "#### 3. Now provide a polynomial solution, based on dynamic programming, and compute its running-time complexity."
   ]
  },
  {
   "cell_type": "code",
   "execution_count": null,
   "id": "5e9f1081",
   "metadata": {},
   "outputs": [],
   "source": []
  },
  {
   "cell_type": "markdown",
   "id": "c725300c",
   "metadata": {},
   "source": [
    "#### 4.Evaluate the running time of your algorithm for the sizes (Ns) in the range of [2, 25], plot the results, and interpret it(if you have implemented two algorithms, please include both in the plot and compare them)."
   ]
  },
  {
   "cell_type": "code",
   "execution_count": null,
   "id": "1d69679e",
   "metadata": {},
   "outputs": [],
   "source": []
  },
  {
   "cell_type": "markdown",
   "id": "54655464",
   "metadata": {},
   "source": [
    "#### 5. (Optional, mini bonus) Is the algorithm of question 3 optimal? If you belive it, can you prove it? If not, can you find a faster algorithm? In case you found a faster algorithm implement it and explain your algorithm in detail."
   ]
  },
  {
   "cell_type": "code",
   "execution_count": null,
   "id": "377fa105",
   "metadata": {},
   "outputs": [],
   "source": []
  }
 ],
 "metadata": {
  "kernelspec": {
   "display_name": "Python 3 (ipykernel)",
   "language": "python",
   "name": "python3"
  },
  "language_info": {
   "codemirror_mode": {
    "name": "ipython",
    "version": 3
   },
   "file_extension": ".py",
   "mimetype": "text/x-python",
   "name": "python",
   "nbconvert_exporter": "python",
   "pygments_lexer": "ipython3",
   "version": "3.9.12"
  }
 },
 "nbformat": 4,
 "nbformat_minor": 5
}

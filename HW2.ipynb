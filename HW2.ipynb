{
 "cells": [
  {
   "cell_type": "markdown",
   "id": "e8064fb1",
   "metadata": {},
   "source": [
    "# RESEARCH QUESTIONS"
   ]
  },
  {
   "cell_type": "code",
   "execution_count": null,
   "id": "01f84b56",
   "metadata": {},
   "outputs": [],
   "source": [
    "INSTAGRAM_PROFILE_PATH = 'data/instagram_profiles.csv.zip'\n",
    "INSTAGRAM_POSTS_PATH = 'data/instagram_posts.csv.zip'\n",
    "INSTAGRAM_LOCATIONS_PATH = 'data/instagram_locations.csv.zip'"
   ]
  },
  {
   "cell_type": "code",
   "execution_count": null,
   "id": "141325af",
   "metadata": {},
   "outputs": [],
   "source": [
    "import pandas as pd\n",
    "from matplotlib import pyplot as plt\n",
    "import numpy as np\n",
    "import matplotlib.lines as mlines\n",
    "import matplotlib.transforms as mtransforms\n",
    "from tqdm import tqdm"
   ]
  },
  {
   "cell_type": "markdown",
   "id": "47eb7a92",
   "metadata": {},
   "source": [
    "## [RQ1] After collecting information, the Data Scientists have to know what dataset they are dealing with, so let's start with an Exploratory Data Analysis (EDA). What can you say about our datasets? Please summarise its main characteristics with visual and tabular methods."
   ]
  },
  {
   "cell_type": "code",
   "execution_count": 11,
   "id": "a000d812",
   "metadata": {},
   "outputs": [],
   "source": [
    "data_profiles = pd.read_csv(INSTAGRAM_PROFILE_PATH, delimiter='\\t')"
   ]
  },
  {
   "cell_type": "code",
   "execution_count": 24,
   "id": "dbf2c41d",
   "metadata": {},
   "outputs": [
    {
     "data": {
      "text/plain": [
       "sid                          0\n",
       "profile_id               32447\n",
       "profile_name                 0\n",
       "firstname_lastname      288465\n",
       "description            2055996\n",
       "following              1056815\n",
       "followers              1056815\n",
       "n_posts                1056815\n",
       "url                    3639312\n",
       "cts                     438488\n",
       "is_business_account    1064263\n",
       "dtype: int64"
      ]
     },
     "execution_count": 24,
     "metadata": {},
     "output_type": "execute_result"
    }
   ],
   "source": [
    "data_profiles.isna().sum()"
   ]
  },
  {
   "cell_type": "code",
   "execution_count": 30,
   "id": "002cc93b",
   "metadata": {},
   "outputs": [],
   "source": [
    "def import_dataset_columns(dataset, columns, chunksize):\n",
    "    df = pd.read_csv(\n",
    "        dataset, \n",
    "        delimiter='\\t', \n",
    "        chunksize=chunksize, \n",
    "        usecols=[*columns])\n",
    "    return(df)\n",
    "\n",
    "def import_dataset(dataset, chunksize):\n",
    "    df = pd.read_csv(\n",
    "        dataset, \n",
    "        delimiter='\\t', \n",
    "        chunksize=chunksize)\n",
    "    return(df)\n",
    "\n",
    "def piegraph_location(no_loc,loc):\n",
    "    no_loc = sum(location['binary'] == 0)\n",
    "    loc = sum(location['binary'] == 1)\n",
    "\n",
    "    size = [no_loc,loc]\n",
    "    labels = ['Posts without location', 'posts with location']\n",
    "\n",
    "    fig1, ax1 = plt.subplots(figsize = (1100/72.,4.8))\n",
    "    ax1.pie(size, labels=labels, autopct='%1.1f%%', shadow=True, startangle=90)\n",
    "    ax1.axis('equal')\n",
    "\n",
    "    plt.show()"
   ]
  },
  {
   "cell_type": "markdown",
   "id": "aca23aa4",
   "metadata": {},
   "source": [
    "## [RQ2] Let's explore the dataset by finding simple insights regarding the profile and posts."
   ]
  },
  {
   "cell_type": "markdown",
   "id": "0a5bdeeb",
   "metadata": {},
   "source": [
    "#### - Plot the number of posts for each profile in descending order."
   ]
  },
  {
   "cell_type": "code",
   "execution_count": 9,
   "id": "282fbd73",
   "metadata": {},
   "outputs": [],
   "source": [
    "post_sort = data_profiles.sort_values(by = 'n_posts', ascending = False)\n",
    "posts = post_sort[['n_posts']]\n",
    "no_na = posts.dropna()"
   ]
  },
  {
   "cell_type": "code",
   "execution_count": 31,
   "id": "18064e24",
   "metadata": {},
   "outputs": [
    {
     "name": "stdout",
     "output_type": "stream",
     "text": [
      "(3452771, 1)\n"
     ]
    },
    {
     "data": {
      "image/png": "[encoded data removed]",
      "text/plain": [
       "<Figure size 1100x345.6 with 1 Axes>"
      ]
     },
     "metadata": {
      "needs_background": "light"
     },
     "output_type": "display_data"
    }
   ],
   "source": [
    "print(no_na.shape)\n",
    "plt.figure(figsize = (1100/72.,4.8))\n",
    "plt.hist(no_na.tail(3400000),bins = 30,density = True)\n",
    "plt.title(\"Number of posts for each profile in descending order\")\n",
    "plt.xlabel(\"number of posts\")\n",
    "plt.ylabel(\"number of profiles\")\n",
    "plt.show()"
   ]
  },
  {
   "cell_type": "markdown",
   "id": "48f9267f",
   "metadata": {},
   "source": [
    "We decided to show through a histogram with 30 bins the number of posts for each profile in descending order, beacuse it is visually more clear that the majority of instagram profiles have a smal number of posts published, while the profiles with more than a thousand posts are in the clear minority, or the tail of the distribution."
   ]
  },
  {
   "cell_type": "markdown",
   "id": "69ebd635",
   "metadata": {},
   "source": [
    "#### - What posts have the highest number of \"likes\"?"
   ]
  },
  {
   "cell_type": "code",
   "execution_count": 22,
   "id": "459d3824",
   "metadata": {},
   "outputs": [
    {
     "data": {
      "text/html": [
       "<div>\n",
       "<style scoped>\n",
       "    .dataframe tbody tr th:only-of-type {\n",
       "        vertical-align: middle;\n",
       "    }\n",
       "\n",
       "    .dataframe tbody tr th {\n",
       "        vertical-align: top;\n",
       "    }\n",
       "\n",
       "    .dataframe thead th {\n",
       "        text-align: right;\n",
       "    }\n",
       "</style>\n",
       "<table border=\"1\" class=\"dataframe\">\n",
       "  <thead>\n",
       "    <tr style=\"text-align: right;\">\n",
       "      <th></th>\n",
       "      <th>post_id</th>\n",
       "      <th>numbr_likes</th>\n",
       "      <th>number_comments</th>\n",
       "    </tr>\n",
       "  </thead>\n",
       "  <tbody>\n",
       "    <tr>\n",
       "      <th>19624085</th>\n",
       "      <td>Bt3yaXmAM0d</td>\n",
       "      <td>8822952.0</td>\n",
       "      <td>165886.0</td>\n",
       "    </tr>\n",
       "    <tr>\n",
       "      <th>19623988</th>\n",
       "      <td>BuwffB7g8cK</td>\n",
       "      <td>5447066.0</td>\n",
       "      <td>25303.0</td>\n",
       "    </tr>\n",
       "    <tr>\n",
       "      <th>19624082</th>\n",
       "      <td>Buc1gyZAaMQ</td>\n",
       "      <td>5116398.0</td>\n",
       "      <td>40608.0</td>\n",
       "    </tr>\n",
       "    <tr>\n",
       "      <th>19623986</th>\n",
       "      <td>BvcukE8AMuG</td>\n",
       "      <td>4271466.0</td>\n",
       "      <td>30770.0</td>\n",
       "    </tr>\n",
       "    <tr>\n",
       "      <th>39701024</th>\n",
       "      <td>BqSLFVBFLfq</td>\n",
       "      <td>4264745.0</td>\n",
       "      <td>18691.0</td>\n",
       "    </tr>\n",
       "    <tr>\n",
       "      <th>6293907</th>\n",
       "      <td>BwTSXBKg7gN</td>\n",
       "      <td>3586546.0</td>\n",
       "      <td>15405.0</td>\n",
       "    </tr>\n",
       "    <tr>\n",
       "      <th>19624086</th>\n",
       "      <td>Btw8pFXAvQm</td>\n",
       "      <td>3558599.0</td>\n",
       "      <td>15715.0</td>\n",
       "    </tr>\n",
       "    <tr>\n",
       "      <th>19802016</th>\n",
       "      <td>BvC3n6_gqin</td>\n",
       "      <td>3533326.0</td>\n",
       "      <td>59475.0</td>\n",
       "    </tr>\n",
       "    <tr>\n",
       "      <th>30850564</th>\n",
       "      <td>Bw7vqLrFkHi</td>\n",
       "      <td>3340297.0</td>\n",
       "      <td>149489.0</td>\n",
       "    </tr>\n",
       "    <tr>\n",
       "      <th>39812576</th>\n",
       "      <td>Bw2gTH1AiDA</td>\n",
       "      <td>3311246.0</td>\n",
       "      <td>64318.0</td>\n",
       "    </tr>\n",
       "  </tbody>\n",
       "</table>\n",
       "</div>"
      ],
      "text/plain": [
       "              post_id  numbr_likes  number_comments\n",
       "19624085  Bt3yaXmAM0d    8822952.0         165886.0\n",
       "19623988  BuwffB7g8cK    5447066.0          25303.0\n",
       "19624082  Buc1gyZAaMQ    5116398.0          40608.0\n",
       "19623986  BvcukE8AMuG    4271466.0          30770.0\n",
       "39701024  BqSLFVBFLfq    4264745.0          18691.0\n",
       "6293907   BwTSXBKg7gN    3586546.0          15405.0\n",
       "19624086  Btw8pFXAvQm    3558599.0          15715.0\n",
       "19802016  BvC3n6_gqin    3533326.0          59475.0\n",
       "30850564  Bw7vqLrFkHi    3340297.0         149489.0\n",
       "39812576  Bw2gTH1AiDA    3311246.0          64318.0"
      ]
     },
     "execution_count": 22,
     "metadata": {},
     "output_type": "execute_result"
    }
   ],
   "source": [
    "data_posts = pd.read_csv(INSTAGRAM_POSTS_PATH,usecols = ['post_id','numbr_likes','number_comments'], delimiter='\\t')\n",
    "likes_sort = data_posts.sort_values(by = 'numbr_likes', ascending = False)\n",
    "likes_sort.head(10)"
   ]
  },
  {
   "cell_type": "markdown",
   "id": "5126fefe",
   "metadata": {},
   "source": [
    "#### - What posts have the most and the least number of comments?"
   ]
  },
  {
   "cell_type": "code",
   "execution_count": 23,
   "id": "b5964d88",
   "metadata": {},
   "outputs": [
    {
     "name": "stderr",
     "output_type": "stream",
     "text": [
      "\n",
      "KeyboardInterrupt\n",
      "\n"
     ]
    }
   ],
   "source": [
    "comments_up_sort = data_posts.sort_values(by = 'number_comments', ascending = False)\n",
    "comments_down_sort = data_posts.sort_values(by = 'number_comments', ascending = True)\n",
    "\n",
    "confronto_comments_up = (comments_up_sort[['post_id','number_comments']].head(10)).style.set_caption('posts with the most comments')\n",
    "confronto_comments_down = (comments_down_sort[['post_id','number_comments']].head(10)).style.set_caption('posts with the least comments')\n",
    "\n",
    "display(confronto_comments_up)\n",
    "display(confronto_comments_down)"
   ]
  },
  {
   "cell_type": "markdown",
   "id": "62743185",
   "metadata": {},
   "source": [
    "#### - How many posts include tagged locations, and how many do not? Show it using an appropriate chart and comment your results."
   ]
  },
  {
   "cell_type": "code",
   "execution_count": 26,
   "id": "5451e1b5",
   "metadata": {},
   "outputs": [],
   "source": [
    "location = pd.read_csv(INSTAGRAM_POSTS_PATH,usecols = ['location_id'], delimiter='\\t')"
   ]
  },
  {
   "cell_type": "markdown",
   "id": "d7fbeb22",
   "metadata": {},
   "source": [
    "we extracted only the column 'location_id' because it is the only one we need.\n",
    "Now we can transform every location ID in 1   \n",
    "and when there isn't a location ID a 0,\n",
    "so we just need to sum the single binary digits and we find the number of posts with and withou location."
   ]
  },
  {
   "cell_type": "code",
   "execution_count": 28,
   "id": "895ddd7e",
   "metadata": {},
   "outputs": [],
   "source": [
    "location['binary'] = (location.values > 0).astype(np.uint8)"
   ]
  },
  {
   "cell_type": "markdown",
   "id": "bbc60a69",
   "metadata": {},
   "source": [
    "And we can plot our data:"
   ]
  },
  {
   "cell_type": "code",
   "execution_count": 31,
   "id": "ad3bdd46",
   "metadata": {},
   "outputs": [
    {
     "data": {
      "image/png": "[encoded data removed]",
      "text/plain": [
       "<Figure size 1100x345.6 with 1 Axes>"
      ]
     },
     "metadata": {},
     "output_type": "display_data"
    }
   ],
   "source": [
    "piegraph_location(no_loc,loc)"
   ]
  },
  {
   "cell_type": "markdown",
   "id": "f71159c8",
   "metadata": {},
   "source": [
    "We can see here that 69.9% of the studied instagram posts use a location tag on their posts. So out of all the posts we have 7 out of 10 use a location tag on their posts."
   ]
  },
  {
   "cell_type": "markdown",
   "id": "71d15dba",
   "metadata": {},
   "source": [
    "#### - How many posts include only photos? How many also have videos?"
   ]
  },
  {
   "cell_type": "code",
   "execution_count": 29,
   "id": "830036d8",
   "metadata": {},
   "outputs": [
    {
     "name": "stdout",
     "output_type": "stream",
     "text": [
      "940326 posts include only photos\n",
      "3 posts include both photos and videos\n"
     ]
    }
   ],
   "source": [
    "print('{} posts include only photos'.format(sum(data_posts['post_type'] == 1)))\n",
    "print('{} posts include both photos and videos'.format(sum(data_posts['post_type'] == 3)))"
   ]
  },
  {
   "cell_type": "markdown",
   "id": "aee10629",
   "metadata": {},
   "source": [
    "#### - What's the percentage of business accounts vs non-business? What can you interpret regarding that percentage?"
   ]
  },
  {
   "cell_type": "code",
   "execution_count": 67,
   "id": "897b9b27",
   "metadata": {},
   "outputs": [
    {
     "name": "stdout",
     "output_type": "stream",
     "text": [
      "18.97% of accounts are business accounts\n",
      "81.03% of accounts are non-business accounts\n"
     ]
    }
   ],
   "source": [
    "n = len(data_profiles)\n",
    "\n",
    "print('{0:.2%} of accounts are business accounts'.format((sum(data_profiles['is_business_account'] == True)/n)))\n",
    "print('{0:.2%} of accounts are non-business accounts'.format((sum(data_profiles['is_business_account'] == False)/n)))"
   ]
  },
  {
   "cell_type": "markdown",
   "id": "cfd195cb",
   "metadata": {},
   "source": [
    "We see how the vast majority of instagram accounts analyzed are non-business accounts (81.03%). The purpose of business acccounts is that of gaining access to promote posts and statistics about your followers, this gives us reason to believe that the majority of instagram users isn't interested in growing a following for monetary reasons, opposed to just having a profile to share their personal life."
   ]
  },
  {
   "cell_type": "markdown",
   "id": "d46b576a",
   "metadata": {},
   "source": [
    "## [RQ3] Now it's important to understand the most common times in which users publish their posts. "
   ]
  },
  {
   "cell_type": "markdown",
   "id": "f2d86603",
   "metadata": {},
   "source": [
    "#### - What is the most common time in which users publish their posts?"
   ]
  },
  {
   "cell_type": "code",
   "execution_count": null,
   "id": "c43f9f47",
   "metadata": {},
   "outputs": [],
   "source": []
  },
  {
   "cell_type": "markdown",
   "id": "5d5d0d94",
   "metadata": {},
   "source": [
    "#### Create a function that receives a time intervals list as a parameter and returns a plot with the number of posts for each given interval."
   ]
  },
  {
   "cell_type": "code",
   "execution_count": null,
   "id": "6de635a0",
   "metadata": {},
   "outputs": [],
   "source": []
  },
  {
   "cell_type": "markdown",
   "id": "dfc50083",
   "metadata": {},
   "source": [
    "#### Use the function that you created in the previous literal to plot the number of posts between the following time intervals:\n",
    "\n",
    "**Initial time \tFinal time**  \n",
    "**06:00:00 \t10:59:59**  \n",
    "**14:00:00 \t16:59:59**  \n",
    "**20:00:00 \t23:59:59**  \n",
    "**00:00:00 \t02:59:59**  \n",
    "**03:00:00 \t05:59:59**  "
   ]
  },
  {
   "cell_type": "code",
   "execution_count": null,
   "id": "92f2e490",
   "metadata": {},
   "outputs": [],
   "source": []
  },
  {
   "cell_type": "markdown",
   "id": "8430206f",
   "metadata": {},
   "source": [
    "## [RQ4] In most cases, we will not have a consistent dataset, and the one we are dealing with is not an exception (ex. in the given datasets, you may not find the information of the profiles for some of the posts). So let’s enhance our analysis."
   ]
  },
  {
   "cell_type": "markdown",
   "id": "ae3a3236",
   "metadata": {},
   "source": [
    "#### - Write a function that, given a profile_id, will be able to return the posts that belong to the given profile_id."
   ]
  },
  {
   "cell_type": "code",
   "execution_count": null,
   "id": "966fab0b",
   "metadata": {},
   "outputs": [],
   "source": []
  },
  {
   "cell_type": "markdown",
   "id": "a17767a0",
   "metadata": {},
   "source": [
    "#### - Write another function that, given an input n (an integer), will return the posts that belong to the n top posted profiles (top n profiles that have posted the highest number of posts) that their data is available in the profile.csv using the previously written function."
   ]
  },
  {
   "cell_type": "code",
   "execution_count": null,
   "id": "5835ce43",
   "metadata": {},
   "outputs": [],
   "source": []
  },
  {
   "cell_type": "markdown",
   "id": "f9ab5c77",
   "metadata": {},
   "source": [
    "#### - What is the average number of \"likes\" and comments of the top 10 profiles with the highest number of posts which their information is available in profile.csv?"
   ]
  },
  {
   "cell_type": "code",
   "execution_count": null,
   "id": "0fc5c487",
   "metadata": {},
   "outputs": [],
   "source": []
  },
  {
   "cell_type": "markdown",
   "id": "bed99d4d",
   "metadata": {},
   "source": [
    "#### - Plot the number of posts that these top 10 profiles have sent on Instagram in the given interval in question RQ3. Interpret the resulting chart."
   ]
  },
  {
   "cell_type": "code",
   "execution_count": null,
   "id": "b69bb5f6",
   "metadata": {},
   "outputs": [],
   "source": []
  },
  {
   "cell_type": "markdown",
   "id": "5a5cf901",
   "metadata": {},
   "source": [
    "## [RQ5] The most influential users are the ones with the highest number of “followers\", you can now look more into their activity."
   ]
  },
  {
   "cell_type": "markdown",
   "id": "0ad5d78f",
   "metadata": {},
   "source": [
    "#### - Plot the top 10 most popular users in terms of followers and their number of posts."
   ]
  },
  {
   "cell_type": "code",
   "execution_count": null,
   "id": "27ec1015",
   "metadata": {},
   "outputs": [],
   "source": []
  },
  {
   "cell_type": "markdown",
   "id": "8d49dbed",
   "metadata": {},
   "source": [
    "#### - Who is the most influential user?"
   ]
  },
  {
   "cell_type": "code",
   "execution_count": null,
   "id": "be1bbd11",
   "metadata": {},
   "outputs": [],
   "source": []
  },
  {
   "cell_type": "markdown",
   "id": "328e6f52",
   "metadata": {},
   "source": [
    "#### - Have they posted anything with tagged locations? Extract the most frequent areas on their posts and plot the number of times each city has been visited."
   ]
  },
  {
   "cell_type": "code",
   "execution_count": null,
   "id": "7ac67d8e",
   "metadata": {},
   "outputs": [],
   "source": []
  },
  {
   "cell_type": "markdown",
   "id": "1a00be24",
   "metadata": {},
   "source": [
    "#### - How many pictures-only posts have they published? How many reels? (only videos) and how many with both contents? Provide the number as percentages and interpret those figures."
   ]
  },
  {
   "cell_type": "code",
   "execution_count": null,
   "id": "95d6d72f",
   "metadata": {},
   "outputs": [],
   "source": []
  },
  {
   "cell_type": "markdown",
   "id": "0d9e705f",
   "metadata": {},
   "source": [
    "#### - How many \"likes\" and comments did posts with only pictures receive? How about videos and mixed posts? Try to provide the average numbers and confront them with their followers amount, explaining what you can say from that comparison."
   ]
  },
  {
   "cell_type": "code",
   "execution_count": null,
   "id": "166daab0",
   "metadata": {},
   "outputs": [],
   "source": []
  },
  {
   "cell_type": "markdown",
   "id": "bdba799e",
   "metadata": {},
   "source": [
    "## [RQ6] It's time to get information from the user posting effectiveness."
   ]
  },
  {
   "cell_type": "markdown",
   "id": "92f3d068",
   "metadata": {},
   "source": [
    "#### - What is the average time (days and minutes) a user lets pass before publishing another post? Plot the top 3 users that publish posts more frequently (calculate the average time that passes between posts), including their amount of followers and following. Provide insights from that chart."
   ]
  },
  {
   "cell_type": "code",
   "execution_count": null,
   "id": "241082a3",
   "metadata": {},
   "outputs": [],
   "source": []
  },
  {
   "cell_type": "markdown",
   "id": "6c90fcad",
   "metadata": {},
   "source": [
    "#### - Using the function you previously coded, plot the time intervals with the highest average number of “likes” and the ones with the highest average number of comments on posts."
   ]
  },
  {
   "cell_type": "code",
   "execution_count": null,
   "id": "0ffd2958",
   "metadata": {},
   "outputs": [],
   "source": []
  },
  {
   "cell_type": "markdown",
   "id": "79ddcc7a",
   "metadata": {},
   "source": [
    "## [RQ7] Of course, calculating probabilities is a job that any Data Scientist must know. So let's compute some engaging figures."
   ]
  },
  {
   "cell_type": "markdown",
   "id": "19351614",
   "metadata": {},
   "source": [
    "#### - What's the probability that a post receives more than 20% \"likes\" of the number of followers a user has?"
   ]
  },
  {
   "cell_type": "code",
   "execution_count": null,
   "id": "45e898eb",
   "metadata": {},
   "outputs": [],
   "source": [
    "chunks = import_dataset_columns(INSTAGRAM_POSTS_PATH, ['numbr_likes',], chunksize)"
   ]
  },
  {
   "cell_type": "markdown",
   "id": "c7eeeebb",
   "metadata": {},
   "source": [
    "#### - Do users usually return to locations? Extract the probability that a user returns to a site after having posted it in the past. Does that probability make sense to you? Explain why or why not."
   ]
  },
  {
   "cell_type": "code",
   "execution_count": null,
   "id": "d81c9b73",
   "metadata": {},
   "outputs": [],
   "source": []
  },
  {
   "cell_type": "markdown",
   "id": "53245520",
   "metadata": {},
   "source": [
    "## [RQ8] Every decision you take in a data-based environment should be reinforced with charts, statistical tests and analysis methods to check whether a hypothesis is correct or not."
   ]
  },
  {
   "cell_type": "markdown",
   "id": "04431c87",
   "metadata": {},
   "source": [
    "#### - Does more “likes” also mean more comments? Plot a scatter plot of “likes” vs comments for posts."
   ]
  },
  {
   "cell_type": "code",
   "execution_count": 32,
   "id": "d3d226d2",
   "metadata": {},
   "outputs": [],
   "source": [
    "df = pd.read_csv(INSTAGRAM_POSTS_PATH,usecols = ['numbr_likes','number_comments'], delimiter='\\t')"
   ]
  },
  {
   "cell_type": "markdown",
   "id": "a3d1ee99",
   "metadata": {},
   "source": [
    "Let us see if there are any NA's in our two variables:"
   ]
  },
  {
   "cell_type": "code",
   "execution_count": 40,
   "id": "15dcaefc",
   "metadata": {},
   "outputs": [
    {
     "data": {
      "text/plain": [
       "0"
      ]
     },
     "metadata": {},
     "output_type": "display_data"
    },
    {
     "data": {
      "text/plain": [
       "0"
      ]
     },
     "metadata": {},
     "output_type": "display_data"
    }
   ],
   "source": [
    "display(df['numbr_likes'].isna().sum())\n",
    "display(df['number_comments'].isna().sum())"
   ]
  },
  {
   "cell_type": "markdown",
   "id": "9ba4a881",
   "metadata": {},
   "source": [
    "there are 36 Na for both the variables, so for this scatterplot it is more correct to drop them then to assign the value 0 to these Na values."
   ]
  },
  {
   "cell_type": "code",
   "execution_count": 42,
   "id": "0cd2e45c",
   "metadata": {},
   "outputs": [
    {
     "data": {
      "text/plain": [
       "0"
      ]
     },
     "metadata": {},
     "output_type": "display_data"
    },
    {
     "data": {
      "text/plain": [
       "0"
      ]
     },
     "metadata": {},
     "output_type": "display_data"
    }
   ],
   "source": [
    "new_df = df.dropna()\n",
    "display(new_df['numbr_likes'].isna().sum())\n",
    "display(new_df['number_comments'].isna().sum())"
   ]
  },
  {
   "cell_type": "markdown",
   "id": "cc29c863",
   "metadata": {},
   "source": [
    "We can proceed with our analysis seeing that there are 0 NA's for both the variables"
   ]
  },
  {
   "cell_type": "code",
   "execution_count": 43,
   "id": "7b1418c1",
   "metadata": {},
   "outputs": [
    {
     "data": {
      "image/png": "[encoded data removed]",
      "text/plain": [
       "<Figure size 432x288 with 1 Axes>"
      ]
     },
     "metadata": {
      "needs_background": "light"
     },
     "output_type": "display_data"
    }
   ],
   "source": [
    "fig, ax = plt.subplots()\n",
    "ax.scatter(new_df['numbr_likes'],new_df['number_comments'])\n",
    "plt.title(\"scatterplot of likes & comments for each post\")\n",
    "plt.xlabel(\"number of likes\")\n",
    "plt.ylabel(\"number of comments\")\n",
    "line = mlines.Line2D([0, 1], [0, 1], color='red')\n",
    "transform = ax.transAxes\n",
    "line.set_transform(transform)\n",
    "ax.add_line(line)\n",
    "ax.ticklabel_format(useOffset = False)\n",
    "plt.show()"
   ]
  },
  {
   "cell_type": "markdown",
   "id": "211aa01a",
   "metadata": {},
   "source": [
    "in this scatterplot you can see the relationship between likes and comments. The bisector is there to guide our eyes. The data points below our bisector gives us those posts that have more likes than comments and vicevers. The further the data points move from the bisector the more the relationship is lobsides towards likes or comments based on where the data point is."
   ]
  },
  {
   "cell_type": "markdown",
   "id": "a7cb35a4",
   "metadata": {},
   "source": [
    "#### - Can you find any significant relationship between the time a user publishes a post and the number of comments and “likes”? Use an appropriate statistical test or technique and support your choice."
   ]
  },
  {
   "cell_type": "code",
   "execution_count": null,
   "id": "232bc487",
   "metadata": {},
   "outputs": [],
   "source": []
  },
  {
   "cell_type": "markdown",
   "id": "755155a1",
   "metadata": {},
   "source": [
    "#### - What’s the distribution of followers? Plot the empirical distribution of followers amongst all users and extract the mean, mode, and quantiles. Interpret those figures."
   ]
  },
  {
   "cell_type": "code",
   "execution_count": null,
   "id": "f9135945",
   "metadata": {},
   "outputs": [],
   "source": [
    "post_sort = data_profiles.sort_values(by = 'followers', ascending = False)\n",
    "solo_foll = post_sort['followers']\n",
    "solo_foll.dropna(inplace = True)"
   ]
  },
  {
   "cell_type": "code",
   "execution_count": 118,
   "id": "e7863205",
   "metadata": {},
   "outputs": [
    {
     "data": {
      "image/png": "[encoded data removed]",
      "text/plain": [
       "<Figure size 1100x345.6 with 1 Axes>"
      ]
     },
     "metadata": {
      "needs_background": "light"
     },
     "output_type": "display_data"
    }
   ],
   "source": [
    "fig1, ax1 = plt.subplots(figsize = (1100/72.,4.8))\n",
    "\n",
    "ax1.hist(solo_foll.tail(3200000),bins = 100)\n",
    "plt.xlabel(\"number of followers\")\n",
    "plt.ylabel(\"number of profiles\")\n",
    "plt.show()"
   ]
  },
  {
   "cell_type": "markdown",
   "id": "a06b2fa2",
   "metadata": {},
   "source": [
    "We have escluded the first 250.000 users with the most followers because otherwise our histogram would have shown only the first values, because of their particular outliers value.\n",
    "We can see that the vast majority of the distribution has fewer than 500 followers, and only a small tail of the distribution shows a large number of followers."
   ]
  },
  {
   "cell_type": "code",
   "execution_count": 143,
   "id": "ea2971c2",
   "metadata": {},
   "outputs": [
    {
     "name": "stdout",
     "output_type": "stream",
     "text": [
      "1. the average number of followers for an instagram account is: 3305.1\n",
      "2. the number of followers that appear the most for instagram accounts is: 0.0\n",
      "3. the 10 quantiles of our distribution are:\n",
      "0.0          0.0\n",
      "0.1         60.0\n",
      "0.2        124.0\n",
      "0.3        198.0\n",
      "0.4        289.0\n",
      "0.6        563.0\n",
      "0.7        804.0\n",
      "0.8       1189.0\n",
      "0.9       2494.0\n",
      "1.0    1844998.0\n",
      "Name: followers, dtype: float64\n"
     ]
    }
   ],
   "source": [
    "print('1. the average number of followers for an instagram account is: {}'.format(round(solo_foll.mean(),2)))\n",
    "print('2. the number of followers that appear the most for instagram accounts is: {}'.format(solo_foll.mode()[0]))\n",
    "print('3. the 10 quantiles of our distribution are:\\n{}'.format(solo_foll.quantile(np.round(np.linspace(0,1.0,10),1))))"
   ]
  },
  {
   "cell_type": "markdown",
   "id": "4dbc8a36",
   "metadata": {},
   "source": [
    "#### - What are histograms, bar plots, scatterplots and pie charts used for?"
   ]
  },
  {
   "cell_type": "markdown",
   "id": "06e24629",
   "metadata": {},
   "source": [
    "-Histograms:\n",
    "Histograms are a very usual type of graphical representation of data points divided in ranges, or bins. \n",
    "The vertical Y-axis represents the counts or percentage of occurences in the data for each column.\n",
    "Histograms are commonly used in statistics to show how many of certain type of variable occur in a specific range\n",
    "\n",
    "-Bar plots:\n",
    "Bar plots, although they look similar to histogram serve a different purpose. While histograms are there to visualize the property of a distribution, bar plots work well when we compare categories, so on the X-axis we will not find, bins or numerical values, like the histogram, but variables. the width of each bar is the same because we do not consider densities like the histogram. We will see gaps between bars, which are reordable unlike the histogram.\n",
    "\n",
    "-scatterplot:\n",
    "A scatterplot uses dots to represent values for two different numeric variable. Each dot is the intersection between the X-axis and Y-axis, and it represents a single data, in relation between two numerical variables.\n",
    "Usually a scatterplot is used when looking for correlation between two variables, which can be visible in a scatter if the data points seem to move in a similar direction.\n",
    "\n",
    "-Pie chart:\n",
    "A pie chart is a circular statistical chart, where the portions of the circle represent the numerical proportion of the variable in the overall dataset. It is the most used graph in the mass media, as it is very easy to read and a very visual tool, although it has been heavily criticized by experts, because these portions are not very recognizable based on size, especially when we are comparing data over multiple pie charts."
   ]
  },
  {
   "cell_type": "markdown",
   "id": "9b64c905",
   "metadata": {},
   "source": [
    "#### - What insights can you extract from a Box Plot?"
   ]
  },
  {
   "cell_type": "markdown",
   "id": "107fcddc",
   "metadata": {},
   "source": [
    "A boxplot is a standardized way of visualizing the distribution of a certain dataset based on a five number summary (“minimum”, first quartile [Q1], median, third quartile [Q3] and “maximum”). It can give important information about the outliers and theiir values, furthermore it can give accurate descriptions of the simmetry of the distributions you are analizing. "
   ]
  },
  {
   "cell_type": "code",
   "execution_count": 3,
   "id": "2abd1ce9",
   "metadata": {},
   "outputs": [
    {
     "data": {
      "image/png": "[encoded data removed]",
      "text/plain": [
       "<Figure size 720x504 with 1 Axes>"
      ]
     },
     "metadata": {
      "needs_background": "light"
     },
     "output_type": "display_data"
    }
   ],
   "source": [
    "np.random.seed(10)\n",
    "data = np.random.normal(100, 20, 200)\n",
    " \n",
    "fig = plt.figure(figsize =(10, 7))\n",
    "\n",
    "plt.boxplot(data)\n",
    "plt.show()"
   ]
  },
  {
   "cell_type": "markdown",
   "id": "9081d346",
   "metadata": {},
   "source": [
    "As you can see the orange line stands for the second quartile, or the 'median' as it is called. Furthermore The middle “box” represents the middle 50% of scores for the group. The range of scores from lower to upper quartile is referred to as the inter-quartile range. The middle 50% of scores fall within the inter-quartile range.\n",
    "The upper and lower whiskers represent scores outside the middle 50%. Whiskers often (but not always) stretch over a wider range of scores than the middle quartile groups.\n",
    "And the small dots outside the whiskers are the outliers, the values that are seen as anomalies inside the distribution that is being studied."
   ]
  },
  {
   "cell_type": "markdown",
   "id": "2a3b2afb",
   "metadata": {},
   "source": [
    "## Bonus points"
   ]
  },
  {
   "cell_type": "markdown",
   "id": "ffb93dd1",
   "metadata": {},
   "source": [
    "Up to this point, you probably have worked with one or two files simultaneously. Nevertheless, for the literals a. and b. of this section, you must work with the three datasets at the same time. Note that performing some of these operations might be too complex for your pc specs. For this reason, we suggest you make use of AWS (yeah! only a suggestion). In case you need it, in the following links you can find the same three files already mounted into AWS for you to work with them easily (instagram_posts, instagram_profiles, instagram_locations)."
   ]
  },
  {
   "cell_type": "markdown",
   "id": "7a25b10e",
   "metadata": {},
   "source": [
    "#### a. Sort the users in terms of number of followers and divide them into two groups: for the first group, take only the top 10% regarding \"followers\", and for the second one, take the rest. Now compare the mean of time intervals between posts for the two categories. Do you notice something relevant?"
   ]
  },
  {
   "cell_type": "markdown",
   "id": "43886873",
   "metadata": {},
   "source": [
    "#### b. Assume users publish their posts the same day pictures or videos are taken: Are there users that have visited the same location on the same day? How about the same week? Extract the results and explain them."
   ]
  },
  {
   "cell_type": "markdown",
   "id": "ba90de81",
   "metadata": {},
   "source": [
    "#### c. Implement a text data analysis (also known as text mining) of the field \"description\" from instagram_posts.csv for descriptions written in English. Use appropriate visualizations and statistics to highlight the words (and probably the topics) provided for the users in that field."
   ]
  },
  {
   "cell_type": "markdown",
   "id": "74e0c619",
   "metadata": {},
   "source": [
    "# Command Line Question"
   ]
  },
  {
   "cell_type": "markdown",
   "id": "9ecb0e65",
   "metadata": {},
   "source": [
    "Using the command line is a feature that Data Scientists must master. It is relevant since the operations there require less memory to use in comparison to other interfaces. It also does not use as much CPU processing time as other interfaces. In addition, it can be faster and more efficient and handle repetitive tasks quickly.\n",
    "\n",
    "In this question, you should use command line tools such as grep and possibly other commands to answer the following question:"
   ]
  },
  {
   "cell_type": "markdown",
   "id": "b112d5fc",
   "metadata": {},
   "source": [
    "#### Using the instagram_posts.csv, retrieve the first ten posts with descriptions longer than 100 characters and output the profiles that posted them. (Please keep in mind that the profile associated with some of those posts may not be found in the profiles. You can simply output User was not found! for those posts.)"
   ]
  },
  {
   "cell_type": "code",
   "execution_count": null,
   "id": "e82b733f",
   "metadata": {},
   "outputs": [],
   "source": []
  },
  {
   "cell_type": "markdown",
   "id": "2e700b94",
   "metadata": {},
   "source": [
    "Note: You may work on this question in any environment (AWS, your PC command line, Jupyter notebook, etc.), but the final script must be placed in CommandLine.sh, which must be executable.\n",
    "Algorithmic Question"
   ]
  },
  {
   "cell_type": "markdown",
   "id": "dad28d44",
   "metadata": {},
   "source": [
    "# ALGORITHMIC QUESTION"
   ]
  },
  {
   "cell_type": "markdown",
   "id": "2ecc9196",
   "metadata": {},
   "source": [
    "## [AQ1] Given the following pseudocode, answer the questions:"
   ]
  },
  {
   "cell_type": "code",
   "execution_count": null,
   "id": "2825c334",
   "metadata": {},
   "outputs": [],
   "source": [
    "Input:   \n",
    "    N : an integer   \n",
    "    List : array of characters of length N without repetition  \n",
    "    \n",
    "function f1(sequence, end):   \n",
    "    For i=0 To end:\n",
    "        OUTPUT sequence[i]\n",
    "    EndFor\n",
    "    Output \"\\n\"\n",
    "    \n",
    "function f2(sequence, start, end): \n",
    "    If start = end: \n",
    "        f1(sequence, end)\n",
    "    Else\n",
    "        For i=start To end: \n",
    "            temp <-- sequence[start]\n",
    "            sequence[start] <-- sequence[i]\n",
    "            sequence[i] <-- temp\n",
    "            f2(sequence, start+1, end)\n",
    "            temp <-- sequence[start]\n",
    "            sequence[start] <-- sequence[i]\n",
    "            sequence[i] <-- temp\n",
    "f2(List, 0, N)"
   ]
  },
  {
   "cell_type": "markdown",
   "id": "342b4ebe",
   "metadata": {},
   "source": [
    "#### - What is the output of this algorithm? Describe the mechanism of the algorithm in detail . We do not want to know only its final result. (Describe one example on your own)"
   ]
  },
  {
   "cell_type": "code",
   "execution_count": null,
   "id": "9596fc59",
   "metadata": {},
   "outputs": [],
   "source": []
  },
  {
   "cell_type": "markdown",
   "id": "a2f34507",
   "metadata": {},
   "source": [
    "#### - What is asymptotically (i.e., we are asking for big-O complexity) the algorithm's running time as a function of N?"
   ]
  },
  {
   "cell_type": "code",
   "execution_count": null,
   "id": "50163e51",
   "metadata": {},
   "outputs": [],
   "source": []
  },
  {
   "cell_type": "markdown",
   "id": "f23c4327",
   "metadata": {},
   "source": [
    "#### - Is this algorithm the optimal one to produce this output? If not, can you suggest a better algorithm to perform the same task?"
   ]
  },
  {
   "cell_type": "code",
   "execution_count": null,
   "id": "4719715f",
   "metadata": {},
   "outputs": [],
   "source": []
  },
  {
   "cell_type": "markdown",
   "id": "eecf5d65",
   "metadata": {},
   "source": [
    "## [AQ2] Considering the following problem, answer the questions:"
   ]
  },
  {
   "cell_type": "markdown",
   "id": "61b2d2ce",
   "metadata": {},
   "source": [
    "Alex has a ribbon of length N. He wants to cut the ribbon in a way that fulfils the following three conditions:\n",
    "\n",
    "Each piece of the cut should have an integer length\n",
    "He should at least cut the ribbon once\n",
    "The multiplication of the length of all the pieces be the maximum possible"
   ]
  },
  {
   "cell_type": "markdown",
   "id": "77c6fc9c",
   "metadata": {},
   "source": [
    "#### 1. Implement a recursive algorithm to help Alex find the maximum possible value after multiplying the length of the pieces. Explain your algorithm in detail."
   ]
  },
  {
   "cell_type": "code",
   "execution_count": null,
   "id": "dd80d143",
   "metadata": {},
   "outputs": [],
   "source": []
  },
  {
   "cell_type": "markdown",
   "id": "e2dc0cd1",
   "metadata": {},
   "source": [
    "#### 2. Show that the algorithm has exponential running time."
   ]
  },
  {
   "cell_type": "code",
   "execution_count": null,
   "id": "e709d380",
   "metadata": {},
   "outputs": [],
   "source": []
  },
  {
   "cell_type": "markdown",
   "id": "45070765",
   "metadata": {},
   "source": [
    "#### 3. Now provide a polynomial solution, based on dynamic programming, and compute its running-time complexity."
   ]
  },
  {
   "cell_type": "code",
   "execution_count": null,
   "id": "5e9f1081",
   "metadata": {},
   "outputs": [],
   "source": []
  },
  {
   "cell_type": "markdown",
   "id": "c725300c",
   "metadata": {},
   "source": [
    "#### 4.Evaluate the running time of your algorithm for the sizes (Ns) in the range of [2, 25], plot the results, and interpret it(if you have implemented two algorithms, please include both in the plot and compare them)."
   ]
  },
  {
   "cell_type": "code",
   "execution_count": null,
   "id": "1d69679e",
   "metadata": {},
   "outputs": [],
   "source": []
  },
  {
   "cell_type": "markdown",
   "id": "54655464",
   "metadata": {},
   "source": [
    "#### 5. (Optional, mini bonus) Is the algorithm of question 3 optimal? If you belive it, can you prove it? If not, can you find a faster algorithm? In case you found a faster algorithm implement it and explain your algorithm in detail."
   ]
  },
  {
   "cell_type": "code",
   "execution_count": null,
   "id": "377fa105",
   "metadata": {},
   "outputs": [],
   "source": []
  }
 ],
 "metadata": {
  "kernelspec": {
   "display_name": "Python 3 (ipykernel)",
   "language": "python",
   "name": "python3"
  },
  "language_info": {
   "codemirror_mode": {
    "name": "ipython",
    "version": 3
   },
   "file_extension": ".py",
   "mimetype": "text/x-python",
   "name": "python",
   "nbconvert_exporter": "python",
   "pygments_lexer": "ipython3",
   "version": "3.9.12"
  }
 },
 "nbformat": 4,
 "nbformat_minor": 5
}
